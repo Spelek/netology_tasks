{
  "cells":[
    {
      "cell_type":"markdown",
      "source":[
        "# Базовые понятия статистики\n",
        "## Задание 1. Базовое изучение"
      ],
      "metadata":{
        
      }
    },
    {
      "cell_type":"code",
      "source":[
        "import pandas as pd\n",
        "\n",
        "horse_data = pd.read_csv('horse_data.csv', na_values='?', usecols=[0, 1, 4, 10, 12, 20, 22, 23]) #, usecols=list(range(8)))\n",
        "horse_data.columns = ['Surgery', 'Age', 'Pulse', 'Pain',\n",
        "                      'Abdominal distension', 'Abdominocentesis appearance', 'Outcome', 'Surgical lesion']\n",
        "# Общая информация\n",
        "print(horse_data.info())\n",
        "# Основные статистические характеристики\n",
        "print(horse_data.describe())\n",
        "for col in horse_data.columns:\n",
        "    print(col, ':', horse_data[col].unique())"
      ],
      "execution_count":1,
      "outputs":[
        {
          "name":"stdout",
          "text":[
            "<class 'pandas.core.frame.DataFrame'>\n",
            "RangeIndex: 299 entries, 0 to 298\n",
            "Data columns (total 8 columns):\n",
            " #   Column                       Non-Null Count  Dtype  \n",
            "---  ------                       --------------  -----  \n",
            " 0   Surgery                      298 non-null    float64\n",
            " 1   Age                          299 non-null    int64  \n",
            " 2   Pulse                        275 non-null    float64\n",
            " 3   Pain                         244 non-null    float64\n",
            " 4   Abdominal distension         243 non-null    float64\n",
            " 5   Abdominocentesis appearance  135 non-null    float64\n",
            " 6   Outcome                      298 non-null    float64\n",
            " 7   Surgical lesion              299 non-null    int64  \n",
            "dtypes: float64(6), int64(2)\n",
            "memory usage: 18.8 KB\n",
            "None\n",
            "          Surgery        Age       Pulse        Pain  Abdominal distension  \\\n",
            "count  298.000000  299.00000  275.000000  244.000000            243.000000   \n",
            "mean     1.395973    1.64214   71.934545    2.942623              2.259259   \n",
            "std      0.489881    2.17730   28.680522    1.303993              1.061472   \n",
            "min      1.000000    1.00000   30.000000    1.000000              1.000000   \n",
            "25%      1.000000    1.00000   48.000000    2.000000              1.000000   \n",
            "50%      1.000000    1.00000   64.000000    3.000000              2.000000   \n",
            "75%      2.000000    1.00000   88.000000    4.000000              3.000000   \n",
            "max      2.000000    9.00000  184.000000    5.000000              4.000000   \n",
            "\n",
            "       Abdominocentesis appearance     Outcome  Surgical lesion  \n",
            "count                   135.000000  298.000000       299.000000  \n",
            "mean                      2.037037    1.550336         1.361204  \n",
            "std                       0.804905    0.737967         0.481155  \n",
            "min                       1.000000    1.000000         1.000000  \n",
            "25%                       1.000000    1.000000         1.000000  \n",
            "50%                       2.000000    1.000000         1.000000  \n",
            "75%                       3.000000    2.000000         2.000000  \n",
            "max                       3.000000    3.000000         2.000000  \n",
            "Surgery : [ 1.  2. nan]\n",
            "Age : [1 9]\n",
            "Pulse : [ 88.  40. 164. 104.  nan  48.  60.  80.  90.  66.  72.  42.  92.  76.\n",
            "  96. 128.  64. 110. 130. 108. 100. 112.  52. 146. 150. 120. 140.  84.\n",
            "  46. 114. 160.  54.  56.  38.  98.  50.  44.  70.  78.  49.  30. 136.\n",
            " 132.  65.  86. 129.  68.  36.  45. 124. 184.  75.  82.]\n",
            "Pain : [ 3.  2. nan  4.  5.  1.]\n",
            "Abdominal distension : [ 2.  1.  4. nan  3.]\n",
            "Abdominocentesis appearance : [ 2. nan  3.  1.]\n",
            "Outcome : [ 3.  1.  2. nan]\n",
            "Surgical lesion : [2 1]\n"
          ],
          "output_type":"stream"
        }
      ],
      "metadata":{
        
      }
    },
    {
      "cell_type":"markdown",
      "source":[
        "### Анализ данных\n",
        "1. Характеристика значений по столбцам:\n",
        "   Surgery, Pain, Abdominal distension, Abdominocentesis appearance, Outcome, Surgical lesion - категориальные\n",
        "   Age - дискретные\n",
        "   Pulse - непрерывные\n",
        "2. В столбцах Age и Surgical lesion пропусков нет. Несмотря на то, что столбец Age содержит дискретные значения, в данном наборе данных он может принимать всего 2 значения. Столбец Surgical lesion также может принимать только два значения. Поэтому метрики данных столбцов нас не интересуют.\n",
        "   Столбец Pulse содержит неприрывные значения, поэтому нас интересуют стандартное (28.68) отклонение, среднее (71.93) и медиана (64). Стандартное отклонение достаточно большое (сопоставимо с \"расстоянием\" между квартилями), поэтому более показательна в данном случае медиана.\n",
        "   В остальных столбцах категориальные значения, поэтому следует использовать моду как главную характеристику значений. Однако в описании набора данных указано на наличие взаимосвязи между столбцами, поэтому мода для всего набора данных не является показательной, а ориентироваться следует на моду значений, сгруппированных по тем значениям, от которых они зависят. Например, столбец Surgery в разрезе Pain, так как между данными значениями есть зависимость: чем больше значение Pain (уровень боли), тем чаще в Surgery встречается значение 1 (Решение выполнить операцию), чем меньше - тем чаще встречается значение 2 (Решение операцию не выполнять). Ниже это продемонстрировано."
      ],
      "metadata":{
        
      }
    },
    {
      "cell_type":"code",
      "source":[
        "print(horse_data.pivot_table(index=['Pain'], columns=['Surgery'], values=['Outcome'], aggfunc = ['count']))"
      ],
      "execution_count":2,
      "outputs":[
        {
          "name":"stdout",
          "text":[
            "          count    \n",
            "        Outcome    \n",
            "Surgery     1.0 2.0\n",
            "Pain               \n",
            "1.0           9  29\n",
            "2.0          34  25\n",
            "3.0          39  28\n",
            "4.0          28  10\n",
            "5.0          33   8\n"
          ],
          "output_type":"stream"
        }
      ],
      "metadata":{
        
      }
    },
    {
      "cell_type":"markdown",
      "source":[
        
      ],
      "metadata":{
        
      }
    },
    {
      "cell_type":"markdown",
      "source":[
        "## Задание 2. Выбросы"
      ],
      "metadata":{
        
      }
    },
    {
      "cell_type":"code",
      "source":[
        "def find_outliers(df):\n",
        "    outliers_dict = {}\n",
        "    for column in df.columns:\n",
        "        q1 = df[column].quantile(0.25)\n",
        "        q3 = df[column].quantile(0.75)\n",
        "        iqr = q3 - q1\n",
        "        lower_bound = q1 - (1.5 * iqr)\n",
        "        upper_bound = q3 + (1.5 * iqr)\n",
        "        # Удаляем выбросы\n",
        "        df_without_outliers = df[(df[column].between(lower_bound, upper_bound, inclusive=True)) | (df[column].isna())]\n",
        "        outliers = pd.concat([df_without_outliers, df]).drop_duplicates(keep=False)\n",
        "        if outliers.empty:\n",
        "            continue\n",
        "        outliers_dict[column] = outliers\n",
        "        print(f'> Выбросов в столбце {column} всего {len(outliers)}. Уникальные значения:\\n', outliers[column].value_counts())\n",
        "    \n",
        "    return outliers_dict\n",
        "\n",
        "outliers = find_outliers(horse_data)"
      ],
      "execution_count":3,
      "outputs":[
        {
          "name":"stdout",
          "text":[
            "> Выбросов в столбце Age всего 24. Уникальные значения:\n",
            " 9    24\n",
            "Name: Age, dtype: int64\n",
            "> Выбросов в столбце Pulse всего 5. Уникальные значения:\n",
            " 150.0    2\n",
            "184.0    1\n",
            "160.0    1\n",
            "164.0    1\n",
            "Name: Pulse, dtype: int64\n"
          ],
          "output_type":"stream"
        }
      ],
      "metadata":{
        
      }
    },
    {
      "cell_type":"markdown",
      "source":[
        "### Анализ выбросов\n",
        "1. В столбце Age (в данном наборе данных) встречается всего два значения: 1 и 9, которые значительно отличаются друг от друга, но главное - также значительно отличается и их количество в наборе данных. Значение 1 встречается 275, тогда как 9 - всего 24. Поэтому значение 9 будет считаться выбросом. Этот выброс можно считать естественным, т.к. лошадь может прожить 9 лет. Отбрасывать (удалять) строки с данным значением нецелесообразно, т.к. это приведет к потери 24 строк (8% от общего количества), что негативно скажется на репрезентативности выборки.\n",
        "2. Значения выбросов в столбце Pulse выше среднего более чем в 2 раза, а нормы - в 4 раза. Высокие значения данного показателя можно интерпретировать как симптом заболевания\/критического состояния здоровья. С высокими значениями в данном столбце должны коррелировать значения в столбцах Pain, Abdominal distension, Abdominocentesis appearance и Outcome. Это действительно так (см. блок ниже). Наиболее наглядна корреляция со значениями столбца Outcome: практически все лошади с высокими значениями Pulse умерли. Значит, выбросы в данном случае можно считать естественными. Выбросов всего 5, и их удаление (см. блок ниже) не влияет существенным образом на общую статистику. Кроме того, в строках с выбросами мало пропусков. Значит, если строки с выбросами не удалять, то они точно не окажут негативного влияния на общую статистику и, возможно, помогут заполнить пропуски в других строках наиболее адекватными значениями.\n",
        "3. **Вывод**: принято решение не удалять строки с выбросами, так как они имеют ествественный характер и не искажают общее статистическое представление о выборке."
      ],
      "metadata":{
        
      }
    },
    {
      "cell_type":"code",
      "source":[
        "# Строки с выбросами по столбцу Pulse\n",
        "print(outliers['Pulse'])\n",
        "# Влияние удаления строк с выбросами в столбце Pulse на общую статистику\n",
        "print(horse_data.describe() - horse_data[~horse_data.index.isin(outliers['Pulse'].index)].describe())"
      ],
      "execution_count":4,
      "outputs":[
        {
          "name":"stdout",
          "text":[
            "     Surgery  Age  Pulse  Pain  Abdominal distension  \\\n",
            "2        1.0    9  164.0   2.0                   4.0   \n",
            "40       2.0    9  150.0   NaN                   NaN   \n",
            "54       1.0    9  160.0   3.0                   4.0   \n",
            "254      1.0    9  184.0   4.0                   3.0   \n",
            "274      1.0    9  150.0   5.0                   2.0   \n",
            "\n",
            "     Abdominocentesis appearance  Outcome  Surgical lesion  \n",
            "2                            3.0      2.0                1  \n",
            "40                           NaN      1.0                1  \n",
            "54                           2.0      2.0                1  \n",
            "254                          NaN      2.0                1  \n",
            "274                          NaN      2.0                1  \n",
            "        Surgery       Age      Pulse      Pain  Abdominal distension  \\\n",
            "count  5.000000  5.000000   5.000000  4.000000              4.000000   \n",
            "mean  -0.003344  0.125134   1.660471  0.009290              0.016581   \n",
            "std   -0.000715  0.207030   2.550897 -0.000863              0.004433   \n",
            "min    0.000000  0.000000   0.000000  0.000000              0.000000   \n",
            "25%    0.000000  0.000000   0.000000  0.000000              0.000000   \n",
            "50%    0.000000  0.000000   0.000000  0.000000              0.000000   \n",
            "75%    0.000000  0.000000   0.000000  0.000000              0.000000   \n",
            "max    0.000000  0.000000  38.000000  0.000000              0.000000   \n",
            "\n",
            "       Abdominocentesis appearance   Outcome  Surgical lesion  \n",
            "count                     2.000000  5.000000         5.000000  \n",
            "mean                      0.006962  0.004260        -0.006143  \n",
            "std                      -0.001695 -0.003717        -0.001749  \n",
            "min                       0.000000  0.000000         0.000000  \n",
            "25%                       0.000000  0.000000         0.000000  \n",
            "50%                       0.000000  0.000000         0.000000  \n",
            "75%                       0.000000  0.000000         0.000000  \n",
            "max                       0.000000  0.000000         0.000000  \n"
          ],
          "output_type":"stream"
        }
      ],
      "metadata":{
        
      }
    },
    {
      "cell_type":"markdown",
      "source":[
        "## Задание 3. Пропуски"
      ],
      "metadata":{
        
      }
    },
    {
      "cell_type":"code",
      "source":[
        "# Скопируем DataFrame, чтобы иметь возможность обращаться к данным без пропусков\n",
        "original_horse_data = horse_data.copy()"
      ],
      "execution_count":5,
      "outputs":[
        
      ],
      "metadata":{
        
      }
    },
    {
      "cell_type":"code",
      "source":[
        "# Количество пропусков\n",
        "print((horse_data.isna().mean() * 100).round(2).sort_values())"
      ],
      "execution_count":6,
      "outputs":[
        {
          "name":"stdout",
          "text":[
            "Age                             0.00\n",
            "Surgical lesion                 0.00\n",
            "Surgery                         0.33\n",
            "Outcome                         0.33\n",
            "Pulse                           8.03\n",
            "Pain                           18.39\n",
            "Abdominal distension           18.73\n",
            "Abdominocentesis appearance    54.85\n",
            "dtype: float64\n"
          ],
          "output_type":"stream"
        }
      ],
      "metadata":{
        
      }
    },
    {
      "cell_type":"markdown",
      "source":[
        "Начнем с заполнения пустых значений в столбцах, содержащих меньшее количество пропусков. В столбцах Surgery и Outcome крайне незначительное количество пропусков, поэтому их можно как удалить, чтобы не тратить лишнюю вычислительную мощность, что наиболее догично в случае большой выборки и ограниченных ресурсов.\n",
        "## Surgery и Outcome"
      ],
      "metadata":{
        
      }
    },
    {
      "cell_type":"code",
      "source":[
        "horse_data.dropna(subset=['Surgery', 'Outcome'], inplace=True)"
      ],
      "execution_count":7,
      "outputs":[
        
      ],
      "metadata":{
        
      }
    },
    {
      "cell_type":"markdown",
      "source":[
        "## Pain\n",
        "Данный столбец содержит 18% пропусков, но он имеет связь как минимум с тремя столбцами без пропусков, а также может быть использован для заполнения пропусков еще в двух столбцах (Pulse и Abdominal distension). Поэтому имеет смысл заполнить его пропуски значениями из связанных с ним столбцов без пропусков.\n",
        "Столбец принимает категориальные значения, поэтому пропуски заполняем модой."
      ],
      "metadata":{
        
      }
    },
    {
      "cell_type":"code",
      "source":[
        "horse_data['Pain'] = horse_data.groupby(['Surgery', 'Outcome', 'Surgical lesion'])['Pain'].\\\n",
        "    apply(lambda x: x.fillna(x.mode().iloc[0]))"
      ],
      "execution_count":8,
      "outputs":[
        
      ],
      "metadata":{
        
      }
    },
    {
      "cell_type":"markdown",
      "source":[
        "### Pulse\n",
        "Данный столбец содержит 8% пропусков, является одним из базовых показателей общего состояния организма, а также имеет зависимость со столбцами Age и Pain. Следовательно, можно заполнить его пропуски на основе ищеющихся данных.\n",
        "Столбец содержит непрерывные значения, поэтому заполняем его медианой."
      ],
      "metadata":{
        
      }
    },
    {
      "cell_type":"code",
      "source":[
        "horse_data['Pulse'].fillna(horse_data.groupby(['Age', 'Pain'])['Pulse'].transform('median'), inplace=True)"
      ],
      "execution_count":9,
      "outputs":[
        
      ],
      "metadata":{
        
      }
    },
    {
      "cell_type":"markdown",
      "source":[
        "## Abdominal distension\n",
        "Значения в данном столбце имеют слабую связь со столбцом Surgery (при значении 4 значение Surgery с большой вероятностью (75% судя по блокам ниже) будет = 1, но более сильной, прямой зависимости не наблюдается), а также со столбцом Pain (прямая зависимость). Однако при изначально приблизительно сопоставимом количестве пропусков в столбцах Pain и Abdominal distension, больше половины из них - совместные, что снижает вероятность точного предсказания значений по столбцу Pain.\n",
        "Однако в описании данных показатель Abdominal distension отмечен как важный, а количество пропусков в нем около 19%.\n",
        "Учитывая, что:\n",
        "1) Данный показатель важен;\n",
        "2) Достоверно заполнить пропуски мы не можем;\n",
        "3) Количество пропусков составляет 19%\n",
        "будет логично удалить строки с пропусками в данном столбце."
      ],
      "metadata":{
        
      }
    },
    {
      "cell_type":"code",
      "source":[
        "horse_data.groupby(['Surgery', 'Abdominal distension'])['Outcome'].count()"
      ],
      "execution_count":10,
      "outputs":[
        {
          "data":{
            "text\/plain":[
              "Surgery  Abdominal distension\n",
              "1.0      1.0                     34\n",
              "         2.0                     31\n",
              "         3.0                     50\n",
              "         4.0                     27\n",
              "2.0      1.0                     41\n",
              "         2.0                     34\n",
              "         3.0                     15\n",
              "         4.0                     10\n",
              "Name: Outcome, dtype: int64"
            ]
          },
          "metadata":{
            
          },
          "output_type":"display_data"
        }
      ],
      "metadata":{
        
      }
    },
    {
      "cell_type":"code",
      "source":[
        "horse_data.groupby(['Pain', 'Abdominal distension'])['Outcome'].count()"
      ],
      "execution_count":11,
      "outputs":[
        {
          "data":{
            "text\/plain":[
              "Pain  Abdominal distension\n",
              "1.0   1.0                     24\n",
              "      2.0                     12\n",
              "      3.0                      2\n",
              "      4.0                      1\n",
              "2.0   1.0                     17\n",
              "      2.0                     17\n",
              "      3.0                     15\n",
              "      4.0                      6\n",
              "3.0   1.0                     22\n",
              "      2.0                     25\n",
              "      3.0                     21\n",
              "      4.0                      4\n",
              "4.0   1.0                      6\n",
              "      2.0                      7\n",
              "      3.0                     12\n",
              "      4.0                     10\n",
              "5.0   1.0                      6\n",
              "      2.0                      4\n",
              "      3.0                     15\n",
              "      4.0                     16\n",
              "Name: Outcome, dtype: int64"
            ]
          },
          "metadata":{
            
          },
          "output_type":"display_data"
        }
      ],
      "metadata":{
        
      }
    },
    {
      "cell_type":"code",
      "source":[
        "print('Пропусков в Pain:', original_horse_data[original_horse_data['Pain'].isna()]['Outcome'].count())\n",
        "print('Пропусков в Abdominal distension:', original_horse_data[original_horse_data['Abdominal distension'].isna()]['Outcome'].count())\n",
        "print('Совместных пропусков:', original_horse_data[original_horse_data['Pain'].isna() & original_horse_data['Abdominal distension'].isna()]['Outcome'].count())"
      ],
      "execution_count":12,
      "outputs":[
        {
          "name":"stdout",
          "text":[
            "Пропусков в Pain: 55\n",
            "Пропусков в Abdominal distension: 56\n",
            "Совместных пропусков: 34\n"
          ],
          "output_type":"stream"
        }
      ],
      "metadata":{
        
      }
    },
    {
      "cell_type":"code",
      "source":[
        "# Решение по столбцу\n",
        "horse_data.dropna(subset=['Abdominal distension'], inplace=True)"
      ],
      "execution_count":13,
      "outputs":[
        
      ],
      "metadata":{
        
      }
    },
    {
      "cell_type":"markdown",
      "source":[
        "## Abdominocentesis appearance\n",
        "Из сказанного об этом столбце в описании данных мы не можем сделать выводов о его связи с другими столбцами. Кроме того, в данном столбце 55% значений отсутствует. Следовательно, в рамках нашей выборки этот столбец нельзя считать значимым и в целях избавления от лишних данных его можно удалить. Учитывая, что это последний столбец с пропусками, его можно удалить командой, приведенной ниже: "
      ],
      "metadata":{
        
      }
    },
    {
      "cell_type":"code",
      "source":[
        "horse_data.dropna(axis='columns', inplace=True)\n",
        "horse_data.count()"
      ],
      "execution_count":14,
      "outputs":[
        {
          "data":{
            "text\/plain":[
              "Surgery                 242\n",
              "Age                     242\n",
              "Pulse                   242\n",
              "Pain                    242\n",
              "Abdominal distension    242\n",
              "Outcome                 242\n",
              "Surgical lesion         242\n",
              "dtype: int64"
            ]
          },
          "metadata":{
            
          },
          "output_type":"display_data"
        }
      ],
      "metadata":{
        
      }
    }
  ],
  "metadata":{
    
  },
  "nbformat":4,
  "nbformat_minor":0
}