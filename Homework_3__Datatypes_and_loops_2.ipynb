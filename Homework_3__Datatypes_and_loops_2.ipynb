{
  "cells":[
    {
      "cell_type":"markdown",
      "source":[
        "# Управляющие конструкции и коллекции» часть 2\n",
        "## Задание 1\n",
        "### Решение"
      ],
      "metadata":{
        
      }
    },
    {
      "cell_type":"code",
      "source":[
        "def unique_ids(ids):\n",
        "    return set(sum([u_ids for u_ids in ids.values()], []))"
      ],
      "execution_count":8,
      "outputs":[
        
      ],
      "metadata":{
        
      }
    },
    {
      "cell_type":"markdown",
      "source":[
        "### Проверка"
      ],
      "metadata":{
        
      }
    },
    {
      "cell_type":"code",
      "source":[
        "ids = {\n",
        "        'user1': [213, 213, 213, 15, 213],\n",
        "        'user2': [54, 54, 119, 119, 119],\n",
        "        'user3': [213, 98, 98, 35]\n",
        "      }\n",
        "\n",
        "print(unique_ids(ids))"
      ],
      "execution_count":9,
      "outputs":[
        {
          "name":"stdout",
          "text":[
            "{98, 35, 15, 213, 54, 119}\n"
          ],
          "output_type":"stream"
        }
      ],
      "metadata":{
        
      }
    },
    {
      "cell_type":"markdown",
      "source":[
        "## Задание 2\n",
        "### Решение"
      ],
      "metadata":{
        
      }
    },
    {
      "cell_type":"code",
      "source":[
        "from collections import defaultdict\n",
        "\n",
        "def queries_info(queries):\n",
        "    stats_step = 1 \/ len(queries)\n",
        "    queries_stats = defaultdict(float)\n",
        "    for query in queries:\n",
        "        queries_stats[len(query.split())] += stats_step \n",
        "    return {key: value for key, value in sorted(queries_stats.items())}"
      ],
      "execution_count":47,
      "outputs":[
        
      ],
      "metadata":{
        
      }
    },
    {
      "cell_type":"markdown",
      "source":[
        "### Проверка"
      ],
      "metadata":{
        
      }
    },
    {
      "cell_type":"code",
      "source":[
        "queries = [\n",
        "    'смотреть сериалы онлайн',\n",
        "    'новости спорта',\n",
        "    'афиша кино',\n",
        "    'курс доллара',\n",
        "    'сериалы этим летом',\n",
        "    'курс по питону',\n",
        "    'сериалы про спорт',\n",
        "]\n",
        "\n",
        "for words_amount, words_stats in queries_info(queries).items():\n",
        "    print(f'Поисковых запросов, содержащих {words_amount} слов(а): {round(words_stats * 100, 2)}%')"
      ],
      "execution_count":48,
      "outputs":[
        {
          "name":"stdout",
          "text":[
            "Поисковых запросов, содержащих 2 слов(а): 42.86%\n",
            "Поисковых запросов, содержащих 3 слов(а): 57.14%\n"
          ],
          "output_type":"stream"
        }
      ],
      "metadata":{
        
      }
    },
    {
      "cell_type":"markdown",
      "source":[
        "## Задание 3\n",
        "### Решение"
      ],
      "metadata":{
        
      }
    },
    {
      "cell_type":"code",
      "source":[
        "def add_roi_to_markers(input_structure):\n",
        "    for site, markers in input_structure.items():\n",
        "        input_structure[site]['ROI'] = round((markers['revenue'] \/ markers['cost'] - 1) * 100, 2)\n",
        "    return {key: value for key, value in sorted(input_structure.items())}"
      ],
      "execution_count":49,
      "outputs":[
        
      ],
      "metadata":{
        
      }
    },
    {
      "cell_type":"markdown",
      "source":[
        "### Проверка"
      ],
      "metadata":{
        
      }
    },
    {
      "cell_type":"code",
      "source":[
        "import pprint\n",
        "\n",
        "results = {\n",
        "    'vk': {'revenue': 103, 'cost': 98},\n",
        "    'yandex': {'revenue': 179, 'cost': 153},\n",
        "    'facebook': {'revenue': 103, 'cost': 110},\n",
        "    'adwords': {'revenue': 35, 'cost': 34},\n",
        "    'twitter': {'revenue': 11, 'cost': 24},\n",
        "}\n",
        "\n",
        "pprint.pprint(add_roi_to_markers(results))"
      ],
      "execution_count":52,
      "outputs":[
        {
          "name":"stdout",
          "text":[
            "{'adwords': {'ROI': 2.94, 'cost': 34, 'revenue': 35},\n",
            " 'facebook': {'ROI': -6.36, 'cost': 110, 'revenue': 103},\n",
            " 'twitter': {'ROI': -54.17, 'cost': 24, 'revenue': 11},\n",
            " 'vk': {'ROI': 5.1, 'cost': 98, 'revenue': 103},\n",
            " 'yandex': {'ROI': 16.99, 'cost': 153, 'revenue': 179}}\n"
          ],
          "output_type":"stream"
        }
      ],
      "metadata":{
        
      }
    },
    {
      "cell_type":"markdown",
      "source":[
        "## Задание 4\n",
        "### Решение"
      ],
      "metadata":{
        
      }
    },
    {
      "cell_type":"code",
      "source":[
        "# Функция, которая учитывает возможность наличия нескольких каналов с максимальным количеством продаж\n",
        "def channel_with_max_sales(sales_by_channel):\n",
        "    max_value = max(sales_by_channel.values())\n",
        "    result = [channel for channel, sales in sales_by_channel.items() if sales == max_value]\n",
        "    return sorted(result)\n",
        "\n",
        "# Более простой вариант (без учета нескольких максимумов)\n",
        "def channel_with_max_sales__simple(sales_by_channel):\n",
        "    return max(sales_by_channel, key=sales_by_channel.get)"
      ],
      "execution_count":79,
      "outputs":[
        
      ],
      "metadata":{
        
      }
    },
    {
      "cell_type":"markdown",
      "source":[
        "### Проверка"
      ],
      "metadata":{
        
      }
    },
    {
      "cell_type":"code",
      "source":[
        "print('=== Случай без дублей ===')\n",
        "stats = {'facebook': 55, 'yandex': 115, 'vk': 120, 'google': 99, 'email': 42, 'ok': 98}\n",
        "print(f'Максимальный объем продаж на рекламном канале: {\" \".join(channel_with_max_sales(stats))}')\n",
        "print(f'Максимальный объем продаж на рекламном канале (простой вариант): {channel_with_max_sales__simple(stats)}')\n",
        "print('=== Случай с дублями ===')\n",
        "stats = {'facebook': 55, 'yandex': 120, 'vk': 120, 'google': 99, 'email': 42, 'ok': 98}\n",
        "print(f'Максимальный объем продаж на рекламном канале: {\", \".join(channel_with_max_sales(stats))}')\n",
        "print(f'Максимальный объем продаж на рекламном канале (простой вариант): {channel_with_max_sales__simple(stats)}')"
      ],
      "execution_count":83,
      "outputs":[
        {
          "name":"stdout",
          "text":[
            "=== Случай без дублей ===\n",
            "Максимальный объем продаж на рекламном канале: vk\n",
            "Максимальный объем продаж на рекламном канале (простой вариант): vk\n",
            "=== Случай с дублями ===\n",
            "Максимальный объем продаж на рекламном канале: vk, yandex\n",
            "Максимальный объем продаж на рекламном канале (простой вариант): yandex\n"
          ],
          "output_type":"stream"
        }
      ],
      "metadata":{
        
      }
    },
    {
      "cell_type":"markdown",
      "source":[
        "## Задание 5\n",
        "### Решение"
      ],
      "metadata":{
        
      }
    },
    {
      "cell_type":"code",
      "source":[
        "def list_to_nested_dictionary(input_list):\n",
        "    if len(input_list) > 1:\n",
        "        nested_dict = {input_list[-2]: input_list[-1]}\n",
        "        for el in input_list[-3::-1]:\n",
        "            nested_dict = {el: nested_dict}\n",
        "        return nested_dict\n",
        "    else:\n",
        "        return"
      ],
      "execution_count":118,
      "outputs":[
        
      ],
      "metadata":{
        
      }
    },
    {
      "cell_type":"markdown",
      "source":[
        "### Проверка"
      ],
      "metadata":{
        
      }
    },
    {
      "cell_type":"code",
      "source":[
        "my_list = ['2018-01-01', 'yandex', 'cpc', 100]\n",
        "print(list_to_nested_dictionary(my_list))"
      ],
      "execution_count":119,
      "outputs":[
        {
          "name":"stdout",
          "text":[
            "{'2018-01-01': {'yandex': {'cpc': 100}}}\n"
          ],
          "output_type":"stream"
        }
      ],
      "metadata":{
        
      }
    },
    {
      "cell_type":"code",
      "source":[
        "my_list = ['a', 'b', 'c', 'd', 'e', 'f']\n",
        "print(list_to_nested_dictionary(my_list))"
      ],
      "execution_count":120,
      "outputs":[
        {
          "name":"stdout",
          "text":[
            "{'a': {'b': {'c': {'d': {'e': 'f'}}}}}\n"
          ],
          "output_type":"stream"
        }
      ],
      "metadata":{
        
      }
    },
    {
      "cell_type":"markdown",
      "source":[
        "## Задание 6\n",
        "### Решение"
      ],
      "metadata":{
        
      }
    },
    {
      "cell_type":"code",
      "source":[
        "def ingredients_by_portions(dishes, portions):\n",
        "    new_dict = dict()\n",
        "    for dish in dishes:\n",
        "        for ingr in cook_book[dish]:\n",
        "            if ingr['ingridient_name'] in new_dict:\n",
        "                if new_dict[ingr['ingridient_name']]['measure'] == ingr['measure']:\n",
        "                    new_dict[ingr['ingridient_name']]['quantity'] += ingr['quantity'] * portions\n",
        "                else:\n",
        "                    # Условие на случай, когда названия продуктов одинаковые, но единицы измерения - нет\n",
        "                    new_ingr_name = '_'.join([ingr['ingridient_name'], ingr['measure']])\n",
        "                    if new_ingr_name not in new_dict:\n",
        "                        new_dict[new_ingr_name] = {\n",
        "                            'quantity': ingr['quantity'] * portions,\n",
        "                            'measure': ingr['measure']\n",
        "                        }\n",
        "                    else:\n",
        "                        new_dict[new_ingr_name]['quantity'] += ingr['quantity'] * portions\n",
        "            else:\n",
        "                new_dict[ingr['ingridient_name']] = {\n",
        "                    'quantity': ingr['quantity'] * portions,\n",
        "                    'measure': ingr['measure']\n",
        "                }\n",
        "    for ingr_name, ingr_info in new_dict.items():\n",
        "        print(f'{ingr_name.split(\"_\")[0].capitalize()}: {ingr_info[\"quantity\"]} {ingr_info[\"measure\"]}')"
      ],
      "execution_count":0,
      "outputs":[
        
      ],
      "metadata":{
        
      }
    },
    {
      "cell_type":"markdown",
      "source":[
        "### Проверка"
      ],
      "metadata":{
        
      }
    },
    {
      "cell_type":"code",
      "source":[
        "cook_book = {\n",
        "    'салат': [\n",
        "        {'ingridient_name': 'сыр', 'quantity': 50, 'measure': 'гр'},\n",
        "        {'ingridient_name': 'томаты', 'quantity': 2, 'measure': 'шт'},\n",
        "        {'ingridient_name': 'огурцы', 'quantity': 20, 'measure': 'гр'},\n",
        "        {'ingridient_name': 'маслины', 'quantity': 10, 'measure': 'гр'},\n",
        "        {'ingridient_name': 'оливковое масло', 'quantity': 20, 'measure': 'мл'},\n",
        "        {'ingridient_name': 'салат', 'quantity': 10, 'measure': 'гр'},\n",
        "        {'ingridient_name': 'перец', 'quantity': 20, 'measure': 'гр'}\n",
        "    ],\n",
        "        'пицца': [\n",
        "        {'ingridient_name': 'сыр', 'quantity': 20, 'measure': 'гр'},\n",
        "        {'ingridient_name': 'колбаса', 'quantity': 30, 'measure': 'гр'},\n",
        "        {'ingridient_name': 'бекон', 'quantity': 30, 'measure': 'гр'},\n",
        "        {'ingridient_name': 'оливки', 'quantity': 10, 'measure': 'гр'},\n",
        "        {'ingridient_name': 'томаты', 'quantity': 20, 'measure': 'гр'},\n",
        "        {'ingridient_name': 'тесто', 'quantity': 100, 'measure': 'гр'},\n",
        "    ],\n",
        "    'лимонад': [\n",
        "        {'ingridient_name': 'лимон', 'quantity': 1, 'measure': 'шт'},\n",
        "        {'ingridient_name': 'вода', 'quantity': 200, 'measure': 'мл'},\n",
        "        {'ingridient_name': 'сахар', 'quantity': 10, 'measure': 'гр'},\n",
        "        {'ingridient_name': 'лайм', 'quantity': 20, 'measure': 'гр'},\n",
        "    ]\n",
        "}\n",
        "\n",
        "portions_num = int(input('Введите количество порций: '))\n",
        "ingredients_by_portions(cook_book, portions_num)\n",
        "         "
      ],
      "execution_count":19,
      "outputs":[
        {
          "name":"stdout",
          "text":[
            "Сыр: 210 гр\n",
            "Томаты: 6 шт\n",
            "Огурцы: 60 гр\n",
            "Маслины: 30 гр\n",
            "Оливковое масло: 60 мл\n",
            "Салат: 30 гр\n",
            "Перец: 60 гр\n",
            "Колбаса: 90 гр\n",
            "Бекон: 90 гр\n",
            "Оливки: 30 гр\n",
            "Томаты: 60 гр\n",
            "Тесто: 300 гр\n",
            "Лимон: 3 шт\n",
            "Вода: 600 мл\n",
            "Сахар: 30 гр\n",
            "Лайм: 60 гр\n"
          ],
          "output_type":"stream"
        }
      ],
      "metadata":{
        
      }
    }
  ],
  "metadata":{
    
  },
  "nbformat":4,
  "nbformat_minor":0
}