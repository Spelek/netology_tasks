{
  "nbformat": 4,
  "nbformat_minor": 0,
  "metadata": {
    "colab": {
      "name": "Math_7_Probability.ipynb",
      "provenance": [],
      "collapsed_sections": [],
      "authorship_tag": "ABX9TyMYJdpnt1gwaQI+50sIBJE4",
      "include_colab_link": true
    },
    "kernelspec": {
      "name": "python3",
      "display_name": "Python 3"
    },
    "language_info": {
      "name": "python"
    }
  },
  "cells": [
    {
      "cell_type": "markdown",
      "metadata": {
        "id": "view-in-github",
        "colab_type": "text"
      },
      "source": [
        "<a href=\"https://colab.research.google.com/github/rarhimed/netology_tasks/blob/main/Math_7_Probability.ipynb\" target=\"_parent\"><img src=\"https://colab.research.google.com/assets/colab-badge.svg\" alt=\"Open In Colab\"/></a>"
      ]
    },
    {
      "cell_type": "markdown",
      "metadata": {
        "id": "W1TrcmKy2DGX"
      },
      "source": [
        "# Домашнее задание №7. Теория вероятности. Дискретные Случайные Величины.\n",
        "## Уровень 0"
      ]
    },
    {
      "cell_type": "markdown",
      "metadata": {
        "id": "jTduwKHg2P6X"
      },
      "source": [
        "**Задание 1**"
      ]
    },
    {
      "cell_type": "code",
      "metadata": {
        "id": "AMY_4zoox98_"
      },
      "source": [
        "from math import factorial\n",
        "\n",
        "def count_prime_numbers(n):\n",
        "    a = list(range(n+1))\n",
        "    a[1] = 0\n",
        "    s = 0\n",
        "\n",
        "    i = 2\n",
        "    while i <= n:\n",
        "        if a[i] != 0:\n",
        "            s += 1\n",
        "            for j in range(i, n+1, i):\n",
        "                a[j] = 0\n",
        "        i += 1\n",
        "    return s\n",
        "\n",
        "def bernoulli_p(n, k, p):\n",
        "    C_n_k = factorial(n)/factorial(k)/factorial(n-k)\n",
        "    return C_n_k * p**k * (1 - p)**(n - k)"
      ],
      "execution_count": 14,
      "outputs": []
    },
    {
      "cell_type": "code",
      "metadata": {
        "colab": {
          "base_uri": "https://localhost:8080/"
        },
        "id": "XCdi80aw1T6Z",
        "outputId": "ece16473-ebed-44b7-d209-6117f7f9220f"
      },
      "source": [
        "n = 15\n",
        "print(f'Вероятность выпадения простого числа орлов при {n} бросках:',\n",
        "      bernoulli_p(n, count_prime_numbers(n), 0.5), sep='\\n')"
      ],
      "execution_count": 16,
      "outputs": [
        {
          "output_type": "stream",
          "name": "stdout",
          "text": [
            "Вероятность выпадения простого числа орлов при 15 бросках:\n",
            "0.152740478515625\n"
          ]
        }
      ]
    },
    {
      "cell_type": "markdown",
      "metadata": {
        "id": "e7NaLSAP2UuE"
      },
      "source": [
        "**Задание 2**"
      ]
    },
    {
      "cell_type": "code",
      "metadata": {
        "id": "mNPttTqb11II"
      },
      "source": [
        "import numpy as np\n",
        "import matplotlib.pyplot as plt"
      ],
      "execution_count": 26,
      "outputs": []
    },
    {
      "cell_type": "code",
      "metadata": {
        "id": "1LmXDH3S9RNK"
      },
      "source": [
        "random_values = np.random.randint(1, 16, 1000)"
      ],
      "execution_count": 27,
      "outputs": []
    },
    {
      "cell_type": "code",
      "metadata": {
        "colab": {
          "base_uri": "https://localhost:8080/"
        },
        "id": "spze36fi-E3o",
        "outputId": "74c7fe31-5e7e-4364-c852-f673e6d321bb"
      },
      "source": [
        "print('Среднее значение:', np.mean(random_values),\n",
        "      'Дисперсия:', np.var(random_values),\n",
        "      'Медиана', np.median(random_values), sep='\\n')"
      ],
      "execution_count": 29,
      "outputs": [
        {
          "output_type": "stream",
          "name": "stdout",
          "text": [
            "Среднее значение:\n",
            "8.095\n",
            "Дисперсия:\n",
            "17.873974999999998\n",
            "Медиана\n",
            "8.0\n"
          ]
        }
      ]
    },
    {
      "cell_type": "code",
      "metadata": {
        "colab": {
          "base_uri": "https://localhost:8080/",
          "height": 320
        },
        "id": "bpuDbxOM-IhH",
        "outputId": "5a168350-ee43-4f8a-e118-2615fd02f1f0"
      },
      "source": [
        "plt.hist(random_values)"
      ],
      "execution_count": 36,
      "outputs": [
        {
          "output_type": "execute_result",
          "data": {
            "text/plain": [
              "(array([126.,  56., 123.,  73.,  84., 146.,  54., 150.,  57., 131.]),\n",
              " array([ 1. ,  2.4,  3.8,  5.2,  6.6,  8. ,  9.4, 10.8, 12.2, 13.6, 15. ]),\n",
              " <a list of 10 Patch objects>)"
            ]
          },
          "metadata": {},
          "execution_count": 36
        },
        {
          "output_type": "display_data",
          "data": {
            "image/png": "[encoded data removed]",
            "text/plain": [
              "<Figure size 432x288 with 1 Axes>"
            ]
          },
          "metadata": {
            "needs_background": "light"
          }
        }
      ]
    },
    {
      "cell_type": "markdown",
      "metadata": {
        "id": "rJ-hzhAgDXnr"
      },
      "source": [
        "## Уровень 1"
      ]
    },
    {
      "cell_type": "markdown",
      "metadata": {
        "id": "uwYeif7sKvcm"
      },
      "source": [
        "**Задание 3**"
      ]
    },
    {
      "cell_type": "code",
      "metadata": {
        "id": "Pc51D9cVBhpm"
      },
      "source": [
        "P_A1 = 0.5\n",
        "P_A2 = 0.5\n",
        "P_A3 = 0.5"
      ],
      "execution_count": null,
      "outputs": []
    },
    {
      "cell_type": "markdown",
      "metadata": {
        "id": "Y0MGYI-ALfHY"
      },
      "source": [
        "Вероятность того, что одновременно произойдут любые два из этих событий = 2 / 8 = **0.25**. При умножении вероятностей любых двух событий также получаем 0.5 * 0.5 = **0.25**. Значит, события попарно независимы."
      ]
    },
    {
      "cell_type": "markdown",
      "metadata": {
        "id": "Pi-h7h1qMg-_"
      },
      "source": [
        "Теперь проверим независимость трех событий в совокупности. Если это так, то вероятность одновременного наступления всех трех событий (2 / 8 = **0.25**) должна быть равна произведению вероятностей всех трех событий (0.5 * 0.5 * 0.5 = **0.125**). Как мы видим, это условие не выполняется. Значит, рассматриваемые события не являются независимыми в совокупности."
      ]
    },
    {
      "cell_type": "markdown",
      "metadata": {
        "id": "16dhV5LcNqeh"
      },
      "source": [
        "**Задание 4**"
      ]
    },
    {
      "cell_type": "code",
      "metadata": {
        "colab": {
          "base_uri": "https://localhost:8080/"
        },
        "id": "4sGz-LzzNhVb",
        "outputId": "f8d422f0-372c-4ec8-d95f-d9805cbdbd26"
      },
      "source": [
        "# Соотношение устройств по предприятиям\n",
        "P_H1 = 0.2\n",
        "P_H2 = 0.3\n",
        "P_H3 = 0.5\n",
        "# Доля продукции высшего сорта по предприятиям\n",
        "P_A_H1 = 0.1\n",
        "P_A_H2 = 0.05\n",
        "P_A_H3 = 0.2\n",
        "# Вероятность того, что случайно купленная новая продукция окажется высшего сорта:\n",
        "P = P_H1 * P_A_H1 + P_H2 * P_A_H2 + P_H3 * P_A_H3\n",
        "print(f'Вероятность = {P * 100}%')"
      ],
      "execution_count": 38,
      "outputs": [
        {
          "output_type": "stream",
          "name": "stdout",
          "text": [
            "Вероятность = 13.5%\n"
          ]
        }
      ]
    }
  ]
}