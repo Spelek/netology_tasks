{
 "cells": [
  {
   "cell_type": "markdown",
   "metadata": {},
   "source": [
    "## Домашняя работа №3. Сверточные сети"
   ]
  },
  {
   "cell_type": "markdown",
   "metadata": {},
   "source": [
    "### Данные"
   ]
  },
  {
   "cell_type": "code",
   "execution_count": 1,
   "metadata": {},
   "outputs": [],
   "source": [
    "import matplotlib.pyplot as plt\n",
    "%matplotlib inline"
   ]
  },
  {
   "cell_type": "code",
   "execution_count": 3,
   "metadata": {},
   "outputs": [],
   "source": [
    "import torch\n",
    "import torchvision as tv\n",
    "import numpy as np\n",
    "import time"
   ]
  },
  {
   "cell_type": "code",
   "execution_count": 4,
   "metadata": {},
   "outputs": [],
   "source": [
    "BATCH_SIZE=256"
   ]
  },
  {
   "cell_type": "code",
   "execution_count": null,
   "metadata": {},
   "outputs": [],
   "source": [
    "train_dataset = tv.datasets.FashionMNIST('.', train=True, transform=tv.transforms.ToTensor(), download=True)\n",
    "test_dataset = tv.datasets.FashionMNIST('.', train=False, transform=tv.transforms.ToTensor(), download=True)\n",
    "train = torch.utils.data.DataLoader(train_dataset, batch_size=BATCH_SIZE)\n",
    "test = torch.utils.data.DataLoader(test_dataset, batch_size=BATCH_SIZE)"
   ]
  },
  {
   "cell_type": "code",
   "execution_count": 8,
   "metadata": {},
   "outputs": [
    {
     "data": {
      "text/plain": [
       "<matplotlib.image.AxesImage at 0x1723402e160>"
      ]
     },
     "execution_count": 8,
     "metadata": {},
     "output_type": "execute_result"
    },
    {
     "data": {
      "image/png": "[encoded data removed]",
      "text/plain": [
       "<Figure size 432x288 with 1 Axes>"
      ]
     },
     "metadata": {
      "needs_background": "light"
     },
     "output_type": "display_data"
    }
   ],
   "source": [
    "plt.imshow(train_dataset[3][0].numpy().reshape(28,28), cmap='gray')"
   ]
  },
  {
   "cell_type": "code",
   "execution_count": 9,
   "metadata": {
    "ExecuteTime": {
     "end_time": "2019-11-14T21:43:43.967577Z",
     "start_time": "2019-11-14T21:43:43.963101Z"
    },
    "colab": {},
    "colab_type": "code",
    "id": "AXokXQUzw6Lr"
   },
   "outputs": [],
   "source": [
    "dev = torch.device(\"cuda\") if torch.cuda.is_available() else torch.device(\"cpu\")"
   ]
  },
  {
   "cell_type": "code",
   "execution_count": 10,
   "metadata": {
    "ExecuteTime": {
     "end_time": "2019-11-14T21:43:43.977459Z",
     "start_time": "2019-11-14T21:43:43.970316Z"
    },
    "colab": {
     "base_uri": "https://localhost:8080/",
     "height": 34
    },
    "colab_type": "code",
    "id": "xLQMfiFVxRfv",
    "outputId": "4abcca57-4e9f-46cc-9963-4c221f293080"
   },
   "outputs": [
    {
     "data": {
      "text/plain": [
       "device(type='cuda')"
      ]
     },
     "execution_count": 10,
     "metadata": {},
     "output_type": "execute_result"
    }
   ],
   "source": [
    "dev"
   ]
  },
  {
   "cell_type": "markdown",
   "metadata": {},
   "source": [
    "### Модель"
   ]
  },
  {
   "cell_type": "code",
   "execution_count": 51,
   "metadata": {},
   "outputs": [],
   "source": [
    "model = torch.nn.Sequential(\n",
    "    torch.nn.Conv2d(1, 64, kernel_size=5, padding=2),\n",
    "    torch.nn.BatchNorm2d(64),\n",
    "    torch.nn.ReLU(),\n",
    "    torch.nn.MaxPool2d(2, stride=2),\n",
    "\n",
    "    torch.nn.Conv2d(64, 128, kernel_size=5),\n",
    "    torch.nn.BatchNorm2d(128),\n",
    "    torch.nn.ReLU(),\n",
    "    torch.nn.MaxPool2d(2, stride=2),\n",
    "    \n",
    "    torch.nn.Flatten(),\n",
    "    torch.nn.Linear(3200, 160),\n",
    "    torch.nn.BatchNorm1d(160),\n",
    "    torch.nn.ReLU(),\n",
    "    torch.nn.Linear(160, 10),\n",
    "    torch.nn.LogSoftmax(dim=1)\n",
    ")"
   ]
  },
  {
   "cell_type": "code",
   "execution_count": 52,
   "metadata": {},
   "outputs": [],
   "source": [
    "model = model.to(dev)"
   ]
  },
  {
   "cell_type": "markdown",
   "metadata": {},
   "source": [
    "### Обучение"
   ]
  },
  {
   "cell_type": "code",
   "execution_count": 53,
   "metadata": {},
   "outputs": [
    {
     "name": "stdout",
     "output_type": "stream",
     "text": [
      "ep: 0, taked: 19.777, train_loss: 98.30309363831866, train_acc: 0.8687999844551086, test_loss: 74.70639346837997, test_acc: 0.8916999697685242\n",
      "ep: 1, taked: 19.741, train_loss: 60.57616520333797, train_acc: 0.9145500063896179, test_loss: 64.33366610109806, test_acc: 0.9063999652862549\n",
      "ep: 2, taked: 21.454, train_loss: 48.343654518939076, train_acc: 0.9315000176429749, test_loss: 67.77647409439086, test_acc: 0.905299961566925\n",
      "ep: 3, taked: 21.688, train_loss: 38.19518620511319, train_acc: 0.9471333622932434, test_loss: 73.70719460248947, test_acc: 0.8976999521255493\n",
      "ep: 4, taked: 21.971, train_loss: 29.761317167890834, train_acc: 0.9595666527748108, test_loss: 74.43545504808426, test_acc: 0.9034000039100647\n",
      "ep: 5, taked: 21.004, train_loss: 23.327276290731227, train_acc: 0.9692000150680542, test_loss: 83.92811245918274, test_acc: 0.8968999981880188\n",
      "ep: 6, taked: 21.258, train_loss: 19.445674612167032, train_acc: 0.9743166565895081, test_loss: 79.10286875367164, test_acc: 0.9052000045776367\n",
      "ep: 7, taked: 21.011, train_loss: 18.214186607523168, train_acc: 0.9747333526611328, test_loss: 75.74876042604447, test_acc: 0.9083999991416931\n",
      "ep: 8, taked: 20.980, train_loss: 14.263850068031473, train_acc: 0.9808833599090576, test_loss: 85.01590319871903, test_acc: 0.9068999886512756\n",
      "ep: 9, taked: 20.771, train_loss: 11.553294185881919, train_acc: 0.9848000407218933, test_loss: 81.39770058989525, test_acc: 0.9143999814987183\n"
     ]
    }
   ],
   "source": [
    "loss = torch.nn.CrossEntropyLoss(reduction='sum')\n",
    "trainer = torch.optim.Adam(model.parameters(), lr=0.001)\n",
    "num_epochs = 10\n",
    "\n",
    "for ep in range(num_epochs):\n",
    "    train_iters, train_passed  = 0, 0\n",
    "    train_loss, train_acc = 0., torch.Tensor([0]).to(dev)\n",
    "    start=time.time()\n",
    "    \n",
    "    model.train()\n",
    "    for X, y in train:\n",
    "        trainer.zero_grad()\n",
    "        X, y = X.to(dev), y.to(dev)\n",
    "        y_pred = model(X)\n",
    "        l = loss(y_pred, y)\n",
    "        l.backward()\n",
    "        trainer.step()\n",
    "        train_loss += l.item()\n",
    "        train_acc += (y_pred.argmax(dim=1) == y).sum().item()\n",
    "        train_iters += 1\n",
    "        train_passed += y.shape[0]\n",
    "    \n",
    "    test_iters, test_passed  = 0, 0\n",
    "    test_loss, test_acc = 0., torch.Tensor([0]).to(dev)\n",
    "    model.eval()\n",
    "    for X, y in test:\n",
    "        X, y = X.to(dev), y.to(dev)\n",
    "        y_pred = model(X)\n",
    "        l = loss(y_pred, y)\n",
    "        test_loss += l.item()\n",
    "        test_acc += (y_pred.argmax(dim=1) == y).sum().item()\n",
    "        test_iters += 1\n",
    "        test_passed += y.shape[0]\n",
    "        \n",
    "    train_acc_res = (train_acc / train_passed)[0].cpu().numpy()\n",
    "    test_acc_res = (test_acc / test_passed)[0].cpu().numpy()\n",
    "    print(\"ep: {}, taked: {:.3f}, train_loss: {}, train_acc: {}, test_loss: {}, test_acc: {}\".format(\n",
    "        ep, time.time() - start, train_loss / train_iters, train_acc_res,\n",
    "        test_loss / test_iters, test_acc_res)\n",
    "    )"
   ]
  },
  {
   "cell_type": "markdown",
   "metadata": {},
   "source": [
    "**Вывод:** поставленной цели в 89.5% точности модели удалось достичь уже на второй итерации за счет увеличения количества каналов в слоях Conv2d и использования batch-нормализации."
   ]
  }
 ],
 "metadata": {
  "kernelspec": {
   "display_name": "Python 3.9.12 ('base')",
   "language": "python",
   "name": "python3"
  },
  "language_info": {
   "codemirror_mode": {
    "name": "ipython",
    "version": 3
   },
   "file_extension": ".py",
   "mimetype": "text/x-python",
   "name": "python",
   "nbconvert_exporter": "python",
   "pygments_lexer": "ipython3",
   "version": "3.9.12"
  },
  "orig_nbformat": 4,
  "vscode": {
   "interpreter": {
    "hash": "5a00e7ec61eff5a88fc1f6f522f8352e0b0489450640f58684f8d2503099540c"
   }
  }
 },
 "nbformat": 4,
 "nbformat_minor": 2
}
