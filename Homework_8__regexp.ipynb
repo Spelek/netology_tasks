{
  "cells":[
    {
      "cell_type":"markdown",
      "source":[
        "# Регулярные выражения\n",
        "## Задание 1\n",
        "### Решение"
      ],
      "metadata":{
        
      }
    },
    {
      "cell_type":"code",
      "source":[
        "import re\n",
        "\n",
        "def is_valid_number(string):\n",
        "    # Учитывается вариант использования латинских символов и разного регистра букв\n",
        "    full_number = re.findall(r'[АВЕКМНОРСТУХABEKMHOPCTYX]\\d{3}[АВЕКМНОРСТУХABEKMHOPCTYX]{2}\\d{2,3}', string, flags=re.I) \n",
        "    if full_number and full_number[0] == string:\n",
        "        print(f'Номер {string[:6].upper()} валиден. Регион: {string[6:]}')\n",
        "    else:\n",
        "        print('Номер не валиден')"
      ],
      "execution_count":80,
      "outputs":[
        
      ],
      "metadata":{
        
      }
    },
    {
      "cell_type":"markdown",
      "source":[
        "### Проверка"
      ],
      "metadata":{
        
      }
    },
    {
      "cell_type":"code",
      "source":[
        "is_valid_number('a193Вс81')"
      ],
      "execution_count":82,
      "outputs":[
        {
          "name":"stdout",
          "text":[
            "Номер A193ВС валиден. Регион: 81\n"
          ],
          "output_type":"stream"
        }
      ],
      "metadata":{
        
      }
    },
    {
      "cell_type":"markdown",
      "source":[
        "## Задание 2\n",
        "### Решение"
      ],
      "metadata":{
        
      }
    },
    {
      "cell_type":"code",
      "source":[
        "import re\n",
        "\n",
        "def del_repeated_words(text):\n",
        "    return re.sub(r'(\\w+)(\\s+\\1)+', r'\\1', text, flags=re.I)"
      ],
      "execution_count":102,
      "outputs":[
        
      ],
      "metadata":{
        
      }
    },
    {
      "cell_type":"markdown",
      "source":[
        "### Проверка"
      ],
      "metadata":{
        
      }
    },
    {
      "cell_type":"code",
      "source":[
        "text = 'Напишите    напишите функцию функцию, которая будет будет будет будет удалять все все все все последовательные повторы слов из из из из заданной строки строки при помощи регулярных выражений'\n",
        "print(del_repeated_words(text))"
      ],
      "execution_count":103,
      "outputs":[
        {
          "name":"stdout",
          "text":[
            "Напишите функцию, которая будет удалять все последовательные повторы слов из заданной строки при помощи регулярных выражений\n"
          ],
          "output_type":"stream"
        }
      ],
      "metadata":{
        
      }
    },
    {
      "cell_type":"markdown",
      "source":[
        "## Задание 3\n",
        "### Решение"
      ],
      "metadata":{
        
      }
    },
    {
      "cell_type":"code",
      "source":[
        "import re\n",
        "\n",
        "def make_acronym(text):\n",
        "    return re.sub(r'(\\w)[\\w]*[\\s]*',r'\\1', text, flags=re.I).upper()"
      ],
      "execution_count":88,
      "outputs":[
        
      ],
      "metadata":{
        
      }
    },
    {
      "cell_type":"markdown",
      "source":[
        "### Проверка"
      ],
      "metadata":{
        
      }
    },
    {
      "cell_type":"code",
      "source":[
        "text = 'Near Field communication'\n",
        "print(make_acronym(text))"
      ],
      "execution_count":104,
      "outputs":[
        {
          "name":"stdout",
          "text":[
            "NFC\n"
          ],
          "output_type":"stream"
        }
      ],
      "metadata":{
        
      }
    },
    {
      "cell_type":"code",
      "source":[
        "text = 'Информационные технологии'\n",
        "print(make_acronym(text))"
      ],
      "execution_count":105,
      "outputs":[
        {
          "name":"stdout",
          "text":[
            "ИТ\n"
          ],
          "output_type":"stream"
        }
      ],
      "metadata":{
        
      }
    },
    {
      "cell_type":"markdown",
      "source":[
        "## Задание 4\n",
        "### Решение"
      ],
      "metadata":{
        
      }
    },
    {
      "cell_type":"code",
      "source":[
        "import re\n",
        "from collections import defaultdict\n",
        "\n",
        "def emails_by_domains(emails):\n",
        "    domains = defaultdict(int)\n",
        "    for email in emails:\n",
        "        try:\n",
        "            domains[re.findall(r'@([^@]+)', email)[0]] += 1\n",
        "        except:\n",
        "            continue\n",
        "    return domains"
      ],
      "execution_count":90,
      "outputs":[
        
      ],
      "metadata":{
        
      }
    },
    {
      "cell_type":"markdown",
      "source":[
        "### Проверка"
      ],
      "metadata":{
        
      }
    },
    {
      "cell_type":"code",
      "source":[
        "emails = ['test@gmail.com', 'xyz@test.in', 'test@ya.ru', 'xyz@mail.ru', 'xyz@ya.ru', 'xyz@gmail.com']\n",
        "for domain, amount in emails_by_domains(emails).items():\n",
        "    print(f'{domain}: {amount}')"
      ],
      "execution_count":100,
      "outputs":[
        {
          "name":"stdout",
          "text":[
            "gmail.com: 2\n",
            "test.in: 1\n",
            "ya.ru: 2\n",
            "mail.ru: 1\n"
          ],
          "output_type":"stream"
        }
      ],
      "metadata":{
        
      }
    },
    {
      "cell_type":"markdown",
      "source":[
        "## Задание 5\n",
        "### Решение"
      ],
      "metadata":{
        
      }
    },
    {
      "cell_type":"code",
      "source":[
        "import re\n",
        "\n",
        "def count_vowels_and_consonants(text):\n",
        "    vowels = len(re.findall(r'\\b([аиеёоуыэюяaeiouy])[\\w]*\\b', text, flags=re.I))\n",
        "    consonants = len(re.findall(r'\\b([бвгджзклмнпрстфхцчшщbcdfghjklmnpqrstvwxz])[\\w]*\\b', text, flags=re.I))\n",
        "    return vowels, consonants"
      ],
      "execution_count":98,
      "outputs":[
        
      ],
      "metadata":{
        
      }
    },
    {
      "cell_type":"markdown",
      "source":[
        "### Проверка"
      ],
      "metadata":{
        
      }
    },
    {
      "cell_type":"code",
      "source":[
        "text = 'Эталонной реализацией Python является интерпретатор CPython, поддерживающий большинство активно используемых платформ. Он распространяется под свободной лицензией Python Software Foundation License, позволяющей использовать его без ограничений в любых приложениях, включая проприетарные.'\n",
        "vowels, consonants = count_vowels_and_consonants(text)\n",
        "print(f'Слов на гласные буквы: {vowels}\\nСлов на согласные буквы: {consonants}')"
      ],
      "execution_count":99,
      "outputs":[
        {
          "name":"stdout",
          "text":[
            "Слов на гласные буквы: 9\n",
            "Слов на согласные буквы: 21\n"
          ],
          "output_type":"stream"
        }
      ],
      "metadata":{
        
      }
    },
    {
      "cell_type":"markdown",
      "source":[
        "## Задание 6\n",
        "### Решение"
      ],
      "metadata":{
        
      }
    },
    {
      "cell_type":"code",
      "source":[
        "def validate_phone_number(number):\n",
        "    # Очищаем номер от лишних символов\n",
        "    cl_num = re.sub(r'\\D', '', number)\n",
        "    if len(cl_num) == 11 and re.match(r'^[78]', cl_num):\n",
        "        return f'+7-{cl_num[1:4]}-{cl_num[4:7]}-{cl_num[7:9]}-{cl_num[9:11]}' \n",
        "    else:\n",
        "        return 'Номер не валиден'"
      ],
      "execution_count":94,
      "outputs":[
        
      ],
      "metadata":{
        
      }
    },
    {
      "cell_type":"markdown",
      "source":[
        "### Проверка"
      ],
      "metadata":{
        
      }
    },
    {
      "cell_type":"code",
      "source":[
        "print(validate_phone_number('+9 955 555-55-55'))"
      ],
      "execution_count":95,
      "outputs":[
        {
          "name":"stdout",
          "text":[
            "Номер не валиден\n"
          ],
          "output_type":"stream"
        }
      ],
      "metadata":{
        
      }
    },
    {
      "cell_type":"code",
      "source":[
        "print(validate_phone_number('8(955)555-55-55'))"
      ],
      "execution_count":96,
      "outputs":[
        {
          "name":"stdout",
          "text":[
            "+7-955-555-55-55\n"
          ],
          "output_type":"stream"
        }
      ],
      "metadata":{
        
      }
    }
  ],
  "metadata":{
    
  },
  "nbformat":4,
  "nbformat_minor":0
}