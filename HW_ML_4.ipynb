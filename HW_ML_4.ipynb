{
  "nbformat": 4,
  "nbformat_minor": 0,
  "metadata": {
    "colab": {
      "name": "HW_4.ipynb",
      "provenance": [],
      "collapsed_sections": [],
      "authorship_tag": "ABX9TyOnoh6HK28CldW8Fco1PaeE"
    },
    "kernelspec": {
      "name": "python3",
      "display_name": "Python 3"
    },
    "language_info": {
      "name": "python"
    }
  },
  "cells": [
    {
      "cell_type": "markdown",
      "source": [
        "# Домашнее задание №4. Качество данных"
      ],
      "metadata": {
        "id": "1GRVbPVl9UyW"
      }
    },
    {
      "cell_type": "code",
      "execution_count": 1,
      "metadata": {
        "id": "P9R4PoZN9Sj6"
      },
      "outputs": [],
      "source": [
        "import numpy as np\n",
        "import pandas as pd\n",
        "import seaborn as sns\n",
        "\n",
        "from sklearn.linear_model import LinearRegression"
      ]
    },
    {
      "cell_type": "markdown",
      "source": [
        "Будем предсказывать цену квартиры в зависимости от различных параметров"
      ],
      "metadata": {
        "id": "F9Zv-nt7Fr7s"
      }
    },
    {
      "cell_type": "code",
      "source": [
        "# Создаём сэмпл\n",
        "n_samples = 1000\n",
        "# Параметры квартиры\n",
        "price_m2 = np.random.choice(60000, n_samples) + 80000\n",
        "center_dist_km = np.random.random_sample((n_samples,)) * 15\n",
        "metro_dist_km = np.random.random_sample((n_samples,)) * 2\n",
        "parking = np.random.choice(2, n_samples)\n",
        "floor = np.random.choice(20, n_samples) + 1\n",
        "square = np.random.choice(44, n_samples) + 16\n",
        "# Итоговая цена квартиры\n",
        "total_price = price_m2 * square - center_dist_km * 100000 + parking * 100000\n",
        "\n",
        "data = pd.DataFrame({'price_m2': price_m2,\n",
        "                     'center_dist_km': center_dist_km,\n",
        "                     'metro_dist_km': metro_dist_km,\n",
        "                     'parking': parking,\n",
        "                     'floor': floor,\n",
        "                     'square': square,\n",
        "                     'total_price': total_price})\n",
        "data.head(5)"
      ],
      "metadata": {
        "colab": {
          "base_uri": "https://localhost:8080/",
          "height": 206
        },
        "id": "0ao_snxf9u_x",
        "outputId": "12f196bf-8b14-4501-ba27-8a371366a34c"
      },
      "execution_count": 19,
      "outputs": [
        {
          "output_type": "execute_result",
          "data": {
            "text/html": [
              "<div>\n",
              "<style scoped>\n",
              "    .dataframe tbody tr th:only-of-type {\n",
              "        vertical-align: middle;\n",
              "    }\n",
              "\n",
              "    .dataframe tbody tr th {\n",
              "        vertical-align: top;\n",
              "    }\n",
              "\n",
              "    .dataframe thead th {\n",
              "        text-align: right;\n",
              "    }\n",
              "</style>\n",
              "<table border=\"1\" class=\"dataframe\">\n",
              "  <thead>\n",
              "    <tr style=\"text-align: right;\">\n",
              "      <th></th>\n",
              "      <th>price_m2</th>\n",
              "      <th>center_dist_km</th>\n",
              "      <th>metro_dist_km</th>\n",
              "      <th>parking</th>\n",
              "      <th>floor</th>\n",
              "      <th>square</th>\n",
              "      <th>total_price</th>\n",
              "    </tr>\n",
              "  </thead>\n",
              "  <tbody>\n",
              "    <tr>\n",
              "      <th>0</th>\n",
              "      <td>95660</td>\n",
              "      <td>1.327771</td>\n",
              "      <td>1.718041</td>\n",
              "      <td>0</td>\n",
              "      <td>17</td>\n",
              "      <td>34</td>\n",
              "      <td>3.119663e+06</td>\n",
              "    </tr>\n",
              "    <tr>\n",
              "      <th>1</th>\n",
              "      <td>99730</td>\n",
              "      <td>6.232464</td>\n",
              "      <td>0.002294</td>\n",
              "      <td>1</td>\n",
              "      <td>7</td>\n",
              "      <td>25</td>\n",
              "      <td>1.970004e+06</td>\n",
              "    </tr>\n",
              "    <tr>\n",
              "      <th>2</th>\n",
              "      <td>128789</td>\n",
              "      <td>12.385201</td>\n",
              "      <td>0.899257</td>\n",
              "      <td>1</td>\n",
              "      <td>20</td>\n",
              "      <td>31</td>\n",
              "      <td>2.853939e+06</td>\n",
              "    </tr>\n",
              "    <tr>\n",
              "      <th>3</th>\n",
              "      <td>114837</td>\n",
              "      <td>4.990313</td>\n",
              "      <td>0.080808</td>\n",
              "      <td>1</td>\n",
              "      <td>6</td>\n",
              "      <td>39</td>\n",
              "      <td>4.079612e+06</td>\n",
              "    </tr>\n",
              "    <tr>\n",
              "      <th>4</th>\n",
              "      <td>132921</td>\n",
              "      <td>11.171273</td>\n",
              "      <td>0.287931</td>\n",
              "      <td>0</td>\n",
              "      <td>14</td>\n",
              "      <td>53</td>\n",
              "      <td>5.927686e+06</td>\n",
              "    </tr>\n",
              "  </tbody>\n",
              "</table>\n",
              "</div>"
            ],
            "text/plain": [
              "   price_m2  center_dist_km  metro_dist_km  ...  floor  square   total_price\n",
              "0     95660        1.327771       1.718041  ...     17      34  3.119663e+06\n",
              "1     99730        6.232464       0.002294  ...      7      25  1.970004e+06\n",
              "2    128789       12.385201       0.899257  ...     20      31  2.853939e+06\n",
              "3    114837        4.990313       0.080808  ...      6      39  4.079612e+06\n",
              "4    132921       11.171273       0.287931  ...     14      53  5.927686e+06\n",
              "\n",
              "[5 rows x 7 columns]"
            ]
          },
          "metadata": {},
          "execution_count": 19
        }
      ]
    },
    {
      "cell_type": "markdown",
      "source": [
        "1. Попробуем предсказать цену на основе всех параметров, за исключением целевой переменной."
      ],
      "metadata": {
        "id": "iG6frUxkF25W"
      }
    },
    {
      "cell_type": "code",
      "source": [
        "from sklearn.metrics import mean_absolute_error\n",
        "\n",
        "X = data.drop(columns=['total_price'])\n",
        "y = data['total_price']\n",
        "reg = LinearRegression().fit(X, y)\n",
        "print('Weights: {}'.format(reg.coef_))\n",
        "print('Bias: {}'.format(reg.intercept_))\n",
        "\n",
        "pred_values = reg.predict(X)\n",
        "print('Error: {}'.format(mean_absolute_error(pred_values, y)))"
      ],
      "metadata": {
        "colab": {
          "base_uri": "https://localhost:8080/"
        },
        "id": "-zzV-mqe9xEy",
        "outputId": "a0bfc985-71b8-4a27-cee8-b1a8e5d4a9df"
      },
      "execution_count": 20,
      "outputs": [
        {
          "output_type": "stream",
          "name": "stdout",
          "text": [
            "Weights: [ 3.75093884e+01 -1.01981417e+05  1.80325890e+03  1.12805102e+05\n",
            " -2.95708127e+03  1.08499354e+05]\n",
            "Bias: -4028460.4469225216\n",
            "Error: 167670.7346865691\n"
          ]
        }
      ]
    },
    {
      "cell_type": "markdown",
      "source": [
        "2. Модель плохо справилась с задачей: несмотря на то, что модель достаточно точно нашла коэффициенты для параметров center_dist_km и parking, она подобрала очень большие коэффициенты для \"лишних\" параметров. Попробуем убрать значения параметров, которых нет в формуле для определения цены квартиры, и заново обучить модель."
      ],
      "metadata": {
        "id": "8iFUUZs9F_TR"
      }
    },
    {
      "cell_type": "code",
      "source": [
        "X = data.drop(columns=['total_price', 'metro_dist_km', 'floor'])\n",
        "y = data['total_price']\n",
        "reg = LinearRegression().fit(X, y)\n",
        "print('Weights: {}'.format(reg.coef_))\n",
        "print('Bias: {}'.format(reg.intercept_))\n",
        "\n",
        "pred_values = reg.predict(X)\n",
        "print('Error: {}'.format(mean_absolute_error(pred_values, y)))"
      ],
      "metadata": {
        "colab": {
          "base_uri": "https://localhost:8080/"
        },
        "id": "Yg8FTVJRF-6m",
        "outputId": "a0583f24-c6e4-4025-98e2-02e27dc371ac"
      },
      "execution_count": 22,
      "outputs": [
        {
          "output_type": "stream",
          "name": "stdout",
          "text": [
            "Weights: [ 3.75205626e+01 -1.01891148e+05  1.13203258e+05  1.08617314e+05]\n",
            "Bias: -4064018.625716708\n",
            "Error: 167951.79706571382\n"
          ]
        }
      ]
    },
    {
      "cell_type": "markdown",
      "source": [
        "3. Удаление лишних столбцов не помогло улучшить качество модели. Добавим столбец, который является произведением двух других столбцов, т.к. наша модель не может сделать этого."
      ],
      "metadata": {
        "id": "83s17PXKHW7w"
      }
    },
    {
      "cell_type": "code",
      "source": [
        "data['mult'] = data['price_m2'] * data['square']\n",
        "X = data.drop(columns=['total_price', 'metro_dist_km', 'floor', 'price_m2',\n",
        "                       'square'])\n",
        "y = data['total_price']\n",
        "reg = LinearRegression().fit(X, y)\n",
        "print('Weights: {}'.format(reg.coef_))\n",
        "print('Bias: {}'.format(reg.intercept_))\n",
        "\n",
        "pred_values = reg.predict(X)\n",
        "print('Error: {}'.format(mean_absolute_error(pred_values, y)))"
      ],
      "metadata": {
        "colab": {
          "base_uri": "https://localhost:8080/"
        },
        "id": "QBRMfSX_9w5G",
        "outputId": "30825b14-49b0-4c8f-d058-e80baa01f15d"
      },
      "execution_count": 25,
      "outputs": [
        {
          "output_type": "stream",
          "name": "stdout",
          "text": [
            "Weights: [-1.e+05  1.e+05  1.e+00]\n",
            "Bias: 0.00101566594094038\n",
            "Error: 0.00032686198875308035\n"
          ]
        }
      ]
    },
    {
      "cell_type": "markdown",
      "source": [
        "**Вывод:** чтобы модель линейной регрессии показывала хорошие результаты, необходимо учитывать взаимосвязь переменных, характеризующих исследуемый объект. Возможно, если бы наши данные не были случайным образом сгенерированы, модель сумела бы отыскать скрытые связи между переменными (подобрать коэффициенты более точно)."
      ],
      "metadata": {
        "id": "_7CJ6zztXsIK"
      }
    }
  ]
}