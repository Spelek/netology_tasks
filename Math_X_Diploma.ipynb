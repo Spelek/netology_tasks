{
  "nbformat": 4,
  "nbformat_minor": 0,
  "metadata": {
    "colab": {
      "name": "Math_X_Diploma.ipynb",
      "provenance": [],
      "authorship_tag": "ABX9TyO+WjktupeRnoIg1zAoHY2R"
    },
    "kernelspec": {
      "name": "python3",
      "display_name": "Python 3"
    },
    "language_info": {
      "name": "python"
    }
  },
  "cells": [
    {
      "cell_type": "markdown",
      "metadata": {
        "id": "ahBMKO5ldr_c"
      },
      "source": [
        "# Итоговая работа"
      ]
    },
    {
      "cell_type": "code",
      "metadata": {
        "id": "nCvN9wqrd-T0"
      },
      "source": [
        "import matplotlib.pyplot as plt\n",
        "import numpy as np\n",
        "\n",
        "from scipy.optimize import minimize\n",
        "%matplotlib inline"
      ],
      "execution_count": 24,
      "outputs": []
    },
    {
      "cell_type": "markdown",
      "metadata": {
        "id": "BBqZsyCsd_mV"
      },
      "source": [
        "## Задание 1"
      ]
    },
    {
      "cell_type": "code",
      "metadata": {
        "id": "vRP7vZM1pR7N"
      },
      "source": [
        "raitings = np.array([[ 4,  4,  9,  4,  1,  6, 10,  7,  9,  6,  9,  2,  8,  6,  6],\n",
        "                     [ 9,  2,  5, 10,  7,  8, 10,  5,  6,  2,  1,  6,  8,  9,  7],\n",
        "                     [ 1,  6,  8,  8,  4,  9,  3,  8, 10,  5,  2,  6,  8,  1,  6],\n",
        "                     [ 6,  1,  9,  7,  7,  9,  2,  3,  5,  1,  6,  6,  3,  2,  7],\n",
        "                     [ 3,  7,  3,  5,  7,  9,  9,  6,  2,  9,  1,  2,  8, 10,  6],\n",
        "                     [ 8,  3,  7,  3,  8,  6,  1,  8,  8,  6,  1,  9,  4, 10,  1],\n",
        "                     [ 9,  8,  4,  8,  8, 10,  6,  1,  1,  2,  9,  5,  2,  7,  2],\n",
        "                     [ 4,  1,  6,  4,  3, 10,  4,  4,  2,  8,  7,  9,  3,  8,  3],\n",
        "                     [ 2,  7,  7,  6, 10,  6,  8,  9,  8,  6, 10,  1,  7, 10,  4],\n",
        "                     [ 5, 10,  8,  8,  9,  7,  2,  9,  9, 10,  8,  8,  8,  6, 10]])"
      ],
      "execution_count": 25,
      "outputs": []
    },
    {
      "cell_type": "markdown",
      "metadata": {
        "id": "MMQg9I3Eey2u"
      },
      "source": [
        "a) Поиск похожих пользователей"
      ]
    },
    {
      "cell_type": "code",
      "metadata": {
        "colab": {
          "base_uri": "https://localhost:8080/"
        },
        "id": "jE4Hr_wievxD",
        "outputId": "40369a6e-ff49-49cc-a77e-c8bd3a8ca9e3"
      },
      "source": [
        "from sklearn.metrics.pairwise import cosine_similarity\n",
        "\n",
        "similarities = cosine_similarity(raitings, dense_output=False)\n",
        "print(similarities)"
      ],
      "execution_count": 26,
      "outputs": [
        {
          "output_type": "stream",
          "name": "stdout",
          "text": [
            "[[1.         0.82602919 0.84921529 0.78340116 0.81917632 0.74118548\n",
            "  0.72735828 0.80967522 0.91065982 0.86010776]\n",
            " [0.82602919 1.         0.81234325 0.84635337 0.87138052 0.82713107\n",
            "  0.82629684 0.80026003 0.82526308 0.81968127]\n",
            " [0.84921529 0.81234325 1.         0.84669374 0.78394299 0.79097985\n",
            "  0.67616223 0.76289552 0.82112077 0.91873051]\n",
            " [0.78340116 0.84635337 0.84669374 1.         0.69153409 0.78665792\n",
            "  0.83274211 0.82934667 0.7770666  0.8588687 ]\n",
            " [0.81917632 0.87138052 0.78394299 0.69153409 1.         0.7764434\n",
            "  0.78200468 0.81236869 0.87948477 0.84574789]\n",
            " [0.74118548 0.82713107 0.79097985 0.78665792 0.7764434  1.\n",
            "  0.74011801 0.84451685 0.80622876 0.85514908]\n",
            " [0.72735828 0.82629684 0.67616223 0.83274211 0.78200468 0.74011801\n",
            "  1.         0.82669174 0.81130044 0.79154718]\n",
            " [0.80967522 0.80026003 0.76289552 0.82934667 0.81236869 0.84451685\n",
            "  0.82669174 1.         0.7981276  0.83682229]\n",
            " [0.91065982 0.82526308 0.82112077 0.7770666  0.87948477 0.80622876\n",
            "  0.81130044 0.7981276  1.         0.90093797]\n",
            " [0.86010776 0.81968127 0.91873051 0.8588687  0.84574789 0.85514908\n",
            "  0.79154718 0.83682229 0.90093797 1.        ]]\n"
          ]
        }
      ]
    },
    {
      "cell_type": "code",
      "metadata": {
        "colab": {
          "base_uri": "https://localhost:8080/"
        },
        "id": "UqeFers1fino",
        "outputId": "79c0acb7-e81e-4062-f70c-07fbcc1fac54"
      },
      "source": [
        "similar_users = np.zeros(shape=(len(similarities),2))\n",
        "for i in range(len(similarities)):\n",
        "    min_i = np.argmin(similarities[i])\n",
        "    similar_users[i] = [i, min_i]\n",
        "similar_users"
      ],
      "execution_count": 27,
      "outputs": [
        {
          "output_type": "execute_result",
          "data": {
            "text/plain": [
              "array([[0., 6.],\n",
              "       [1., 7.],\n",
              "       [2., 6.],\n",
              "       [3., 4.],\n",
              "       [4., 3.],\n",
              "       [5., 6.],\n",
              "       [6., 2.],\n",
              "       [7., 2.],\n",
              "       [8., 3.],\n",
              "       [9., 6.]])"
            ]
          },
          "metadata": {},
          "execution_count": 27
        }
      ]
    },
    {
      "cell_type": "markdown",
      "metadata": {
        "id": "6HRUJIP9je5O"
      },
      "source": [
        "b) Сжатие до 5-ти признаков"
      ]
    },
    {
      "cell_type": "code",
      "metadata": {
        "id": "aYpz9-Iqjpb-"
      },
      "source": [
        "from sklearn.decomposition import PCA\n",
        "\n",
        "pca = PCA(n_components=5)\n",
        "raitings_reduced = pca.fit_transform(raitings)"
      ],
      "execution_count": 28,
      "outputs": []
    },
    {
      "cell_type": "code",
      "metadata": {
        "colab": {
          "base_uri": "https://localhost:8080/"
        },
        "id": "fsWZ7S3jkPq5",
        "outputId": "7023c4c6-d658-4f91-a88f-2c3db190c879"
      },
      "source": [
        "raitings_reduced"
      ],
      "execution_count": 29,
      "outputs": [
        {
          "output_type": "execute_result",
          "data": {
            "text/plain": [
              "array([[-5.30986101,  1.92919845, -4.93300027,  2.70188013,  5.50497886],\n",
              "       [ 2.87763403,  2.71659559,  1.40592782,  7.26325751, -4.50322291],\n",
              "       [-4.94010408, -6.68861167, -0.94550184,  3.61556661, -0.68969272],\n",
              "       [ 5.14939908, -6.28027284, -4.65978558,  1.09024004, -1.01471112],\n",
              "       [-1.37488691,  7.54357985,  4.00834369,  2.1284001 , -0.16324949],\n",
              "       [ 2.65341956, -3.77075601,  8.58430748, -1.46628319,  1.67401769],\n",
              "       [ 8.61573944,  3.78603335, -4.02721027, -4.37582577, -3.13880277],\n",
              "       [ 5.39658258, -1.0170466 ,  1.01456742, -1.89512837,  6.54883538],\n",
              "       [-5.7843488 ,  5.29857107, -1.48083611, -3.71295542,  0.21312695],\n",
              "       [-7.2835739 , -3.51729118,  1.03318766, -5.34915166, -4.43127987]])"
            ]
          },
          "metadata": {},
          "execution_count": 29
        }
      ]
    },
    {
      "cell_type": "markdown",
      "metadata": {
        "id": "N40CBsgHdyNO"
      },
      "source": [
        "## Задание 2"
      ]
    },
    {
      "cell_type": "code",
      "metadata": {
        "id": "0x92znzhdy4L"
      },
      "source": [
        "import sympy as sp\n",
        "from scipy.misc import derivative"
      ],
      "execution_count": 32,
      "outputs": []
    },
    {
      "cell_type": "code",
      "metadata": {
        "colab": {
          "base_uri": "https://localhost:8080/"
        },
        "id": "SYH2Ltn8lVgY",
        "outputId": "3b8bba78-8380-48a8-c697-a1b255b5f097"
      },
      "source": [
        "x = sp.symbols('x')\n",
        "func = sp.tan(sp.sin(x) + sp.cos(2*x + 3)) ** 2\n",
        "diff = sp.diff(func, x)\n",
        "print('Производная:', diff,\n",
        "      'Производная в точке x=1:', diff.evalf(subs={x: 1}), sep='\\n')"
      ],
      "execution_count": 36,
      "outputs": [
        {
          "output_type": "stream",
          "name": "stdout",
          "text": [
            "Производная:\n",
            "2*(-2*sin(2*x + 3) + cos(x))*(tan(sin(x) + cos(2*x + 3))**2 + 1)*tan(sin(x) + cos(2*x + 3))\n",
            "Производная в точке x=1:\n",
            "55.3859176353379\n"
          ]
        }
      ]
    },
    {
      "cell_type": "markdown",
      "metadata": {
        "id": "R5Nysu3Ud0eZ"
      },
      "source": [
        "## Задание 3"
      ]
    },
    {
      "cell_type": "code",
      "metadata": {
        "id": "I05PAlC_dmbF"
      },
      "source": [
        "def f(x, a, b):\n",
        "    return np.e**a * np.sin(b*x) + x\n",
        "\n",
        "x = np.array([0.        , 0.26315789, 0.52631579, 0.78947368, 1.05263158,\n",
        "              1.31578947, 1.57894737, 1.84210526, 2.10526316, 2.36842105,\n",
        "              2.63157895, 2.89473684, 3.15789474, 3.42105263, 3.68421053,\n",
        "              3.94736842, 4.21052632, 4.47368421, 4.73684211, 5.        ])\n",
        "\n",
        "fx = np.array([  0.        , -12.01819092, -18.90968634, -17.68786571,\n",
        "                -8.7529108 ,   4.27524517,  16.06801336,  21.81250213,\n",
        "                19.22059845,   9.48411207,  -3.22273056, -13.48576488,\n",
        "               -16.91096359, -11.95866834,  -0.58630088,  12.56873816,\n",
        "                22.12489421,  24.20292139,  18.04522521,   6.33211092])"
      ],
      "execution_count": null,
      "outputs": []
    },
    {
      "cell_type": "code",
      "metadata": {
        "colab": {
          "base_uri": "https://localhost:8080/",
          "height": 265
        },
        "id": "7V46Fs8jeOp8",
        "outputId": "a3181e81-8c5a-4246-fe05-f51e2b6a08b0"
      },
      "source": [
        "plt.plot(x, fx)\n",
        "plt.show()"
      ],
      "execution_count": null,
      "outputs": [
        {
          "output_type": "display_data",
          "data": {
            "image/png": "[encoded data removed]",
            "text/plain": [
              "<Figure size 432x288 with 1 Axes>"
            ]
          },
          "metadata": {
            "needs_background": "light"
          }
        }
      ]
    },
    {
      "cell_type": "code",
      "metadata": {
        "id": "sfvpgOGbeZmk"
      },
      "source": [
        "def error(params):\n",
        "    return np.sum(np.abs(fx - f(x, params[0], params[1])))"
      ],
      "execution_count": null,
      "outputs": []
    },
    {
      "cell_type": "code",
      "metadata": {
        "colab": {
          "base_uri": "https://localhost:8080/"
        },
        "id": "7uFptp1ohO4h",
        "outputId": "18594db4-02e1-4492-ad07-19d1955b0aea"
      },
      "source": [
        "start_x = [(-100, -100), (-100, 100), (0, 0), (100, 100), (100, -100)]\n",
        "methods = ['Nelder-Mead', 'Powell', 'CG', 'BFGS', 'Newton-CG', 'L-BFGS-B',\n",
        "           'TNC', 'COBYLA', 'SLSQP', 'trust-constr', 'dogleg',\n",
        "           'trust-ncg', 'trust-exact', 'trust-krylov']\n",
        "results = dict()\n",
        "\n",
        "# Перебираем различные методы оптимизации и начальные точки\n",
        "for method_ in methods:\n",
        "    try:\n",
        "        for x_ in start_x:\n",
        "            res = minimize(error, tuple(x_), method=method_)\n",
        "            results[(method_, x_)] = (res.fun, res.x)\n",
        "    except:\n",
        "        continue\n",
        "\n",
        "best_params = min(results.items(), key=lambda x: x[1][0])\n",
        "print('Лучший метод:', best_params[0][0],\n",
        "      'Начальная точка:', best_params[0][1],\n",
        "      'Абсолютная ошибка:', best_params[1][0],\n",
        "      'Значения параметров a, b:', [*best_params[1][1]], sep='\\n')"
      ],
      "execution_count": null,
      "outputs": [
        {
          "output_type": "stream",
          "name": "stderr",
          "text": [
            "/usr/local/lib/python3.7/dist-packages/ipykernel_launcher.py:2: RuntimeWarning: overflow encountered in double_scalars\n",
            "  \n",
            "/usr/local/lib/python3.7/dist-packages/ipykernel_launcher.py:2: RuntimeWarning: invalid value encountered in multiply\n",
            "  \n",
            "/usr/local/lib/python3.7/dist-packages/ipykernel_launcher.py:2: RuntimeWarning: overflow encountered in double_scalars\n",
            "  \n",
            "/usr/local/lib/python3.7/dist-packages/ipykernel_launcher.py:2: RuntimeWarning: invalid value encountered in multiply\n",
            "  \n"
          ]
        },
        {
          "output_type": "stream",
          "name": "stdout",
          "text": [
            "Лучший метод:\n",
            "Nelder-Mead\n",
            "Начальная точка:\n",
            "(100, -100)\n",
            "Абсолютная ошибка:\n",
            "0.0001843642231484921\n",
            "Значения параметров a, b:\n",
            "[3.00000003767632, -145.75662472324618]\n"
          ]
        }
      ]
    },
    {
      "cell_type": "markdown",
      "metadata": {
        "id": "j2XtUj4yd3Io"
      },
      "source": [
        "## Задание 4"
      ]
    },
    {
      "cell_type": "code",
      "metadata": {
        "id": "v7TjjP1qd3tm"
      },
      "source": [
        "random_values = np.random.randint(1, 21, size=(1000, 50))"
      ],
      "execution_count": 53,
      "outputs": []
    },
    {
      "cell_type": "code",
      "metadata": {
        "id": "P6DYFs6xotpW"
      },
      "source": [
        "samples_means = np.array([x.mean() for x in random_values])"
      ],
      "execution_count": 54,
      "outputs": []
    },
    {
      "cell_type": "code",
      "metadata": {
        "colab": {
          "base_uri": "https://localhost:8080/",
          "height": 340
        },
        "id": "MPmcS0bcpObV",
        "outputId": "184fd8f6-bb72-49dd-9116-683292ce9b08"
      },
      "source": [
        "plt.hist(samples_means)"
      ],
      "execution_count": 55,
      "outputs": [
        {
          "output_type": "execute_result",
          "data": {
            "text/plain": [
              "(array([  2.,  25.,  68., 179., 240., 252., 155.,  66.,  11.,   2.]),\n",
              " array([ 7.84 ,  8.378,  8.916,  9.454,  9.992, 10.53 , 11.068, 11.606,\n",
              "        12.144, 12.682, 13.22 ]),\n",
              " <a list of 10 Patch objects>)"
            ]
          },
          "metadata": {},
          "execution_count": 55
        },
        {
          "output_type": "display_data",
          "data": {
            "image/png": "[encoded data removed]",
            "text/plain": [
              "<Figure size 432x288 with 1 Axes>"
            ]
          },
          "metadata": {
            "needs_background": "light"
          }
        }
      ]
    },
    {
      "cell_type": "markdown",
      "metadata": {
        "id": "_lSBe58pd4PK"
      },
      "source": [
        "## Задание 5"
      ]
    },
    {
      "cell_type": "code",
      "metadata": {
        "id": "5Qu7xp8qd48R"
      },
      "source": [
        "m = np.array([[1, 4],\n",
        "              [1, 1]])"
      ],
      "execution_count": 38,
      "outputs": []
    },
    {
      "cell_type": "code",
      "metadata": {
        "colab": {
          "base_uri": "https://localhost:8080/"
        },
        "id": "k6tYNc7SnPVV",
        "outputId": "94f2bea2-96c0-487f-ba47-f2bb4acef94f"
      },
      "source": [
        "w, v = np.linalg.eig(m)\n",
        "print('Собственные числа:', w,\n",
        "      'Собственные вектора:', v, sep='\\n')"
      ],
      "execution_count": 42,
      "outputs": [
        {
          "output_type": "stream",
          "name": "stdout",
          "text": [
            "Собственные числа:\n",
            "[ 3. -1.]\n",
            "Собственные вектора:\n",
            "[[ 0.89442719 -0.89442719]\n",
            " [ 0.4472136   0.4472136 ]]\n"
          ]
        }
      ]
    }
  ]
}