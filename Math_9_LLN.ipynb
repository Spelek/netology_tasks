{
  "nbformat": 4,
  "nbformat_minor": 0,
  "metadata": {
    "colab": {
      "name": "Math_9_LLN",
      "provenance": []
    },
    "kernelspec": {
      "name": "python3",
      "display_name": "Python 3"
    }
  },
  "cells": [
    {
      "cell_type": "markdown",
      "metadata": {
        "id": "rPddd74VhkfN"
      },
      "source": [
        "# Домашнее задание \"Центральная Предельная Теорема и Закон Больших Чисел\"."
      ]
    },
    {
      "cell_type": "markdown",
      "metadata": {
        "id": "1xu7dfnnhkhe"
      },
      "source": [
        "## Задание."
      ]
    },
    {
      "cell_type": "markdown",
      "metadata": {
        "id": "zsrwAGpYhkjt"
      },
      "source": [
        "В этом задании нужно убедиться, что ЦПТ действительно работает."
      ]
    },
    {
      "cell_type": "code",
      "metadata": {
        "id": "0gLLPjJiiRm2"
      },
      "source": [
        "import pandas as pd\n",
        "import numpy as np\n",
        "import matplotlib.pyplot as plt\n",
        "import scipy.stats as sts\n",
        "%matplotlib inline"
      ],
      "execution_count": 1,
      "outputs": []
    },
    {
      "cell_type": "markdown",
      "metadata": {
        "id": "uI8KNiPUhkly"
      },
      "source": [
        "Создайте случайную величину из любого выбранного вами распределения, для разных значений n сгенерируйте 1000 выборок размера n и постройте гистрограммы средних этих выборок."
      ]
    },
    {
      "cell_type": "code",
      "metadata": {
        "id": "ZvGvPtzViURC"
      },
      "source": [
        "rv = sts.norm(loc=0, scale=1)\n",
        "sample = rv.rvs(size=1000)"
      ],
      "execution_count": 2,
      "outputs": []
    },
    {
      "cell_type": "code",
      "metadata": {
        "id": "XSpWp8P3iUfO",
        "colab": {
          "base_uri": "https://localhost:8080/",
          "height": 279
        },
        "outputId": "fc015529-7d12-4980-ddb0-1e39c12e0946"
      },
      "source": [
        "x = np.linspace(-4,4,1000)\n",
        "pdf = rv.pdf(x)\n",
        "plt.hist(sample, density=True, bins=30, label='sample histogram')\n",
        "plt.plot(x, pdf, label='theoretical pdf', alpha=0.5)\n",
        "plt.legend()\n",
        "plt.ylabel('fraction of samples, $f(x)$')\n",
        "plt.xlabel('$x$')\n",
        "plt.show()"
      ],
      "execution_count": 8,
      "outputs": [
        {
          "output_type": "display_data",
          "data": {
            "image/png": "[encoded data removed]",
            "text/plain": [
              "<Figure size 432x288 with 1 Axes>"
            ]
          },
          "metadata": {
            "needs_background": "light"
          }
        }
      ]
    },
    {
      "cell_type": "code",
      "metadata": {
        "id": "Rm7dyNaRib1G"
      },
      "source": [
        "# Параметры запуска: размеры выборок и количество повторов генерации\n",
        "samples_count = 1000\n",
        "n1 = np.random.randint(2, 1000, samples_count)\n",
        "\n",
        "# Массивы для сохранения средних по выборкам\n",
        "a1 = np.array([])\n",
        "\n",
        "for number in range(samples_count):\n",
        "    # На каждом цикле генерируем выборки разных размеров\n",
        "    sample1 = rv.rvs(size=n1[number])\n",
        "    # Считаем среднее по каждой выборке и добавляем в массив средних\n",
        "    a1 = np.append(a1, sample1.mean())"
      ],
      "execution_count": 19,
      "outputs": []
    },
    {
      "cell_type": "code",
      "metadata": {
        "id": "vEkIWfggib5p",
        "colab": {
          "base_uri": "https://localhost:8080/",
          "height": 297
        },
        "outputId": "9b6d569b-3355-4c62-d4a0-f7ae92d01a5a"
      },
      "source": [
        "# Строим графики\n",
        "# Подписи для графиков\n",
        "label_1 = f'1000 samples (mean size = {round(n1.mean())}) histogram'\n",
        "plt.hist(a1, bins=40, density=True, label=label_1)\n",
        "plt.legend()\n",
        "plt.ylabel('samples means')\n",
        "plt.xlabel('$x$')"
      ],
      "execution_count": 26,
      "outputs": [
        {
          "output_type": "execute_result",
          "data": {
            "text/plain": [
              "Text(0.5, 0, '$x$')"
            ]
          },
          "metadata": {},
          "execution_count": 26
        },
        {
          "output_type": "display_data",
          "data": {
            "image/png": "[encoded data removed]",
            "text/plain": [
              "<Figure size 432x288 with 1 Axes>"
            ]
          },
          "metadata": {
            "needs_background": "light"
          }
        }
      ]
    },
    {
      "cell_type": "markdown",
      "metadata": {
        "id": "YfW7MnfO8NLN"
      },
      "source": [
        "**Выводы:** на графике видно, что математическое ожидание близко к 0, значению мат. ожидания, заданному нами при определении функции распределения. Значит, ЦПТ работает."
      ]
    }
  ]
}