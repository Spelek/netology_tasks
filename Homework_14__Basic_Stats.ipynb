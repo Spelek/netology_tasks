{
  "cells":[
    {
      "cell_type":"markdown",
      "source":[
        "# Базовые понятия статистики\n",
        "## Задание 1. Базовое изучение"
      ],
      "metadata":{
        
      }
    },
    {
      "cell_type":"code",
      "source":[
        "import pandas as pd\n",
        "\n",
        "horse_data = pd.read_csv('horse_data.csv', na_values='?', usecols=[0, 1, 4, 10, 12, 20, 22, 23]) #, usecols=list(range(8)))\n",
        "horse_data.columns = ['Surgery', 'Age', 'Pulse', 'Pain',\n",
        "                      'Abdominal distension', 'Abdominocentesis appearance', 'Outcome', 'Surgical lesion']\n",
        "# Общая информация\n",
        "print(horse_data.info())\n",
        "# Основные статистические характеристики\n",
        "print(horse_data.describe())\n",
        "for col in horse_data.columns:\n",
        "    print(col, ':', horse_data[col].unique())"
      ],
      "execution_count":null,
      "outputs":[
        
      ],
      "metadata":{
        
      }
    },
    {
      "cell_type":"markdown",
      "source":[
        "### Анализ данных\n",
        "1. Характеристика значений по столбцам:\n",
        "   Surgery, Pain, Abdominal distension, Abdominocentesis appearance, Outcome, Surgical lesion - категориальные\n",
        "   Age - дискретные\n",
        "   Pulse - непрерывные\n",
        "2. В столбцах Age и Surgical lesion пропусков нет. Несмотря на то, что столбец Age содержит дискретные значения, в данном наборе данных он может принимать всего 2 значения. Столбец Surgical lesion также может принимать только два значения. Поэтому метрики данных столбцов нас не интересуют.\n",
        "   Столбец Pulse содержит неприрывные значения, поэтому нас интересуют стандартное (28.68) отклонение, среднее (71.93) и медиана (64). Стандартное отклонение достаточно большое (сопоставимо с \"расстоянием\" между квартилями), поэтому более показательна в данном случае медиана.\n",
        "   В остальных столбцах категориальные значения, поэтому следует использовать моду как главную характеристику значений. Однако в описании набора данных указано на наличие взаимосвязи между столбцами, поэтому мода для всего набора данных не является показательной, а ориентироваться следует на моду значений, сгруппированных по тем значениям, от которых они зависят. Например, столбец Surgery в разрезе Pain, так как между данными значениями есть зависимость: чем больше значение Pain (уровень боли), тем чаще в Surgery встречается значение 1 (Решение выполнить операцию), чем меньше - тем чаще встречается значение 2 (Решение операцию не выполнять). Ниже это продемонстрировано."
      ],
      "metadata":{
        
      }
    },
    {
      "cell_type":"code",
      "source":[
        "print(horse_data.pivot_table(index=['Pain'], columns=['Surgery'], values=['Outcome'], aggfunc = ['count']))"
      ],
      "execution_count":null,
      "outputs":[
        
      ],
      "metadata":{
        
      }
    },
    {
      "cell_type":"markdown",
      "source":[
        
      ],
      "metadata":{
        
      }
    },
    {
      "cell_type":"markdown",
      "source":[
        "## Задание 2. Выбросы"
      ],
      "metadata":{
        
      }
    },
    {
      "cell_type":"code",
      "source":[
        "def find_outliers(df):\n",
        "    outliers_dict = {}\n",
        "    for column in df.columns:\n",
        "        q1 = df[column].quantile(0.25)\n",
        "        q3 = df[column].quantile(0.75)\n",
        "        iqr = q3 - q1\n",
        "        lower_bound = q1 - (1.5 * iqr)\n",
        "        upper_bound = q3 + (1.5 * iqr)\n",
        "        # Удаляем выбросы\n",
        "        df_without_outliers = df[(df[column].between(lower_bound, upper_bound, inclusive=True)) | (df[column].isna())]\n",
        "        outliers = pd.concat([df_without_outliers, df]).drop_duplicates(keep=False)\n",
        "        if outliers.empty:\n",
        "            continue\n",
        "        outliers_dict[column] = outliers\n",
        "        print(f'> Выбросов в столбце {column} всего {len(outliers)}. Уникальные значения:\\n', outliers[column].value_counts())\n",
        "    \n",
        "    return outliers_dict\n",
        "\n",
        "outliers = find_outliers(horse_data)"
      ],
      "execution_count":null,
      "outputs":[
        
      ],
      "metadata":{
        
      }
    },
    {
      "cell_type":"markdown",
      "source":[
        "### Анализ выбросов\n",
        "1. В столбце Age (в данном наборе данных) встречается всего два значения: 1 и 9, которые значительно отличаются друг от друга, но главное - также значительно отличается и их количество в наборе данных. Значение 1 встречается 275, тогда как 9 - всего 24. Поэтому значение 9 будет считаться выбросом. Этот выброс можно считать естественным, т.к. лошадь может прожить 9 лет. Отбрасывать (удалять) строки с данным значением нецелесообразно, т.к. это приведет к потери 24 строк (8% от общего количества), что негативно скажется на репрезентативности выборки.\n",
        "2. Значения выбросов в столбце Pulse выше среднего более чем в 2 раза, а нормы - в 4 раза. Высокие значения данного показателя можно интерпретировать как симптом заболевания\/критического состояния здоровья. С высокими значениями в данном столбце должны коррелировать значения в столбцах Pain, Abdominal distension, Abdominocentesis appearance и Outcome. Это действительно так (см. блок ниже). Наиболее наглядна корреляция со значениями столбца Outcome: практически все лошади с высокими значениями Pulse умерли. Значит, выбросы в данном случае можно считать естественными. Выбросов всего 5, и их удаление (см. блок ниже) не влияет существенным образом на общую статистику. Кроме того, в строках с выбросами мало пропусков. Значит, если строки с выбросами не удалять, то они точно не окажут негативного влияния на общую статистику и, возможно, помогут заполнить пропуски в других строках наиболее адекватными значениями.\n",
        "3. **Вывод**: принято решение не удалять строки с выбросами, так как они имеют ествественный характер и не искажают общее статистическое представление о выборке."
      ],
      "metadata":{
        
      }
    },
    {
      "cell_type":"code",
      "source":[
        "# Строки с выбросами по столбцу Pulse\n",
        "print(outliers['Pulse'])\n",
        "# Влияние удаления строк с выбросами в столбце Pulse на общую статистику\n",
        "print(horse_data.describe() - horse_data[~horse_data.index.isin(outliers['Pulse'].index)].describe())"
      ],
      "execution_count":null,
      "outputs":[
        
      ],
      "metadata":{
        
      }
    },
    {
      "cell_type":"markdown",
      "source":[
        "## Задание 3. Пропуски"
      ],
      "metadata":{
        
      }
    },
    {
      "cell_type":"code",
      "source":[
        "# Скопируем DataFrame, чтобы иметь возможность обращаться к данным без пропусков\n",
        "original_horse_data = horse_data.copy()"
      ],
      "execution_count":null,
      "outputs":[
        
      ],
      "metadata":{
        
      }
    },
    {
      "cell_type":"code",
      "source":[
        "# Количество пропусков\n",
        "print((horse_data.isna().mean() * 100).round(2).sort_values())"
      ],
      "execution_count":null,
      "outputs":[
        
      ],
      "metadata":{
        
      }
    },
    {
      "cell_type":"markdown",
      "source":[
        "Начнем с заполнения пустых значений в столбцах, содержащих меньшее количество пропусков. В столбцах Surgery и Outcome крайне незначительное количество пропусков, поэтому их можно как удалить, чтобы не тратить лишнюю вычислительную мощность, что наиболее догично в случае большой выборки и ограниченных ресурсов.\n",
        "## Surgery и Outcome"
      ],
      "metadata":{
        
      }
    },
    {
      "cell_type":"code",
      "source":[
        "horse_data.dropna(subset=['Surgery', 'Outcome'], inplace=True)"
      ],
      "execution_count":null,
      "outputs":[
        
      ],
      "metadata":{
        
      }
    },
    {
      "cell_type":"markdown",
      "source":[
        "## Pain\n",
        "Данный столбец содержит 18% пропусков, но он имеет связь как минимум с тремя столбцами без пропусков, а также может быть использован для заполнения пропусков еще в двух столбцах (Pulse и Abdominal distension). Поэтому имеет смысл заполнить его пропуски значениями из связанных с ним столбцов без пропусков.\n",
        "Столбец принимает категориальные значения, поэтому пропуски заполняем модой."
      ],
      "metadata":{
        
      }
    },
    {
      "cell_type":"code",
      "source":[
        "horse_data['Pain'] = horse_data.groupby(['Surgery', 'Outcome', 'Surgical lesion'])['Pain'].\\\n",
        "    apply(lambda x: x.fillna(x.mode().iloc[0]))"
      ],
      "execution_count":null,
      "outputs":[
        
      ],
      "metadata":{
        
      }
    },
    {
      "cell_type":"markdown",
      "source":[
        "### Pulse\n",
        "Данный столбец содержит 8% пропусков, является одним из базовых показателей общего состояния организма, а также имеет зависимость со столбцами Age и Pain. Следовательно, можно заполнить его пропуски на основе ищеющихся данных.\n",
        "Столбец содержит непрерывные значения, поэтому заполняем его медианой."
      ],
      "metadata":{
        
      }
    },
    {
      "cell_type":"code",
      "source":[
        "horse_data['Pulse'].fillna(horse_data.groupby(['Age', 'Pain'])['Pulse'].transform('median'), inplace=True)"
      ],
      "execution_count":null,
      "outputs":[
        
      ],
      "metadata":{
        
      }
    },
    {
      "cell_type":"markdown",
      "source":[
        "## Abdominal distension\n",
        "Значения в данном столбце имеют слабую связь со столбцом Surgery (при значении 4 значение Surgery с большой вероятностью (75% судя по блокам ниже) будет = 1, но более сильной, прямой зависимости не наблюдается), а также со столбцом Pain (прямая зависимость). Однако при изначально приблизительно сопоставимом количестве пропусков в столбцах Pain и Abdominal distension, больше половины из них - совместные, что снижает вероятность точного предсказания значений по столбцу Pain.\n",
        "Однако в описании данных показатель Abdominal distension отмечен как важный, а количество пропусков в нем около 19%.\n",
        "Учитывая, что:\n",
        "1) Данный показатель важен;\n",
        "2) Достоверно заполнить пропуски мы не можем;\n",
        "3) Количество пропусков составляет 19%\n",
        "будет логично удалить строки с пропусками в данном столбце."
      ],
      "metadata":{
        
      }
    },
    {
      "cell_type":"code",
      "source":[
        "horse_data.groupby(['Surgery', 'Abdominal distension'])['Outcome'].count()"
      ],
      "execution_count":null,
      "outputs":[
        
      ],
      "metadata":{
        
      }
    },
    {
      "cell_type":"code",
      "source":[
        "horse_data.groupby(['Pain', 'Abdominal distension'])['Outcome'].count()"
      ],
      "execution_count":null,
      "outputs":[
        
      ],
      "metadata":{
        
      }
    },
    {
      "cell_type":"code",
      "source":[
        "print('Пропусков в Pain:', original_horse_data[original_horse_data['Pain'].isna()]['Outcome'].count())\n",
        "print('Пропусков в Abdominal distension:', original_horse_data[original_horse_data['Abdominal distension'].isna()]['Outcome'].count())\n",
        "print('Совместных пропусков:', original_horse_data[original_horse_data['Pain'].isna() & original_horse_data['Abdominal distension'].isna()]['Outcome'].count())"
      ],
      "execution_count":null,
      "outputs":[
        
      ],
      "metadata":{
        
      }
    },
    {
      "cell_type":"code",
      "source":[
        "# Решение по столбцу\n",
        "horse_data.dropna(subset=['Abdominal distension'], inplace=True)"
      ],
      "execution_count":null,
      "outputs":[
        
      ],
      "metadata":{
        
      }
    },
    {
      "cell_type":"markdown",
      "source":[
        "## Abdominocentesis appearance\n",
        "Из сказанного об этом столбце в описании данных мы не можем сделать выводов о его связи с другими столбцами. Кроме того, в данном столбце 55% значений отсутствует. Следовательно, в рамках нашей выборки этот столбец нельзя считать значимым и в целях избавления от лишних данных его можно удалить. Учитывая, что это последний столбец с пропусками, его можно удалить командой, приведенной ниже: "
      ],
      "metadata":{
        
      }
    },
    {
      "cell_type":"code",
      "source":[
        "horse_data.dropna(axis='columns', inplace=True)\n",
        "horse_data.count()"
      ],
      "execution_count":null,
      "outputs":[
        
      ],
      "metadata":{
        
      }
    }
  ],
  "metadata":{
    
  },
  "nbformat":4,
  "nbformat_minor":0
}