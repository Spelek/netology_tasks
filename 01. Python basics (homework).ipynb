{
 "cells": [
  {
   "cell_type": "markdown",
   "metadata": {},
   "source": [
    "## Домашнее задание по теме «Основы Python»\n",
    "## Задание 1\n",
    "### Решение"
   ]
  },
  {
   "cell_type": "code",
   "execution_count": 4,
   "metadata": {},
   "outputs": [],
   "source": [
    "def which_phrase_longer(phrase_1, phrase_2):\n",
    "    if len(phrase_1) > len(phrase_2):\n",
    "        print('Фраза 1 длиннее фразы 2')\n",
    "    elif len(phrase_1) < len(phrase_2):\n",
    "        print('Фраза 2 длиннее фразы 1')\n",
    "    else:\n",
    "        print('Фразы равной длины')"
   ]
  },
  {
   "cell_type": "markdown",
   "metadata": {},
   "source": [
    "### Проверка"
   ]
  },
  {
   "cell_type": "code",
   "execution_count": 6,
   "metadata": {},
   "outputs": [
    {
     "name": "stdout",
     "output_type": "stream",
     "text": [
      "Фраза 1 длиннее фразы 2\n"
     ]
    }
   ],
   "source": [
    "phrase_1 = 'Насколько проще было бы писать программы, если бы не заказчики'\n",
    "phrase_2 = '640Кб должно хватить для любых задач. Билл Гейтс (по легенде)'\n",
    "which_phrase_longer(phrase_1, phrase_2)"
   ]
  },
  {
   "cell_type": "code",
   "execution_count": 8,
   "metadata": {},
   "outputs": [
    {
     "name": "stdout",
     "output_type": "stream",
     "text": [
      "Фраза 2 длиннее фразы 1\n"
     ]
    }
   ],
   "source": [
    "phrase_1 = '640Кб должно хватить для любых задач. Билл Гейтс (по легенде)'\n",
    "phrase_2 = 'Насколько проще было бы писать программы, если бы не заказчики'\n",
    "which_phrase_longer(phrase_1, phrase_2)"
   ]
  },
  {
   "cell_type": "code",
   "execution_count": 12,
   "metadata": {},
   "outputs": [
    {
     "name": "stdout",
     "output_type": "stream",
     "text": [
      "Фразы равной длины\n"
     ]
    }
   ],
   "source": [
    "phrase_1 = 'Насколько проще было бы писать программы, если бы не заказчики'\n",
    "phrase_2 = 'Насколько проще было бы писать программы, если бы не заказчики'\n",
    "which_phrase_longer(phrase_1, phrase_2)"
   ]
  },
  {
   "cell_type": "markdown",
   "metadata": {},
   "source": [
    "## Задание 2\n",
    "### Решение"
   ]
  },
  {
   "cell_type": "code",
   "execution_count": 86,
   "metadata": {},
   "outputs": [],
   "source": [
    "def is_year_leap(year):\n",
    "    if year % 400 == 0 or ((year % 4 == 0) and not (year % 100 == 0)):\n",
    "        return 'Високосный год'\n",
    "    else:\n",
    "        return 'Обычный год'"
   ]
  },
  {
   "cell_type": "markdown",
   "metadata": {},
   "source": [
    "### Проверка"
   ]
  },
  {
   "cell_type": "code",
   "execution_count": 87,
   "metadata": {},
   "outputs": [
    {
     "name": "stdout",
     "output_type": "stream",
     "text": [
      "1890 Обычный год  ||  1990 Обычный год\n",
      "1891 Обычный год  ||  1991 Обычный год\n",
      "1892 Високосный год  ||  1992 Високосный год\n",
      "1893 Обычный год  ||  1993 Обычный год\n",
      "1894 Обычный год  ||  1994 Обычный год\n",
      "1895 Обычный год  ||  1995 Обычный год\n",
      "1896 Високосный год  ||  1996 Високосный год\n",
      "1897 Обычный год  ||  1997 Обычный год\n",
      "1898 Обычный год  ||  1998 Обычный год\n",
      "1899 Обычный год  ||  1999 Обычный год\n",
      "1900 Обычный год  ||  2000 Високосный год\n",
      "1901 Обычный год  ||  2001 Обычный год\n",
      "1902 Обычный год  ||  2002 Обычный год\n",
      "1903 Обычный год  ||  2003 Обычный год\n",
      "1904 Високосный год  ||  2004 Високосный год\n",
      "1905 Обычный год  ||  2005 Обычный год\n",
      "1906 Обычный год  ||  2006 Обычный год\n",
      "1907 Обычный год  ||  2007 Обычный год\n",
      "1908 Високосный год  ||  2008 Високосный год\n",
      "1909 Обычный год  ||  2009 Обычный год\n",
      "1910 Обычный год  ||  2010 Обычный год\n"
     ]
    }
   ],
   "source": [
    "for year1, year2 in zip(range(1890, 1911), range(1990, 2011)):\n",
    "    print(year1, is_year_leap(year1), ' || ', year2, is_year_leap(year2))"
   ]
  },
  {
   "cell_type": "markdown",
   "metadata": {},
   "source": [
    "## Задание 3\n",
    "### Решение с проверкой"
   ]
  },
  {
   "cell_type": "code",
   "execution_count": 55,
   "metadata": {},
   "outputs": [
    {
     "name": "stdout",
     "output_type": "stream",
     "text": [
      "Введите день: 11\n",
      "Введите месяц: апрель\n",
      "Ваш знак зодиака: Овен\n"
     ]
    }
   ],
   "source": [
    "# База знаний\n",
    "zodiac_sign_by_day_and_month = {\n",
    "    'Январь': (20, 'Козерог', 'Водолей'),\n",
    "    'Февраль': (18, 'Водолей', 'Рыбы'),\n",
    "    'Март': (20, 'Рыбы', 'Овен'),\n",
    "    'Апрель': (19, 'Овен', 'Телец'),\n",
    "    'Май': (20, 'Телец', 'Близнецы'),\n",
    "    'Июнь': (21, 'Близнецы', 'Рак'),\n",
    "    'Июль': (22, 'Рак', 'Лев'),\n",
    "    'Август': (22, 'Лев', 'Дева'),\n",
    "    'Сентябрь': (22, 'Дева', 'Весы'),\n",
    "    'Октябрь': (23, 'Весы', 'Скорпион'),\n",
    "    'Ноябрь': (22, 'Скорпион', 'Стрелец'),\n",
    "    'Декабрь': (21, 'Стрелец', 'Козерог'),\n",
    "}\n",
    "\n",
    "# Запрос данных у пользователя\n",
    "day = int(input('Введите день: '))\n",
    "month = input('Введите месяц: ').capitalize()\n",
    "\n",
    "# Обработка данных и вывод результата\n",
    "if day <= zodiac_sign_by_day_and_month[month][0]:\n",
    "    print('Ваш знак зодиака:', zodiac_sign_by_day_and_month[month][1])\n",
    "else:\n",
    "    print('Ваш знак зодиака:', zodiac_sign_by_day_and_month[month][2])"
   ]
  },
  {
   "cell_type": "markdown",
   "metadata": {},
   "source": [
    "## Задание 4\n",
    "### Решение"
   ]
  },
  {
   "cell_type": "code",
   "execution_count": 59,
   "metadata": {},
   "outputs": [],
   "source": [
    "def package_by_size(width, length, height):\n",
    "    if length > 200:\n",
    "        print('Упаковка для лыж')\n",
    "    elif width < 15 and length < 15 and height < 15:\n",
    "        print('Коробка №1')\n",
    "    elif (15 < width < 50) or (15 < length < 50) or (15 < height < 50):\n",
    "        print('Коробка №2')\n",
    "    else:\n",
    "        print('Стандартная коробка №3')"
   ]
  },
  {
   "cell_type": "markdown",
   "metadata": {},
   "source": [
    "### Проверка"
   ]
  },
  {
   "cell_type": "code",
   "execution_count": 60,
   "metadata": {},
   "outputs": [
    {
     "name": "stdout",
     "output_type": "stream",
     "text": [
      "Упаковка для лыж\n"
     ]
    }
   ],
   "source": [
    "width = 10\n",
    "length = 205\n",
    "height = 5\n",
    "package_by_size(width, length, height)"
   ]
  },
  {
   "cell_type": "code",
   "execution_count": 61,
   "metadata": {},
   "outputs": [
    {
     "name": "stdout",
     "output_type": "stream",
     "text": [
      "Коробка №1\n"
     ]
    }
   ],
   "source": [
    "width = 10\n",
    "length = 10\n",
    "height = 10\n",
    "package_by_size(width, length, height)"
   ]
  },
  {
   "cell_type": "code",
   "execution_count": 62,
   "metadata": {},
   "outputs": [
    {
     "name": "stdout",
     "output_type": "stream",
     "text": [
      "Коробка №2\n"
     ]
    }
   ],
   "source": [
    "width = 10\n",
    "length = 25\n",
    "height = 10\n",
    "package_by_size(width, length, height)"
   ]
  },
  {
   "cell_type": "code",
   "execution_count": 63,
   "metadata": {},
   "outputs": [
    {
     "name": "stdout",
     "output_type": "stream",
     "text": [
      "Стандартная коробка №3\n"
     ]
    }
   ],
   "source": [
    "width = 50\n",
    "length = 50\n",
    "height = 50\n",
    "package_by_size(width, length, height)"
   ]
  },
  {
   "cell_type": "markdown",
   "metadata": {},
   "source": [
    "## Задание 5\n",
    "### Решение"
   ]
  },
  {
   "cell_type": "code",
   "execution_count": 84,
   "metadata": {},
   "outputs": [],
   "source": [
    "def is_lucky_number(number):\n",
    "    split_str_number = [int(i) for i in str(number)]\n",
    "    first_part = sum(split_str_number[:3])\n",
    "    second_part = sum(split_str_number[3:])\n",
    "    if first_part == second_part:\n",
    "        return 'Счастливый билет'\n",
    "    else:\n",
    "        return 'Несчастливый билет'"
   ]
  },
  {
   "cell_type": "markdown",
   "metadata": {},
   "source": [
    "### Проверка"
   ]
  },
  {
   "cell_type": "code",
   "execution_count": 85,
   "metadata": {},
   "outputs": [
    {
     "name": "stdout",
     "output_type": "stream",
     "text": [
      "123456 Несчастливый билет\n",
      "123321 Счастливый билет\n"
     ]
    }
   ],
   "source": [
    "number = 123456\n",
    "print(number, is_lucky_number(number))\n",
    "number = 123321\n",
    "print(number, is_lucky_number(number))"
   ]
  },
  {
   "cell_type": "markdown",
   "metadata": {},
   "source": [
    "## Задание 6\n",
    "### Решение"
   ]
  },
  {
   "cell_type": "code",
   "execution_count": 104,
   "metadata": {},
   "outputs": [],
   "source": [
    "from math import pi\n",
    "\n",
    "def circle_square():\n",
    "    radius = float(input(('Введите радиус круга: ')))\n",
    "    square = pi * radius ** 2\n",
    "    return square\n",
    "\n",
    "def triangle_square():\n",
    "    a = float(input(('Введите длину стороны A: ')))\n",
    "    b = float(input(('Введите длину стороны B: ')))\n",
    "    c = float(input(('Введите длину стороны C: ')))\n",
    "    p = sum([a, b, c]) / 2\n",
    "    square = (p * (p - a) * (p - b) * (p - c)) ** 0.5\n",
    "    return square\n",
    "\n",
    "def rectangle_square():\n",
    "    a = float(input(('Введите длину стороны A: ')))\n",
    "    b = float(input(('Введите длину стороны B: ')))\n",
    "    square = a * b\n",
    "    return square\n",
    "\n",
    "formulas_for_bodies = {\n",
    "    'Круг': circle_square,\n",
    "    'Треугольник': triangle_square,\n",
    "    'Прямоугольник': rectangle_square\n",
    "}    "
   ]
  },
  {
   "cell_type": "markdown",
   "metadata": {},
   "source": [
    "### Проверка"
   ]
  },
  {
   "cell_type": "code",
   "execution_count": 106,
   "metadata": {},
   "outputs": [
    {
     "name": "stdout",
     "output_type": "stream",
     "text": [
      "Введите радиус круга: 10\n",
      "Площадь круга: 314.16\n",
      "Введите длину стороны A: 2\n",
      "Введите длину стороны B: 2\n",
      "Введите длину стороны C: 3\n",
      "Площадь круга: 1.98\n",
      "Введите длину стороны A: 3\n",
      "Введите длину стороны B: 4\n",
      "Площадь круга: 12.0\n"
     ]
    }
   ],
   "source": [
    "for figure in ('Круг', 'Треугольник', 'Прямоугольник'):\n",
    "    square_value = round(formulas_for_bodies[figure](), 2)\n",
    "    print('Площадь', figure_type.lower() + 'а:', square_value)"
   ]
  }
 ],
 "metadata": {
  "kernelspec": {
   "display_name": "Python 3",
   "language": "python",
   "name": "python3"
  },
  "language_info": {
   "codemirror_mode": {
    "name": "ipython",
    "version": 3
   },
   "file_extension": ".py",
   "mimetype": "text/x-python",
   "name": "python",
   "nbconvert_exporter": "python",
   "pygments_lexer": "ipython3",
   "version": "3.7.1"
  }
 },
 "nbformat": 4,
 "nbformat_minor": 2
}
