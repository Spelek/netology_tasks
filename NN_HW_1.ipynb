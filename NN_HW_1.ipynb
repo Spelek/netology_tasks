{
  "nbformat": 4,
  "nbformat_minor": 0,
  "metadata": {
    "kernelspec": {
      "display_name": "Python 3",
      "language": "python",
      "name": "python3"
    },
    "language_info": {
      "codemirror_mode": {
        "name": "ipython",
        "version": 3
      },
      "file_extension": ".py",
      "mimetype": "text/x-python",
      "name": "python",
      "nbconvert_exporter": "python",
      "pygments_lexer": "ipython3",
      "version": "3.7.3"
    },
    "latex_envs": {
      "LaTeX_envs_menu_present": true,
      "autoclose": false,
      "autocomplete": true,
      "bibliofile": "biblio.bib",
      "cite_by": "apalike",
      "current_citInitial": 1,
      "eqLabelWithNumbers": true,
      "eqNumInitial": 1,
      "hotkeys": {
        "equation": "Ctrl-E",
        "itemize": "Ctrl-I"
      },
      "labels_anchors": false,
      "latex_user_defs": false,
      "report_style_numbering": false,
      "user_envs_cfg": false
    },
    "toc": {
      "base_numbering": 1,
      "nav_menu": {},
      "number_sections": true,
      "sideBar": true,
      "skip_h1_title": false,
      "title_cell": "Table of Contents",
      "title_sidebar": "Contents",
      "toc_cell": false,
      "toc_position": {},
      "toc_section_display": true,
      "toc_window_display": false
    },
    "varInspector": {
      "cols": {
        "lenName": 16,
        "lenType": 16,
        "lenVar": 40
      },
      "kernels_config": {
        "python": {
          "delete_cmd_postfix": "",
          "delete_cmd_prefix": "del ",
          "library": "var_list.py",
          "varRefreshCmd": "print(var_dic_list())"
        },
        "r": {
          "delete_cmd_postfix": ") ",
          "delete_cmd_prefix": "rm(",
          "library": "var_list.r",
          "varRefreshCmd": "cat(var_dic_list()) "
        }
      },
      "types_to_exclude": [
        "module",
        "function",
        "builtin_function_or_method",
        "instance",
        "_Feature"
      ],
      "window_display": false
    },
    "colab": {
      "name": "NN_HW_1",
      "provenance": [],
      "collapsed_sections": []
    },
    "accelerator": "GPU"
  },
  "cells": [
    {
      "cell_type": "markdown",
      "metadata": {
        "collapsed": true,
        "id": "h97RdWrNxjed"
      },
      "source": [
        "# Домашнее задание 1. Свёрточные сети\n",
        "\n",
        "Здесь вам предстоит построить и обучить свою первую свёрточную сеть для классификации изображений на данных CIFAR10. "
      ]
    },
    {
      "cell_type": "code",
      "metadata": {
        "id": "Bj5T_3dxxjee"
      },
      "source": [
        "import tensorflow as tf\n",
        "\n",
        "from tqdm import tqdm_notebook"
      ],
      "execution_count": 18,
      "outputs": []
    },
    {
      "cell_type": "markdown",
      "metadata": {
        "id": "8967u5Bzxjef"
      },
      "source": [
        "## Данные\n",
        "\n",
        "CIFAR10\n",
        "* 60000 RGB изображений размером 32x32x3\n",
        "* 10 классов: самолёты, собаки, рыбы и т.п.\n",
        "\n",
        "<img src=\"https://www.samyzaf.com/ML/cifar10/cifar1.jpg\" style=\"width:60%\">"
      ]
    },
    {
      "cell_type": "markdown",
      "metadata": {
        "id": "xFMGMCFrxjef"
      },
      "source": [
        "Загрузите данные, разделите их на обучающую и тестовую выборки. Размер тестовой выборки должен быть $10^4$."
      ]
    },
    {
      "cell_type": "code",
      "metadata": {
        "id": "bf04QwsBxjef",
        "colab": {
          "base_uri": "https://localhost:8080/"
        },
        "outputId": "936931c8-53da-429e-db0a-51fec9d3d176"
      },
      "source": [
        "import numpy as np\n",
        "from keras.datasets import cifar10\n",
        "from sklearn.model_selection import train_test_split\n",
        "(X_train, y_train), (X_test, y_test) = cifar10.load_data()\n",
        "X_train, X_val, y_train, y_val = train_test_split(X_train, y_train, test_size=10**4, random_state=42)\n",
        "\n",
        "class_names = np.array(['airplane','automobile ','bird ','cat ','deer ','dog ','frog ','horse ','ship ','truck'])\n",
        "\n",
        "print (X_train.shape,y_train.shape)"
      ],
      "execution_count": 39,
      "outputs": [
        {
          "output_type": "stream",
          "name": "stdout",
          "text": [
            "(40000, 32, 32, 3) (40000, 1)\n"
          ]
        }
      ]
    },
    {
      "cell_type": "markdown",
      "metadata": {
        "id": "_XS_kZF9xjeh"
      },
      "source": [
        "Прежде чем приступать к основной работе, стоит убедиться что загруженно именно то, что требовалось:"
      ]
    },
    {
      "cell_type": "code",
      "metadata": {
        "id": "1Sih-A1Dxjeh",
        "colab": {
          "base_uri": "https://localhost:8080/",
          "height": 593
        },
        "outputId": "20b500cd-021a-4577-d5cc-81a5d5d72ddb"
      },
      "source": [
        "import matplotlib.pyplot as plt\n",
        "%matplotlib inline\n",
        "\n",
        "plt.figure(figsize=[12,10])\n",
        "for i in range(12):\n",
        "    plt.subplot(3, 4, i + 1)\n",
        "    plt.xlabel(class_names[y_train[i, 0]])\n",
        "    plt.imshow(X_train[i])"
      ],
      "execution_count": 40,
      "outputs": [
        {
          "output_type": "display_data",
          "data": {
            "image/png": "[encoded data removed]",
            "text/plain": [
              "<Figure size 864x720 with 12 Axes>"
            ]
          },
          "metadata": {
            "needs_background": "light"
          }
        }
      ]
    },
    {
      "cell_type": "markdown",
      "metadata": {
        "id": "2iXiYWbdxjei"
      },
      "source": [
        "## Подготовка данных\n",
        "\n",
        "Сейчас каждый пиксель изображения закодирован тройкой чисел (RGB) __от 0 до 255__. Однако лучше себя показывает подход, где значения входов нейросети распределены недалеко от 0.\n",
        "\n",
        "Давайте приведём все данные в диапазон __`[0, 1]`__ — просто разделим на соответствующий коэффициент:"
      ]
    },
    {
      "cell_type": "code",
      "metadata": {
        "id": "OhIwnVXdxjei"
      },
      "source": [
        "X_train = X_train / 255\n",
        "X_val = X_val / 255\n",
        "X_test = X_test / 255"
      ],
      "execution_count": 41,
      "outputs": []
    },
    {
      "cell_type": "code",
      "source": [
        "X_train.shape, y_train.shape"
      ],
      "metadata": {
        "colab": {
          "base_uri": "https://localhost:8080/"
        },
        "id": "tQ_JrFpfZVag",
        "outputId": "9f73938f-dce4-4c54-fa9b-80148f810fa9"
      },
      "execution_count": 42,
      "outputs": [
        {
          "output_type": "execute_result",
          "data": {
            "text/plain": [
              "((40000, 32, 32, 3), (40000, 1))"
            ]
          },
          "metadata": {},
          "execution_count": 42
        }
      ]
    },
    {
      "cell_type": "markdown",
      "metadata": {
        "id": "WSRXEBo9xjej"
      },
      "source": [
        "Исполните код ниже для проверки, что все выполнено корректно."
      ]
    },
    {
      "cell_type": "code",
      "metadata": {
        "id": "iZQD2dTpxjej"
      },
      "source": [
        "assert np.shape(X_train) == (40000, 32, 32, 3), \"data shape should not change\"\n",
        "assert 0.9 <= max(map(np.max, (X_train, X_val, X_test))) <= 1.05\n",
        "assert 0.0 <= min(map(np.min, (X_train, X_val, X_test))) <= 0.1\n",
        "assert len(np.unique(X_test / 255.)) > 10, \"make sure you casted data to float type\""
      ],
      "execution_count": 6,
      "outputs": []
    },
    {
      "cell_type": "markdown",
      "metadata": {
        "id": "qdztr8BHxjej"
      },
      "source": [
        "## Архитектура сети\n",
        "\n",
        "Для начала реализуйте простую нейросеть:\n",
        "1. принимает на вход картинки размера 32 x 32 x 3;\n",
        "2. вытягивает их в вектор (`keras.layers.Flatten`);\n",
        "3. пропускает через 1 или 2 полносвязных слоя;\n",
        "4. выходной слой отдает вероятности принадлежности к каждому из 10 классов."
      ]
    },
    {
      "cell_type": "markdown",
      "metadata": {
        "id": "E5VwlwV8xjek"
      },
      "source": [
        "Создайте полносвязную сеть:"
      ]
    },
    {
      "cell_type": "code",
      "source": [
        "X_train.shape"
      ],
      "metadata": {
        "colab": {
          "base_uri": "https://localhost:8080/"
        },
        "id": "FoqOFimrg1LL",
        "outputId": "8db8061d-f4e0-482b-ce3a-c4c93bff8b0a"
      },
      "execution_count": null,
      "outputs": [
        {
          "output_type": "execute_result",
          "data": {
            "text/plain": [
              "(40000, 32, 32, 3)"
            ]
          },
          "metadata": {},
          "execution_count": 275
        }
      ]
    },
    {
      "cell_type": "code",
      "metadata": {
        "id": "P0B2-vnExjek"
      },
      "source": [
        "import keras\n",
        "from keras import layers as L\n",
        "from keras import backend as K"
      ],
      "execution_count": 43,
      "outputs": []
    },
    {
      "cell_type": "code",
      "metadata": {
        "id": "Ub9pQE0Nxjek"
      },
      "source": [
        "model = keras.Sequential()\n",
        "model.add(L.Flatten(input_shape=(32, 32, 3)))\n",
        "model.add(L.Dense(32, activation='relu'))\n",
        "model.add(L.Dense(32, activation='relu'))\n",
        "model.add(L.Dense(10, activation='softmax'))"
      ],
      "execution_count": null,
      "outputs": []
    },
    {
      "cell_type": "markdown",
      "metadata": {
        "id": "WGcAp1lexjel"
      },
      "source": [
        "## Обучение сети\n",
        "\n",
        "**Задание 1.1 (обязательно)** Будем минимизировать многоклассовую кроссэкнропию с помощью __sgd__. Вам нужно получить сеть, которая достигнет __не менее 45%__ __accuracy__ на тестовых данных.\n",
        "\n",
        "__Важно:__ поскольку в y_train лежат номера классов, Керасу нужно либо указать sparse функции потерь и метрики оценки качества классификации (`sparse_categorical_crossentropy` и `sparse_categorical_accuracy`), либо конвертировать метки в one-hot формат.\n",
        "\n",
        "### Полезные советы\n",
        "* `model.compile` позволяет указать, какие метрики вы хотите вычислять.\n",
        "* В `model.fit` можно передать валидационную выборку (`validation_data=[X_val, y_val]`), для отслеживания прогресса на ней. Также рекомендуем сохранять результаты в [tensorboard](https://keras.io/callbacks/#tensorboard) или [wandb](https://docs.wandb.ai/integrations/jupyter). **Важно: логи tensorboard не получится без боли посмотреть через colab.** Workaround: скачать логи и запустить tensorboard локально или помучаться [с этим](https://stackoverflow.com/questions/47818822/can-i-use-tensorboard-with-google-colab).\n",
        "* По умолчанию сеть учится 1 эпоху. Совсем не факт, что вам этого хватит. Число эпох можно настроить в методе `fit` (`epochs`).\n",
        "* Ещё у Кераса есть много [полезных callback-ов](https://keras.io/callbacks/), которые можно попробовать. Например, автоматическая остановка или подбор скорости обучения."
      ]
    },
    {
      "cell_type": "code",
      "metadata": {
        "id": "7iVWfkypxjel"
      },
      "source": [
        "y_train = tf.keras.utils.to_categorical(y_train, num_classes=None, dtype=\"float32\")\n",
        "y_val = tf.keras.utils.to_categorical(y_val, num_classes=None, dtype=\"float32\")"
      ],
      "execution_count": 44,
      "outputs": []
    },
    {
      "cell_type": "code",
      "source": [
        "y_val.shape"
      ],
      "metadata": {
        "colab": {
          "base_uri": "https://localhost:8080/"
        },
        "id": "2FblBqYNZ7Aw",
        "outputId": "32a78cdf-ec58-438d-b44c-aa93728d278f"
      },
      "execution_count": 45,
      "outputs": [
        {
          "output_type": "execute_result",
          "data": {
            "text/plain": [
              "(10000, 10)"
            ]
          },
          "metadata": {},
          "execution_count": 45
        }
      ]
    },
    {
      "cell_type": "code",
      "source": [
        "y_train[0]"
      ],
      "metadata": {
        "colab": {
          "base_uri": "https://localhost:8080/"
        },
        "id": "PSVbMbStfMpI",
        "outputId": "e0d48ba7-5532-4407-a40f-1412f971ef4c"
      },
      "execution_count": 46,
      "outputs": [
        {
          "output_type": "execute_result",
          "data": {
            "text/plain": [
              "array([0., 0., 0., 0., 0., 0., 1., 0., 0., 0.], dtype=float32)"
            ]
          },
          "metadata": {},
          "execution_count": 46
        }
      ]
    },
    {
      "cell_type": "code",
      "source": [
        "def scheduler(epoch, lr):\n",
        "    if epoch < 10:\n",
        "        return lr\n",
        "    else:\n",
        "        return lr * 0.9"
      ],
      "metadata": {
        "id": "R0doPQ8bcBKs"
      },
      "execution_count": 47,
      "outputs": []
    },
    {
      "cell_type": "code",
      "source": [
        "callback_sch = tf.keras.callbacks.LearningRateScheduler(scheduler)"
      ],
      "metadata": {
        "id": "BzDTtjTdcJ2t"
      },
      "execution_count": 32,
      "outputs": []
    },
    {
      "cell_type": "code",
      "source": [
        "callback_stp = tf.keras.callbacks.EarlyStopping(monitor='loss', patience=3)"
      ],
      "metadata": {
        "id": "Skh3fdSQkAyY"
      },
      "execution_count": 33,
      "outputs": []
    },
    {
      "cell_type": "code",
      "metadata": {
        "id": "M5w_Zj5Sxjem"
      },
      "source": [
        "callbacks = [callback_sch, callback_stp]"
      ],
      "execution_count": 34,
      "outputs": []
    },
    {
      "cell_type": "code",
      "source": [
        "opt = tf.keras.optimizers.SGD(learning_rate=0.08)"
      ],
      "metadata": {
        "id": "yJ9XIwQ9TeTD"
      },
      "execution_count": 35,
      "outputs": []
    },
    {
      "cell_type": "code",
      "source": [
        "model.compile(\n",
        "    loss='categorical_crossentropy',\n",
        "    optimizer=opt,\n",
        "    metrics=[\"accuracy\"]\n",
        ")"
      ],
      "metadata": {
        "id": "GhVOoOE9KdP1"
      },
      "execution_count": null,
      "outputs": []
    },
    {
      "cell_type": "code",
      "source": [
        "model.fit(X_train, y_train, batch_size=80,\n",
        "          epochs=75, validation_split=0.2, verbose=2,\n",
        "          callbacks=callbacks, validation_data=[X_val, y_val])"
      ],
      "metadata": {
        "id": "eND2CBGYKoxW",
        "colab": {
          "base_uri": "https://localhost:8080/"
        },
        "outputId": "ea131514-2fe5-4c21-f0fe-83fe5bcee0ff"
      },
      "execution_count": null,
      "outputs": [
        {
          "output_type": "stream",
          "name": "stdout",
          "text": [
            "Epoch 1/75\n",
            "400/400 - 4s - loss: 2.0598 - accuracy: 0.2387 - val_loss: 1.9582 - val_accuracy: 0.3001 - lr: 0.0800 - 4s/epoch - 10ms/step\n",
            "Epoch 2/75\n",
            "400/400 - 1s - loss: 1.9059 - accuracy: 0.3038 - val_loss: 1.8356 - val_accuracy: 0.3394 - lr: 0.0800 - 1s/epoch - 3ms/step\n",
            "Epoch 3/75\n",
            "400/400 - 1s - loss: 1.8489 - accuracy: 0.3344 - val_loss: 1.8044 - val_accuracy: 0.3435 - lr: 0.0800 - 1s/epoch - 3ms/step\n",
            "Epoch 4/75\n",
            "400/400 - 1s - loss: 1.8031 - accuracy: 0.3508 - val_loss: 1.7563 - val_accuracy: 0.3654 - lr: 0.0800 - 1s/epoch - 3ms/step\n",
            "Epoch 5/75\n",
            "400/400 - 1s - loss: 1.7652 - accuracy: 0.3666 - val_loss: 1.7539 - val_accuracy: 0.3655 - lr: 0.0800 - 1s/epoch - 3ms/step\n",
            "Epoch 6/75\n",
            "400/400 - 1s - loss: 1.7385 - accuracy: 0.3736 - val_loss: 1.7305 - val_accuracy: 0.3855 - lr: 0.0800 - 1s/epoch - 3ms/step\n",
            "Epoch 7/75\n",
            "400/400 - 1s - loss: 1.7159 - accuracy: 0.3832 - val_loss: 1.7283 - val_accuracy: 0.3746 - lr: 0.0800 - 1s/epoch - 3ms/step\n",
            "Epoch 8/75\n",
            "400/400 - 1s - loss: 1.6945 - accuracy: 0.3902 - val_loss: 1.6854 - val_accuracy: 0.3950 - lr: 0.0800 - 1s/epoch - 3ms/step\n",
            "Epoch 9/75\n",
            "400/400 - 1s - loss: 1.6733 - accuracy: 0.4014 - val_loss: 1.6741 - val_accuracy: 0.3970 - lr: 0.0800 - 1s/epoch - 3ms/step\n",
            "Epoch 10/75\n",
            "400/400 - 1s - loss: 1.6591 - accuracy: 0.4046 - val_loss: 1.6590 - val_accuracy: 0.4029 - lr: 0.0800 - 1s/epoch - 3ms/step\n",
            "Epoch 11/75\n",
            "400/400 - 1s - loss: 1.6365 - accuracy: 0.4114 - val_loss: 1.6440 - val_accuracy: 0.4044 - lr: 0.0720 - 1s/epoch - 3ms/step\n",
            "Epoch 12/75\n",
            "400/400 - 1s - loss: 1.6100 - accuracy: 0.4246 - val_loss: 1.6482 - val_accuracy: 0.4065 - lr: 0.0648 - 1s/epoch - 3ms/step\n",
            "Epoch 13/75\n",
            "400/400 - 1s - loss: 1.5911 - accuracy: 0.4306 - val_loss: 1.6318 - val_accuracy: 0.4150 - lr: 0.0583 - 1s/epoch - 3ms/step\n",
            "Epoch 14/75\n",
            "400/400 - 1s - loss: 1.5688 - accuracy: 0.4362 - val_loss: 1.6214 - val_accuracy: 0.4162 - lr: 0.0525 - 1s/epoch - 3ms/step\n",
            "Epoch 15/75\n",
            "400/400 - 1s - loss: 1.5553 - accuracy: 0.4440 - val_loss: 1.6038 - val_accuracy: 0.4162 - lr: 0.0472 - 1s/epoch - 3ms/step\n",
            "Epoch 16/75\n",
            "400/400 - 1s - loss: 1.5406 - accuracy: 0.4493 - val_loss: 1.6063 - val_accuracy: 0.4243 - lr: 0.0425 - 1s/epoch - 3ms/step\n",
            "Epoch 17/75\n",
            "400/400 - 1s - loss: 1.5283 - accuracy: 0.4542 - val_loss: 1.5944 - val_accuracy: 0.4317 - lr: 0.0383 - 1s/epoch - 4ms/step\n",
            "Epoch 18/75\n",
            "400/400 - 1s - loss: 1.5178 - accuracy: 0.4563 - val_loss: 1.5917 - val_accuracy: 0.4311 - lr: 0.0344 - 1s/epoch - 3ms/step\n",
            "Epoch 19/75\n",
            "400/400 - 1s - loss: 1.5079 - accuracy: 0.4599 - val_loss: 1.5767 - val_accuracy: 0.4385 - lr: 0.0310 - 1s/epoch - 3ms/step\n",
            "Epoch 20/75\n",
            "400/400 - 1s - loss: 1.4980 - accuracy: 0.4640 - val_loss: 1.5728 - val_accuracy: 0.4390 - lr: 0.0279 - 1s/epoch - 3ms/step\n",
            "Epoch 21/75\n",
            "400/400 - 1s - loss: 1.4876 - accuracy: 0.4679 - val_loss: 1.5768 - val_accuracy: 0.4316 - lr: 0.0251 - 1s/epoch - 3ms/step\n",
            "Epoch 22/75\n",
            "400/400 - 1s - loss: 1.4800 - accuracy: 0.4712 - val_loss: 1.5637 - val_accuracy: 0.4409 - lr: 0.0226 - 1s/epoch - 3ms/step\n",
            "Epoch 23/75\n",
            "400/400 - 1s - loss: 1.4725 - accuracy: 0.4734 - val_loss: 1.5870 - val_accuracy: 0.4284 - lr: 0.0203 - 1s/epoch - 3ms/step\n",
            "Epoch 24/75\n",
            "400/400 - 1s - loss: 1.4670 - accuracy: 0.4759 - val_loss: 1.5639 - val_accuracy: 0.4435 - lr: 0.0183 - 1s/epoch - 3ms/step\n",
            "Epoch 25/75\n",
            "400/400 - 1s - loss: 1.4592 - accuracy: 0.4787 - val_loss: 1.5670 - val_accuracy: 0.4435 - lr: 0.0165 - 1s/epoch - 3ms/step\n",
            "Epoch 26/75\n",
            "400/400 - 1s - loss: 1.4552 - accuracy: 0.4807 - val_loss: 1.5548 - val_accuracy: 0.4450 - lr: 0.0148 - 1s/epoch - 3ms/step\n",
            "Epoch 27/75\n",
            "400/400 - 1s - loss: 1.4493 - accuracy: 0.4810 - val_loss: 1.5522 - val_accuracy: 0.4401 - lr: 0.0133 - 1s/epoch - 4ms/step\n",
            "Epoch 28/75\n",
            "400/400 - 1s - loss: 1.4436 - accuracy: 0.4864 - val_loss: 1.5595 - val_accuracy: 0.4409 - lr: 0.0120 - 1s/epoch - 3ms/step\n",
            "Epoch 29/75\n",
            "400/400 - 1s - loss: 1.4398 - accuracy: 0.4850 - val_loss: 1.5469 - val_accuracy: 0.4491 - lr: 0.0108 - 1s/epoch - 3ms/step\n",
            "Epoch 30/75\n",
            "400/400 - 1s - loss: 1.4348 - accuracy: 0.4896 - val_loss: 1.5547 - val_accuracy: 0.4486 - lr: 0.0097 - 1s/epoch - 3ms/step\n",
            "Epoch 31/75\n",
            "400/400 - 1s - loss: 1.4327 - accuracy: 0.4892 - val_loss: 1.5516 - val_accuracy: 0.4451 - lr: 0.0088 - 1s/epoch - 3ms/step\n",
            "Epoch 32/75\n",
            "400/400 - 1s - loss: 1.4290 - accuracy: 0.4913 - val_loss: 1.5454 - val_accuracy: 0.4514 - lr: 0.0079 - 1s/epoch - 4ms/step\n",
            "Epoch 33/75\n",
            "400/400 - 1s - loss: 1.4254 - accuracy: 0.4939 - val_loss: 1.5451 - val_accuracy: 0.4498 - lr: 0.0071 - 1s/epoch - 3ms/step\n",
            "Epoch 34/75\n",
            "400/400 - 1s - loss: 1.4235 - accuracy: 0.4925 - val_loss: 1.5472 - val_accuracy: 0.4518 - lr: 0.0064 - 1s/epoch - 3ms/step\n",
            "Epoch 35/75\n",
            "400/400 - 1s - loss: 1.4207 - accuracy: 0.4959 - val_loss: 1.5437 - val_accuracy: 0.4499 - lr: 0.0057 - 1s/epoch - 3ms/step\n",
            "Epoch 36/75\n",
            "400/400 - 1s - loss: 1.4183 - accuracy: 0.4964 - val_loss: 1.5471 - val_accuracy: 0.4476 - lr: 0.0052 - 1s/epoch - 3ms/step\n",
            "Epoch 37/75\n",
            "400/400 - 1s - loss: 1.4166 - accuracy: 0.4963 - val_loss: 1.5453 - val_accuracy: 0.4524 - lr: 0.0047 - 1s/epoch - 3ms/step\n",
            "Epoch 38/75\n",
            "400/400 - 1s - loss: 1.4145 - accuracy: 0.4968 - val_loss: 1.5420 - val_accuracy: 0.4505 - lr: 0.0042 - 1s/epoch - 3ms/step\n",
            "Epoch 39/75\n",
            "400/400 - 1s - loss: 1.4130 - accuracy: 0.4962 - val_loss: 1.5426 - val_accuracy: 0.4519 - lr: 0.0038 - 1s/epoch - 3ms/step\n",
            "Epoch 40/75\n",
            "400/400 - 1s - loss: 1.4116 - accuracy: 0.4969 - val_loss: 1.5399 - val_accuracy: 0.4502 - lr: 0.0034 - 1s/epoch - 3ms/step\n",
            "Epoch 41/75\n",
            "400/400 - 1s - loss: 1.4102 - accuracy: 0.4976 - val_loss: 1.5423 - val_accuracy: 0.4493 - lr: 0.0031 - 1s/epoch - 3ms/step\n",
            "Epoch 42/75\n",
            "400/400 - 1s - loss: 1.4091 - accuracy: 0.4986 - val_loss: 1.5395 - val_accuracy: 0.4515 - lr: 0.0027 - 1s/epoch - 3ms/step\n",
            "Epoch 43/75\n",
            "400/400 - 1s - loss: 1.4077 - accuracy: 0.4999 - val_loss: 1.5403 - val_accuracy: 0.4493 - lr: 0.0025 - 1s/epoch - 3ms/step\n",
            "Epoch 44/75\n",
            "400/400 - 1s - loss: 1.4068 - accuracy: 0.4995 - val_loss: 1.5395 - val_accuracy: 0.4476 - lr: 0.0022 - 1s/epoch - 3ms/step\n",
            "Epoch 45/75\n",
            "400/400 - 1s - loss: 1.4060 - accuracy: 0.4994 - val_loss: 1.5407 - val_accuracy: 0.4509 - lr: 0.0020 - 1s/epoch - 3ms/step\n",
            "Epoch 46/75\n",
            "400/400 - 1s - loss: 1.4053 - accuracy: 0.4985 - val_loss: 1.5392 - val_accuracy: 0.4525 - lr: 0.0018 - 1s/epoch - 3ms/step\n",
            "Epoch 47/75\n",
            "400/400 - 1s - loss: 1.4044 - accuracy: 0.4997 - val_loss: 1.5389 - val_accuracy: 0.4535 - lr: 0.0016 - 1s/epoch - 3ms/step\n",
            "Epoch 48/75\n",
            "400/400 - 1s - loss: 1.4039 - accuracy: 0.4992 - val_loss: 1.5389 - val_accuracy: 0.4499 - lr: 0.0015 - 1s/epoch - 3ms/step\n",
            "Epoch 49/75\n",
            "400/400 - 1s - loss: 1.4033 - accuracy: 0.4998 - val_loss: 1.5379 - val_accuracy: 0.4519 - lr: 0.0013 - 1s/epoch - 3ms/step\n",
            "Epoch 50/75\n",
            "400/400 - 1s - loss: 1.4024 - accuracy: 0.4998 - val_loss: 1.5381 - val_accuracy: 0.4527 - lr: 0.0012 - 1s/epoch - 3ms/step\n",
            "Epoch 51/75\n",
            "400/400 - 1s - loss: 1.4020 - accuracy: 0.5019 - val_loss: 1.5394 - val_accuracy: 0.4511 - lr: 0.0011 - 1s/epoch - 3ms/step\n",
            "Epoch 52/75\n",
            "400/400 - 1s - loss: 1.4015 - accuracy: 0.5006 - val_loss: 1.5388 - val_accuracy: 0.4501 - lr: 9.5780e-04 - 1s/epoch - 3ms/step\n",
            "Epoch 53/75\n",
            "400/400 - 1s - loss: 1.4012 - accuracy: 0.5008 - val_loss: 1.5385 - val_accuracy: 0.4543 - lr: 8.6202e-04 - 1s/epoch - 3ms/step\n",
            "Epoch 54/75\n",
            "400/400 - 1s - loss: 1.4007 - accuracy: 0.5009 - val_loss: 1.5373 - val_accuracy: 0.4535 - lr: 7.7582e-04 - 1s/epoch - 3ms/step\n",
            "Epoch 55/75\n",
            "400/400 - 1s - loss: 1.4005 - accuracy: 0.5015 - val_loss: 1.5380 - val_accuracy: 0.4526 - lr: 6.9824e-04 - 1s/epoch - 4ms/step\n",
            "Epoch 56/75\n",
            "400/400 - 1s - loss: 1.4002 - accuracy: 0.5018 - val_loss: 1.5376 - val_accuracy: 0.4526 - lr: 6.2841e-04 - 1s/epoch - 3ms/step\n",
            "Epoch 57/75\n",
            "400/400 - 1s - loss: 1.3999 - accuracy: 0.5009 - val_loss: 1.5373 - val_accuracy: 0.4534 - lr: 5.6557e-04 - 1s/epoch - 3ms/step\n",
            "Epoch 58/75\n",
            "400/400 - 1s - loss: 1.3996 - accuracy: 0.5016 - val_loss: 1.5374 - val_accuracy: 0.4531 - lr: 5.0901e-04 - 1s/epoch - 3ms/step\n",
            "Epoch 59/75\n",
            "400/400 - 1s - loss: 1.3994 - accuracy: 0.5017 - val_loss: 1.5375 - val_accuracy: 0.4518 - lr: 4.5811e-04 - 1s/epoch - 4ms/step\n",
            "Epoch 60/75\n",
            "400/400 - 1s - loss: 1.3992 - accuracy: 0.5012 - val_loss: 1.5373 - val_accuracy: 0.4523 - lr: 4.1230e-04 - 1s/epoch - 3ms/step\n",
            "Epoch 61/75\n",
            "400/400 - 1s - loss: 1.3991 - accuracy: 0.5002 - val_loss: 1.5373 - val_accuracy: 0.4515 - lr: 3.7107e-04 - 1s/epoch - 3ms/step\n",
            "Epoch 62/75\n",
            "400/400 - 1s - loss: 1.3989 - accuracy: 0.5009 - val_loss: 1.5378 - val_accuracy: 0.4518 - lr: 3.3396e-04 - 1s/epoch - 3ms/step\n",
            "Epoch 63/75\n",
            "400/400 - 1s - loss: 1.3988 - accuracy: 0.5010 - val_loss: 1.5370 - val_accuracy: 0.4521 - lr: 3.0057e-04 - 1s/epoch - 3ms/step\n",
            "Epoch 64/75\n",
            "400/400 - 1s - loss: 1.3986 - accuracy: 0.5011 - val_loss: 1.5371 - val_accuracy: 0.4527 - lr: 2.7051e-04 - 1s/epoch - 4ms/step\n",
            "Epoch 65/75\n",
            "400/400 - 1s - loss: 1.3985 - accuracy: 0.5012 - val_loss: 1.5372 - val_accuracy: 0.4518 - lr: 2.4346e-04 - 1s/epoch - 3ms/step\n",
            "Epoch 66/75\n",
            "400/400 - 1s - loss: 1.3984 - accuracy: 0.5010 - val_loss: 1.5371 - val_accuracy: 0.4518 - lr: 2.1911e-04 - 1s/epoch - 3ms/step\n",
            "Epoch 67/75\n",
            "400/400 - 1s - loss: 1.3983 - accuracy: 0.5013 - val_loss: 1.5372 - val_accuracy: 0.4514 - lr: 1.9720e-04 - 1s/epoch - 3ms/step\n",
            "Epoch 68/75\n",
            "400/400 - 1s - loss: 1.3982 - accuracy: 0.5008 - val_loss: 1.5372 - val_accuracy: 0.4521 - lr: 1.7748e-04 - 1s/epoch - 3ms/step\n",
            "Epoch 69/75\n",
            "400/400 - 1s - loss: 1.3981 - accuracy: 0.5010 - val_loss: 1.5373 - val_accuracy: 0.4524 - lr: 1.5973e-04 - 1s/epoch - 3ms/step\n",
            "Epoch 70/75\n",
            "400/400 - 1s - loss: 1.3980 - accuracy: 0.5007 - val_loss: 1.5372 - val_accuracy: 0.4527 - lr: 1.4376e-04 - 1s/epoch - 3ms/step\n",
            "Epoch 71/75\n",
            "400/400 - 1s - loss: 1.3979 - accuracy: 0.5013 - val_loss: 1.5371 - val_accuracy: 0.4525 - lr: 1.2938e-04 - 1s/epoch - 3ms/step\n",
            "Epoch 72/75\n",
            "400/400 - 1s - loss: 1.3979 - accuracy: 0.5013 - val_loss: 1.5372 - val_accuracy: 0.4520 - lr: 1.1645e-04 - 1s/epoch - 3ms/step\n",
            "Epoch 73/75\n",
            "400/400 - 1s - loss: 1.3978 - accuracy: 0.5014 - val_loss: 1.5373 - val_accuracy: 0.4516 - lr: 1.0480e-04 - 1s/epoch - 3ms/step\n",
            "Epoch 74/75\n",
            "400/400 - 1s - loss: 1.3978 - accuracy: 0.5013 - val_loss: 1.5372 - val_accuracy: 0.4521 - lr: 9.4321e-05 - 1s/epoch - 3ms/step\n",
            "Epoch 75/75\n",
            "400/400 - 1s - loss: 1.3978 - accuracy: 0.5008 - val_loss: 1.5371 - val_accuracy: 0.4515 - lr: 8.4889e-05 - 1s/epoch - 3ms/step\n"
          ]
        },
        {
          "output_type": "execute_result",
          "data": {
            "text/plain": [
              "<keras.callbacks.History at 0x7f6fa941f050>"
            ]
          },
          "metadata": {},
          "execution_count": 17
        }
      ]
    },
    {
      "cell_type": "code",
      "metadata": {
        "id": "Yg6VYd3qxjel",
        "colab": {
          "base_uri": "https://localhost:8080/"
        },
        "outputId": "175b4e48-a9d3-4b96-bd10-a2b5b636835c"
      },
      "source": [
        "dummy_pred = model.predict(X_train[:20])\n",
        "assert dummy_pred.shape == (20, 10)\n",
        "assert np.allclose(dummy_pred.sum(-1), 1)\n",
        "print(\"Успех!\")"
      ],
      "execution_count": null,
      "outputs": [
        {
          "output_type": "stream",
          "name": "stdout",
          "text": [
            "Успех!\n"
          ]
        }
      ]
    },
    {
      "cell_type": "code",
      "source": [
        "from sklearn.metrics import accuracy_score\n",
        "y_pred = [np.argmax(prob) for prob in model.predict(X_test)]\n",
        "test_acc = accuracy_score(y_test, y_pred)\n",
        "print(\"\\n Test_acc =\", test_acc)\n",
        "assert test_acc > 0.45, \"Not good enough. Back to the drawing board :)\"\n",
        "print(\" Not bad!\")"
      ],
      "metadata": {
        "colab": {
          "base_uri": "https://localhost:8080/"
        },
        "id": "YBS_zWyuiiyB",
        "outputId": "8ba493f3-953a-447f-cadf-3f4a5e029451"
      },
      "execution_count": null,
      "outputs": [
        {
          "output_type": "stream",
          "name": "stdout",
          "text": [
            "\n",
            " Test_acc = 0.4605\n",
            " Not bad!\n"
          ]
        }
      ]
    },
    {
      "cell_type": "markdown",
      "source": [
        "**Визуализируем небольшую выборку предсказаний нашей модели.**"
      ],
      "metadata": {
        "id": "j3oRobewZ37O"
      }
    },
    {
      "cell_type": "code",
      "source": [
        "plt.figure(figsize=[12,10])\n",
        "for i in range(12):\n",
        "    plt.subplot(3, 4, i + 1)\n",
        "    plt.xlabel(class_names[y_pred[i]])\n",
        "    plt.imshow(X_test[i])"
      ],
      "metadata": {
        "colab": {
          "base_uri": "https://localhost:8080/",
          "height": 593
        },
        "id": "l6xlbQYJNmj2",
        "outputId": "302d2ab4-29c2-4123-8300-c43e30886a47"
      },
      "execution_count": null,
      "outputs": [
        {
          "output_type": "display_data",
          "data": {
            "image/png": "[encoded data removed]",
            "text/plain": [
              "<Figure size 864x720 with 12 Axes>"
            ]
          },
          "metadata": {
            "needs_background": "light"
          }
        }
      ]
    },
    {
      "cell_type": "markdown",
      "metadata": {
        "id": "cm_SvVrqxjen"
      },
      "source": [
        "## Карманная сверточная сеть\n",
        "\n",
        "**Задание 1.2 (обязательно)** Реализуйте небольшую свёрточную сеть. Совсем небольшую:\n",
        "1. Входной слой\n",
        "2. Свёртка 3x3 с 10 фильтрами\n",
        "3. Нелинейность на ваш вкус\n",
        "4. Max-pooling 2x2\n",
        "5. Вытягиваем оставшееся в вектор (Flatten)\n",
        "6. Полносвязный слой на 100 нейронов\n",
        "7. Нелинейность на ваш вкус\n",
        "8. Выходной полносвязный слой с softmax\n",
        "\n",
        "Обучите её так же, как и предыдущую сеть. Если всё хорошо, у вас получится accuracy не меньше __50%__."
      ]
    },
    {
      "cell_type": "code",
      "metadata": {
        "scrolled": true,
        "id": "bu_Sg2sCxjeo"
      },
      "source": [
        "model_conv = keras.Sequential()\n",
        "model_conv.add(L.Conv2D(10, (3, 3),\n",
        "                        activation='relu',\n",
        "                        input_shape=(32, 32, 3)))\n",
        "model_conv.add(L.MaxPooling2D((2, 2)))\n",
        "model_conv.add(L.Flatten())\n",
        "model_conv.add(L.Dense(100, activation='relu'))\n",
        "model_conv.add(L.Dense(10, activation='softmax'))"
      ],
      "execution_count": null,
      "outputs": []
    },
    {
      "cell_type": "code",
      "source": [
        "model_conv.compile(\n",
        "    loss='categorical_crossentropy',\n",
        "    optimizer=opt,\n",
        "    metrics=[\"accuracy\"]\n",
        ")"
      ],
      "metadata": {
        "id": "4_Zt9W-nug-r"
      },
      "execution_count": null,
      "outputs": []
    },
    {
      "cell_type": "code",
      "source": [
        "model_conv.fit(X_train, y_train, batch_size=64,\n",
        "               epochs=30, validation_split=0.2, verbose=2,\n",
        "               callbacks=callbacks, validation_data=[X_val, y_val])"
      ],
      "metadata": {
        "colab": {
          "base_uri": "https://localhost:8080/"
        },
        "id": "6ea5b9zKugCv",
        "outputId": "a8d1b3be-2c3a-4a67-c6d0-001107adb431"
      },
      "execution_count": null,
      "outputs": [
        {
          "output_type": "stream",
          "name": "stdout",
          "text": [
            "Epoch 1/30\n",
            "500/500 - 3s - loss: 1.8858 - accuracy: 0.3264 - val_loss: 1.9771 - val_accuracy: 0.3149 - lr: 0.0800 - 3s/epoch - 6ms/step\n",
            "Epoch 2/30\n",
            "500/500 - 2s - loss: 1.5360 - accuracy: 0.4588 - val_loss: 1.6072 - val_accuracy: 0.4464 - lr: 0.0800 - 2s/epoch - 4ms/step\n",
            "Epoch 3/30\n",
            "500/500 - 2s - loss: 1.3612 - accuracy: 0.5236 - val_loss: 1.4679 - val_accuracy: 0.4742 - lr: 0.0800 - 2s/epoch - 4ms/step\n",
            "Epoch 4/30\n",
            "500/500 - 2s - loss: 1.2485 - accuracy: 0.5615 - val_loss: 1.2661 - val_accuracy: 0.5525 - lr: 0.0800 - 2s/epoch - 5ms/step\n",
            "Epoch 5/30\n",
            "500/500 - 2s - loss: 1.1584 - accuracy: 0.5931 - val_loss: 1.2794 - val_accuracy: 0.5458 - lr: 0.0800 - 2s/epoch - 4ms/step\n",
            "Epoch 6/30\n",
            "500/500 - 2s - loss: 1.0747 - accuracy: 0.6217 - val_loss: 1.2480 - val_accuracy: 0.5673 - lr: 0.0800 - 2s/epoch - 5ms/step\n",
            "Epoch 7/30\n",
            "500/500 - 2s - loss: 1.0004 - accuracy: 0.6505 - val_loss: 1.3498 - val_accuracy: 0.5418 - lr: 0.0800 - 2s/epoch - 4ms/step\n",
            "Epoch 8/30\n",
            "500/500 - 2s - loss: 0.9301 - accuracy: 0.6728 - val_loss: 1.2594 - val_accuracy: 0.5673 - lr: 0.0800 - 2s/epoch - 5ms/step\n",
            "Epoch 9/30\n",
            "500/500 - 2s - loss: 0.8636 - accuracy: 0.6998 - val_loss: 1.3280 - val_accuracy: 0.5639 - lr: 0.0800 - 2s/epoch - 5ms/step\n",
            "Epoch 10/30\n",
            "500/500 - 2s - loss: 0.8062 - accuracy: 0.7158 - val_loss: 1.2548 - val_accuracy: 0.5832 - lr: 0.0800 - 2s/epoch - 5ms/step\n",
            "Epoch 11/30\n",
            "500/500 - 2s - loss: 0.7169 - accuracy: 0.7509 - val_loss: 1.2903 - val_accuracy: 0.5828 - lr: 0.0720 - 2s/epoch - 5ms/step\n",
            "Epoch 12/30\n",
            "500/500 - 2s - loss: 0.6308 - accuracy: 0.7805 - val_loss: 1.4203 - val_accuracy: 0.5729 - lr: 0.0648 - 2s/epoch - 4ms/step\n",
            "Epoch 13/30\n",
            "500/500 - 2s - loss: 0.5612 - accuracy: 0.8067 - val_loss: 1.3645 - val_accuracy: 0.5870 - lr: 0.0583 - 2s/epoch - 4ms/step\n",
            "Epoch 14/30\n",
            "500/500 - 2s - loss: 0.4915 - accuracy: 0.8307 - val_loss: 1.4033 - val_accuracy: 0.5934 - lr: 0.0525 - 2s/epoch - 5ms/step\n",
            "Epoch 15/30\n",
            "500/500 - 2s - loss: 0.4313 - accuracy: 0.8560 - val_loss: 1.4706 - val_accuracy: 0.5918 - lr: 0.0472 - 2s/epoch - 4ms/step\n",
            "Epoch 16/30\n",
            "500/500 - 2s - loss: 0.3754 - accuracy: 0.8781 - val_loss: 1.5243 - val_accuracy: 0.5867 - lr: 0.0425 - 2s/epoch - 4ms/step\n",
            "Epoch 17/30\n",
            "500/500 - 2s - loss: 0.3271 - accuracy: 0.8974 - val_loss: 1.5547 - val_accuracy: 0.5890 - lr: 0.0383 - 2s/epoch - 4ms/step\n",
            "Epoch 18/30\n",
            "500/500 - 2s - loss: 0.2838 - accuracy: 0.9139 - val_loss: 1.6019 - val_accuracy: 0.5891 - lr: 0.0344 - 2s/epoch - 4ms/step\n",
            "Epoch 19/30\n",
            "500/500 - 2s - loss: 0.2489 - accuracy: 0.9282 - val_loss: 1.6439 - val_accuracy: 0.5870 - lr: 0.0310 - 2s/epoch - 4ms/step\n",
            "Epoch 20/30\n",
            "500/500 - 2s - loss: 0.2193 - accuracy: 0.9406 - val_loss: 1.7056 - val_accuracy: 0.5919 - lr: 0.0279 - 2s/epoch - 4ms/step\n",
            "Epoch 21/30\n",
            "500/500 - 2s - loss: 0.1931 - accuracy: 0.9528 - val_loss: 1.7489 - val_accuracy: 0.5880 - lr: 0.0251 - 2s/epoch - 5ms/step\n",
            "Epoch 22/30\n",
            "500/500 - 2s - loss: 0.1724 - accuracy: 0.9613 - val_loss: 1.7977 - val_accuracy: 0.5869 - lr: 0.0226 - 2s/epoch - 5ms/step\n",
            "Epoch 23/30\n",
            "500/500 - 3s - loss: 0.1554 - accuracy: 0.9669 - val_loss: 1.8409 - val_accuracy: 0.5870 - lr: 0.0203 - 3s/epoch - 5ms/step\n",
            "Epoch 24/30\n",
            "500/500 - 3s - loss: 0.1408 - accuracy: 0.9722 - val_loss: 1.8630 - val_accuracy: 0.5906 - lr: 0.0183 - 3s/epoch - 6ms/step\n",
            "Epoch 25/30\n",
            "500/500 - 2s - loss: 0.1287 - accuracy: 0.9772 - val_loss: 1.8973 - val_accuracy: 0.5904 - lr: 0.0165 - 2s/epoch - 4ms/step\n",
            "Epoch 26/30\n",
            "500/500 - 2s - loss: 0.1186 - accuracy: 0.9805 - val_loss: 1.9185 - val_accuracy: 0.5899 - lr: 0.0148 - 2s/epoch - 4ms/step\n",
            "Epoch 27/30\n",
            "500/500 - 2s - loss: 0.1103 - accuracy: 0.9831 - val_loss: 1.9462 - val_accuracy: 0.5889 - lr: 0.0133 - 2s/epoch - 4ms/step\n",
            "Epoch 28/30\n",
            "500/500 - 2s - loss: 0.1036 - accuracy: 0.9847 - val_loss: 1.9711 - val_accuracy: 0.5888 - lr: 0.0120 - 2s/epoch - 4ms/step\n",
            "Epoch 29/30\n",
            "500/500 - 2s - loss: 0.0980 - accuracy: 0.9862 - val_loss: 1.9957 - val_accuracy: 0.5876 - lr: 0.0108 - 2s/epoch - 5ms/step\n",
            "Epoch 30/30\n",
            "500/500 - 2s - loss: 0.0931 - accuracy: 0.9872 - val_loss: 2.0158 - val_accuracy: 0.5891 - lr: 0.0097 - 2s/epoch - 5ms/step\n"
          ]
        },
        {
          "output_type": "execute_result",
          "data": {
            "text/plain": [
              "<keras.callbacks.History at 0x7f6f3042cdd0>"
            ]
          },
          "metadata": {},
          "execution_count": 175
        }
      ]
    },
    {
      "cell_type": "markdown",
      "metadata": {
        "id": "f37ZT8T4xjeo"
      },
      "source": [
        "Давайте посмотрим, смогла ли карманная сверточная сеть побить заданный порог по качеству:"
      ]
    },
    {
      "cell_type": "code",
      "metadata": {
        "id": "IAYvMxhTxjep",
        "colab": {
          "base_uri": "https://localhost:8080/"
        },
        "outputId": "48d56ede-5846-4b64-f908-4a3e66d6740d"
      },
      "source": [
        "from sklearn.metrics import accuracy_score\n",
        "y_pred = [np.argmax(prob) for prob in model_conv.predict(X_test)]\n",
        "test_acc = accuracy_score(y_test, y_pred)\n",
        "print(\"\\n Test_acc =\", test_acc)\n",
        "assert test_acc > 0.5, \"Not good enough. Back to the drawing board :)\"\n",
        "print(\" Not bad!\")"
      ],
      "execution_count": null,
      "outputs": [
        {
          "output_type": "stream",
          "name": "stdout",
          "text": [
            "\n",
            " Test_acc = 0.5931\n",
            " Not bad!\n"
          ]
        }
      ]
    },
    {
      "cell_type": "markdown",
      "metadata": {
        "id": "How0uQPzxjep"
      },
      "source": [
        "## Учимся учить\n",
        "\n",
        "А теперь научимся сравнивать кривые обучения моделей — зависимости значения accuracy от количества итераций. \n",
        "\n",
        "Вам потребуется реализовать _экспериментальный стенд_ — вспомогательный код, в который вы сможете подать несколько архитектур и методов обучения, чтобы он их обучил и вывел графики кривых обучения. Это можно сделать с помощью `keras.callbacks` — `TensorBoard` или `History`.\n",
        "\n",
        "Будьте морально готовы, что на обучение уйдёт _много времени_. Даже если вы ограничитесь 10 эпохами. Пока идёт обучение, вы можете переключиться на другие задания или заняться чем-нибудь приятным: поспать, например."
      ]
    },
    {
      "cell_type": "markdown",
      "metadata": {
        "id": "VwmdGNIHxjep"
      },
      "source": [
        "**Задание 1.3 (опционально)** Попробуйте использовать различные методы оптимизации (sgd, momentum, adam) с параметрами по умолчанию. Какой из методов работает лучше?"
      ]
    },
    {
      "cell_type": "markdown",
      "metadata": {
        "id": "LsF9iIFGxjeq"
      },
      "source": [
        "Для удобства напишем класс Evaluator, который принимает в себя дикты виды {имя_оптимайзера: инстанс}, {имя модели: инстанс} и обучает всевозможные комбинации моделей с оптимайзерами при помощи метода fit (попутно записывая логи отдельно для каждой модели). Также пригодится метод evaluate для отображения итоговых скоров."
      ]
    },
    {
      "cell_type": "markdown",
      "metadata": {
        "id": "FBtU0x2X5gmG"
      },
      "source": [
        "Пользоваться классом не обязательно. По умолчанию класс использует tensorboard. Если вы выше использовали wandb -- советуем дописать callback."
      ]
    },
    {
      "cell_type": "code",
      "source": [
        "from sklearn.metrics import accuracy_score"
      ],
      "metadata": {
        "id": "uJc7N8ClbOvW"
      },
      "execution_count": null,
      "outputs": []
    },
    {
      "cell_type": "code",
      "metadata": {
        "id": "n6pRKzaKxjeq"
      },
      "source": [
        "class Evaluator(list):\n",
        "    def __init__(self, models, optimizers='adam', loss=keras.losses.categorical_crossentropy,\n",
        "                 metrics=[keras.metrics.categorical_accuracy]):\n",
        "        '''\n",
        "            models: dict {name: model}\n",
        "            optimizers: list of optimizers or just one optimizer\n",
        "        '''\n",
        "        if not isinstance(models, dict):\n",
        "            models = {'single_model': models}\n",
        "        if not isinstance(optimizers, dict):\n",
        "            optimizers = {str(optimizers.__class__): optimizers}\n",
        "        super().__init__([(model_name, keras.models.clone_model(model), optimizer_name, optimizer)\n",
        "                          for model_name, model in models.items()\n",
        "                          for optimizer_name, optimizer in optimizers.items()])\n",
        "        for _, model, _, optimizer in self:\n",
        "            model.compile(optimizer=optimizer, loss=loss, metrics=metrics)\n",
        "            \n",
        "    def fit(self, X, y, validation_data=(), max_epochs=100, verbose=0, callbacks=[], batch_size=32):\n",
        "        if not isinstance(callbacks, list):\n",
        "            callbacks = [callbacks]\n",
        "        for model_name, model, optimizer_name, optimizer in tqdm_notebook(self):\n",
        "            model.fit(X, y, validation_data=validation_data or None, epochs=max_epochs, verbose=verbose,\n",
        "                      batch_size=batch_size, callbacks=callbacks + [keras.callbacks.TensorBoard(\n",
        "                          log_dir='./logs/{}_{}'.format(model_name, optimizer_name))])\n",
        "            \n",
        "    def fit_generator(self, X, y, validation_data=(), max_epochs=100, verbose=1, callbacks=[], batch_size=32):\n",
        "        datagen = keras.preprocessing.image.ImageDataGenerator(\n",
        "            rotation_range=20,\n",
        "            width_shift_range=0.2,\n",
        "            height_shift_range=0.2,\n",
        "            horizontal_flip=True\n",
        "        )\n",
        "        if not isinstance(callbacks, list):\n",
        "            callbacks = [callbacks]\n",
        "        for model_name, model, optimizer_name, optimizer in tqdm_notebook(self):\n",
        "            model.fit_generator(datagen.flow(X, y, batch_size=batch_size), epochs=max_epochs,\n",
        "                validation_data=validation_data or None, verbose=verbose,\n",
        "                callbacks=callbacks + [keras.callbacks.TensorBoard(\n",
        "                    log_dir='./logs/{}_{}'.format(model_name, optimizer_name))])\n",
        "        \n",
        "    def evaluate(self, X, y, metric):\n",
        "        for model_name, model, optimizer_name, _ in self:\n",
        "            print('Final score of {}_{} is {}'.format(model_name, optimizer_name,\n",
        "                  metric(y_test, [np.argmax(prob) for prob in model.predict(X_test)])))"
      ],
      "execution_count": null,
      "outputs": []
    },
    {
      "cell_type": "code",
      "metadata": {
        "id": "vpAWyAs7xjer"
      },
      "source": [
        "!rm -rf ./logs"
      ],
      "execution_count": null,
      "outputs": []
    },
    {
      "cell_type": "code",
      "metadata": {
        "id": "FLtng4Cwxjer"
      },
      "source": [
        "optimizers = {\n",
        "    'sgd': 'sgd',\n",
        "    'adam': 'adam',\n",
        "    'momentum': 'rmsprop'\n",
        "}"
      ],
      "execution_count": null,
      "outputs": []
    },
    {
      "cell_type": "code",
      "source": [
        "X_val.shape, y_val.shape"
      ],
      "metadata": {
        "colab": {
          "base_uri": "https://localhost:8080/"
        },
        "id": "EWw53vTKZo5J",
        "outputId": "d203bf0e-69c9-451b-930a-6c02f5df25f3"
      },
      "execution_count": null,
      "outputs": [
        {
          "output_type": "execute_result",
          "data": {
            "text/plain": [
              "((10000, 32, 32, 3), (10000, 10))"
            ]
          },
          "metadata": {},
          "execution_count": 104
        }
      ]
    },
    {
      "cell_type": "code",
      "metadata": {
        "id": "RQJqV2vjxjes"
      },
      "source": [
        "evaluator = Evaluator(model_conv, optimizers=optimizers)\n",
        "evaluator.fit(X_train, y_train, callbacks=callbacks, validation_data=(X_val, y_val))"
      ],
      "execution_count": null,
      "outputs": []
    },
    {
      "cell_type": "code",
      "source": [
        "evaluator.evaluate(X_test, y_test, accuracy_score)"
      ],
      "metadata": {
        "id": "mo4OJqYkiaUF"
      },
      "execution_count": null,
      "outputs": []
    },
    {
      "cell_type": "markdown",
      "metadata": {
        "id": "uFMVTSbtxjes"
      },
      "source": [
        "Прокомментируйте полученные результаты."
      ]
    },
    {
      "cell_type": "code",
      "metadata": {
        "id": "C3q4UPvu3Y7M"
      },
      "source": [
        ""
      ],
      "execution_count": null,
      "outputs": []
    },
    {
      "cell_type": "markdown",
      "metadata": {
        "id": "MVkaJnLWxjet"
      },
      "source": [
        "**Задание 1.4 (опционально)** Добавьте нормализацию по батчу (`BatchNormalization`) между свёрткой и активацией. Попробуйте использовать несколько нормализаций — в свёрточных и полносвязных слоях."
      ]
    },
    {
      "cell_type": "code",
      "metadata": {
        "scrolled": true,
        "id": "gZ-1VwtefE2E"
      },
      "source": [
        "model_conv_norm = keras.Sequential()\n",
        "model_conv_norm.add(L.Conv2D(10, (3, 3),\n",
        "                        activation='relu',\n",
        "                        input_shape=(32, 32, 3)))\n",
        "model_conv_norm.add(L.BatchNormalization())\n",
        "model_conv_norm.add(L.MaxPooling2D((2, 2)))\n",
        "model_conv_norm.add(L.BatchNormalization())\n",
        "model_conv_norm.add(L.Flatten())\n",
        "model_conv_norm.add(L.Dense(100, activation='relu'))\n",
        "model_conv_norm.add(L.BatchNormalization())\n",
        "model_conv_norm.add(L.Dense(10, activation='softmax'))"
      ],
      "execution_count": null,
      "outputs": []
    },
    {
      "cell_type": "code",
      "source": [
        "model_conv_norm.compile(\n",
        "    loss='categorical_crossentropy',\n",
        "    optimizer=opt,\n",
        "    metrics=[\"accuracy\"]\n",
        ")"
      ],
      "metadata": {
        "id": "amPhEfecfE2J"
      },
      "execution_count": null,
      "outputs": []
    },
    {
      "cell_type": "code",
      "source": [
        "# callbacks=callbacks, \n",
        "model_conv_norm.fit(X_train, y_train, batch_size=64,\n",
        "               epochs=30, validation_split=0.2, verbose=2,\n",
        "               callbacks=callbacks, validation_data=[X_val, y_val])"
      ],
      "metadata": {
        "colab": {
          "base_uri": "https://localhost:8080/"
        },
        "outputId": "ca61d291-bb37-405b-cdae-0779de8c50e9",
        "id": "MyGdrWXDfE2O"
      },
      "execution_count": null,
      "outputs": [
        {
          "output_type": "stream",
          "name": "stdout",
          "text": [
            "Epoch 1/30\n",
            "500/500 - 4s - loss: 1.5357 - accuracy: 0.4606 - val_loss: 1.7165 - val_accuracy: 0.4255 - lr: 0.0800 - 4s/epoch - 8ms/step\n",
            "Epoch 2/30\n",
            "500/500 - 3s - loss: 1.2259 - accuracy: 0.5672 - val_loss: 1.2793 - val_accuracy: 0.5458 - lr: 0.0800 - 3s/epoch - 5ms/step\n",
            "Epoch 3/30\n",
            "500/500 - 3s - loss: 1.1059 - accuracy: 0.6117 - val_loss: 1.2703 - val_accuracy: 0.5497 - lr: 0.0800 - 3s/epoch - 5ms/step\n",
            "Epoch 4/30\n",
            "500/500 - 3s - loss: 1.0119 - accuracy: 0.6439 - val_loss: 1.5893 - val_accuracy: 0.5002 - lr: 0.0800 - 3s/epoch - 5ms/step\n",
            "Epoch 5/30\n",
            "500/500 - 3s - loss: 0.9358 - accuracy: 0.6730 - val_loss: 1.3232 - val_accuracy: 0.5487 - lr: 0.0800 - 3s/epoch - 6ms/step\n",
            "Epoch 6/30\n",
            "500/500 - 3s - loss: 0.8648 - accuracy: 0.6943 - val_loss: 1.3407 - val_accuracy: 0.5524 - lr: 0.0800 - 3s/epoch - 6ms/step\n",
            "Epoch 7/30\n",
            "500/500 - 3s - loss: 0.7982 - accuracy: 0.7205 - val_loss: 1.4376 - val_accuracy: 0.5447 - lr: 0.0800 - 3s/epoch - 5ms/step\n",
            "Epoch 8/30\n",
            "500/500 - 3s - loss: 0.7414 - accuracy: 0.7386 - val_loss: 1.4683 - val_accuracy: 0.5450 - lr: 0.0800 - 3s/epoch - 6ms/step\n",
            "Epoch 9/30\n",
            "500/500 - 3s - loss: 0.6842 - accuracy: 0.7607 - val_loss: 1.3876 - val_accuracy: 0.5627 - lr: 0.0800 - 3s/epoch - 5ms/step\n",
            "Epoch 10/30\n",
            "500/500 - 3s - loss: 0.6320 - accuracy: 0.7784 - val_loss: 1.5395 - val_accuracy: 0.5394 - lr: 0.0800 - 3s/epoch - 5ms/step\n",
            "Epoch 11/30\n",
            "500/500 - 3s - loss: 0.5617 - accuracy: 0.8045 - val_loss: 1.4387 - val_accuracy: 0.5646 - lr: 0.0720 - 3s/epoch - 6ms/step\n",
            "Epoch 12/30\n",
            "500/500 - 3s - loss: 0.4936 - accuracy: 0.8293 - val_loss: 1.5364 - val_accuracy: 0.5779 - lr: 0.0648 - 3s/epoch - 5ms/step\n",
            "Epoch 13/30\n",
            "500/500 - 3s - loss: 0.4297 - accuracy: 0.8525 - val_loss: 1.5333 - val_accuracy: 0.5685 - lr: 0.0583 - 3s/epoch - 5ms/step\n",
            "Epoch 14/30\n",
            "500/500 - 3s - loss: 0.3826 - accuracy: 0.8733 - val_loss: 1.6335 - val_accuracy: 0.5753 - lr: 0.0525 - 3s/epoch - 5ms/step\n",
            "Epoch 15/30\n",
            "500/500 - 3s - loss: 0.3344 - accuracy: 0.8887 - val_loss: 1.6522 - val_accuracy: 0.5698 - lr: 0.0472 - 3s/epoch - 5ms/step\n",
            "Epoch 16/30\n",
            "500/500 - 3s - loss: 0.2965 - accuracy: 0.9024 - val_loss: 1.7538 - val_accuracy: 0.5745 - lr: 0.0425 - 3s/epoch - 6ms/step\n",
            "Epoch 17/30\n",
            "500/500 - 3s - loss: 0.2606 - accuracy: 0.9193 - val_loss: 1.8034 - val_accuracy: 0.5736 - lr: 0.0383 - 3s/epoch - 6ms/step\n",
            "Epoch 18/30\n",
            "500/500 - 3s - loss: 0.2334 - accuracy: 0.9286 - val_loss: 1.8271 - val_accuracy: 0.5704 - lr: 0.0344 - 3s/epoch - 5ms/step\n",
            "Epoch 19/30\n",
            "500/500 - 3s - loss: 0.2071 - accuracy: 0.9370 - val_loss: 1.8312 - val_accuracy: 0.5690 - lr: 0.0310 - 3s/epoch - 6ms/step\n",
            "Epoch 20/30\n",
            "500/500 - 3s - loss: 0.1856 - accuracy: 0.9457 - val_loss: 1.9261 - val_accuracy: 0.5575 - lr: 0.0279 - 3s/epoch - 6ms/step\n",
            "Epoch 21/30\n",
            "500/500 - 3s - loss: 0.1657 - accuracy: 0.9546 - val_loss: 1.9251 - val_accuracy: 0.5674 - lr: 0.0251 - 3s/epoch - 5ms/step\n",
            "Epoch 22/30\n",
            "500/500 - 3s - loss: 0.1526 - accuracy: 0.9587 - val_loss: 1.9788 - val_accuracy: 0.5713 - lr: 0.0226 - 3s/epoch - 6ms/step\n",
            "Epoch 23/30\n",
            "500/500 - 3s - loss: 0.1403 - accuracy: 0.9630 - val_loss: 1.9777 - val_accuracy: 0.5707 - lr: 0.0203 - 3s/epoch - 5ms/step\n",
            "Epoch 24/30\n",
            "500/500 - 3s - loss: 0.1300 - accuracy: 0.9666 - val_loss: 2.0305 - val_accuracy: 0.5629 - lr: 0.0183 - 3s/epoch - 5ms/step\n",
            "Epoch 25/30\n",
            "500/500 - 3s - loss: 0.1181 - accuracy: 0.9724 - val_loss: 2.0488 - val_accuracy: 0.5714 - lr: 0.0165 - 3s/epoch - 6ms/step\n",
            "Epoch 26/30\n",
            "500/500 - 3s - loss: 0.1151 - accuracy: 0.9722 - val_loss: 2.0512 - val_accuracy: 0.5701 - lr: 0.0148 - 3s/epoch - 5ms/step\n",
            "Epoch 27/30\n",
            "500/500 - 3s - loss: 0.1076 - accuracy: 0.9748 - val_loss: 2.0747 - val_accuracy: 0.5676 - lr: 0.0133 - 3s/epoch - 6ms/step\n",
            "Epoch 28/30\n",
            "500/500 - 3s - loss: 0.0976 - accuracy: 0.9783 - val_loss: 2.0853 - val_accuracy: 0.5686 - lr: 0.0120 - 3s/epoch - 5ms/step\n",
            "Epoch 29/30\n",
            "500/500 - 3s - loss: 0.0950 - accuracy: 0.9801 - val_loss: 2.1292 - val_accuracy: 0.5640 - lr: 0.0108 - 3s/epoch - 5ms/step\n",
            "Epoch 30/30\n",
            "500/500 - 3s - loss: 0.0914 - accuracy: 0.9803 - val_loss: 2.1222 - val_accuracy: 0.5673 - lr: 0.0097 - 3s/epoch - 6ms/step\n"
          ]
        },
        {
          "output_type": "execute_result",
          "data": {
            "text/plain": [
              "<keras.callbacks.History at 0x7f6f3028a750>"
            ]
          },
          "metadata": {},
          "execution_count": 189
        }
      ]
    },
    {
      "cell_type": "code",
      "source": [
        "from sklearn.metrics import accuracy_score\n",
        "y_pred = [np.argmax(prob) for prob in model_conv_norm.predict(X_test)]\n",
        "test_acc = accuracy_score(y_test, y_pred)\n",
        "print(\"\\n Test_acc =\", test_acc)\n",
        "assert test_acc > 0.5, \"Not good enough. Back to the drawing board :)\""
      ],
      "metadata": {
        "colab": {
          "base_uri": "https://localhost:8080/"
        },
        "id": "0-ZLA-NwjFId",
        "outputId": "cc064eb4-57e8-4097-f02d-893273c02a4c"
      },
      "execution_count": null,
      "outputs": [
        {
          "output_type": "stream",
          "name": "stdout",
          "text": [
            "\n",
            " Test_acc = 0.5751\n"
          ]
        }
      ]
    },
    {
      "cell_type": "markdown",
      "metadata": {
        "id": "VUBUmZoB0Izj"
      },
      "source": [
        "Прокомментируйте полученные результаты."
      ]
    },
    {
      "cell_type": "markdown",
      "source": [
        "**Роста качества модели не произошло. Также модель не стала обучаться быстрее.**"
      ],
      "metadata": {
        "id": "gIYjPIvYucDY"
      }
    },
    {
      "cell_type": "markdown",
      "metadata": {
        "id": "G3Doml67xjev"
      },
      "source": [
        "**Задание 1.5 (опционально)** Посмотрите на batch_size (параметр model.fit) - при большем батче модель будет быстрее проходить эпохи, но с совсем огромным батчом вам потребуется больше эпох для сходимости (т.к. сеть делает меньше шагов за одну эпоху).\n",
        "Найдите такое значение, при котором модель быстрее достигает точности 55%. **Hint**: используйте early stopping callback."
      ]
    },
    {
      "cell_type": "markdown",
      "metadata": {
        "id": "L1GsMtyIxjew"
      },
      "source": [
        "**Задание 1.6 (опционально)** Попробуйте найти такую комбинацию метода обучения и нормализации, при которой сеть имеет наилучшую кривую обучения. Поясните, что вы понимаете под \"наилучшей\" кривой обучения."
      ]
    },
    {
      "cell_type": "markdown",
      "metadata": {
        "id": "-unmmw3Txjey"
      },
      "source": [
        "## Свёрточная нейросеть здорового человека\n",
        "\n",
        "**Задание 1.7 (обязательно попытаться)** Наигравшись выше, обучим большую свёрточную сеть, которая даст на тестовой выборке __accuracy больше 80%__. В этом задании вам потребуется провести эксперименты, сравнив их между собой в конце. Возможно, может быть несколько проще, если писать выводы во время или сразу после каждого эксперимента, после чего сделать общие выводы.\n",
        "\n",
        "Рекомендуем начать с лучшей модели предыдущего задания и постепенно её улучшать. Вы можете использовать всё, что угодно: любые активации, сколь угодно большие свёрточные слои и глубокие сети. Единственное ограничение: __нельзя использовать предобученные сети и дополнительные данные__.\n",
        "\n",
        "### Полезные советы\n",
        "* Для начала, неплохо бы научить что-нибудь побольше, чем 10 фильтров 3x3.\n",
        "* __Главное правило: одно изменение на эксперимент__. Если у вас есть 2 идеи по улучшению сети, сначала попробуйте их независимо. Может оказаться, что одно из них дало __+10%__ точности а другое __-7%__. А вы так и будете думать, что сделали 2 полезных изменения которые в сумме дают __+3%__. Если какая-то идея не работает — даже если она вам нравится - опишите ее и выкидывайте из дальнейших экспериментов.\n",
        "* __Be careful or you will dropout__. Дропаут (`L.Dropout`) может позволить вам обучить в несколько раз бОльшую сеть без переобучения, выжав несколько процентов качества. Это круто, но не стоит сразу ставить dropout 50%. Во-первых, слишком сильный дропаут только ухудшит сеть (underfitting). Во-вторых, даже если дропаут улучшает качество, он замедляет обучение. Рекомендуем начинать с небольшого дропаута, быстро провести основные эксперименты, а потом жахнуть в 2 раза больше нейронов и дропаута ~~на ночь~~.\n",
        "* __Аугментация данных__. Если котика слегка повернуть и подрезать (простите), он всё равно останется котиком. А в керасе есть [удобный класс](https://keras.io/preprocessing/image/), который поставит подрезание котиков на поток. Ещё можно сделать этот трюк в тесте: вертим картинку 10 раз, предсказываем вероятности и усредняем. Только один совет: прежде, чем учить, посмотрите глазами на аугментированные картинки. Если вы сами не можете их различить, то и сеть не сможет.\n",
        "* __Don't just stack more layers__. Есть более эффективные способы организовать слои, чем простой Sequential. Вот пара идей: [Inception family](https://hacktilldawn.com/2016/09/25/inception-modules-explained-and-implemented/), [ResNet family](https://towardsdatascience.com/an-overview-of-resnet-and-its-variants-5281e2f56035?gi=9018057983ca), [Densely-connected convolutions](https://arxiv.org/abs/1608.06993). Только не копируйте архитектуру подчистую — вам скорее всего хватит меньшего размера.\n",
        "* __Долго != плохо__. Более глубокие архитектуры обычно требуют бОльше эпох до сходимости. Это значит, что в первые несколько эпох они могут быть хуже менее глубоких аналогов. Дайте им время, запаситесь чаем и обмажьтесь batch-norm-ом."
      ]
    },
    {
      "cell_type": "code",
      "metadata": {
        "id": "fJkfhCNZ2ZEs"
      },
      "source": [
        "model_final = keras.Sequential()\n",
        "model_final.add(L.Conv2D(32, (3, 3), activation='relu', kernel_initializer='he_uniform', padding='same', input_shape=(32, 32, 3)))\n",
        "model_final.add(L.Conv2D(32, (3, 3), activation='relu', kernel_initializer='he_uniform', padding='same'))\n",
        "model_final.add(L.MaxPooling2D((2, 2)))\n",
        "model_final.add(L.Dropout(0.2))\n",
        "\n",
        "model_final.add(L.Conv2D(128, (3, 3), activation='relu', kernel_initializer='he_uniform', padding='same'))\n",
        "model_final.add(L.Conv2D(128, (3, 3), activation='relu', kernel_initializer='he_uniform', padding='same'))\n",
        "model_final.add(L.MaxPooling2D((2, 2)))\n",
        "model_final.add(L.Dropout(0.4))\n",
        "\n",
        "model_final.add(L.Flatten())\n",
        "model_final.add(L.Dense(128, activation='relu', kernel_initializer='he_uniform'))\n",
        "model_final.add(L.Dropout(0.5))\n",
        "model_final.add(L.Dense(10, activation='softmax'))\n",
        "\n",
        "model_final.compile(optimizer=opt, loss='categorical_crossentropy', metrics=['accuracy'])"
      ],
      "execution_count": null,
      "outputs": []
    },
    {
      "cell_type": "code",
      "source": [
        "model_final.fit(X_train, y_train, batch_size=64,\n",
        "               epochs=150, validation_split=0.2, verbose=2,\n",
        "               callbacks=callbacks, validation_data=[X_val, y_val])"
      ],
      "metadata": {
        "colab": {
          "base_uri": "https://localhost:8080/"
        },
        "id": "6lPO06CMwCzI",
        "outputId": "74daea13-e26d-490b-9656-74254f98ecd5"
      },
      "execution_count": null,
      "outputs": [
        {
          "output_type": "stream",
          "name": "stdout",
          "text": [
            "Epoch 1/150\n",
            "500/500 - 11s - loss: 2.0555 - accuracy: 0.2359 - val_loss: 1.7447 - val_accuracy: 0.3798 - lr: 0.0800 - 11s/epoch - 23ms/step\n",
            "Epoch 2/150\n",
            "500/500 - 10s - loss: 1.6571 - accuracy: 0.3951 - val_loss: 1.4652 - val_accuracy: 0.4754 - lr: 0.0800 - 10s/epoch - 21ms/step\n",
            "Epoch 3/150\n",
            "500/500 - 10s - loss: 1.4908 - accuracy: 0.4616 - val_loss: 1.3333 - val_accuracy: 0.5156 - lr: 0.0800 - 10s/epoch - 20ms/step\n",
            "Epoch 4/150\n",
            "500/500 - 11s - loss: 1.3531 - accuracy: 0.5122 - val_loss: 1.1614 - val_accuracy: 0.5849 - lr: 0.0800 - 11s/epoch - 21ms/step\n",
            "Epoch 5/150\n",
            "500/500 - 10s - loss: 1.2559 - accuracy: 0.5507 - val_loss: 1.0611 - val_accuracy: 0.6285 - lr: 0.0800 - 10s/epoch - 21ms/step\n",
            "Epoch 6/150\n",
            "500/500 - 10s - loss: 1.1646 - accuracy: 0.5874 - val_loss: 1.0107 - val_accuracy: 0.6404 - lr: 0.0800 - 10s/epoch - 20ms/step\n",
            "Epoch 7/150\n",
            "500/500 - 11s - loss: 1.0878 - accuracy: 0.6153 - val_loss: 0.9578 - val_accuracy: 0.6615 - lr: 0.0800 - 11s/epoch - 21ms/step\n",
            "Epoch 8/150\n",
            "500/500 - 10s - loss: 1.0307 - accuracy: 0.6354 - val_loss: 0.9029 - val_accuracy: 0.6816 - lr: 0.0800 - 10s/epoch - 20ms/step\n",
            "Epoch 9/150\n",
            "500/500 - 10s - loss: 0.9813 - accuracy: 0.6522 - val_loss: 0.9109 - val_accuracy: 0.6754 - lr: 0.0800 - 10s/epoch - 20ms/step\n",
            "Epoch 10/150\n",
            "500/500 - 11s - loss: 0.9374 - accuracy: 0.6681 - val_loss: 0.8256 - val_accuracy: 0.7099 - lr: 0.0800 - 11s/epoch - 21ms/step\n",
            "Epoch 11/150\n",
            "500/500 - 10s - loss: 0.8823 - accuracy: 0.6878 - val_loss: 0.8726 - val_accuracy: 0.7001 - lr: 0.0720 - 10s/epoch - 20ms/step\n",
            "Epoch 12/150\n",
            "500/500 - 10s - loss: 0.8289 - accuracy: 0.7083 - val_loss: 0.7824 - val_accuracy: 0.7245 - lr: 0.0648 - 10s/epoch - 20ms/step\n",
            "Epoch 13/150\n",
            "500/500 - 10s - loss: 0.7803 - accuracy: 0.7243 - val_loss: 0.7578 - val_accuracy: 0.7294 - lr: 0.0583 - 10s/epoch - 20ms/step\n",
            "Epoch 14/150\n",
            "500/500 - 10s - loss: 0.7474 - accuracy: 0.7355 - val_loss: 0.7382 - val_accuracy: 0.7396 - lr: 0.0525 - 10s/epoch - 20ms/step\n",
            "Epoch 15/150\n",
            "500/500 - 10s - loss: 0.7187 - accuracy: 0.7448 - val_loss: 0.7695 - val_accuracy: 0.7341 - lr: 0.0472 - 10s/epoch - 20ms/step\n",
            "Epoch 16/150\n",
            "500/500 - 10s - loss: 0.6864 - accuracy: 0.7538 - val_loss: 0.7328 - val_accuracy: 0.7449 - lr: 0.0425 - 10s/epoch - 21ms/step\n",
            "Epoch 17/150\n",
            "500/500 - 10s - loss: 0.6602 - accuracy: 0.7651 - val_loss: 0.7131 - val_accuracy: 0.7490 - lr: 0.0383 - 10s/epoch - 21ms/step\n",
            "Epoch 18/150\n",
            "500/500 - 10s - loss: 0.6281 - accuracy: 0.7731 - val_loss: 0.7090 - val_accuracy: 0.7611 - lr: 0.0344 - 10s/epoch - 20ms/step\n",
            "Epoch 19/150\n",
            "500/500 - 10s - loss: 0.6192 - accuracy: 0.7795 - val_loss: 0.6879 - val_accuracy: 0.7577 - lr: 0.0310 - 10s/epoch - 20ms/step\n",
            "Epoch 20/150\n",
            "500/500 - 10s - loss: 0.5984 - accuracy: 0.7874 - val_loss: 0.6796 - val_accuracy: 0.7619 - lr: 0.0279 - 10s/epoch - 20ms/step\n",
            "Epoch 21/150\n",
            "500/500 - 10s - loss: 0.5780 - accuracy: 0.7927 - val_loss: 0.7045 - val_accuracy: 0.7556 - lr: 0.0251 - 10s/epoch - 21ms/step\n",
            "Epoch 22/150\n",
            "500/500 - 10s - loss: 0.5560 - accuracy: 0.8018 - val_loss: 0.6829 - val_accuracy: 0.7676 - lr: 0.0226 - 10s/epoch - 20ms/step\n",
            "Epoch 23/150\n",
            "500/500 - 10s - loss: 0.5404 - accuracy: 0.8058 - val_loss: 0.6737 - val_accuracy: 0.7650 - lr: 0.0203 - 10s/epoch - 20ms/step\n",
            "Epoch 24/150\n",
            "500/500 - 10s - loss: 0.5303 - accuracy: 0.8097 - val_loss: 0.6873 - val_accuracy: 0.7669 - lr: 0.0183 - 10s/epoch - 20ms/step\n",
            "Epoch 25/150\n",
            "500/500 - 11s - loss: 0.5121 - accuracy: 0.8147 - val_loss: 0.6841 - val_accuracy: 0.7665 - lr: 0.0165 - 11s/epoch - 21ms/step\n",
            "Epoch 26/150\n",
            "500/500 - 10s - loss: 0.5088 - accuracy: 0.8166 - val_loss: 0.6720 - val_accuracy: 0.7703 - lr: 0.0148 - 10s/epoch - 20ms/step\n",
            "Epoch 27/150\n",
            "500/500 - 11s - loss: 0.4937 - accuracy: 0.8232 - val_loss: 0.6690 - val_accuracy: 0.7725 - lr: 0.0133 - 11s/epoch - 21ms/step\n",
            "Epoch 28/150\n",
            "500/500 - 10s - loss: 0.4953 - accuracy: 0.8217 - val_loss: 0.6696 - val_accuracy: 0.7707 - lr: 0.0120 - 10s/epoch - 20ms/step\n",
            "Epoch 29/150\n",
            "500/500 - 10s - loss: 0.4752 - accuracy: 0.8283 - val_loss: 0.6785 - val_accuracy: 0.7730 - lr: 0.0108 - 10s/epoch - 20ms/step\n",
            "Epoch 30/150\n",
            "500/500 - 10s - loss: 0.4699 - accuracy: 0.8301 - val_loss: 0.6773 - val_accuracy: 0.7750 - lr: 0.0097 - 10s/epoch - 20ms/step\n",
            "Epoch 31/150\n",
            "500/500 - 10s - loss: 0.4709 - accuracy: 0.8299 - val_loss: 0.6701 - val_accuracy: 0.7746 - lr: 0.0088 - 10s/epoch - 21ms/step\n",
            "Epoch 32/150\n",
            "500/500 - 10s - loss: 0.4601 - accuracy: 0.8309 - val_loss: 0.6753 - val_accuracy: 0.7738 - lr: 0.0079 - 10s/epoch - 21ms/step\n",
            "Epoch 33/150\n",
            "500/500 - 10s - loss: 0.4594 - accuracy: 0.8307 - val_loss: 0.6661 - val_accuracy: 0.7761 - lr: 0.0071 - 10s/epoch - 20ms/step\n",
            "Epoch 34/150\n",
            "500/500 - 10s - loss: 0.4500 - accuracy: 0.8357 - val_loss: 0.6719 - val_accuracy: 0.7749 - lr: 0.0064 - 10s/epoch - 21ms/step\n",
            "Epoch 35/150\n",
            "500/500 - 10s - loss: 0.4444 - accuracy: 0.8357 - val_loss: 0.6780 - val_accuracy: 0.7753 - lr: 0.0057 - 10s/epoch - 20ms/step\n",
            "Epoch 36/150\n",
            "500/500 - 10s - loss: 0.4450 - accuracy: 0.8395 - val_loss: 0.6752 - val_accuracy: 0.7759 - lr: 0.0052 - 10s/epoch - 21ms/step\n",
            "Epoch 37/150\n",
            "500/500 - 10s - loss: 0.4420 - accuracy: 0.8400 - val_loss: 0.6761 - val_accuracy: 0.7753 - lr: 0.0047 - 10s/epoch - 20ms/step\n",
            "Epoch 38/150\n",
            "500/500 - 10s - loss: 0.4302 - accuracy: 0.8436 - val_loss: 0.6743 - val_accuracy: 0.7764 - lr: 0.0042 - 10s/epoch - 21ms/step\n",
            "Epoch 39/150\n",
            "500/500 - 10s - loss: 0.4345 - accuracy: 0.8427 - val_loss: 0.6752 - val_accuracy: 0.7769 - lr: 0.0038 - 10s/epoch - 21ms/step\n",
            "Epoch 40/150\n",
            "500/500 - 10s - loss: 0.4289 - accuracy: 0.8431 - val_loss: 0.6751 - val_accuracy: 0.7781 - lr: 0.0034 - 10s/epoch - 21ms/step\n",
            "Epoch 41/150\n",
            "500/500 - 10s - loss: 0.4251 - accuracy: 0.8449 - val_loss: 0.6748 - val_accuracy: 0.7772 - lr: 0.0031 - 10s/epoch - 21ms/step\n",
            "Epoch 42/150\n",
            "500/500 - 10s - loss: 0.4296 - accuracy: 0.8440 - val_loss: 0.6718 - val_accuracy: 0.7791 - lr: 0.0027 - 10s/epoch - 20ms/step\n",
            "Epoch 43/150\n",
            "500/500 - 10s - loss: 0.4277 - accuracy: 0.8456 - val_loss: 0.6713 - val_accuracy: 0.7774 - lr: 0.0025 - 10s/epoch - 20ms/step\n",
            "Epoch 44/150\n",
            "500/500 - 10s - loss: 0.4259 - accuracy: 0.8450 - val_loss: 0.6733 - val_accuracy: 0.7786 - lr: 0.0022 - 10s/epoch - 21ms/step\n"
          ]
        },
        {
          "output_type": "execute_result",
          "data": {
            "text/plain": [
              "<keras.callbacks.History at 0x7f6f2f64fd10>"
            ]
          },
          "metadata": {},
          "execution_count": 203
        }
      ]
    },
    {
      "cell_type": "markdown",
      "metadata": {
        "id": "8Mm6fAOTxje1"
      },
      "source": [
        "Момент истины: проверьте, какого качества достигла ваша сеть."
      ]
    },
    {
      "cell_type": "code",
      "metadata": {
        "id": "BgUcJYLzxje2",
        "colab": {
          "base_uri": "https://localhost:8080/"
        },
        "outputId": "2acc8fb3-b947-4ddd-d41b-2db96fff3902"
      },
      "source": [
        "from sklearn.metrics import accuracy_score\n",
        "y_pred = [np.argmax(prob) for prob in model_final.predict(X_test)]\n",
        "test_acc = accuracy_score(y_test, y_pred)\n",
        "print(\"\\n Test_acc =\", test_acc)\n",
        "if test_acc > 0.8:\n",
        "    print(\"Это победа!\")"
      ],
      "execution_count": null,
      "outputs": [
        {
          "output_type": "stream",
          "name": "stdout",
          "text": [
            "\n",
            " Test_acc = 0.7787\n"
          ]
        }
      ]
    },
    {
      "cell_type": "markdown",
      "source": [
        "**Попробуем усложнить модель, добавив еще одну группу слоев. Также снизим скорость затухания learning rate.**"
      ],
      "metadata": {
        "id": "xsTXi9Wq1KfC"
      }
    },
    {
      "cell_type": "code",
      "source": [
        "def scheduler(epoch, lr):\n",
        "    if epoch < 10:\n",
        "        return lr\n",
        "    else:\n",
        "        return lr * 0.95"
      ],
      "metadata": {
        "id": "BmQo48X8Nyma"
      },
      "execution_count": null,
      "outputs": []
    },
    {
      "cell_type": "code",
      "source": [
        "callback_sch = tf.keras.callbacks.LearningRateScheduler(scheduler)"
      ],
      "metadata": {
        "id": "0x_4VB4oNymf"
      },
      "execution_count": null,
      "outputs": []
    },
    {
      "cell_type": "code",
      "source": [
        "callback_stp = tf.keras.callbacks.EarlyStopping(monitor='loss', patience=3)"
      ],
      "metadata": {
        "id": "c1lgG3Q1Nymh"
      },
      "execution_count": null,
      "outputs": []
    },
    {
      "cell_type": "code",
      "metadata": {
        "id": "iKZT3boaNymk"
      },
      "source": [
        "callbacks = [callback_sch, callback_stp]"
      ],
      "execution_count": null,
      "outputs": []
    },
    {
      "cell_type": "code",
      "source": [
        "opt = tf.keras.optimizers.SGD(learning_rate=0.08)"
      ],
      "metadata": {
        "id": "KJiyiLVBNymn"
      },
      "execution_count": null,
      "outputs": []
    },
    {
      "cell_type": "code",
      "source": [
        "model_final = keras.Sequential()\n",
        "model_final.add(L.Conv2D(32, (3, 3), activation='relu', kernel_initializer='he_uniform', padding='same', input_shape=(32, 32, 3)))\n",
        "model_final.add(L.Conv2D(32, (3, 3), activation='relu', kernel_initializer='he_uniform', padding='same'))\n",
        "model_final.add(L.MaxPooling2D((2, 2)))\n",
        "model_final.add(L.Dropout(0.2))\n",
        "model_final.add(L.Conv2D(64, (3, 3), activation='relu', kernel_initializer='he_uniform', padding='same'))\n",
        "model_final.add(L.Conv2D(64, (3, 3), activation='relu', kernel_initializer='he_uniform', padding='same'))\n",
        "model_final.add(L.MaxPooling2D((2, 2)))\n",
        "model_final.add(L.Dropout(0.3))\n",
        "model_final.add(L.Conv2D(128, (3, 3), activation='relu', kernel_initializer='he_uniform', padding='same'))\n",
        "model_final.add(L.Conv2D(128, (3, 3), activation='relu', kernel_initializer='he_uniform', padding='same'))\n",
        "model_final.add(L.MaxPooling2D((2, 2)))\n",
        "model_final.add(L.Dropout(0.4))\n",
        "model_final.add(L.Flatten())\n",
        "model_final.add(L.Dense(128, activation='relu', kernel_initializer='he_uniform'))\n",
        "model_final.add(L.Dropout(0.5))\n",
        "model_final.add(L.Dense(10, activation='softmax'))\n",
        "\n",
        "model_final.compile(optimizer=opt, loss='categorical_crossentropy', metrics=['accuracy'])"
      ],
      "metadata": {
        "id": "Qlh3iTVn1AGJ"
      },
      "execution_count": 36,
      "outputs": []
    },
    {
      "cell_type": "code",
      "source": [
        "model_final.fit(X_train, y_train, batch_size=64,\n",
        "               epochs=150, validation_split=0.2, verbose=2,\n",
        "               callbacks=callbacks, validation_data=[X_val, y_val])"
      ],
      "metadata": {
        "id": "CyfVCMyQ1Y-t",
        "colab": {
          "base_uri": "https://localhost:8080/"
        },
        "outputId": "3afe51ac-7204-4c1f-fa43-81b7549df338"
      },
      "execution_count": 37,
      "outputs": [
        {
          "output_type": "stream",
          "name": "stdout",
          "text": [
            "Epoch 1/150\n",
            "500/500 - 13s - loss: 2.2884 - accuracy: 0.1313 - val_loss: 2.2080 - val_accuracy: 0.1521 - lr: 0.0800 - 13s/epoch - 26ms/step\n",
            "Epoch 2/150\n",
            "500/500 - 11s - loss: 1.9962 - accuracy: 0.2559 - val_loss: 1.7226 - val_accuracy: 0.3600 - lr: 0.0800 - 11s/epoch - 21ms/step\n",
            "Epoch 3/150\n",
            "500/500 - 11s - loss: 1.7527 - accuracy: 0.3465 - val_loss: 1.5762 - val_accuracy: 0.4195 - lr: 0.0800 - 11s/epoch - 21ms/step\n",
            "Epoch 4/150\n",
            "500/500 - 11s - loss: 1.6089 - accuracy: 0.4078 - val_loss: 1.4303 - val_accuracy: 0.4726 - lr: 0.0800 - 11s/epoch - 22ms/step\n",
            "Epoch 5/150\n",
            "500/500 - 11s - loss: 1.5109 - accuracy: 0.4496 - val_loss: 1.3440 - val_accuracy: 0.4983 - lr: 0.0800 - 11s/epoch - 21ms/step\n",
            "Epoch 6/150\n",
            "500/500 - 11s - loss: 1.4145 - accuracy: 0.4832 - val_loss: 1.2620 - val_accuracy: 0.5477 - lr: 0.0800 - 11s/epoch - 22ms/step\n",
            "Epoch 7/150\n",
            "500/500 - 11s - loss: 1.3421 - accuracy: 0.5161 - val_loss: 1.2712 - val_accuracy: 0.5474 - lr: 0.0800 - 11s/epoch - 22ms/step\n",
            "Epoch 8/150\n",
            "500/500 - 11s - loss: 1.2644 - accuracy: 0.5444 - val_loss: 1.2413 - val_accuracy: 0.5496 - lr: 0.0800 - 11s/epoch - 22ms/step\n",
            "Epoch 9/150\n",
            "500/500 - 12s - loss: 1.2074 - accuracy: 0.5660 - val_loss: 1.0844 - val_accuracy: 0.6240 - lr: 0.0800 - 12s/epoch - 23ms/step\n",
            "Epoch 10/150\n",
            "500/500 - 11s - loss: 1.1557 - accuracy: 0.5893 - val_loss: 1.0443 - val_accuracy: 0.6209 - lr: 0.0800 - 11s/epoch - 22ms/step\n",
            "Epoch 11/150\n",
            "500/500 - 11s - loss: 1.0899 - accuracy: 0.6130 - val_loss: 1.0119 - val_accuracy: 0.6361 - lr: 0.0760 - 11s/epoch - 22ms/step\n",
            "Epoch 12/150\n",
            "500/500 - 11s - loss: 1.0460 - accuracy: 0.6276 - val_loss: 0.9366 - val_accuracy: 0.6624 - lr: 0.0722 - 11s/epoch - 22ms/step\n",
            "Epoch 13/150\n",
            "500/500 - 11s - loss: 0.9992 - accuracy: 0.6472 - val_loss: 0.8505 - val_accuracy: 0.6990 - lr: 0.0686 - 11s/epoch - 21ms/step\n",
            "Epoch 14/150\n",
            "500/500 - 11s - loss: 0.9634 - accuracy: 0.6638 - val_loss: 0.9066 - val_accuracy: 0.6708 - lr: 0.0652 - 11s/epoch - 22ms/step\n",
            "Epoch 15/150\n",
            "500/500 - 11s - loss: 0.9222 - accuracy: 0.6748 - val_loss: 0.8361 - val_accuracy: 0.6996 - lr: 0.0619 - 11s/epoch - 22ms/step\n",
            "Epoch 16/150\n",
            "500/500 - 11s - loss: 0.8934 - accuracy: 0.6872 - val_loss: 0.8025 - val_accuracy: 0.7179 - lr: 0.0588 - 11s/epoch - 22ms/step\n",
            "Epoch 17/150\n",
            "500/500 - 11s - loss: 0.8623 - accuracy: 0.6958 - val_loss: 0.7905 - val_accuracy: 0.7216 - lr: 0.0559 - 11s/epoch - 22ms/step\n",
            "Epoch 18/150\n",
            "500/500 - 11s - loss: 0.8367 - accuracy: 0.7045 - val_loss: 0.7426 - val_accuracy: 0.7369 - lr: 0.0531 - 11s/epoch - 22ms/step\n",
            "Epoch 19/150\n",
            "500/500 - 11s - loss: 0.8167 - accuracy: 0.7128 - val_loss: 0.7652 - val_accuracy: 0.7324 - lr: 0.0504 - 11s/epoch - 21ms/step\n",
            "Epoch 20/150\n",
            "500/500 - 11s - loss: 0.7915 - accuracy: 0.7193 - val_loss: 0.7836 - val_accuracy: 0.7285 - lr: 0.0479 - 11s/epoch - 22ms/step\n",
            "Epoch 21/150\n",
            "500/500 - 11s - loss: 0.7742 - accuracy: 0.7266 - val_loss: 0.7201 - val_accuracy: 0.7480 - lr: 0.0455 - 11s/epoch - 21ms/step\n",
            "Epoch 22/150\n",
            "500/500 - 11s - loss: 0.7526 - accuracy: 0.7325 - val_loss: 0.7012 - val_accuracy: 0.7550 - lr: 0.0432 - 11s/epoch - 22ms/step\n",
            "Epoch 23/150\n",
            "500/500 - 11s - loss: 0.7320 - accuracy: 0.7429 - val_loss: 0.7005 - val_accuracy: 0.7538 - lr: 0.0411 - 11s/epoch - 22ms/step\n",
            "Epoch 24/150\n",
            "500/500 - 11s - loss: 0.7244 - accuracy: 0.7428 - val_loss: 0.6961 - val_accuracy: 0.7579 - lr: 0.0390 - 11s/epoch - 21ms/step\n",
            "Epoch 25/150\n",
            "500/500 - 11s - loss: 0.7080 - accuracy: 0.7476 - val_loss: 0.6813 - val_accuracy: 0.7623 - lr: 0.0371 - 11s/epoch - 22ms/step\n",
            "Epoch 26/150\n",
            "500/500 - 11s - loss: 0.6896 - accuracy: 0.7546 - val_loss: 0.6682 - val_accuracy: 0.7695 - lr: 0.0352 - 11s/epoch - 22ms/step\n",
            "Epoch 27/150\n",
            "500/500 - 11s - loss: 0.6833 - accuracy: 0.7578 - val_loss: 0.6744 - val_accuracy: 0.7651 - lr: 0.0334 - 11s/epoch - 22ms/step\n",
            "Epoch 28/150\n",
            "500/500 - 11s - loss: 0.6691 - accuracy: 0.7643 - val_loss: 0.6594 - val_accuracy: 0.7738 - lr: 0.0318 - 11s/epoch - 21ms/step\n",
            "Epoch 29/150\n",
            "500/500 - 11s - loss: 0.6517 - accuracy: 0.7707 - val_loss: 0.7315 - val_accuracy: 0.7530 - lr: 0.0302 - 11s/epoch - 21ms/step\n",
            "Epoch 30/150\n",
            "500/500 - 11s - loss: 0.6416 - accuracy: 0.7733 - val_loss: 0.6430 - val_accuracy: 0.7778 - lr: 0.0287 - 11s/epoch - 22ms/step\n",
            "Epoch 31/150\n",
            "500/500 - 11s - loss: 0.6312 - accuracy: 0.7777 - val_loss: 0.6615 - val_accuracy: 0.7750 - lr: 0.0272 - 11s/epoch - 21ms/step\n",
            "Epoch 32/150\n",
            "500/500 - 11s - loss: 0.6212 - accuracy: 0.7804 - val_loss: 0.6247 - val_accuracy: 0.7856 - lr: 0.0259 - 11s/epoch - 21ms/step\n",
            "Epoch 33/150\n",
            "500/500 - 11s - loss: 0.6146 - accuracy: 0.7843 - val_loss: 0.6648 - val_accuracy: 0.7700 - lr: 0.0246 - 11s/epoch - 21ms/step\n",
            "Epoch 34/150\n",
            "500/500 - 11s - loss: 0.6026 - accuracy: 0.7846 - val_loss: 0.6309 - val_accuracy: 0.7812 - lr: 0.0234 - 11s/epoch - 21ms/step\n",
            "Epoch 35/150\n",
            "500/500 - 11s - loss: 0.5950 - accuracy: 0.7889 - val_loss: 0.6369 - val_accuracy: 0.7753 - lr: 0.0222 - 11s/epoch - 21ms/step\n",
            "Epoch 36/150\n",
            "500/500 - 11s - loss: 0.5822 - accuracy: 0.7930 - val_loss: 0.6256 - val_accuracy: 0.7870 - lr: 0.0211 - 11s/epoch - 22ms/step\n",
            "Epoch 37/150\n",
            "500/500 - 11s - loss: 0.5744 - accuracy: 0.7987 - val_loss: 0.6144 - val_accuracy: 0.7885 - lr: 0.0200 - 11s/epoch - 22ms/step\n",
            "Epoch 38/150\n",
            "500/500 - 11s - loss: 0.5699 - accuracy: 0.7979 - val_loss: 0.6243 - val_accuracy: 0.7846 - lr: 0.0190 - 11s/epoch - 21ms/step\n",
            "Epoch 39/150\n",
            "500/500 - 11s - loss: 0.5572 - accuracy: 0.8032 - val_loss: 0.6190 - val_accuracy: 0.7889 - lr: 0.0181 - 11s/epoch - 22ms/step\n",
            "Epoch 40/150\n",
            "500/500 - 11s - loss: 0.5505 - accuracy: 0.8040 - val_loss: 0.6172 - val_accuracy: 0.7887 - lr: 0.0172 - 11s/epoch - 21ms/step\n",
            "Epoch 41/150\n",
            "500/500 - 11s - loss: 0.5501 - accuracy: 0.8037 - val_loss: 0.6252 - val_accuracy: 0.7887 - lr: 0.0163 - 11s/epoch - 21ms/step\n",
            "Epoch 42/150\n",
            "500/500 - 11s - loss: 0.5427 - accuracy: 0.8077 - val_loss: 0.6107 - val_accuracy: 0.7924 - lr: 0.0155 - 11s/epoch - 21ms/step\n",
            "Epoch 43/150\n",
            "500/500 - 11s - loss: 0.5347 - accuracy: 0.8098 - val_loss: 0.6037 - val_accuracy: 0.7937 - lr: 0.0147 - 11s/epoch - 22ms/step\n",
            "Epoch 44/150\n",
            "500/500 - 11s - loss: 0.5283 - accuracy: 0.8106 - val_loss: 0.6085 - val_accuracy: 0.7916 - lr: 0.0140 - 11s/epoch - 22ms/step\n",
            "Epoch 45/150\n",
            "500/500 - 11s - loss: 0.5242 - accuracy: 0.8149 - val_loss: 0.6030 - val_accuracy: 0.7936 - lr: 0.0133 - 11s/epoch - 22ms/step\n",
            "Epoch 46/150\n",
            "500/500 - 11s - loss: 0.5237 - accuracy: 0.8143 - val_loss: 0.6068 - val_accuracy: 0.7944 - lr: 0.0126 - 11s/epoch - 21ms/step\n",
            "Epoch 47/150\n",
            "500/500 - 11s - loss: 0.5170 - accuracy: 0.8168 - val_loss: 0.6061 - val_accuracy: 0.7937 - lr: 0.0120 - 11s/epoch - 22ms/step\n",
            "Epoch 48/150\n",
            "500/500 - 11s - loss: 0.5104 - accuracy: 0.8184 - val_loss: 0.6122 - val_accuracy: 0.7952 - lr: 0.0114 - 11s/epoch - 21ms/step\n",
            "Epoch 49/150\n",
            "500/500 - 11s - loss: 0.5068 - accuracy: 0.8170 - val_loss: 0.6007 - val_accuracy: 0.7990 - lr: 0.0108 - 11s/epoch - 21ms/step\n",
            "Epoch 50/150\n",
            "500/500 - 11s - loss: 0.5076 - accuracy: 0.8203 - val_loss: 0.5996 - val_accuracy: 0.7991 - lr: 0.0103 - 11s/epoch - 21ms/step\n",
            "Epoch 51/150\n",
            "500/500 - 11s - loss: 0.5027 - accuracy: 0.8207 - val_loss: 0.5957 - val_accuracy: 0.7977 - lr: 0.0098 - 11s/epoch - 21ms/step\n",
            "Epoch 52/150\n",
            "500/500 - 11s - loss: 0.5002 - accuracy: 0.8194 - val_loss: 0.6052 - val_accuracy: 0.7974 - lr: 0.0093 - 11s/epoch - 22ms/step\n",
            "Epoch 53/150\n",
            "500/500 - 11s - loss: 0.4978 - accuracy: 0.8233 - val_loss: 0.5922 - val_accuracy: 0.7945 - lr: 0.0088 - 11s/epoch - 22ms/step\n",
            "Epoch 54/150\n",
            "500/500 - 11s - loss: 0.4900 - accuracy: 0.8246 - val_loss: 0.6015 - val_accuracy: 0.7956 - lr: 0.0084 - 11s/epoch - 21ms/step\n",
            "Epoch 55/150\n",
            "500/500 - 11s - loss: 0.4852 - accuracy: 0.8245 - val_loss: 0.6000 - val_accuracy: 0.7975 - lr: 0.0080 - 11s/epoch - 22ms/step\n",
            "Epoch 56/150\n",
            "500/500 - 11s - loss: 0.4849 - accuracy: 0.8262 - val_loss: 0.6039 - val_accuracy: 0.7985 - lr: 0.0076 - 11s/epoch - 22ms/step\n",
            "Epoch 57/150\n",
            "500/500 - 11s - loss: 0.4794 - accuracy: 0.8296 - val_loss: 0.5910 - val_accuracy: 0.7996 - lr: 0.0072 - 11s/epoch - 21ms/step\n",
            "Epoch 58/150\n",
            "500/500 - 11s - loss: 0.4763 - accuracy: 0.8292 - val_loss: 0.6031 - val_accuracy: 0.7986 - lr: 0.0068 - 11s/epoch - 22ms/step\n",
            "Epoch 59/150\n",
            "500/500 - 11s - loss: 0.4726 - accuracy: 0.8324 - val_loss: 0.5989 - val_accuracy: 0.8004 - lr: 0.0065 - 11s/epoch - 22ms/step\n",
            "Epoch 60/150\n",
            "500/500 - 11s - loss: 0.4706 - accuracy: 0.8328 - val_loss: 0.5936 - val_accuracy: 0.8016 - lr: 0.0062 - 11s/epoch - 22ms/step\n",
            "Epoch 61/150\n",
            "500/500 - 11s - loss: 0.4676 - accuracy: 0.8320 - val_loss: 0.5909 - val_accuracy: 0.8001 - lr: 0.0058 - 11s/epoch - 21ms/step\n",
            "Epoch 62/150\n",
            "500/500 - 11s - loss: 0.4684 - accuracy: 0.8319 - val_loss: 0.5962 - val_accuracy: 0.8008 - lr: 0.0056 - 11s/epoch - 21ms/step\n",
            "Epoch 63/150\n",
            "500/500 - 11s - loss: 0.4693 - accuracy: 0.8334 - val_loss: 0.6039 - val_accuracy: 0.7993 - lr: 0.0053 - 11s/epoch - 21ms/step\n",
            "Epoch 64/150\n",
            "500/500 - 11s - loss: 0.4657 - accuracy: 0.8319 - val_loss: 0.5911 - val_accuracy: 0.8035 - lr: 0.0050 - 11s/epoch - 22ms/step\n",
            "Epoch 65/150\n",
            "500/500 - 11s - loss: 0.4662 - accuracy: 0.8339 - val_loss: 0.5995 - val_accuracy: 0.7996 - lr: 0.0048 - 11s/epoch - 21ms/step\n",
            "Epoch 66/150\n",
            "500/500 - 11s - loss: 0.4593 - accuracy: 0.8347 - val_loss: 0.5875 - val_accuracy: 0.8023 - lr: 0.0045 - 11s/epoch - 22ms/step\n",
            "Epoch 67/150\n",
            "500/500 - 11s - loss: 0.4510 - accuracy: 0.8405 - val_loss: 0.5936 - val_accuracy: 0.8011 - lr: 0.0043 - 11s/epoch - 21ms/step\n",
            "Epoch 68/150\n",
            "500/500 - 11s - loss: 0.4508 - accuracy: 0.8408 - val_loss: 0.5929 - val_accuracy: 0.8044 - lr: 0.0041 - 11s/epoch - 22ms/step\n",
            "Epoch 69/150\n",
            "500/500 - 11s - loss: 0.4531 - accuracy: 0.8383 - val_loss: 0.5986 - val_accuracy: 0.8029 - lr: 0.0039 - 11s/epoch - 21ms/step\n",
            "Epoch 70/150\n",
            "500/500 - 11s - loss: 0.4555 - accuracy: 0.8378 - val_loss: 0.5981 - val_accuracy: 0.8030 - lr: 0.0037 - 11s/epoch - 22ms/step\n",
            "Epoch 71/150\n",
            "500/500 - 11s - loss: 0.4504 - accuracy: 0.8392 - val_loss: 0.5904 - val_accuracy: 0.8048 - lr: 0.0035 - 11s/epoch - 22ms/step\n",
            "Epoch 72/150\n",
            "500/500 - 11s - loss: 0.4547 - accuracy: 0.8399 - val_loss: 0.5838 - val_accuracy: 0.8050 - lr: 0.0033 - 11s/epoch - 22ms/step\n",
            "Epoch 73/150\n",
            "500/500 - 11s - loss: 0.4497 - accuracy: 0.8403 - val_loss: 0.5886 - val_accuracy: 0.8055 - lr: 0.0032 - 11s/epoch - 22ms/step\n",
            "Epoch 74/150\n",
            "500/500 - 11s - loss: 0.4514 - accuracy: 0.8403 - val_loss: 0.5854 - val_accuracy: 0.8055 - lr: 0.0030 - 11s/epoch - 21ms/step\n",
            "Epoch 75/150\n",
            "500/500 - 11s - loss: 0.4526 - accuracy: 0.8372 - val_loss: 0.5881 - val_accuracy: 0.8048 - lr: 0.0029 - 11s/epoch - 22ms/step\n",
            "Epoch 76/150\n",
            "500/500 - 11s - loss: 0.4480 - accuracy: 0.8393 - val_loss: 0.5907 - val_accuracy: 0.8030 - lr: 0.0027 - 11s/epoch - 22ms/step\n",
            "Epoch 77/150\n",
            "500/500 - 11s - loss: 0.4460 - accuracy: 0.8394 - val_loss: 0.5889 - val_accuracy: 0.8061 - lr: 0.0026 - 11s/epoch - 21ms/step\n",
            "Epoch 78/150\n",
            "500/500 - 11s - loss: 0.4428 - accuracy: 0.8417 - val_loss: 0.5900 - val_accuracy: 0.8070 - lr: 0.0024 - 11s/epoch - 22ms/step\n",
            "Epoch 79/150\n",
            "500/500 - 11s - loss: 0.4439 - accuracy: 0.8412 - val_loss: 0.5957 - val_accuracy: 0.8067 - lr: 0.0023 - 11s/epoch - 21ms/step\n",
            "Epoch 80/150\n",
            "500/500 - 11s - loss: 0.4470 - accuracy: 0.8408 - val_loss: 0.5929 - val_accuracy: 0.8055 - lr: 0.0022 - 11s/epoch - 22ms/step\n",
            "Epoch 81/150\n",
            "500/500 - 11s - loss: 0.4404 - accuracy: 0.8419 - val_loss: 0.5907 - val_accuracy: 0.8066 - lr: 0.0021 - 11s/epoch - 22ms/step\n",
            "Epoch 82/150\n",
            "500/500 - 11s - loss: 0.4488 - accuracy: 0.8406 - val_loss: 0.5895 - val_accuracy: 0.8055 - lr: 0.0020 - 11s/epoch - 21ms/step\n",
            "Epoch 83/150\n",
            "500/500 - 11s - loss: 0.4412 - accuracy: 0.8421 - val_loss: 0.5901 - val_accuracy: 0.8056 - lr: 0.0019 - 11s/epoch - 21ms/step\n",
            "Epoch 84/150\n",
            "500/500 - 11s - loss: 0.4375 - accuracy: 0.8429 - val_loss: 0.5923 - val_accuracy: 0.8075 - lr: 0.0018 - 11s/epoch - 22ms/step\n",
            "Epoch 85/150\n",
            "500/500 - 11s - loss: 0.4403 - accuracy: 0.8405 - val_loss: 0.5886 - val_accuracy: 0.8070 - lr: 0.0017 - 11s/epoch - 22ms/step\n",
            "Epoch 86/150\n",
            "500/500 - 11s - loss: 0.4400 - accuracy: 0.8433 - val_loss: 0.5872 - val_accuracy: 0.8061 - lr: 0.0016 - 11s/epoch - 21ms/step\n",
            "Epoch 87/150\n",
            "500/500 - 11s - loss: 0.4393 - accuracy: 0.8442 - val_loss: 0.5894 - val_accuracy: 0.8056 - lr: 0.0015 - 11s/epoch - 21ms/step\n"
          ]
        },
        {
          "output_type": "execute_result",
          "data": {
            "text/plain": [
              "<keras.callbacks.History at 0x7f6f100b66d0>"
            ]
          },
          "metadata": {},
          "execution_count": 37
        }
      ]
    },
    {
      "cell_type": "code",
      "metadata": {
        "collapsed": true,
        "id": "t_pIaUdUxje2",
        "colab": {
          "base_uri": "https://localhost:8080/"
        },
        "outputId": "6afeb5c0-89e5-40b4-d570-13dbb945b571"
      },
      "source": [
        "from sklearn.metrics import accuracy_score\n",
        "y_pred = [np.argmax(prob) for prob in model_final.predict(X_test)]\n",
        "test_acc = accuracy_score(y_test, y_pred)\n",
        "print(\"\\n Test_acc =\", test_acc)\n",
        "if test_acc > 0.8:\n",
        "    print(\"Это победа!\")"
      ],
      "execution_count": 38,
      "outputs": [
        {
          "output_type": "stream",
          "name": "stdout",
          "text": [
            "\n",
            " Test_acc = 0.8044\n",
            "Это победа!\n"
          ]
        }
      ]
    },
    {
      "cell_type": "markdown",
      "source": [
        "**Попробуем еще улучшить модель, добавив слоев batch_normalization и немного изменив callback'и**"
      ],
      "metadata": {
        "id": "brIsptMXQY3v"
      }
    },
    {
      "cell_type": "code",
      "source": [
        "def scheduler(epoch, lr):\n",
        "    if epoch < 10 or lr <= 0.001:\n",
        "        return lr\n",
        "    else:\n",
        "        return lr * 0.92"
      ],
      "metadata": {
        "id": "e578UZw9Pm8U"
      },
      "execution_count": 48,
      "outputs": []
    },
    {
      "cell_type": "code",
      "source": [
        "callback_sch = tf.keras.callbacks.LearningRateScheduler(scheduler)"
      ],
      "metadata": {
        "id": "lV9dfrM7Pm8Z"
      },
      "execution_count": 49,
      "outputs": []
    },
    {
      "cell_type": "code",
      "source": [
        "callback_stp = tf.keras.callbacks.EarlyStopping(monitor='loss', patience=5)"
      ],
      "metadata": {
        "id": "KR5VUXzaPm8c"
      },
      "execution_count": 50,
      "outputs": []
    },
    {
      "cell_type": "code",
      "metadata": {
        "id": "PbU0rFQTPm8e"
      },
      "source": [
        "callbacks = [callback_sch, callback_stp]"
      ],
      "execution_count": 51,
      "outputs": []
    },
    {
      "cell_type": "code",
      "source": [
        "opt = tf.keras.optimizers.SGD(learning_rate=0.08)"
      ],
      "metadata": {
        "id": "QyPLmEeWPm8h"
      },
      "execution_count": 52,
      "outputs": []
    },
    {
      "cell_type": "code",
      "source": [
        "model_final = keras.Sequential()\n",
        "model_final.add(L.Conv2D(32, (3, 3), activation='relu', kernel_initializer='he_uniform', padding='same', input_shape=(32, 32, 3)))\n",
        "model_final.add(L.BatchNormalization())\n",
        "model_final.add(L.Conv2D(32, (3, 3), activation='relu', kernel_initializer='he_uniform', padding='same'))\n",
        "model_final.add(L.BatchNormalization())\n",
        "model_final.add(L.MaxPooling2D((2, 2)))\n",
        "model_final.add(L.Dropout(0.2))\n",
        "model_final.add(L.Conv2D(64, (3, 3), activation='relu', kernel_initializer='he_uniform', padding='same'))\n",
        "model_final.add(L.BatchNormalization())\n",
        "model_final.add(L.Conv2D(64, (3, 3), activation='relu', kernel_initializer='he_uniform', padding='same'))\n",
        "model_final.add(L.BatchNormalization())\n",
        "model_final.add(L.MaxPooling2D((2, 2)))\n",
        "model_final.add(L.Dropout(0.3))\n",
        "model_final.add(L.Conv2D(128, (3, 3), activation='relu', kernel_initializer='he_uniform', padding='same'))\n",
        "model_final.add(L.BatchNormalization())\n",
        "model_final.add(L.Conv2D(128, (3, 3), activation='relu', kernel_initializer='he_uniform', padding='same'))\n",
        "model_final.add(L.BatchNormalization())\n",
        "model_final.add(L.MaxPooling2D((2, 2)))\n",
        "model_final.add(L.Dropout(0.4))\n",
        "model_final.add(L.Flatten())\n",
        "model_final.add(L.Dense(128, activation='relu', kernel_initializer='he_uniform'))\n",
        "model_final.add(L.BatchNormalization())\n",
        "model_final.add(L.Dropout(0.5))\n",
        "model_final.add(L.Dense(10, activation='softmax'))\n",
        "\n",
        "model_final.compile(optimizer=opt, loss='categorical_crossentropy', metrics=['accuracy'])"
      ],
      "metadata": {
        "id": "PlpJlNy6Pm8l"
      },
      "execution_count": 54,
      "outputs": []
    },
    {
      "cell_type": "code",
      "source": [
        "model_final.fit(X_train, y_train, batch_size=64,\n",
        "               epochs=150, validation_split=0.2, verbose=2,\n",
        "               callbacks=callbacks, validation_data=[X_val, y_val])"
      ],
      "metadata": {
        "colab": {
          "base_uri": "https://localhost:8080/"
        },
        "outputId": "db700c96-0a7c-4953-959a-b751910fda30",
        "id": "Lmy6B5EBPm8o"
      },
      "execution_count": 55,
      "outputs": [
        {
          "output_type": "stream",
          "name": "stdout",
          "text": [
            "Epoch 1/150\n",
            "500/500 - 15s - loss: 1.7049 - accuracy: 0.3935 - val_loss: 1.5827 - val_accuracy: 0.4496 - lr: 0.0800 - 15s/epoch - 30ms/step\n",
            "Epoch 2/150\n",
            "500/500 - 13s - loss: 1.3012 - accuracy: 0.5312 - val_loss: 1.0886 - val_accuracy: 0.6137 - lr: 0.0800 - 13s/epoch - 27ms/step\n",
            "Epoch 3/150\n",
            "500/500 - 13s - loss: 1.1250 - accuracy: 0.5987 - val_loss: 1.0116 - val_accuracy: 0.6409 - lr: 0.0800 - 13s/epoch - 26ms/step\n",
            "Epoch 4/150\n",
            "500/500 - 13s - loss: 1.0125 - accuracy: 0.6407 - val_loss: 1.1738 - val_accuracy: 0.5978 - lr: 0.0800 - 13s/epoch - 26ms/step\n",
            "Epoch 5/150\n",
            "500/500 - 13s - loss: 0.9405 - accuracy: 0.6694 - val_loss: 0.9828 - val_accuracy: 0.6594 - lr: 0.0800 - 13s/epoch - 25ms/step\n",
            "Epoch 6/150\n",
            "500/500 - 13s - loss: 0.8757 - accuracy: 0.6914 - val_loss: 0.7990 - val_accuracy: 0.7178 - lr: 0.0800 - 13s/epoch - 27ms/step\n",
            "Epoch 7/150\n",
            "500/500 - 13s - loss: 0.8328 - accuracy: 0.7096 - val_loss: 0.8343 - val_accuracy: 0.7067 - lr: 0.0800 - 13s/epoch - 26ms/step\n",
            "Epoch 8/150\n",
            "500/500 - 13s - loss: 0.7803 - accuracy: 0.7253 - val_loss: 0.7451 - val_accuracy: 0.7336 - lr: 0.0800 - 13s/epoch - 25ms/step\n",
            "Epoch 9/150\n",
            "500/500 - 13s - loss: 0.7559 - accuracy: 0.7375 - val_loss: 0.6783 - val_accuracy: 0.7626 - lr: 0.0800 - 13s/epoch - 25ms/step\n",
            "Epoch 10/150\n",
            "500/500 - 13s - loss: 0.7219 - accuracy: 0.7476 - val_loss: 0.7796 - val_accuracy: 0.7346 - lr: 0.0800 - 13s/epoch - 25ms/step\n",
            "Epoch 11/150\n",
            "500/500 - 13s - loss: 0.6910 - accuracy: 0.7557 - val_loss: 0.7759 - val_accuracy: 0.7340 - lr: 0.0736 - 13s/epoch - 26ms/step\n",
            "Epoch 12/150\n",
            "500/500 - 13s - loss: 0.6574 - accuracy: 0.7715 - val_loss: 0.6252 - val_accuracy: 0.7809 - lr: 0.0677 - 13s/epoch - 25ms/step\n",
            "Epoch 13/150\n",
            "500/500 - 13s - loss: 0.6337 - accuracy: 0.7810 - val_loss: 0.6414 - val_accuracy: 0.7786 - lr: 0.0623 - 13s/epoch - 25ms/step\n",
            "Epoch 14/150\n",
            "500/500 - 13s - loss: 0.6053 - accuracy: 0.7894 - val_loss: 0.6230 - val_accuracy: 0.7854 - lr: 0.0573 - 13s/epoch - 25ms/step\n",
            "Epoch 15/150\n",
            "500/500 - 13s - loss: 0.5833 - accuracy: 0.7968 - val_loss: 0.6337 - val_accuracy: 0.7781 - lr: 0.0527 - 13s/epoch - 26ms/step\n",
            "Epoch 16/150\n",
            "500/500 - 13s - loss: 0.5651 - accuracy: 0.8032 - val_loss: 0.5782 - val_accuracy: 0.7959 - lr: 0.0485 - 13s/epoch - 26ms/step\n",
            "Epoch 17/150\n",
            "500/500 - 13s - loss: 0.5478 - accuracy: 0.8086 - val_loss: 0.6295 - val_accuracy: 0.7871 - lr: 0.0446 - 13s/epoch - 25ms/step\n",
            "Epoch 18/150\n",
            "500/500 - 13s - loss: 0.5277 - accuracy: 0.8151 - val_loss: 0.6233 - val_accuracy: 0.7831 - lr: 0.0411 - 13s/epoch - 25ms/step\n",
            "Epoch 19/150\n",
            "500/500 - 13s - loss: 0.5164 - accuracy: 0.8205 - val_loss: 0.5594 - val_accuracy: 0.8084 - lr: 0.0378 - 13s/epoch - 26ms/step\n",
            "Epoch 20/150\n",
            "500/500 - 13s - loss: 0.5010 - accuracy: 0.8242 - val_loss: 0.6032 - val_accuracy: 0.7964 - lr: 0.0348 - 13s/epoch - 25ms/step\n",
            "Epoch 21/150\n",
            "500/500 - 13s - loss: 0.4856 - accuracy: 0.8322 - val_loss: 0.5519 - val_accuracy: 0.8110 - lr: 0.0320 - 13s/epoch - 25ms/step\n",
            "Epoch 22/150\n",
            "500/500 - 13s - loss: 0.4776 - accuracy: 0.8318 - val_loss: 0.5724 - val_accuracy: 0.8091 - lr: 0.0294 - 13s/epoch - 25ms/step\n",
            "Epoch 23/150\n",
            "500/500 - 13s - loss: 0.4677 - accuracy: 0.8385 - val_loss: 0.5540 - val_accuracy: 0.8131 - lr: 0.0271 - 13s/epoch - 26ms/step\n",
            "Epoch 24/150\n",
            "500/500 - 13s - loss: 0.4549 - accuracy: 0.8443 - val_loss: 0.5351 - val_accuracy: 0.8156 - lr: 0.0249 - 13s/epoch - 25ms/step\n",
            "Epoch 25/150\n",
            "500/500 - 13s - loss: 0.4401 - accuracy: 0.8457 - val_loss: 0.5606 - val_accuracy: 0.8096 - lr: 0.0229 - 13s/epoch - 25ms/step\n",
            "Epoch 26/150\n",
            "500/500 - 13s - loss: 0.4350 - accuracy: 0.8454 - val_loss: 0.5614 - val_accuracy: 0.8124 - lr: 0.0211 - 13s/epoch - 25ms/step\n",
            "Epoch 27/150\n",
            "500/500 - 13s - loss: 0.4274 - accuracy: 0.8489 - val_loss: 0.5431 - val_accuracy: 0.8170 - lr: 0.0194 - 13s/epoch - 26ms/step\n",
            "Epoch 28/150\n",
            "500/500 - 13s - loss: 0.4259 - accuracy: 0.8512 - val_loss: 0.5401 - val_accuracy: 0.8202 - lr: 0.0178 - 13s/epoch - 25ms/step\n",
            "Epoch 29/150\n",
            "500/500 - 13s - loss: 0.4148 - accuracy: 0.8555 - val_loss: 0.5383 - val_accuracy: 0.8176 - lr: 0.0164 - 13s/epoch - 26ms/step\n",
            "Epoch 30/150\n",
            "500/500 - 13s - loss: 0.4079 - accuracy: 0.8581 - val_loss: 0.5368 - val_accuracy: 0.8206 - lr: 0.0151 - 13s/epoch - 26ms/step\n",
            "Epoch 31/150\n",
            "500/500 - 13s - loss: 0.4028 - accuracy: 0.8587 - val_loss: 0.5388 - val_accuracy: 0.8189 - lr: 0.0139 - 13s/epoch - 26ms/step\n",
            "Epoch 32/150\n",
            "500/500 - 13s - loss: 0.4007 - accuracy: 0.8614 - val_loss: 0.5286 - val_accuracy: 0.8227 - lr: 0.0128 - 13s/epoch - 25ms/step\n",
            "Epoch 33/150\n",
            "500/500 - 13s - loss: 0.3962 - accuracy: 0.8619 - val_loss: 0.5352 - val_accuracy: 0.8226 - lr: 0.0118 - 13s/epoch - 25ms/step\n",
            "Epoch 34/150\n",
            "500/500 - 13s - loss: 0.3886 - accuracy: 0.8624 - val_loss: 0.5264 - val_accuracy: 0.8240 - lr: 0.0108 - 13s/epoch - 26ms/step\n",
            "Epoch 35/150\n",
            "500/500 - 13s - loss: 0.3829 - accuracy: 0.8671 - val_loss: 0.5332 - val_accuracy: 0.8244 - lr: 0.0099 - 13s/epoch - 26ms/step\n",
            "Epoch 36/150\n",
            "500/500 - 13s - loss: 0.3832 - accuracy: 0.8675 - val_loss: 0.5261 - val_accuracy: 0.8256 - lr: 0.0092 - 13s/epoch - 25ms/step\n",
            "Epoch 37/150\n",
            "500/500 - 13s - loss: 0.3734 - accuracy: 0.8693 - val_loss: 0.5331 - val_accuracy: 0.8248 - lr: 0.0084 - 13s/epoch - 26ms/step\n",
            "Epoch 38/150\n",
            "500/500 - 13s - loss: 0.3703 - accuracy: 0.8674 - val_loss: 0.5239 - val_accuracy: 0.8264 - lr: 0.0077 - 13s/epoch - 26ms/step\n",
            "Epoch 39/150\n",
            "500/500 - 13s - loss: 0.3734 - accuracy: 0.8703 - val_loss: 0.5317 - val_accuracy: 0.8271 - lr: 0.0071 - 13s/epoch - 27ms/step\n",
            "Epoch 40/150\n",
            "500/500 - 13s - loss: 0.3703 - accuracy: 0.8708 - val_loss: 0.5403 - val_accuracy: 0.8240 - lr: 0.0066 - 13s/epoch - 25ms/step\n",
            "Epoch 41/150\n",
            "500/500 - 13s - loss: 0.3667 - accuracy: 0.8729 - val_loss: 0.5273 - val_accuracy: 0.8284 - lr: 0.0060 - 13s/epoch - 25ms/step\n",
            "Epoch 42/150\n",
            "500/500 - 13s - loss: 0.3624 - accuracy: 0.8733 - val_loss: 0.5353 - val_accuracy: 0.8267 - lr: 0.0056 - 13s/epoch - 26ms/step\n",
            "Epoch 43/150\n",
            "500/500 - 13s - loss: 0.3629 - accuracy: 0.8710 - val_loss: 0.5207 - val_accuracy: 0.8295 - lr: 0.0051 - 13s/epoch - 26ms/step\n",
            "Epoch 44/150\n",
            "500/500 - 13s - loss: 0.3573 - accuracy: 0.8730 - val_loss: 0.5257 - val_accuracy: 0.8284 - lr: 0.0047 - 13s/epoch - 26ms/step\n",
            "Epoch 45/150\n",
            "500/500 - 13s - loss: 0.3583 - accuracy: 0.8730 - val_loss: 0.5289 - val_accuracy: 0.8291 - lr: 0.0043 - 13s/epoch - 25ms/step\n",
            "Epoch 46/150\n",
            "500/500 - 13s - loss: 0.3528 - accuracy: 0.8758 - val_loss: 0.5224 - val_accuracy: 0.8303 - lr: 0.0040 - 13s/epoch - 26ms/step\n",
            "Epoch 47/150\n",
            "500/500 - 13s - loss: 0.3532 - accuracy: 0.8765 - val_loss: 0.5225 - val_accuracy: 0.8291 - lr: 0.0037 - 13s/epoch - 26ms/step\n",
            "Epoch 48/150\n",
            "500/500 - 13s - loss: 0.3564 - accuracy: 0.8748 - val_loss: 0.5229 - val_accuracy: 0.8316 - lr: 0.0034 - 13s/epoch - 26ms/step\n",
            "Epoch 49/150\n",
            "500/500 - 13s - loss: 0.3536 - accuracy: 0.8757 - val_loss: 0.5228 - val_accuracy: 0.8307 - lr: 0.0031 - 13s/epoch - 26ms/step\n",
            "Epoch 50/150\n",
            "500/500 - 13s - loss: 0.3402 - accuracy: 0.8803 - val_loss: 0.5224 - val_accuracy: 0.8322 - lr: 0.0028 - 13s/epoch - 25ms/step\n",
            "Epoch 51/150\n",
            "500/500 - 13s - loss: 0.3487 - accuracy: 0.8770 - val_loss: 0.5250 - val_accuracy: 0.8305 - lr: 0.0026 - 13s/epoch - 26ms/step\n",
            "Epoch 52/150\n",
            "500/500 - 13s - loss: 0.3513 - accuracy: 0.8749 - val_loss: 0.5213 - val_accuracy: 0.8322 - lr: 0.0024 - 13s/epoch - 25ms/step\n",
            "Epoch 53/150\n",
            "500/500 - 13s - loss: 0.3526 - accuracy: 0.8761 - val_loss: 0.5206 - val_accuracy: 0.8326 - lr: 0.0022 - 13s/epoch - 26ms/step\n",
            "Epoch 54/150\n",
            "500/500 - 13s - loss: 0.3405 - accuracy: 0.8788 - val_loss: 0.5207 - val_accuracy: 0.8330 - lr: 0.0020 - 13s/epoch - 25ms/step\n",
            "Epoch 55/150\n",
            "500/500 - 13s - loss: 0.3423 - accuracy: 0.8789 - val_loss: 0.5225 - val_accuracy: 0.8321 - lr: 0.0019 - 13s/epoch - 26ms/step\n"
          ]
        },
        {
          "output_type": "execute_result",
          "data": {
            "text/plain": [
              "<keras.callbacks.History at 0x7f6e25d30bd0>"
            ]
          },
          "metadata": {},
          "execution_count": 55
        }
      ]
    },
    {
      "cell_type": "code",
      "metadata": {
        "collapsed": true,
        "colab": {
          "base_uri": "https://localhost:8080/"
        },
        "outputId": "7c2e29e3-5c55-4821-a51e-26093d513b30",
        "id": "vFKbool9Pm8t"
      },
      "source": [
        "from sklearn.metrics import accuracy_score\n",
        "y_pred = [np.argmax(prob) for prob in model_final.predict(X_test)]\n",
        "test_acc = accuracy_score(y_test, y_pred)\n",
        "print(\"\\n Test_acc =\", test_acc)\n",
        "if test_acc > 0.8:\n",
        "    print(\"Это победа!\")"
      ],
      "execution_count": 56,
      "outputs": [
        {
          "output_type": "stream",
          "name": "stdout",
          "text": [
            "\n",
            " Test_acc = 0.8323\n",
            "Это победа!\n"
          ]
        }
      ]
    },
    {
      "cell_type": "markdown",
      "source": [
        "А теперь, опишите свои <s>ощущения</s> результаты от проведенных экспериментов. "
      ],
      "metadata": {
        "id": "Ln8N1cg2Tw3b"
      }
    },
    {
      "cell_type": "markdown",
      "source": [
        "**Выводы:** процесс улучшения модели, определенно, увлекает:) Возможно, аугментация данных еще прибавила бы несколько процентов."
      ],
      "metadata": {
        "id": "DFG6nUMCT8lN"
      }
    }
  ]
}