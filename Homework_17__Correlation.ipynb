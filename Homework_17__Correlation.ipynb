{
  "cells":[
    {
      "cell_type":"markdown",
      "source":[
        "# Корреляция и корреляционный анализ"
      ],
      "metadata":{
        
      }
    },
    {
      "cell_type":"code",
      "source":[
        "import pandas as pd\n",
        "import matplotlib.pyplot as plt\n",
        "import seaborn as sns\n",
        "from pylab import rcParams\n",
        "\n",
        "rcParams['font.size'] = 14\n",
        "rcParams['figure.figsize'] = 10, 6"
      ],
      "execution_count":209,
      "outputs":[
        
      ],
      "metadata":{
        
      }
    },
    {
      "cell_type":"code",
      "source":[
        "df = pd.read_csv('water.csv')"
      ],
      "execution_count":210,
      "outputs":[
        
      ],
      "metadata":{
        
      }
    },
    {
      "cell_type":"code",
      "source":[
        "df.info()"
      ],
      "execution_count":211,
      "outputs":[
        {
          "name":"stdout",
          "text":[
            "<class 'pandas.core.frame.DataFrame'>\n",
            "RangeIndex: 61 entries, 0 to 60\n",
            "Data columns (total 5 columns):\n",
            " #   Column      Non-Null Count  Dtype \n",
            "---  ------      --------------  ----- \n",
            " 0   Unnamed: 0  61 non-null     int64 \n",
            " 1   location    61 non-null     object\n",
            " 2   town        61 non-null     object\n",
            " 3   mortality   61 non-null     int64 \n",
            " 4   hardness    61 non-null     int64 \n",
            "dtypes: int64(3), object(2)\n",
            "memory usage: 2.5+ KB\n"
          ],
          "output_type":"stream"
        }
      ],
      "metadata":{
        
      }
    },
    {
      "cell_type":"code",
      "source":[
        "df.head()"
      ],
      "execution_count":212,
      "outputs":[
        {
          "data":{
            "text\/html":[
              "<div>\n",
              "<style scoped>\n",
              "    .dataframe tbody tr th:only-of-type {\n",
              "        vertical-align: middle;\n",
              "    }\n",
              "\n",
              "    .dataframe tbody tr th {\n",
              "        vertical-align: top;\n",
              "    }\n",
              "\n",
              "    .dataframe thead th {\n",
              "        text-align: right;\n",
              "    }\n",
              "<\/style>\n",
              "<table border=\"1\" class=\"dataframe\">\n",
              "  <thead>\n",
              "    <tr style=\"text-align: right;\">\n",
              "      <th><\/th>\n",
              "      <th>Unnamed: 0<\/th>\n",
              "      <th>location<\/th>\n",
              "      <th>town<\/th>\n",
              "      <th>mortality<\/th>\n",
              "      <th>hardness<\/th>\n",
              "    <\/tr>\n",
              "  <\/thead>\n",
              "  <tbody>\n",
              "    <tr>\n",
              "      <th>0<\/th>\n",
              "      <td>1<\/td>\n",
              "      <td>South<\/td>\n",
              "      <td>Bath<\/td>\n",
              "      <td>1247<\/td>\n",
              "      <td>105<\/td>\n",
              "    <\/tr>\n",
              "    <tr>\n",
              "      <th>1<\/th>\n",
              "      <td>2<\/td>\n",
              "      <td>North<\/td>\n",
              "      <td>Birkenhead<\/td>\n",
              "      <td>1668<\/td>\n",
              "      <td>17<\/td>\n",
              "    <\/tr>\n",
              "    <tr>\n",
              "      <th>2<\/th>\n",
              "      <td>3<\/td>\n",
              "      <td>South<\/td>\n",
              "      <td>Birmingham<\/td>\n",
              "      <td>1466<\/td>\n",
              "      <td>5<\/td>\n",
              "    <\/tr>\n",
              "    <tr>\n",
              "      <th>3<\/th>\n",
              "      <td>4<\/td>\n",
              "      <td>North<\/td>\n",
              "      <td>Blackburn<\/td>\n",
              "      <td>1800<\/td>\n",
              "      <td>14<\/td>\n",
              "    <\/tr>\n",
              "    <tr>\n",
              "      <th>4<\/th>\n",
              "      <td>5<\/td>\n",
              "      <td>North<\/td>\n",
              "      <td>Blackpool<\/td>\n",
              "      <td>1609<\/td>\n",
              "      <td>18<\/td>\n",
              "    <\/tr>\n",
              "  <\/tbody>\n",
              "<\/table>\n",
              "<\/div>"
            ]
          },
          "metadata":{
            
          },
          "output_type":"display_data"
        }
      ],
      "metadata":{
        
      }
    },
    {
      "cell_type":"markdown",
      "source":[
        "## Задача 1. Исследование связи между смертностью и жесткостью воды\n",
        "### Точечный график"
      ],
      "metadata":{
        
      }
    },
    {
      "cell_type":"code",
      "source":[
        "ax = df.plot(kind='scatter', x='hardness', y='mortality')\n",
        "ax.set_xlabel('Жесткость воды')\n",
        "ax.set_ylabel('Смертность')"
      ],
      "execution_count":213,
      "outputs":[
        {
          "data":{
            "text\/plain":[
              "Text(0, 0.5, 'Смертность')"
            ],
            "image\/png":"[encoded data removed]"
          },
          "metadata":{
            "image\/png":{
              "width":0,
              "height":0
            }
          },
          "output_type":"display_data"
        }
      ],
      "metadata":{
        
      }
    },
    {
      "cell_type":"markdown",
      "source":[
        "Единственный более-менее конкретный вывод, который можно сделать по графику: между смертностью населения и жесткостью воды существует обратная связь: при увеличении жесткости воды смертность уменьшается."
      ],
      "metadata":{
        
      }
    },
    {
      "cell_type":"markdown",
      "source":[
        "### Коэффициенты корреляции"
      ],
      "metadata":{
        
      }
    },
    {
      "cell_type":"code",
      "source":[
        "# Пирсона\n",
        "prs_corr = df[['mortality', 'hardness']].corr().iloc[0, 1]\n",
        "# Спирмена\n",
        "spr_corr = df[['mortality', 'hardness']].corr(method='spearman').iloc[0, 1]\n",
        "print(f'Коэффициенты корреляции\\nПирсона: {prs_corr}\\nСпирмена: {spr_corr}')"
      ],
      "execution_count":214,
      "outputs":[
        {
          "name":"stdout",
          "text":[
            "Коэффициенты корреляции\n",
            "Пирсона: -0.6548486232042464\n",
            "Спирмена: -0.6316646189166502\n"
          ],
          "output_type":"stream"
        }
      ],
      "metadata":{
        
      }
    },
    {
      "cell_type":"markdown",
      "source":[
        "### Модель линейной регрессии"
      ],
      "metadata":{
        
      }
    },
    {
      "cell_type":"code",
      "source":[
        "from sklearn.linear_model import LinearRegression\n",
        "from sklearn.model_selection import train_test_split"
      ],
      "execution_count":215,
      "outputs":[
        
      ],
      "metadata":{
        
      }
    },
    {
      "cell_type":"code",
      "source":[
        "X = df[['hardness']]\n",
        "y = df['mortality']"
      ],
      "execution_count":216,
      "outputs":[
        
      ],
      "metadata":{
        
      }
    },
    {
      "cell_type":"code",
      "source":[
        "X_train, X_test, y_train, y_test = train_test_split(X, y, test_size=0.25, random_state=42)"
      ],
      "execution_count":217,
      "outputs":[
        
      ],
      "metadata":{
        
      }
    },
    {
      "cell_type":"code",
      "source":[
        "model = LinearRegression()\n",
        "model.fit(X_train, y_train) "
      ],
      "execution_count":218,
      "outputs":[
        {
          "data":{
            "text\/plain":[
              "LinearRegression()"
            ]
          },
          "metadata":{
            
          },
          "output_type":"display_data"
        }
      ],
      "metadata":{
        
      }
    },
    {
      "cell_type":"code",
      "source":[
        "model.coef_"
      ],
      "execution_count":219,
      "outputs":[
        {
          "data":{
            "text\/plain":[
              "array([-3.31576799])"
            ]
          },
          "metadata":{
            
          },
          "output_type":"display_data"
        }
      ],
      "metadata":{
        
      }
    },
    {
      "cell_type":"code",
      "source":[
        "model.intercept_"
      ],
      "execution_count":220,
      "outputs":[
        {
          "data":{
            "text\/plain":[
              "1678.9405326885008"
            ]
          },
          "metadata":{
            
          },
          "output_type":"display_data"
        }
      ],
      "metadata":{
        
      }
    },
    {
      "cell_type":"code",
      "source":[
        "y_pred = model.predict(X_test)\n",
        "y_pred"
      ],
      "execution_count":221,
      "outputs":[
        {
          "data":{
            "text\/plain":[
              "array([1330.78489376, 1645.78285279, 1632.51978083, 1533.04674114,\n",
              "       1420.31062948, 1612.62517289, 1237.94339004, 1430.25793345,\n",
              "       1609.3094049 , 1659.04592475, 1483.31022129, 1410.36332551,\n",
              "       1549.62558108, 1632.51978083, 1443.52100541, 1549.62558108])"
            ]
          },
          "metadata":{
            
          },
          "output_type":"display_data"
        }
      ],
      "metadata":{
        
      }
    },
    {
      "cell_type":"markdown",
      "source":[
        "### Коэффициент детерминации"
      ],
      "metadata":{
        
      }
    },
    {
      "cell_type":"code",
      "source":[
        "model.score(X_test, y_test)"
      ],
      "execution_count":222,
      "outputs":[
        {
          "data":{
            "text\/plain":[
              "0.410213439338294"
            ]
          },
          "metadata":{
            
          },
          "output_type":"display_data"
        }
      ],
      "metadata":{
        
      }
    },
    {
      "cell_type":"markdown",
      "source":[
        "### График остатков"
      ],
      "metadata":{
        
      }
    },
    {
      "cell_type":"code",
      "source":[
        "plt.scatter(X_test, y_test)\n",
        "plt.plot(X_test, y_pred, c='r')\n",
        "plt.xlabel('Жесткость воды')\n",
        "plt.ylabel('Смертность')"
      ],
      "execution_count":223,
      "outputs":[
        {
          "data":{
            "text\/plain":[
              "Text(0, 0.5, 'Смертность')"
            ],
            "image\/png":"[encoded data removed]"
          },
          "metadata":{
            "image\/png":{
              "width":0,
              "height":0
            }
          },
          "output_type":"display_data"
        }
      ],
      "metadata":{
        
      }
    },
    {
      "cell_type":"markdown",
      "source":[
        "### Выводы\n",
        "График остатков и низкий коэффициент детерминации свидетельствуют о том, что построенная модель линейной регрессии малоээфективна для данного набора данных."
      ],
      "metadata":{
        
      }
    },
    {
      "cell_type":"markdown",
      "source":[
        "## Задача 2. Исследование связи между смертностью и жесткостью воды для Северных и Южных городов"
      ],
      "metadata":{
        
      }
    },
    {
      "cell_type":"code",
      "source":[
        "# Южные города\n",
        "south_cities = df[df.location == 'South']\n",
        "# Северные города\n",
        "north_cities = df[df.location == 'North']"
      ],
      "execution_count":224,
      "outputs":[
        
      ],
      "metadata":{
        
      }
    },
    {
      "cell_type":"code",
      "source":[
        "print(len(south_cities), len(north_cities))"
      ],
      "execution_count":225,
      "outputs":[
        {
          "name":"stdout",
          "text":[
            "26 35\n"
          ],
          "output_type":"stream"
        }
      ],
      "metadata":{
        
      }
    },
    {
      "cell_type":"markdown",
      "source":[
        "## Южные города\n",
        "### Точечный график"
      ],
      "metadata":{
        
      }
    },
    {
      "cell_type":"code",
      "source":[
        "ax = south_cities.plot(kind='scatter', x='hardness', y='mortality')\n",
        "ax.set_xlabel('Жесткость воды')\n",
        "ax.set_ylabel('Смертность')"
      ],
      "execution_count":226,
      "outputs":[
        {
          "data":{
            "text\/plain":[
              "Text(0, 0.5, 'Смертность')"
            ],
            "image\/png":"[encoded data removed]"
          },
          "metadata":{
            "image\/png":{
              "width":0,
              "height":0
            }
          },
          "output_type":"display_data"
        }
      ],
      "metadata":{
        
      }
    },
    {
      "cell_type":"markdown",
      "source":[
        "### Коэффициенты корреляции"
      ],
      "metadata":{
        
      }
    },
    {
      "cell_type":"code",
      "source":[
        "# Пирсона\n",
        "prs_corr = south_cities[['mortality', 'hardness']].corr().iloc[0, 1]\n",
        "# Спирмена\n",
        "spr_corr = south_cities[['mortality', 'hardness']].corr(method='spearman').iloc[0, 1]\n",
        "print(f'Коэффициенты корреляции\\nПирсона: {prs_corr}\\nСпирмена: {spr_corr}')"
      ],
      "execution_count":227,
      "outputs":[
        {
          "name":"stdout",
          "text":[
            "Коэффициенты корреляции\n",
            "Пирсона: -0.6021532715484159\n",
            "Спирмена: -0.5957229185013566\n"
          ],
          "output_type":"stream"
        }
      ],
      "metadata":{
        
      }
    },
    {
      "cell_type":"markdown",
      "source":[
        "### Модель линейной регрессии"
      ],
      "metadata":{
        
      }
    },
    {
      "cell_type":"code",
      "source":[
        "X = south_cities[['hardness']]\n",
        "y = south_cities['mortality']\n",
        "\n",
        "X_train, X_test, y_train, y_test = train_test_split(X, y, test_size=0.25, random_state=8)\n",
        "\n",
        "model = LinearRegression()\n",
        "model.fit(X_train, y_train) \n",
        "\n",
        "print(model.coef_)\n",
        "print(model.intercept_)\n",
        "\n",
        "y_pred = model.predict(X_test)\n",
        "print(y_pred)"
      ],
      "execution_count":228,
      "outputs":[
        {
          "name":"stdout",
          "text":[
            "[-1.63213686]\n",
            "1498.8120440606008\n",
            "[1333.96622159 1281.73784219 1379.66605356 1412.30879068 1327.43767416\n",
            " 1324.17340045 1342.12690587]\n"
          ],
          "output_type":"stream"
        }
      ],
      "metadata":{
        
      }
    },
    {
      "cell_type":"markdown",
      "source":[
        "### Коэффициент детерминации"
      ],
      "metadata":{
        
      }
    },
    {
      "cell_type":"code",
      "source":[
        "model.score(X_test, y_test)"
      ],
      "execution_count":229,
      "outputs":[
        {
          "data":{
            "text\/plain":[
              "0.3394549037699447"
            ]
          },
          "metadata":{
            
          },
          "output_type":"display_data"
        }
      ],
      "metadata":{
        
      }
    },
    {
      "cell_type":"markdown",
      "source":[
        "### График остатков"
      ],
      "metadata":{
        
      }
    },
    {
      "cell_type":"code",
      "source":[
        "plt.scatter(X_test, y_test)\n",
        "plt.plot(X_test, y_pred, c='r')\n",
        "plt.xlabel('Жесткость воды')\n",
        "plt.ylabel('Смертность')"
      ],
      "execution_count":230,
      "outputs":[
        {
          "data":{
            "text\/plain":[
              "Text(0, 0.5, 'Смертность')"
            ],
            "image\/png":"[encoded data removed]"
          },
          "metadata":{
            "image\/png":{
              "width":0,
              "height":0
            }
          },
          "output_type":"display_data"
        }
      ],
      "metadata":{
        
      }
    },
    {
      "cell_type":"markdown",
      "source":[
        "## Северные города\n",
        "### Точечный график"
      ],
      "metadata":{
        
      }
    },
    {
      "cell_type":"code",
      "source":[
        "ax = north_cities.plot(kind='scatter', x='hardness', y='mortality')\n",
        "ax.set_xlabel('Жесткость воды')\n",
        "ax.set_ylabel('Смертность')"
      ],
      "execution_count":231,
      "outputs":[
        {
          "data":{
            "text\/plain":[
              "Text(0, 0.5, 'Смертность')"
            ],
            "image\/png":"[encoded data removed]"
          },
          "metadata":{
            "image\/png":{
              "width":0,
              "height":0
            }
          },
          "output_type":"display_data"
        }
      ],
      "metadata":{
        
      }
    },
    {
      "cell_type":"markdown",
      "source":[
        "### Коэффициенты корреляции"
      ],
      "metadata":{
        
      }
    },
    {
      "cell_type":"code",
      "source":[
        "# Пирсона\n",
        "prs_corr = north_cities[['mortality', 'hardness']].corr().iloc[0, 1]\n",
        "# Спирмена\n",
        "spr_corr = north_cities[['mortality', 'hardness']].corr(method='spearman').iloc[0, 1]\n",
        "print(f'Коэффициенты корреляции\\nПирсона: {prs_corr}\\nСпирмена: {spr_corr}')"
      ],
      "execution_count":232,
      "outputs":[
        {
          "name":"stdout",
          "text":[
            "Коэффициенты корреляции\n",
            "Пирсона: -0.36859783832887183\n",
            "Спирмена: -0.4042078956511175\n"
          ],
          "output_type":"stream"
        }
      ],
      "metadata":{
        
      }
    },
    {
      "cell_type":"markdown",
      "source":[
        "### Модель линейной регрессии"
      ],
      "metadata":{
        
      }
    },
    {
      "cell_type":"code",
      "source":[
        "X = north_cities[['hardness']]\n",
        "y = north_cities['mortality']\n",
        "\n",
        "X_train, X_test, y_train, y_test = train_test_split(X, y, test_size=0.25, random_state=9)\n",
        "\n",
        "model = LinearRegression()\n",
        "model.fit(X_train, y_train) \n",
        "\n",
        "print(model.coef_)\n",
        "print(model.intercept_)\n",
        "\n",
        "y_pred = model.predict(X_test)\n",
        "print(y_pred)"
      ],
      "execution_count":233,
      "outputs":[
        {
          "name":"stdout",
          "text":[
            "[-2.02797546]\n",
            "1692.9939123265372\n",
            "[1640.26655027 1662.57428037 1660.54630491 1656.49035398 1674.74213315\n",
            " 1593.6231146  1603.76299192 1549.0076544  1549.0076544 ]\n"
          ],
          "output_type":"stream"
        }
      ],
      "metadata":{
        
      }
    },
    {
      "cell_type":"markdown",
      "source":[
        "### Коэффициент детерминации"
      ],
      "metadata":{
        
      }
    },
    {
      "cell_type":"code",
      "source":[
        "model.score(X_test, y_test)"
      ],
      "execution_count":234,
      "outputs":[
        {
          "data":{
            "text\/plain":[
              "0.09281149479048567"
            ]
          },
          "metadata":{
            
          },
          "output_type":"display_data"
        }
      ],
      "metadata":{
        
      }
    },
    {
      "cell_type":"markdown",
      "source":[
        "### График остатков"
      ],
      "metadata":{
        
      }
    },
    {
      "cell_type":"code",
      "source":[
        "plt.scatter(X_test, y_test)\n",
        "plt.plot(X_test, y_pred, c='r')\n",
        "plt.xlabel('Жесткость воды')\n",
        "plt.ylabel('Смертность')"
      ],
      "execution_count":235,
      "outputs":[
        {
          "data":{
            "text\/plain":[
              "Text(0, 0.5, 'Смертность')"
            ],
            "image\/png":"[encoded data removed]"
          },
          "metadata":{
            "image\/png":{
              "width":0,
              "height":0
            }
          },
          "output_type":"display_data"
        }
      ],
      "metadata":{
        
      }
    },
    {
      "cell_type":"markdown",
      "source":[
        "## Выводы\n",
        "1) Коэффициенты корреляции для Южных городов больше (по модулю), чем для Северных. Возможно, это вызвано тем, что на Севере присутствуют факторы, которые оказывают на смертность влияние более сильное, нежели жесткость воды.\n",
        "2) По причине небольшого количества данных (26 южных и 35 северных городов) качество обучения модели сильно зависит от разбиения данных на обучающую и тестовую выборки. Это можно проверить, поэскпериментировав с параметром random_state.\n",
        "3) В целом, регрессионная модель, построенная на основе всех городов, показывает лучшее качество предсказания, нежели модели для южных и северных городов. Это подкрепляется и тем, что коэффициенты корреляции у общей модели больше, чем у южного и северного регионов. Однако у южного региона коэффициенты корреляции тоже достаточно высокие. Более низкий коэффициент детерминации можно объяснить причиной, упомянутой в пункте 2 (выше)."
      ],
      "metadata":{
        
      }
    }
  ],
  "metadata":{
    
  },
  "nbformat":4,
  "nbformat_minor":0
}