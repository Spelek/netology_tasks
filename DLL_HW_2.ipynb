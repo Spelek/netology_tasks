{
 "cells": [
  {
   "cell_type": "markdown",
   "metadata": {},
   "source": [
    "# Домашнее задание №2. Многослойная нейронная сеть"
   ]
  },
  {
   "cell_type": "code",
   "execution_count": 65,
   "metadata": {
    "ExecuteTime": {
     "end_time": "2019-11-12T16:56:53.736551Z",
     "start_time": "2019-11-12T16:56:53.697784Z"
    },
    "colab": {},
    "colab_type": "code",
    "id": "WGoorsK6mPZP"
   },
   "outputs": [],
   "source": [
    "import matplotlib.pyplot as plt\n",
    "%matplotlib inline"
   ]
  },
  {
   "cell_type": "code",
   "execution_count": 66,
   "metadata": {
    "ExecuteTime": {
     "end_time": "2019-11-12T16:56:53.930939Z",
     "start_time": "2019-11-12T16:56:53.927524Z"
    },
    "colab": {},
    "colab_type": "code",
    "id": "WIcNCt4ZmPZZ"
   },
   "outputs": [],
   "source": [
    "import torch"
   ]
  },
  {
   "cell_type": "code",
   "execution_count": 67,
   "metadata": {
    "ExecuteTime": {
     "end_time": "2019-11-12T16:56:54.167596Z",
     "start_time": "2019-11-12T16:56:54.164358Z"
    },
    "colab": {},
    "colab_type": "code",
    "id": "yiHPlx2wmPZe"
   },
   "outputs": [],
   "source": [
    "import numpy as np"
   ]
  },
  {
   "cell_type": "markdown",
   "metadata": {
    "colab_type": "text",
    "id": "uTrwDt0OmPZj"
   },
   "source": [
    "## MLP"
   ]
  },
  {
   "cell_type": "markdown",
   "metadata": {
    "colab_type": "text",
    "id": "BQEb43_PmPZk"
   },
   "source": [
    "## Данные"
   ]
  },
  {
   "cell_type": "code",
   "execution_count": 68,
   "metadata": {
    "ExecuteTime": {
     "end_time": "2019-11-12T16:56:55.151591Z",
     "start_time": "2019-11-12T16:56:55.148395Z"
    },
    "colab": {},
    "colab_type": "code",
    "id": "RAge7EI-mPZl"
   },
   "outputs": [],
   "source": [
    "import torchvision as tv"
   ]
  },
  {
   "cell_type": "code",
   "execution_count": 69,
   "metadata": {
    "ExecuteTime": {
     "end_time": "2019-11-12T16:56:55.451445Z",
     "start_time": "2019-11-12T16:56:55.448384Z"
    },
    "colab": {},
    "colab_type": "code",
    "id": "Nd6TznshmPZp"
   },
   "outputs": [],
   "source": [
    "import time"
   ]
  },
  {
   "cell_type": "code",
   "execution_count": 70,
   "metadata": {
    "ExecuteTime": {
     "end_time": "2019-11-12T16:56:57.876097Z",
     "start_time": "2019-11-12T16:56:57.866730Z"
    },
    "colab": {},
    "colab_type": "code",
    "id": "qb_NW7cVmPZs"
   },
   "outputs": [],
   "source": [
    "BATCH_SIZE=256"
   ]
  },
  {
   "cell_type": "code",
   "execution_count": null,
   "metadata": {
    "ExecuteTime": {
     "end_time": "2019-11-12T17:11:52.832124Z",
     "start_time": "2019-11-12T17:11:52.776322Z"
    },
    "colab": {},
    "colab_type": "code",
    "id": "Kw5Kv2i6mPZu"
   },
   "outputs": [],
   "source": [
    "train_dataset = tv.datasets.FashionMNIST('.', train=True, transform=tv.transforms.ToTensor(), download=True)\n",
    "test_dataset = tv.datasets.FashionMNIST('.', train=False, transform=tv.transforms.ToTensor(), download=True)\n",
    "train = torch.utils.data.DataLoader(train_dataset, batch_size=BATCH_SIZE)\n",
    "test = torch.utils.data.DataLoader(test_dataset, batch_size=BATCH_SIZE)"
   ]
  },
  {
   "cell_type": "code",
   "execution_count": 73,
   "metadata": {
    "ExecuteTime": {
     "end_time": "2019-11-12T16:57:07.025198Z",
     "start_time": "2019-11-12T16:57:06.829381Z"
    },
    "colab": {},
    "colab_type": "code",
    "id": "1pgo64r1mPZx",
    "outputId": "4821bec4-c762-4b55-faf9-512f01cfd22a",
    "scrolled": false
   },
   "outputs": [
    {
     "data": {
      "text/plain": [
       "<matplotlib.image.AxesImage at 0x1f58ccbf9d0>"
      ]
     },
     "execution_count": 73,
     "metadata": {},
     "output_type": "execute_result"
    },
    {
     "data": {
      "image/png": "[encoded data removed]",
      "text/plain": [
       "<Figure size 432x288 with 1 Axes>"
      ]
     },
     "metadata": {
      "needs_background": "light"
     },
     "output_type": "display_data"
    }
   ],
   "source": [
    "plt.imshow(train_dataset[1][0].numpy().reshape(28,28), cmap='gray')"
   ]
  },
  {
   "cell_type": "markdown",
   "metadata": {
    "colab_type": "text",
    "id": "-LcgNXwOmPZ5"
   },
   "source": [
    "### Модель"
   ]
  },
  {
   "cell_type": "code",
   "execution_count": 86,
   "metadata": {},
   "outputs": [],
   "source": [
    "model = torch.nn.Sequential(\n",
    "    torch.nn.Flatten(),\n",
    "    torch.nn.Linear(784, 256),\n",
    "    torch.nn.BatchNorm1d(256),\n",
    "    torch.nn.ReLU(),\n",
    "    torch.nn.Dropout(p=0.40),\n",
    "    torch.nn.Linear(256, 128),\n",
    "    torch.nn.BatchNorm1d(128),\n",
    "    torch.nn.ReLU(),\n",
    "    torch.nn.Dropout(p=0.20),\n",
    "    torch.nn.Linear(128, 64),\n",
    "    torch.nn.BatchNorm1d(64),\n",
    "    torch.nn.ReLU(),\n",
    "    torch.nn.Linear(64, 10)\n",
    ")\n"
   ]
  },
  {
   "cell_type": "markdown",
   "metadata": {},
   "source": [
    "### Обучение"
   ]
  },
  {
   "cell_type": "code",
   "execution_count": 89,
   "metadata": {},
   "outputs": [
    {
     "name": "stdout",
     "output_type": "stream",
     "text": [
      "ep: 0, taked: 13.182, train_loss: 0.6516992755392764, train_acc: 0.80125, test_loss: 0.422234445437789, test_acc: 0.8483\n",
      "ep: 1, taked: 13.041, train_loss: 0.40997766801651486, train_acc: 0.8539333333333333, test_loss: 0.3774901408702135, test_acc: 0.8627\n",
      "ep: 2, taked: 13.440, train_loss: 0.37021709211329196, train_acc: 0.8651833333333333, test_loss: 0.3674638202413917, test_acc: 0.8622\n",
      "ep: 3, taked: 13.057, train_loss: 0.3465594886465276, train_acc: 0.8732833333333333, test_loss: 0.3423274112865329, test_acc: 0.8731\n",
      "ep: 4, taked: 12.941, train_loss: 0.3292641892078075, train_acc: 0.8801, test_loss: 0.3448354180902243, test_acc: 0.8728\n",
      "ep: 5, taked: 13.077, train_loss: 0.31250698414254696, train_acc: 0.88535, test_loss: 0.34049927834421395, test_acc: 0.8737\n",
      "ep: 6, taked: 13.231, train_loss: 0.3036148314146285, train_acc: 0.8887833333333334, test_loss: 0.32885413579642775, test_acc: 0.8789\n",
      "ep: 7, taked: 13.367, train_loss: 0.29243683390160824, train_acc: 0.8936666666666667, test_loss: 0.33673015162348746, test_acc: 0.8743\n",
      "ep: 8, taked: 13.002, train_loss: 0.285417008590191, train_acc: 0.8949833333333334, test_loss: 0.32318350169807675, test_acc: 0.8794\n",
      "ep: 9, taked: 13.127, train_loss: 0.27425936143449015, train_acc: 0.8985, test_loss: 0.33057409562170503, test_acc: 0.877\n",
      "ep: 10, taked: 13.350, train_loss: 0.2681887705275353, train_acc: 0.8999, test_loss: 0.31471035797148944, test_acc: 0.8852\n",
      "ep: 11, taked: 13.440, train_loss: 0.26179755101812646, train_acc: 0.9034, test_loss: 0.31066638734191654, test_acc: 0.8868\n",
      "ep: 12, taked: 13.122, train_loss: 0.25817492452073604, train_acc: 0.9046333333333333, test_loss: 0.31721138693392276, test_acc: 0.8833\n",
      "ep: 13, taked: 12.862, train_loss: 0.24945551055542967, train_acc: 0.9067, test_loss: 0.30339751932770015, test_acc: 0.8913\n",
      "ep: 14, taked: 12.550, train_loss: 0.24622206973268632, train_acc: 0.9074833333333333, test_loss: 0.3057538602501154, test_acc: 0.8892\n",
      "ep: 15, taked: 12.656, train_loss: 0.24124278299351956, train_acc: 0.9099833333333334, test_loss: 0.30872938986867665, test_acc: 0.8863\n",
      "ep: 16, taked: 12.967, train_loss: 0.23500268408592712, train_acc: 0.9127, test_loss: 0.30461740829050543, test_acc: 0.8915\n",
      "ep: 17, taked: 12.985, train_loss: 0.228369432877987, train_acc: 0.91575, test_loss: 0.32741897627711297, test_acc: 0.8821\n",
      "ep: 18, taked: 12.519, train_loss: 0.22584131398099533, train_acc: 0.9161333333333334, test_loss: 0.30851249434053896, test_acc: 0.893\n",
      "ep: 19, taked: 12.945, train_loss: 0.22172406347508125, train_acc: 0.9186166666666666, test_loss: 0.2973639300093055, test_acc: 0.8935\n",
      "ep: 20, taked: 13.327, train_loss: 0.21630228019141137, train_acc: 0.9198666666666667, test_loss: 0.31426721811294556, test_acc: 0.8886\n",
      "ep: 21, taked: 12.920, train_loss: 0.2136589951971744, train_acc: 0.9194666666666667, test_loss: 0.3223547779023647, test_acc: 0.8902\n",
      "ep: 22, taked: 12.801, train_loss: 0.21132280071999165, train_acc: 0.9212833333333333, test_loss: 0.3102917730808258, test_acc: 0.8901\n",
      "ep: 23, taked: 12.789, train_loss: 0.20858703934131784, train_acc: 0.9230333333333334, test_loss: 0.29843565411865713, test_acc: 0.8968\n",
      "ep: 24, taked: 12.682, train_loss: 0.20398762857026242, train_acc: 0.9229, test_loss: 0.3075585011392832, test_acc: 0.8934\n"
     ]
    }
   ],
   "source": [
    "loss = torch.nn.CrossEntropyLoss()\n",
    "trainer = torch.optim.Adam(model.parameters(), lr=0.001)\n",
    "num_epochs = 25\n",
    "\n",
    "for ep in range(num_epochs):\n",
    "    train_iters, train_passed  = 0, 0\n",
    "    train_loss, train_acc = 0., 0.\n",
    "    start=time.time()\n",
    "    \n",
    "    model.train()\n",
    "    for X, y in train:\n",
    "        trainer.zero_grad()\n",
    "        y_pred = model(X)\n",
    "        l = loss(y_pred, y)\n",
    "        l.backward()\n",
    "        trainer.step()\n",
    "        train_loss += l.item()\n",
    "        train_acc += (y_pred.argmax(dim=1) == y).sum().item()\n",
    "        train_iters += 1\n",
    "        train_passed += len(X)\n",
    "    \n",
    "    test_iters, test_passed  = 0, 0\n",
    "    test_loss, test_acc = 0., 0.\n",
    "    model.eval()\n",
    "    for X, y in test:\n",
    "        y_pred = model(X)\n",
    "        l = loss(y_pred, y)\n",
    "        test_loss += l.item()\n",
    "        test_acc += (y_pred.argmax(dim=1) == y).sum().item()\n",
    "        test_iters += 1\n",
    "        test_passed += len(X)\n",
    "        \n",
    "    print(\"ep: {}, taked: {:.3f}, train_loss: {}, train_acc: {}, test_loss: {}, test_acc: {}\".format(\n",
    "        ep, time.time() - start, train_loss / train_iters, train_acc / train_passed,\n",
    "        test_loss / test_iters, test_acc / test_passed)\n",
    "    )"
   ]
  },
  {
   "cell_type": "markdown",
   "metadata": {},
   "source": [
    "**Вывод:** обученная модель достигает точности в 88% за 11 эпох. Далее качество также продолжает расти."
   ]
  }
 ],
 "metadata": {
  "kernelspec": {
   "display_name": "Python 3.9.12 ('base')",
   "language": "python",
   "name": "python3"
  },
  "language_info": {
   "codemirror_mode": {
    "name": "ipython",
    "version": 3
   },
   "file_extension": ".py",
   "mimetype": "text/x-python",
   "name": "python",
   "nbconvert_exporter": "python",
   "pygments_lexer": "ipython3",
   "version": "3.9.12"
  },
  "orig_nbformat": 4,
  "vscode": {
   "interpreter": {
    "hash": "5a00e7ec61eff5a88fc1f6f522f8352e0b0489450640f58684f8d2503099540c"
   }
  }
 },
 "nbformat": 4,
 "nbformat_minor": 2
}
