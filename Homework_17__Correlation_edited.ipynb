{
  "nbformat": 4,
  "nbformat_minor": 0,
  "metadata": {
    "colab": {
      "name": "Homework_17__Correlation.ipynb",
      "provenance": []
    },
    "language_info": {
      "name": "python"
    },
    "kernelspec": {
      "name": "python3",
      "display_name": "Python 3"
    }
  },
  "cells": [
    {
      "cell_type": "markdown",
      "metadata": {
        "id": "FfX9K-_k2jmh"
      },
      "source": [
        "# Корреляция и корреляционный анализ"
      ]
    },
    {
      "cell_type": "code",
      "metadata": {
        "id": "W7Bl8V7F2jms"
      },
      "source": [
        "import pandas as pd\n",
        "import matplotlib.pyplot as plt\n",
        "import seaborn as sns\n",
        "from pylab import rcParams\n",
        "\n",
        "rcParams['font.size'] = 14\n",
        "rcParams['figure.figsize'] = 10, 6"
      ],
      "execution_count": 3,
      "outputs": []
    },
    {
      "cell_type": "code",
      "metadata": {
        "id": "z4iWd4GH2jmv"
      },
      "source": [
        "df = pd.read_csv('water.csv')"
      ],
      "execution_count": 4,
      "outputs": []
    },
    {
      "cell_type": "code",
      "metadata": {
        "colab": {
          "base_uri": "https://localhost:8080/"
        },
        "id": "8Lddp0fH2jmx",
        "outputId": "414d067f-7a5a-4472-f523-e6b5f0c0e7ca"
      },
      "source": [
        "df.info()"
      ],
      "execution_count": 5,
      "outputs": [
        {
          "output_type": "stream",
          "text": [
            "<class 'pandas.core.frame.DataFrame'>\n",
            "RangeIndex: 61 entries, 0 to 60\n",
            "Data columns (total 5 columns):\n",
            " #   Column      Non-Null Count  Dtype \n",
            "---  ------      --------------  ----- \n",
            " 0   Unnamed: 0  61 non-null     int64 \n",
            " 1   location    61 non-null     object\n",
            " 2   town        61 non-null     object\n",
            " 3   mortality   61 non-null     int64 \n",
            " 4   hardness    61 non-null     int64 \n",
            "dtypes: int64(3), object(2)\n",
            "memory usage: 2.5+ KB\n"
          ],
          "name": "stdout"
        }
      ]
    },
    {
      "cell_type": "code",
      "metadata": {
        "colab": {
          "base_uri": "https://localhost:8080/",
          "height": 206
        },
        "id": "Cobxe0KW2jm0",
        "outputId": "06cc2828-ec17-4eb8-d136-1e7c7d1e003d"
      },
      "source": [
        "df.head()"
      ],
      "execution_count": 6,
      "outputs": [
        {
          "output_type": "execute_result",
          "data": {
            "text/html": [
              "<div>\n",
              "<style scoped>\n",
              "    .dataframe tbody tr th:only-of-type {\n",
              "        vertical-align: middle;\n",
              "    }\n",
              "\n",
              "    .dataframe tbody tr th {\n",
              "        vertical-align: top;\n",
              "    }\n",
              "\n",
              "    .dataframe thead th {\n",
              "        text-align: right;\n",
              "    }\n",
              "</style>\n",
              "<table border=\"1\" class=\"dataframe\">\n",
              "  <thead>\n",
              "    <tr style=\"text-align: right;\">\n",
              "      <th></th>\n",
              "      <th>Unnamed: 0</th>\n",
              "      <th>location</th>\n",
              "      <th>town</th>\n",
              "      <th>mortality</th>\n",
              "      <th>hardness</th>\n",
              "    </tr>\n",
              "  </thead>\n",
              "  <tbody>\n",
              "    <tr>\n",
              "      <th>0</th>\n",
              "      <td>1</td>\n",
              "      <td>South</td>\n",
              "      <td>Bath</td>\n",
              "      <td>1247</td>\n",
              "      <td>105</td>\n",
              "    </tr>\n",
              "    <tr>\n",
              "      <th>1</th>\n",
              "      <td>2</td>\n",
              "      <td>North</td>\n",
              "      <td>Birkenhead</td>\n",
              "      <td>1668</td>\n",
              "      <td>17</td>\n",
              "    </tr>\n",
              "    <tr>\n",
              "      <th>2</th>\n",
              "      <td>3</td>\n",
              "      <td>South</td>\n",
              "      <td>Birmingham</td>\n",
              "      <td>1466</td>\n",
              "      <td>5</td>\n",
              "    </tr>\n",
              "    <tr>\n",
              "      <th>3</th>\n",
              "      <td>4</td>\n",
              "      <td>North</td>\n",
              "      <td>Blackburn</td>\n",
              "      <td>1800</td>\n",
              "      <td>14</td>\n",
              "    </tr>\n",
              "    <tr>\n",
              "      <th>4</th>\n",
              "      <td>5</td>\n",
              "      <td>North</td>\n",
              "      <td>Blackpool</td>\n",
              "      <td>1609</td>\n",
              "      <td>18</td>\n",
              "    </tr>\n",
              "  </tbody>\n",
              "</table>\n",
              "</div>"
            ],
            "text/plain": [
              "   Unnamed: 0 location        town  mortality  hardness\n",
              "0           1    South        Bath       1247       105\n",
              "1           2    North  Birkenhead       1668        17\n",
              "2           3    South  Birmingham       1466         5\n",
              "3           4    North   Blackburn       1800        14\n",
              "4           5    North   Blackpool       1609        18"
            ]
          },
          "metadata": {
            "tags": []
          },
          "execution_count": 6
        }
      ]
    },
    {
      "cell_type": "markdown",
      "metadata": {
        "id": "_MMEp0-M2jm2"
      },
      "source": [
        "## Задача 1. Исследование связи между смертностью и жесткостью воды\n",
        "### Точечный график"
      ]
    },
    {
      "cell_type": "code",
      "metadata": {
        "colab": {
          "base_uri": "https://localhost:8080/",
          "height": 414
        },
        "id": "Y7cGAHg72jm3",
        "outputId": "fd1ba316-aebe-46c4-c79a-f36d9db52138"
      },
      "source": [
        "ax = df.plot(kind='scatter', x='hardness', y='mortality')\n",
        "ax.set_xlabel('Жесткость воды')\n",
        "ax.set_ylabel('Смертность')"
      ],
      "execution_count": 7,
      "outputs": [
        {
          "output_type": "execute_result",
          "data": {
            "text/plain": [
              "Text(0, 0.5, 'Смертность')"
            ]
          },
          "metadata": {
            "tags": []
          },
          "execution_count": 7
        },
        {
          "output_type": "display_data",
          "data": {
            "image/png": "[encoded data removed]",
            "text/plain": [
              "<Figure size 720x432 with 1 Axes>"
            ]
          },
          "metadata": {
            "tags": [],
            "needs_background": "light"
          }
        }
      ]
    },
    {
      "cell_type": "markdown",
      "metadata": {
        "id": "wKfetf0R2jm5"
      },
      "source": [
        "Единственный более-менее конкретный вывод, который можно сделать по графику: между смертностью населения и жесткостью воды существует обратная связь: при увеличении жесткости воды смертность уменьшается."
      ]
    },
    {
      "cell_type": "markdown",
      "metadata": {
        "id": "6k8Ku7572jm5"
      },
      "source": [
        "### Коэффициенты корреляции"
      ]
    },
    {
      "cell_type": "code",
      "metadata": {
        "colab": {
          "base_uri": "https://localhost:8080/"
        },
        "id": "s3Ksbh6M2jm6",
        "outputId": "9b295000-3365-4db4-8e76-10e307996236"
      },
      "source": [
        "# Пирсона\n",
        "prs_corr = df[['mortality', 'hardness']].corr().iloc[0, 1]\n",
        "# Спирмена\n",
        "spr_corr = df[['mortality', 'hardness']].corr(method='spearman').iloc[0, 1]\n",
        "print(f'Коэффициенты корреляции\\nПирсона: {prs_corr}\\nСпирмена: {spr_corr}')"
      ],
      "execution_count": 8,
      "outputs": [
        {
          "output_type": "stream",
          "text": [
            "Коэффициенты корреляции\n",
            "Пирсона: -0.6548486232042464\n",
            "Спирмена: -0.6316646189166502\n"
          ],
          "name": "stdout"
        }
      ]
    },
    {
      "cell_type": "markdown",
      "metadata": {
        "id": "RQL8Z5882jm8"
      },
      "source": [
        "### Модель линейной регрессии"
      ]
    },
    {
      "cell_type": "code",
      "metadata": {
        "id": "zxZ_v_EJ2jm-"
      },
      "source": [
        "from sklearn.linear_model import LinearRegression\n",
        "from sklearn.model_selection import train_test_split"
      ],
      "execution_count": 9,
      "outputs": []
    },
    {
      "cell_type": "code",
      "metadata": {
        "id": "hIT0d-_t2jm-"
      },
      "source": [
        "X = df[['hardness']]\n",
        "y = df['mortality']"
      ],
      "execution_count": 10,
      "outputs": []
    },
    {
      "cell_type": "code",
      "metadata": {
        "id": "vKiXgjVD2jm_"
      },
      "source": [
        "X_train, X_test, y_train, y_test = train_test_split(X, y, test_size=0.25, random_state=42)"
      ],
      "execution_count": 11,
      "outputs": []
    },
    {
      "cell_type": "code",
      "metadata": {
        "colab": {
          "base_uri": "https://localhost:8080/"
        },
        "id": "K993yzyU2jnA",
        "outputId": "d1a8c8fd-97da-40d4-c55a-bcdcd776e9a2"
      },
      "source": [
        "model = LinearRegression()\n",
        "model.fit(X_train, y_train) "
      ],
      "execution_count": 12,
      "outputs": [
        {
          "output_type": "execute_result",
          "data": {
            "text/plain": [
              "LinearRegression(copy_X=True, fit_intercept=True, n_jobs=None, normalize=False)"
            ]
          },
          "metadata": {
            "tags": []
          },
          "execution_count": 12
        }
      ]
    },
    {
      "cell_type": "code",
      "metadata": {
        "colab": {
          "base_uri": "https://localhost:8080/"
        },
        "id": "Gbw7j4zO2jnC",
        "outputId": "0d059228-20e7-4216-b6b5-a29cb0efd803"
      },
      "source": [
        "model.coef_"
      ],
      "execution_count": 13,
      "outputs": [
        {
          "output_type": "execute_result",
          "data": {
            "text/plain": [
              "array([-3.31576799])"
            ]
          },
          "metadata": {
            "tags": []
          },
          "execution_count": 13
        }
      ]
    },
    {
      "cell_type": "code",
      "metadata": {
        "colab": {
          "base_uri": "https://localhost:8080/"
        },
        "id": "5JUJ61Yj2jnD",
        "outputId": "95c5ffc9-7c5f-4827-874b-41037b359936"
      },
      "source": [
        "model.intercept_"
      ],
      "execution_count": 14,
      "outputs": [
        {
          "output_type": "execute_result",
          "data": {
            "text/plain": [
              "1678.9405326885008"
            ]
          },
          "metadata": {
            "tags": []
          },
          "execution_count": 14
        }
      ]
    },
    {
      "cell_type": "code",
      "metadata": {
        "colab": {
          "base_uri": "https://localhost:8080/"
        },
        "id": "pHmzmUUW2jnF",
        "outputId": "0d49710d-bcbf-4049-f908-0ef13774b981"
      },
      "source": [
        "y_pred = model.predict(X_test)\n",
        "y_pred"
      ],
      "execution_count": 15,
      "outputs": [
        {
          "output_type": "execute_result",
          "data": {
            "text/plain": [
              "array([1330.78489376, 1645.78285279, 1632.51978083, 1533.04674114,\n",
              "       1420.31062948, 1612.62517289, 1237.94339004, 1430.25793345,\n",
              "       1609.3094049 , 1659.04592475, 1483.31022129, 1410.36332551,\n",
              "       1549.62558108, 1632.51978083, 1443.52100541, 1549.62558108])"
            ]
          },
          "metadata": {
            "tags": []
          },
          "execution_count": 15
        }
      ]
    },
    {
      "cell_type": "markdown",
      "metadata": {
        "id": "Bm8gpqw12jnG"
      },
      "source": [
        "### Коэффициент детерминации"
      ]
    },
    {
      "cell_type": "code",
      "metadata": {
        "colab": {
          "base_uri": "https://localhost:8080/"
        },
        "id": "PaNKDsY22jnG",
        "outputId": "b4699954-19dc-4daf-df45-69dfd3bd188f"
      },
      "source": [
        "model.score(X_test, y_test)"
      ],
      "execution_count": 16,
      "outputs": [
        {
          "output_type": "execute_result",
          "data": {
            "text/plain": [
              "0.410213439338294"
            ]
          },
          "metadata": {
            "tags": []
          },
          "execution_count": 16
        }
      ]
    },
    {
      "cell_type": "markdown",
      "metadata": {
        "id": "0Y6z4YS_2jnH"
      },
      "source": [
        "### График остатков"
      ]
    },
    {
      "cell_type": "code",
      "metadata": {
        "colab": {
          "base_uri": "https://localhost:8080/",
          "height": 414
        },
        "id": "1YXfeT212jnR",
        "outputId": "4996eb85-a4cf-4fef-ade7-14abfed50cd0"
      },
      "source": [
        "residuals = y_test - y_pred\n",
        "plt.scatter(y_pred, residuals)\n",
        "\n",
        "base_line = [0, 0, max(y_pred)]\n",
        "plt.axhline(*base_line, color='red')\n",
        "plt.xlabel('Предсказанные значения смертности')\n",
        "plt.ylabel('Остатки')"
      ],
      "execution_count": 50,
      "outputs": [
        {
          "output_type": "execute_result",
          "data": {
            "text/plain": [
              "Text(0, 0.5, 'Остатки')"
            ]
          },
          "metadata": {
            "tags": []
          },
          "execution_count": 50
        },
        {
          "output_type": "display_data",
          "data": {
            "image/png": "[encoded data removed]",
            "text/plain": [
              "<Figure size 720x432 with 1 Axes>"
            ]
          },
          "metadata": {
            "tags": [],
            "needs_background": "light"
          }
        }
      ]
    },
    {
      "cell_type": "markdown",
      "metadata": {
        "id": "h0xK1CTy2jnS"
      },
      "source": [
        "### Выводы\n",
        "График остатков и низкий коэффициент детерминации свидетельствуют о том, что построенная модель линейной регрессии малоээфективна для данного набора данных."
      ]
    },
    {
      "cell_type": "markdown",
      "metadata": {
        "id": "BGvAduC72jnS"
      },
      "source": [
        "## Задача 2. Исследование связи между смертностью и жесткостью воды для Северных и Южных городов"
      ]
    },
    {
      "cell_type": "code",
      "metadata": {
        "id": "V0kn_IYS2jnS"
      },
      "source": [
        "# Южные города\n",
        "south_cities = df[df.location == 'South']\n",
        "# Северные города\n",
        "north_cities = df[df.location == 'North']"
      ],
      "execution_count": 52,
      "outputs": []
    },
    {
      "cell_type": "code",
      "metadata": {
        "colab": {
          "base_uri": "https://localhost:8080/"
        },
        "id": "CA1BEWvc2jnT",
        "outputId": "48552a6a-4e34-4c10-b4db-643a749175e6"
      },
      "source": [
        "print(len(south_cities), len(north_cities))"
      ],
      "execution_count": 53,
      "outputs": [
        {
          "output_type": "stream",
          "text": [
            "26 35\n"
          ],
          "name": "stdout"
        }
      ]
    },
    {
      "cell_type": "markdown",
      "metadata": {
        "id": "wfV8SVPC2jnT"
      },
      "source": [
        "## Южные города\n",
        "### Точечный график"
      ]
    },
    {
      "cell_type": "code",
      "metadata": {
        "colab": {
          "base_uri": "https://localhost:8080/",
          "height": 414
        },
        "id": "JM6TQ12a2jnU",
        "outputId": "6b9a9d8a-18a0-4714-f9eb-212c354df8a7"
      },
      "source": [
        "ax = south_cities.plot(kind='scatter', x='hardness', y='mortality')\n",
        "ax.set_xlabel('Жесткость воды')\n",
        "ax.set_ylabel('Смертность')"
      ],
      "execution_count": 54,
      "outputs": [
        {
          "output_type": "execute_result",
          "data": {
            "text/plain": [
              "Text(0, 0.5, 'Смертность')"
            ]
          },
          "metadata": {
            "tags": []
          },
          "execution_count": 54
        },
        {
          "output_type": "display_data",
          "data": {
            "image/png": "[encoded data removed]",
            "text/plain": [
              "<Figure size 720x432 with 1 Axes>"
            ]
          },
          "metadata": {
            "tags": [],
            "needs_background": "light"
          }
        }
      ]
    },
    {
      "cell_type": "markdown",
      "metadata": {
        "id": "RLJAa6J_2jnU"
      },
      "source": [
        "### Коэффициенты корреляции"
      ]
    },
    {
      "cell_type": "code",
      "metadata": {
        "colab": {
          "base_uri": "https://localhost:8080/"
        },
        "id": "vfIyuWKP2jnU",
        "outputId": "d02f7b6c-e4a9-4928-d696-b4bd814a8daa"
      },
      "source": [
        "# Пирсона\n",
        "prs_corr = south_cities[['mortality', 'hardness']].corr().iloc[0, 1]\n",
        "# Спирмена\n",
        "spr_corr = south_cities[['mortality', 'hardness']].corr(method='spearman').iloc[0, 1]\n",
        "print(f'Коэффициенты корреляции\\nПирсона: {prs_corr}\\nСпирмена: {spr_corr}')"
      ],
      "execution_count": 55,
      "outputs": [
        {
          "output_type": "stream",
          "text": [
            "Коэффициенты корреляции\n",
            "Пирсона: -0.6021532715484159\n",
            "Спирмена: -0.5957229185013566\n"
          ],
          "name": "stdout"
        }
      ]
    },
    {
      "cell_type": "markdown",
      "metadata": {
        "id": "xTdgHrDX2jnV"
      },
      "source": [
        "### Модель линейной регрессии"
      ]
    },
    {
      "cell_type": "code",
      "metadata": {
        "colab": {
          "base_uri": "https://localhost:8080/"
        },
        "id": "w7kDqkyb2jnW",
        "outputId": "c0b76721-8cdd-4835-90b7-c28f721d995f"
      },
      "source": [
        "X = south_cities[['hardness']]\n",
        "y = south_cities['mortality']\n",
        "\n",
        "X_train, X_test, y_train, y_test = train_test_split(X, y, test_size=0.25, random_state=8)\n",
        "\n",
        "model = LinearRegression()\n",
        "model.fit(X_train, y_train) \n",
        "\n",
        "print(model.coef_)\n",
        "print(model.intercept_)\n",
        "\n",
        "y_pred = model.predict(X_test)\n",
        "print(y_pred)"
      ],
      "execution_count": 56,
      "outputs": [
        {
          "output_type": "stream",
          "text": [
            "[-1.63213686]\n",
            "1498.8120440606008\n",
            "[1333.96622159 1281.73784219 1379.66605356 1412.30879068 1327.43767416\n",
            " 1324.17340045 1342.12690587]\n"
          ],
          "name": "stdout"
        }
      ]
    },
    {
      "cell_type": "markdown",
      "metadata": {
        "id": "nNc7PULd2jnW"
      },
      "source": [
        "### Коэффициент детерминации"
      ]
    },
    {
      "cell_type": "code",
      "metadata": {
        "colab": {
          "base_uri": "https://localhost:8080/"
        },
        "id": "Q-6ja4c72jnY",
        "outputId": "a3eb7bd2-097c-401b-b981-e997547349c3"
      },
      "source": [
        "model.score(X_test, y_test)"
      ],
      "execution_count": 57,
      "outputs": [
        {
          "output_type": "execute_result",
          "data": {
            "text/plain": [
              "0.3394549037699447"
            ]
          },
          "metadata": {
            "tags": []
          },
          "execution_count": 57
        }
      ]
    },
    {
      "cell_type": "markdown",
      "metadata": {
        "id": "fazhCqzD2jnZ"
      },
      "source": [
        "### График остатков"
      ]
    },
    {
      "cell_type": "code",
      "metadata": {
        "colab": {
          "base_uri": "https://localhost:8080/",
          "height": 414
        },
        "id": "wZsLecCZ2jnZ",
        "outputId": "0f1ffdf2-73b7-4200-fcba-7b8d0b3c5cf1"
      },
      "source": [
        "residuals = y_test - y_pred\n",
        "plt.scatter(y_pred, residuals)\n",
        "\n",
        "base_line = [0, 0, max(y_pred)]\n",
        "plt.axhline(*base_line, color='red')\n",
        "plt.xlabel('Предсказанные значения смертности')\n",
        "plt.ylabel('Остатки')"
      ],
      "execution_count": 58,
      "outputs": [
        {
          "output_type": "execute_result",
          "data": {
            "text/plain": [
              "Text(0, 0.5, 'Остатки')"
            ]
          },
          "metadata": {
            "tags": []
          },
          "execution_count": 58
        },
        {
          "output_type": "display_data",
          "data": {
            "image/png": "[encoded data removed]",
            "text/plain": [
              "<Figure size 720x432 with 1 Axes>"
            ]
          },
          "metadata": {
            "tags": [],
            "needs_background": "light"
          }
        }
      ]
    },
    {
      "cell_type": "markdown",
      "metadata": {
        "id": "tnz4z-Bk2jnZ"
      },
      "source": [
        "## Северные города\n",
        "### Точечный график"
      ]
    },
    {
      "cell_type": "code",
      "metadata": {
        "colab": {
          "base_uri": "https://localhost:8080/",
          "height": 414
        },
        "id": "HcBl438B2jna",
        "outputId": "910689a8-0acb-43eb-fcad-9551357ea6af"
      },
      "source": [
        "ax = north_cities.plot(kind='scatter', x='hardness', y='mortality')\n",
        "ax.set_xlabel('Жесткость воды')\n",
        "ax.set_ylabel('Смертность')"
      ],
      "execution_count": 59,
      "outputs": [
        {
          "output_type": "execute_result",
          "data": {
            "text/plain": [
              "Text(0, 0.5, 'Смертность')"
            ]
          },
          "metadata": {
            "tags": []
          },
          "execution_count": 59
        },
        {
          "output_type": "display_data",
          "data": {
            "image/png": "[encoded data removed]",
            "text/plain": [
              "<Figure size 720x432 with 1 Axes>"
            ]
          },
          "metadata": {
            "tags": [],
            "needs_background": "light"
          }
        }
      ]
    },
    {
      "cell_type": "markdown",
      "metadata": {
        "id": "KEzZUe_t2jnb"
      },
      "source": [
        "### Коэффициенты корреляции"
      ]
    },
    {
      "cell_type": "code",
      "metadata": {
        "colab": {
          "base_uri": "https://localhost:8080/"
        },
        "id": "2aZgU17V2jnb",
        "outputId": "487cf0f9-873c-463e-e36a-e8ca4f18db85"
      },
      "source": [
        "# Пирсона\n",
        "prs_corr = north_cities[['mortality', 'hardness']].corr().iloc[0, 1]\n",
        "# Спирмена\n",
        "spr_corr = north_cities[['mortality', 'hardness']].corr(method='spearman').iloc[0, 1]\n",
        "print(f'Коэффициенты корреляции\\nПирсона: {prs_corr}\\nСпирмена: {spr_corr}')"
      ],
      "execution_count": 60,
      "outputs": [
        {
          "output_type": "stream",
          "text": [
            "Коэффициенты корреляции\n",
            "Пирсона: -0.36859783832887183\n",
            "Спирмена: -0.4042078956511175\n"
          ],
          "name": "stdout"
        }
      ]
    },
    {
      "cell_type": "markdown",
      "metadata": {
        "id": "mmrI1Ig72jnc"
      },
      "source": [
        "### Модель линейной регрессии"
      ]
    },
    {
      "cell_type": "code",
      "metadata": {
        "colab": {
          "base_uri": "https://localhost:8080/"
        },
        "id": "P1876LOF2jnc",
        "outputId": "2688f15d-76e2-4ed0-db6e-76fc8c1fc285"
      },
      "source": [
        "X = north_cities[['hardness']]\n",
        "y = north_cities['mortality']\n",
        "\n",
        "X_train, X_test, y_train, y_test = train_test_split(X, y, test_size=0.25, random_state=9)\n",
        "\n",
        "model = LinearRegression()\n",
        "model.fit(X_train, y_train) \n",
        "\n",
        "print(model.coef_)\n",
        "print(model.intercept_)\n",
        "\n",
        "y_pred = model.predict(X_test)\n",
        "print(y_pred)"
      ],
      "execution_count": 61,
      "outputs": [
        {
          "output_type": "stream",
          "text": [
            "[-2.02797546]\n",
            "1692.9939123265372\n",
            "[1640.26655027 1662.57428037 1660.54630491 1656.49035398 1674.74213315\n",
            " 1593.6231146  1603.76299192 1549.0076544  1549.0076544 ]\n"
          ],
          "name": "stdout"
        }
      ]
    },
    {
      "cell_type": "markdown",
      "metadata": {
        "id": "YV0cOWdn2jnc"
      },
      "source": [
        "### Коэффициент детерминации"
      ]
    },
    {
      "cell_type": "code",
      "metadata": {
        "colab": {
          "base_uri": "https://localhost:8080/"
        },
        "id": "QUYYPVvw2jnc",
        "outputId": "29b8ee00-22c1-4819-a69b-a4a8a2ca3423"
      },
      "source": [
        "model.score(X_test, y_test)"
      ],
      "execution_count": 62,
      "outputs": [
        {
          "output_type": "execute_result",
          "data": {
            "text/plain": [
              "0.09281149479048578"
            ]
          },
          "metadata": {
            "tags": []
          },
          "execution_count": 62
        }
      ]
    },
    {
      "cell_type": "markdown",
      "metadata": {
        "id": "E6GDpPZJ2jnc"
      },
      "source": [
        "### График остатков"
      ]
    },
    {
      "cell_type": "code",
      "metadata": {
        "colab": {
          "base_uri": "https://localhost:8080/",
          "height": 414
        },
        "id": "nx2-mham2jnf",
        "outputId": "bcbad400-6576-418d-942c-d9712e3e6520"
      },
      "source": [
        "residuals = y_test - y_pred\n",
        "plt.scatter(y_pred, residuals)\n",
        "\n",
        "base_line = [0, 0, max(y_pred)]\n",
        "plt.axhline(*base_line, color='red')\n",
        "plt.xlabel('Предсказанные значения смертности')\n",
        "plt.ylabel('Остатки')"
      ],
      "execution_count": 63,
      "outputs": [
        {
          "output_type": "execute_result",
          "data": {
            "text/plain": [
              "Text(0, 0.5, 'Остатки')"
            ]
          },
          "metadata": {
            "tags": []
          },
          "execution_count": 63
        },
        {
          "output_type": "display_data",
          "data": {
            "image/png": "[encoded data removed]",
            "text/plain": [
              "<Figure size 720x432 with 1 Axes>"
            ]
          },
          "metadata": {
            "tags": [],
            "needs_background": "light"
          }
        }
      ]
    },
    {
      "cell_type": "markdown",
      "metadata": {
        "id": "LNdripIe2jng"
      },
      "source": [
        "## Выводы\n",
        "1) Коэффициенты корреляции для Южных городов больше (по модулю), чем для Северных. Возможно, это вызвано тем, что на Севере присутствуют факторы, которые оказывают на смертность влияние более сильное, нежели жесткость воды.\n",
        "2) По причине небольшого количества данных (26 южных и 35 северных городов) качество обучения модели сильно зависит от разбиения данных на обучающую и тестовую выборки. Это можно проверить, поэскпериментировав с параметром random_state.\n",
        "3) В целом, регрессионная модель, построенная на основе всех городов, показывает лучшее качество предсказания, нежели модели для южных и северных городов. Это подкрепляется и тем, что коэффициенты корреляции у общей модели больше, чем у южного и северного регионов. Однако у южного региона коэффициенты корреляции тоже достаточно высокие. Более низкий коэффициент детерминации можно объяснить причиной, упомянутой в пункте 2 (выше)."
      ]
    }
  ]
}