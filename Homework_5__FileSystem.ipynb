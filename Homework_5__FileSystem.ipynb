{
  "cells":[
    {
      "cell_type":"markdown",
      "source":[
        "# Работа с файловой системой"
      ],
      "metadata":{
        
      }
    },
    {
      "cell_type":"markdown",
      "source":[
        "## Задание 1\n",
        "### Решение"
      ],
      "metadata":{
        
      }
    },
    {
      "cell_type":"code",
      "source":[
        "import json\n",
        "\n",
        "def two_column_file_to_dict(file_name, rows_number=0):\n",
        "    result = {}\n",
        "    with open(file_name, 'r') as f:\n",
        "        # Читаем заголовки\n",
        "        titles = list(json.loads(f.readline()).keys())\n",
        "        # Читаем данные\n",
        "        # 1. Случай с ограничением количества строк для чтения\n",
        "        if rows_number:\n",
        "            for i in range(rows_number):\n",
        "                dict_line = json.loads(f.readline())\n",
        "                result[dict_line[titles[0]]] = dict_line[titles[1]]\n",
        "         # 1. Случай без ограничения количества строк для чтения\n",
        "        else:\n",
        "            for line in f:\n",
        "                dict_line = json.loads(line)\n",
        "                result[dict_line[titles[0]]] = dict_line[titles[1]]\n",
        "    return result"
      ],
      "execution_count":31,
      "outputs":[
        
      ],
      "metadata":{
        
      }
    },
    {
      "cell_type":"markdown",
      "source":[
        "### Проверка"
      ],
      "metadata":{
        
      }
    },
    {
      "cell_type":"code",
      "source":[
        "dict_from_file = two_column_file_to_dict('purchase_log.txt', 15)\n",
        "for i, k in enumerate(dict_from_file):\n",
        "    print(f'{i+1:8} | {k:10} | {dict_from_file[k]}')"
      ],
      "execution_count":32,
      "outputs":[
        {
          "name":"stdout",
          "text":[
            "       1 | 1840e0b9d4 | Продукты\n",
            "       2 | 4e4f90fcfb | Электроника\n",
            "       3 | afea8d72fc | Электроника\n",
            "       4 | 373a6055fe | Бытовая техника\n",
            "       5 | 9b2ab046f3 | Электроника\n",
            "       6 | 9f39d307c3 | Электроника\n",
            "       7 | 44edeffc91 | Продукты\n",
            "       8 | 704474fa2d | Продукты\n",
            "       9 | 1de31be403 | Бытовая техника\n",
            "      10 | b71f36a5e4 | Продукты\n",
            "      11 | 79843a685a | Продукты\n",
            "      12 | ff68cee0d6 | Бытовая техника\n",
            "      13 | e8447c40e2 | Досуг\n",
            "      14 | 98d290be27 | Электроника\n",
            "      15 | fa0079a5a8 | Досуг\n"
          ],
          "output_type":"stream"
        }
      ],
      "metadata":{
        
      }
    },
    {
      "cell_type":"markdown",
      "source":[
        "## Задание 2\n",
        "### Решение"
      ],
      "metadata":{
        
      }
    },
    {
      "cell_type":"code",
      "source":[
        "def user_purchases_info(categories='purchase_log.txt', visits='visit_log.csv', out_file='funnel.csv'):\n",
        "    # Используем функцию из задания 1\n",
        "    purchase_log = two_column_file_to_dict(categories)\n",
        "    with open(out_file, 'w') as funnel:\n",
        "        with open(visits, 'r') as visit_log:\n",
        "            titles = visit_log.readline()\n",
        "            funnel.write(','.join([titles.strip('\\n'), 'category']) + '\\n')\n",
        "            for line in visit_log:\n",
        "                user_id = line.split(',')[0]\n",
        "                category = purchase_log.get(user_id)\n",
        "                if category:\n",
        "                    funnel.write(','.join([line.strip('\\n'), category]) + '\\n')"
      ],
      "execution_count":35,
      "outputs":[
        
      ],
      "metadata":{
        
      }
    },
    {
      "cell_type":"markdown",
      "source":[
        "### Проверка"
      ],
      "metadata":{
        
      }
    },
    {
      "cell_type":"code",
      "source":[
        "user_purchases_info()\n",
        "# Проверка содержимого сформированного файла\n",
        "with open('funnel.csv', 'r') as ff:\n",
        "    for i in range(15):\n",
        "        print(ff.readline().strip('\\n'))"
      ],
      "execution_count":36,
      "outputs":[
        {
          "name":"stdout",
          "text":[
            "user_id,source,category\n",
            "1840e0b9d4,other,Продукты\n",
            "4e4f90fcfb,context,Электроника\n",
            "afea8d72fc,other,Электроника\n",
            "2824221f38,email,Продукты\n",
            "373a6055fe,other,Бытовая техника\n",
            "9b2ab046f3,other,Электроника\n",
            "9f39d307c3,context,Электроника\n",
            "44edeffc91,context,Продукты\n",
            "704474fa2d,other,Продукты\n",
            "1de31be403,other,Бытовая техника\n",
            "5da0dedf13,context,Досуг\n",
            "b71f36a5e4,other,Продукты\n",
            "79843a685a,context,Продукты\n",
            "ff68cee0d6,context,Бытовая техника\n"
          ],
          "output_type":"stream"
        }
      ],
      "metadata":{
        
      }
    }
  ],
  "metadata":{
    
  },
  "nbformat":4,
  "nbformat_minor":0
}