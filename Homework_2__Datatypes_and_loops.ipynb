{
 "cells": [
  {
   "cell_type": "markdown",
   "metadata": {},
   "source": [
    "# Управляющие конструкции и коллекции"
   ]
  },
  {
   "cell_type": "markdown",
   "metadata": {},
   "source": [
    "## Задание 1\n",
    "### Решение"
   ]
  },
  {
   "cell_type": "code",
   "execution_count": 35,
   "metadata": {},
   "outputs": [],
   "source": [
    "def middle_letter(word):\n",
    "    w_len = len(word)\n",
    "    if w_len % 2 == 0:\n",
    "        print()\n",
    "        return word[w_len // 2 - 1:w_len // 2 + 1]\n",
    "    else:\n",
    "        return word[w_len // 2]"
   ]
  },
  {
   "cell_type": "markdown",
   "metadata": {},
   "source": [
    "### Проверка"
   ]
  },
  {
   "cell_type": "code",
   "execution_count": 36,
   "metadata": {},
   "outputs": [
    {
     "name": "stdout",
     "output_type": "stream",
     "text": [
      "\n",
      "Ввод:\n",
      "test\n",
      "Результат:\n",
      "es\n",
      "Ввод:\n",
      "testing\n",
      "Результат:\n",
      "t\n"
     ]
    }
   ],
   "source": [
    "for word in ('test', 'testing'):\n",
    "    print('\\n'.join(['Ввод:', word, 'Результат:', middle_letter(word)]))"
   ]
  },
  {
   "cell_type": "markdown",
   "metadata": {},
   "source": [
    "## Задание 2\n",
    "### Решение с проверкой"
   ]
  },
  {
   "cell_type": "code",
   "execution_count": 22,
   "metadata": {},
   "outputs": [
    {
     "name": "stdout",
     "output_type": "stream",
     "text": [
      "Введите число:1\n",
      "Введите число:4\n",
      "Введите число:6\n",
      "Введите число:0\n",
      "Результат:\n",
      "11\n"
     ]
    }
   ],
   "source": [
    "s = 0\n",
    "while True:\n",
    "    number = int(input('Введите число:'))\n",
    "    if number == 0:\n",
    "        print('Результат:', s, sep='\\n')\n",
    "        break\n",
    "    else:\n",
    "        s += number"
   ]
  },
  {
   "cell_type": "markdown",
   "metadata": {},
   "source": [
    "## Задание 3\n",
    "### Решение"
   ]
  },
  {
   "cell_type": "code",
   "execution_count": 25,
   "metadata": {},
   "outputs": [],
   "source": [
    "def mvp_dating_service(boys, girls):\n",
    "    if len(boys) != len(girls):\n",
    "        print('Внимание, кто-то может остаться без пары!')\n",
    "    else:\n",
    "        print('Идеальные пары:')\n",
    "        for boy, girl in zip(sorted(boys), sorted(girls)):\n",
    "            print(f'{boy} и {girl}')"
   ]
  },
  {
   "cell_type": "markdown",
   "metadata": {},
   "source": [
    "### Проверка"
   ]
  },
  {
   "cell_type": "code",
   "execution_count": 27,
   "metadata": {},
   "outputs": [
    {
     "name": "stdout",
     "output_type": "stream",
     "text": [
      "==> Случай 1\n",
      "Идеальные пары:\n",
      "Alex и Emma\n",
      "Arthur и Kate\n",
      "John и Kira\n",
      "Peter и Liza\n",
      "Richard и Trisha\n",
      "==> Случай 2\n",
      "Внимание, кто-то может остаться без пары!\n"
     ]
    }
   ],
   "source": [
    "print('==> Случай 1')\n",
    "boys = ['Peter', 'Alex', 'John', 'Arthur', 'Richard']\n",
    "girls = ['Kate', 'Liza', 'Kira', 'Emma', 'Trisha']\n",
    "mvp_dating_service(boys, girls)\n",
    "print('==> Случай 2')\n",
    "boys = ['Peter', 'Alex', 'John', 'Arthur', 'Richard', 'Michael']\n",
    "girls = ['Kate', 'Liza', 'Kira', 'Emma', 'Trisha']\n",
    "mvp_dating_service(boys, girls)"
   ]
  },
  {
   "cell_type": "markdown",
   "metadata": {},
   "source": [
    "## Задание 4\n",
    "### Решение"
   ]
  },
  {
   "cell_type": "code",
   "execution_count": 32,
   "metadata": {},
   "outputs": [],
   "source": [
    "from statistics import mean\n",
    "\n",
    "def fahrenheit_to_celsius(temperature):\n",
    "    return round((temperature - 32) * 5 / 9, 1)\n",
    "\n",
    "def avg_temperature_for_period(country_temperature):\n",
    "    for country, temperature in country_temperature:\n",
    "        avg_temperature = fahrenheit_to_celsius(mean(temperature))\n",
    "        print(f'{country} - {avg_temperature} C')"
   ]
  },
  {
   "cell_type": "markdown",
   "metadata": {},
   "source": [
    "### Проверка"
   ]
  },
  {
   "cell_type": "code",
   "execution_count": 39,
   "metadata": {},
   "outputs": [
    {
     "name": "stdout",
     "output_type": "stream",
     "text": [
      "Thailand - 23.9 C\n",
      "Germany - 13.8 C\n",
      "Russia - 3.7 C\n",
      "Poland - 12.0 C\n"
     ]
    }
   ],
   "source": [
    "countries_temperature = [\n",
    "    ['Thailand', [75.2, 77, 78.8, 73.4, 68, 75.2, 77]],\n",
    "    ['Germany', [57.2, 55.4, 59, 59, 53.6]],\n",
    "    ['Russia', [35.6, 37.4, 39.2, 41, 42.8, 39.2, 35.6]],\n",
    "    ['Poland', [50, 50, 53.6, 57.2, 55.4, 55.4]]\n",
    "]\n",
    "avg_temperature_for_period(countries_temperature)"
   ]
  },
  {
   "cell_type": "markdown",
   "metadata": {},
   "source": [
    "## Задание 6\n",
    "### Решение"
   ]
  },
  {
   "cell_type": "code",
   "execution_count": 49,
   "metadata": {},
   "outputs": [],
   "source": [
    "from collections import Counter\n",
    "\n",
    "def numbers_more_than_one():\n",
    "    numbers = input('Введите числа:\\n').split(' ')\n",
    "    result_numbers = []\n",
    "    for number, amount in Counter(numbers).items():\n",
    "        if amount > 1:\n",
    "            result_numbers.append(number)\n",
    "    return sorted(result_numbers)"
   ]
  },
  {
   "cell_type": "markdown",
   "metadata": {},
   "source": [
    "### Проверка"
   ]
  },
  {
   "cell_type": "code",
   "execution_count": 51,
   "metadata": {},
   "outputs": [
    {
     "name": "stdout",
     "output_type": "stream",
     "text": [
      "Введите числа:\n",
      "4 8 0 3 4 2 0 3\n",
      "Результат:\n",
      " 0 3 4\n"
     ]
    }
   ],
   "source": [
    "print('Результат:\\n', ' '.join(numbers_more_than_one()))"
   ]
  },
  {
   "cell_type": "code",
   "execution_count": 52,
   "metadata": {},
   "outputs": [
    {
     "name": "stdout",
     "output_type": "stream",
     "text": [
      "Введите числа:\n",
      "1 1 2 2 3 3\n",
      "Результат:\n",
      " 1 2 3\n"
     ]
    }
   ],
   "source": [
    "print('Результат:\\n', ' '.join(numbers_more_than_one()))"
   ]
  },
  {
   "cell_type": "code",
   "execution_count": 53,
   "metadata": {},
   "outputs": [
    {
     "name": "stdout",
     "output_type": "stream",
     "text": [
      "Введите числа:\n",
      "1 1 1 1 1 2 2 2\n",
      "Результат:\n",
      " 1 2\n"
     ]
    }
   ],
   "source": [
    "print('Результат:\\n', ' '.join(numbers_more_than_one()))"
   ]
  }
 ],
 "metadata": {
  "kernelspec": {
   "display_name": "Python 3",
   "language": "python",
   "name": "python3"
  },
  "language_info": {
   "codemirror_mode": {
    "name": "ipython",
    "version": 3
   },
   "file_extension": ".py",
   "mimetype": "text/x-python",
   "name": "python",
   "nbconvert_exporter": "python",
   "pygments_lexer": "ipython3",
   "version": "3.8.5"
  }
 },
 "nbformat": 4,
 "nbformat_minor": 4
}
