{
 "cells": [
  {
   "cell_type": "markdown",
   "metadata": {},
   "source": [
    "# Управляющие конструкции и коллекции - часть 1"
   ]
  },
  {
   "cell_type": "markdown",
   "metadata": {},
   "source": [
    "## Задание 1\n",
    "### Решение"
   ]
  },
  {
   "cell_type": "code",
   "execution_count": 35,
   "metadata": {},
   "outputs": [],
   "source": [
    "def middle_letter(word):\n",
    "    w_len = len(word)\n",
    "    if w_len % 2 == 0:\n",
    "        print()\n",
    "        return word[w_len // 2 - 1:w_len // 2 + 1]\n",
    "    else:\n",
    "        return word[w_len // 2]"
   ]
  },
  {
   "cell_type": "markdown",
   "metadata": {},
   "source": [
    "### Проверка"
   ]
  },
  {
   "cell_type": "code",
   "execution_count": 36,
   "metadata": {},
   "outputs": [
    {
     "name": "stdout",
     "output_type": "stream",
     "text": [
      "\n",
      "Ввод:\n",
      "test\n",
      "Результат:\n",
      "es\n",
      "Ввод:\n",
      "testing\n",
      "Результат:\n",
      "t\n"
     ]
    }
   ],
   "source": [
    "for word in ('test', 'testing'):\n",
    "    print('\\n'.join(['Ввод:', word, 'Результат:', middle_letter(word)]))"
   ]
  },
  {
   "cell_type": "markdown",
   "metadata": {},
   "source": [
    "## Задание 2\n",
    "### Решение с проверкой"
   ]
  },
  {
   "cell_type": "code",
   "execution_count": 22,
   "metadata": {},
   "outputs": [
    {
     "name": "stdout",
     "output_type": "stream",
     "text": [
      "Введите число:1\n",
      "Введите число:4\n",
      "Введите число:6\n",
      "Введите число:0\n",
      "Результат:\n",
      "11\n"
     ]
    }
   ],
   "source": [
    "s = 0\n",
    "while True:\n",
    "    number = int(input('Введите число:'))\n",
    "    if number == 0:\n",
    "        print('Результат:', s, sep='\\n')\n",
    "        break\n",
    "    else:\n",
    "        s += number"
   ]
  },
  {
   "cell_type": "markdown",
   "metadata": {},
   "source": [
    "## Задание 3\n",
    "### Решение"
   ]
  },
  {
   "cell_type": "code",
   "execution_count": 16,
   "metadata": {},
   "outputs": [],
   "source": [
    "def mvp_dating_service(boys, girls):\n",
    "    if len(boys) != len(girls):\n",
    "        print('Внимание, кто-то может остаться без пары!')\n",
    "    else:\n",
    "        print('Идеальные пары:')\n",
    "        for boy, girl in zip(sorted(boys), sorted(girls)):\n",
    "            print(f'{boy} и {girl}')"
   ]
  },
  {
   "cell_type": "markdown",
   "metadata": {},
   "source": [
    "### Проверка"
   ]
  },
  {
   "cell_type": "code",
   "execution_count": 17,
   "metadata": {},
   "outputs": [
    {
     "name": "stdout",
     "output_type": "stream",
     "text": [
      "Идеальные пары:\n",
      "Alex и Emma\n",
      "Arthur и Kate\n",
      "John и Kira\n",
      "Peter и Liza\n",
      "Richard и Trisha\n"
     ]
    }
   ],
   "source": [
    "boys = ['Peter', 'Alex', 'John', 'Arthur', 'Richard']\n",
    "girls = ['Kate', 'Liza', 'Kira', 'Emma', 'Trisha']\n",
    "mvp_dating_service(boys, girls)"
   ]
  },
  {
   "cell_type": "code",
   "execution_count": 18,
   "metadata": {},
   "outputs": [
    {
     "name": "stdout",
     "output_type": "stream",
     "text": [
      "Внимание, кто-то может остаться без пары!\n"
     ]
    }
   ],
   "source": [
    "boys = ['Peter', 'Alex', 'John', 'Arthur', 'Richard', 'Michael']\n",
    "girls = ['Kate', 'Liza', 'Kira', 'Emma', 'Trisha']\n",
    "mvp_dating_service(boys, girls)"
   ]
  },
  {
   "cell_type": "markdown",
   "metadata": {},
   "source": [
    "## Задание 4\n",
    "### Решение"
   ]
  },
  {
   "cell_type": "code",
   "execution_count": 32,
   "metadata": {},
   "outputs": [],
   "source": [
    "from statistics import mean\n",
    "\n",
    "def fahrenheit_to_celsius(temperature):\n",
    "    return round((temperature - 32) * 5 / 9, 1)\n",
    "\n",
    "def avg_temperature_for_period(country_temperature):\n",
    "    for country, temperature in country_temperature:\n",
    "        avg_temperature = fahrenheit_to_celsius(mean(temperature))\n",
    "        print(f'{country} - {avg_temperature} C')"
   ]
  },
  {
   "cell_type": "markdown",
   "metadata": {},
   "source": [
    "### Проверка"
   ]
  },
  {
   "cell_type": "code",
   "execution_count": 39,
   "metadata": {},
   "outputs": [
    {
     "name": "stdout",
     "output_type": "stream",
     "text": [
      "Thailand - 23.9 C\n",
      "Germany - 13.8 C\n",
      "Russia - 3.7 C\n",
      "Poland - 12.0 C\n"
     ]
    }
   ],
   "source": [
    "countries_temperature = [\n",
    "    ['Thailand', [75.2, 77, 78.8, 73.4, 68, 75.2, 77]],\n",
    "    ['Germany', [57.2, 55.4, 59, 59, 53.6]],\n",
    "    ['Russia', [35.6, 37.4, 39.2, 41, 42.8, 39.2, 35.6]],\n",
    "    ['Poland', [50, 50, 53.6, 57.2, 55.4, 55.4]]\n",
    "]\n",
    "avg_temperature_for_period(countries_temperature)"
   ]
  },
  {
   "cell_type": "markdown",
   "metadata": {},
   "source": [
    "## Задание 5\n",
    "### Решение"
   ]
  },
  {
   "cell_type": "code",
   "execution_count": 6,
   "metadata": {},
   "outputs": [],
   "source": [
    "from collections import defaultdict\n",
    "from statistics import mean\n",
    "\n",
    "def log_parser(logs_stream):\n",
    "    user_views = defaultdict(int)\n",
    "    \n",
    "    for user_info in logs_stream:\n",
    "        user_info_split = user_info.split(',')\n",
    "        user_views[user_info_split[1]] += int(user_info_split[2])\n",
    "    \n",
    "    mean_for_unique_users = mean(user_views.values())\n",
    "    print('Среднее количество просмотров на уникального пользователя:', round(mean_for_unique_users, 2))"
   ]
  },
  {
   "cell_type": "markdown",
   "metadata": {},
   "source": [
    "### Проверка"
   ]
  },
  {
   "cell_type": "code",
   "execution_count": 8,
   "metadata": {},
   "outputs": [
    {
     "name": "stdout",
     "output_type": "stream",
     "text": [
      "Среднее количество просмотров на уникального пользователя: 23.25\n"
     ]
    }
   ],
   "source": [
    "stream = [\n",
    "'2018-01-01,user1,3',\n",
    "'2018-01-07,user1,4',\n",
    "'2018-03-29,user1,1',\n",
    "'2018-04-04,user1,13',\n",
    "'2018-01-05,user2,7',\n",
    "'2018-06-14,user3,4',\n",
    "'2018-07-02,user3,10',\n",
    "'2018-03-21,user4,19',\n",
    "'2018-03-22,user4,4',\n",
    "'2018-04-22,user4,8',\n",
    "'2018-05-03,user4,9',\n",
    "'2018-05-11,user4,11',\n",
    "]\n",
    "log_parser(stream)"
   ]
  },
  {
   "cell_type": "code",
   "execution_count": 9,
   "metadata": {},
   "outputs": [
    {
     "name": "stdout",
     "output_type": "stream",
     "text": [
      "Среднее количество просмотров на уникального пользователя: 145.33\n"
     ]
    }
   ],
   "source": [
    "stream = [\n",
    "'2018-01-01,user100,150',\n",
    "'2018-01-07,user99,205',\n",
    "'2018-03-29,user1001,81'\n",
    "]\n",
    "log_parser(stream)"
   ]
  },
  {
   "cell_type": "markdown",
   "metadata": {},
   "source": [
    "## Задание 6\n",
    "### Решение"
   ]
  },
  {
   "cell_type": "code",
   "execution_count": 12,
   "metadata": {},
   "outputs": [],
   "source": [
    "from collections import Counter\n",
    "\n",
    "def numbers_more_than_one():\n",
    "    numbers = input('Введите числа:\\n').split(' ')\n",
    "    result_numbers = []\n",
    "    for number, amount in Counter(numbers).items():\n",
    "        if amount > 1:\n",
    "            result_numbers.append(number)\n",
    "    return sorted(result_numbers)"
   ]
  },
  {
   "cell_type": "markdown",
   "metadata": {},
   "source": [
    "### Проверка"
   ]
  },
  {
   "cell_type": "code",
   "execution_count": 15,
   "metadata": {},
   "outputs": [
    {
     "name": "stdout",
     "output_type": "stream",
     "text": [
      "Введите числа:\n",
      "4 8 0 3 4 2 0 3\n",
      "Результат:\n",
      " 0 3 4\n"
     ]
    }
   ],
   "source": [
    "print('Результат:\\n', ' '.join(numbers_more_than_one()))"
   ]
  },
  {
   "cell_type": "code",
   "execution_count": 52,
   "metadata": {},
   "outputs": [
    {
     "name": "stdout",
     "output_type": "stream",
     "text": [
      "Введите числа:\n",
      "1 1 2 2 3 3\n",
      "Результат:\n",
      " 1 2 3\n"
     ]
    }
   ],
   "source": [
    "print('Результат:\\n', ' '.join(numbers_more_than_one()))"
   ]
  },
  {
   "cell_type": "code",
   "execution_count": 53,
   "metadata": {},
   "outputs": [
    {
     "name": "stdout",
     "output_type": "stream",
     "text": [
      "Введите числа:\n",
      "1 1 1 1 1 2 2 2\n",
      "Результат:\n",
      " 1 2\n"
     ]
    }
   ],
   "source": [
    "print('Результат:\\n', ' '.join(numbers_more_than_one()))"
   ]
  }
 ],
 "metadata": {
  "kernelspec": {
   "display_name": "Python 3",
   "language": "python",
   "name": "python3"
  },
  "language_info": {
   "codemirror_mode": {
    "name": "ipython",
    "version": 3
   },
   "file_extension": ".py",
   "mimetype": "text/x-python",
   "name": "python",
   "nbconvert_exporter": "python",
   "pygments_lexer": "ipython3",
   "version": "3.7.1"
  }
 },
 "nbformat": 4,
 "nbformat_minor": 4
}
