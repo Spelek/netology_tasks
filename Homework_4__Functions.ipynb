{
  "nbformat": 4,
  "nbformat_minor": 0,
  "metadata": {
    "colab": {
      "name": "Homework_4__Functions.ipynb",
      "provenance": [],
      "collapsed_sections": []
    },
    "kernelspec": {
      "name": "python3",
      "display_name": "Python 3"
    }
  },
  "cells": [
    {
      "cell_type": "markdown",
      "metadata": {
        "id": "NpBEPW6S_Sx0"
      },
      "source": [
        "# Функции"
      ]
    },
    {
      "cell_type": "markdown",
      "metadata": {
        "id": "uiPDNWAREe8u"
      },
      "source": [
        "## Задача 1\n",
        "### Пункт 1"
      ]
    },
    {
      "cell_type": "code",
      "metadata": {
        "id": "yikR4zBh_Sx0"
      },
      "source": [
        "def owner_by_document_id(**kwargs):\n",
        "    doc_id = input('Введите номер документа: ')\n",
        "    owner = None\n",
        "    \n",
        "    for doc in kwargs['documents']:\n",
        "        if doc['number'] == doc_id:\n",
        "            owner = doc['name']\n",
        "            break\n",
        "    if owner:\n",
        "        action_text = f'Владелец документа: {owner}'\n",
        "    else:\n",
        "        action_text = 'Документ не найден в базе'\n",
        "    \n",
        "    print(action_text)"
      ],
      "execution_count": 1,
      "outputs": []
    },
    {
      "cell_type": "markdown",
      "metadata": {
        "id": "USYIpfNUEqY-"
      },
      "source": [
        "### Пункт 2"
      ]
    },
    {
      "cell_type": "code",
      "metadata": {
        "id": "5e4uh4gf_Sx0"
      },
      "source": [
        "def shelf_by_document_id(*args, **kwargs):\n",
        "    doc_id = args[0] if args else input('Введите номер документа: ')\n",
        "    \n",
        "    shelf = None\n",
        "    for shelf_id, directory in kwargs['directories'].items():\n",
        "        if doc_id in directory:\n",
        "            shelf = shelf_id\n",
        "            break\n",
        "    if shelf is not None:\n",
        "        action_text = f'Документ хранится на полке: {shelf[0]}'\n",
        "    else:\n",
        "        action_text = 'Документ не найден в базе'\n",
        "    \n",
        "    if 'logs_off' not in kwargs:\n",
        "        print(action_text)\n",
        "    \n",
        "    return shelf "
      ],
      "execution_count": 2,
      "outputs": []
    },
    {
      "cell_type": "markdown",
      "metadata": {
        "id": "1VSBxdr-EuOd"
      },
      "source": [
        "### Пункт 3"
      ]
    },
    {
      "cell_type": "code",
      "metadata": {
        "id": "3NEV1cio_Sx0"
      },
      "source": [
        "def documents_full_info(**kwargs):\n",
        "    for doc in kwargs['documents']:\n",
        "        kwargs.setdefault('logs_off')\n",
        "        doc_shelf = shelf_by_document_id(doc['number'], **kwargs)\n",
        "        print(f'№: {doc[\"number\"]}, тип: {doc[\"type\"]}, владелец: {doc[\"name\"]}, полка хранения: {doc_shelf}')"
      ],
      "execution_count": 3,
      "outputs": []
    },
    {
      "cell_type": "markdown",
      "metadata": {
        "id": "g7jAB3lYEwFE"
      },
      "source": [
        "### Пункт 4"
      ]
    },
    {
      "cell_type": "code",
      "metadata": {
        "id": "9EyxO2UG_Sx0"
      },
      "source": [
        "def add_new_shelf(**kwargs):\n",
        "    new_shelf = input('Введите номер полки: ')\n",
        "\n",
        "    if new_shelf not in kwargs['directories']:\n",
        "        kwargs['directories'][new_shelf] = []\n",
        "        action_text = 'Полка добавлена.'\n",
        "    else:\n",
        "        action_text = 'Такая полка уже существует.'\n",
        "\n",
        "    common_text = f'Текущий перечень полок: {\", \".join(kwargs[\"directories\"])}'\n",
        "    print(action_text, common_text)"
      ],
      "execution_count": 4,
      "outputs": []
    },
    {
      "cell_type": "markdown",
      "metadata": {
        "id": "vto1oZEFEyQ8"
      },
      "source": [
        "### Пункт 5"
      ]
    },
    {
      "cell_type": "code",
      "metadata": {
        "id": "lE_FOdrv_Sx1"
      },
      "source": [
        "def del_shelf(**kwargs):\n",
        "    shelf_for_del = input('Введите номер полки: ')\n",
        "\n",
        "    if shelf_for_del in kwargs['directories']:\n",
        "        if kwargs['directories'][shelf_for_del]:\n",
        "            action_text = 'На полке есть документы, удалите их перед удалением полки.'\n",
        "        else:\n",
        "            del kwargs['directories'][shelf_for_del]\n",
        "            action_text = 'Полка удалена.'\n",
        "    else:\n",
        "        action_text = 'Такой полки не существует.'\n",
        "\n",
        "    common_text = f'Текущий перечень полок: {\", \".join(kwargs[\"directories\"])}'\n",
        "    print(action_text, common_text)"
      ],
      "execution_count": 5,
      "outputs": []
    },
    {
      "cell_type": "markdown",
      "metadata": {
        "id": "sZv6KtJtE2Bc"
      },
      "source": [
        "## Задача 2\n",
        "### Пункт 1"
      ]
    },
    {
      "cell_type": "code",
      "metadata": {
        "id": "mwUGAJDj_Sx2"
      },
      "source": [
        "# Вспомогательная функция\n",
        "def get_document_index(doc_id, **kwargs):\n",
        "    index = -1\n",
        "    for pos, doc in enumerate(kwargs['documents']):\n",
        "        if doc['number'] == doc_id:\n",
        "            index = pos\n",
        "            break\n",
        "    return index"
      ],
      "execution_count": 14,
      "outputs": []
    },
    {
      "cell_type": "code",
      "metadata": {
        "id": "pjy4ezcl_Sx1"
      },
      "source": [
        "def add_new_document(**kwargs):\n",
        "    # Рациональнее сначала запрашивать полку, чтобы не заставлять\n",
        "    # пользователя повторно вводить данные в случае ее отсутствия\n",
        "    shelf = input('Введите полку для хранения: ')\n",
        "    \n",
        "    if shelf not in kwargs['directories']:\n",
        "        action_text = 'Такой полки не существует. Добавьте полку командой as.'\n",
        "    else:\n",
        "        doc_id = input('Введите номер документа: ')\n",
        "        doc_type = input('Введите тип документа: ')\n",
        "        doc_owner = input('Введите владельца документа: ')\n",
        "        new_doc = {'type': doc_type, 'number': doc_id, 'name': doc_owner}\n",
        "        # Проверяем, не дубль ли это\n",
        "        duplicate = False\n",
        "        doc_indx = get_document_index(doc_id, **kwargs)\n",
        "        if doc_indx > -1:\n",
        "            duplicate = True\n",
        "            for key in new_doc.keys():\n",
        "                if new_doc[key] != kwargs['documents'][doc_indx][key]:\n",
        "                    duplicate = False\n",
        "                    break\n",
        "        if duplicate == True:\n",
        "            action_text = 'Такой документ уже существует.'\n",
        "        else:\n",
        "            kwargs['documents'].append(new_doc)\n",
        "            kwargs['directories'][shelf].append(doc_id)\n",
        "            action_text = 'Документ добавлен.'\n",
        "        \n",
        "    common_text = 'Текущий список документов:'\n",
        "    print(action_text, common_text, sep='\\n')\n",
        "    documents_full_info(**kwargs)"
      ],
      "execution_count": 15,
      "outputs": []
    },
    {
      "cell_type": "markdown",
      "metadata": {
        "id": "938WbXZIE30_"
      },
      "source": [
        "### Пункт 2"
      ]
    },
    {
      "cell_type": "code",
      "metadata": {
        "id": "8RlnkgsK_Sx2"
      },
      "source": [
        "def del_document(**kwargs):\n",
        "    doc_id = input('Введите номер документа: ')\n",
        "    doc_index = get_document_index(doc_id, **kwargs)\n",
        "    if doc_index > -1:\n",
        "        # 1. Удаляем документ с \"полки\"\n",
        "        doc_shelf = shelf_by_document_id(doc_id, logs_off=True, **kwargs)\n",
        "        kwargs['directories'][doc_shelf].remove(doc_id)\n",
        "        # 2. Удаляем документ из списка документов\n",
        "        del kwargs['documents'][doc_index]\n",
        "        action_text = 'Документ удален.'\n",
        "    else:\n",
        "        action_text = 'Документ не найден в базе.'\n",
        "    \n",
        "    common_text = 'Текущий список документов:'\n",
        "    print(action_text, common_text, sep='\\n')\n",
        "    documents_full_info(**kwargs)"
      ],
      "execution_count": 8,
      "outputs": []
    },
    {
      "cell_type": "markdown",
      "metadata": {
        "id": "_lz0gg3_E8mI"
      },
      "source": [
        "### Пункт 3"
      ]
    },
    {
      "cell_type": "code",
      "metadata": {
        "id": "C2gcUpzW_Sx2"
      },
      "source": [
        "def move_document(**kwargs):\n",
        "    doc_id = input('Введите номер документа: ')\n",
        "    new_shelf = input('Введите номер полки: ')\n",
        "    \n",
        "    if get_document_index(doc_id, **kwargs) > -1:\n",
        "        if new_shelf in kwargs['directories']:\n",
        "            old_shelf = shelf_by_document_id(doc_id, logs_off=True, **kwargs)\n",
        "            kwargs['directories'][old_shelf].remove(doc_id)\n",
        "            kwargs['directories'][new_shelf].append(doc_id)\n",
        "            action_text = 'Документ перемещен.'\n",
        "        else:\n",
        "            action_text = 'Такой полки не существует.'\n",
        "    else:\n",
        "        action_text = 'Документ не найден в базе.'\n",
        "    \n",
        "    if 'документ' in action_text.lower():\n",
        "        common_text = 'Текущий список документов:'\n",
        "        print(action_text, common_text, sep='\\n')\n",
        "        documents_full_info(**kwargs)\n",
        "    else:\n",
        "        common_text = f'Текущий перечень полок: {\", \".join(kwargs[\"directories\"])}'\n",
        "        print(action_text, common_text)"
      ],
      "execution_count": 9,
      "outputs": []
    },
    {
      "cell_type": "markdown",
      "metadata": {
        "id": "h70YYvQoFOpr"
      },
      "source": [
        "### Главная функция"
      ]
    },
    {
      "cell_type": "code",
      "metadata": {
        "id": "w1eN0iAf_Sx2"
      },
      "source": [
        "def secretary_assistant(documents, directories):\n",
        "    all_commands = {\n",
        "        'p': owner_by_document_id,\n",
        "        's': shelf_by_document_id,\n",
        "        'l': documents_full_info,\n",
        "        'as': add_new_shelf,\n",
        "        'ds': del_shelf,\n",
        "        'ad': add_new_document,\n",
        "        'd': del_document,\n",
        "        'm': move_document\n",
        "    }\n",
        "    while True:\n",
        "        command = input('Введите команду: ')\n",
        "        if command == 'q':\n",
        "            return\n",
        "        else:\n",
        "            try:          \n",
        "                all_commands[command](documents=documents, directories=directories)\n",
        "            except:\n",
        "                print('Вы ввели неверную команду')"
      ],
      "execution_count": 10,
      "outputs": []
    },
    {
      "cell_type": "markdown",
      "metadata": {
        "id": "BjUZ3mvyET8u"
      },
      "source": [
        "## Проверка"
      ]
    },
    {
      "cell_type": "code",
      "metadata": {
        "colab": {
          "base_uri": "https://localhost:8080/"
        },
        "id": "4X38UjIo_jiJ",
        "outputId": "298eb4db-66e6-434d-9ca6-4c52ebdccece"
      },
      "source": [
        "# Проверка примеров из задания\n",
        "documents = [\n",
        "    {'type': 'passport', 'number': '2207 876234', 'name': 'Василий Гупкин'},\n",
        "    {'type': 'invoice', 'number': '11-2', 'name': 'Геннадий Покемонов'},\n",
        "    {'type': 'insurance', 'number': '10006', 'name': 'Аристарх Павлов'}\n",
        "]\n",
        "directories = {\n",
        "    '1': ['2207 876234', '11-2'],\n",
        "    '2': ['10006'],\n",
        "    '3': []\n",
        "}\n",
        "secretary_assistant(documents, directories)"
      ],
      "execution_count": 12,
      "outputs": [
        {
          "output_type": "stream",
          "text": [
            "Введите команду: p\n",
            "Введите номер документа: 10006\n",
            "Владелец документа: Аристарх Павлов\n",
            "Введите команду: p\n",
            "Введите номер документа: 12345\n",
            "Документ не найден в базе\n",
            "Введите команду: s\n",
            "Введите номер документа: 10006\n",
            "Документ хранится на полке: 2\n",
            "Введите команду: s\n",
            "Введите номер документа: 12345\n",
            "Документ не найден в базе\n",
            "Введите команду: l\n",
            "№: 2207 876234, тип: passport, владелец: Василий Гупкин, полка хранения: 1\n",
            "№: 11-2, тип: invoice, владелец: Геннадий Покемонов, полка хранения: 1\n",
            "№: 10006, тип: insurance, владелец: Аристарх Павлов, полка хранения: 2\n",
            "Введите команду: as\n",
            "Введите номер полки: 10\n",
            "Полка добавлена. Текущий перечень полок: 1, 2, 3, 10\n",
            "Введите команду: as\n",
            "Введите номер полки: 1\n",
            "Такая полка уже существует. Текущий перечень полок: 1, 2, 3, 10\n",
            "Введите команду: ds\n",
            "Введите номер полки: 3\n",
            "Полка удалена. Текущий перечень полок: 1, 2, 10\n",
            "Введите команду: ds\n",
            "Введите номер полки: 1\n",
            "На полке есть документы, удалите их перед удалением полки. Текущий перечень полок: 1, 2, 10\n",
            "Введите команду: ds\n",
            "Введите номер полки: 4\n",
            "Такой полки не существует. Текущий перечень полок: 1, 2, 10\n",
            "Введите команду: ad\n",
            "Введите полку для хранения: 3\n",
            "Такой полки не существует. Добавьте полку командой as.\n",
            "Текущий список документов:\n",
            "№: 2207 876234, тип: passport, владелец: Василий Гупкин, полка хранения: 1\n",
            "№: 11-2, тип: invoice, владелец: Геннадий Покемонов, полка хранения: 1\n",
            "№: 10006, тип: insurance, владелец: Аристарх Павлов, полка хранения: 2\n",
            "Введите команду: as\n",
            "Введите номер полки: 3\n",
            "Полка добавлена. Текущий перечень полок: 1, 2, 10, 3\n",
            "Введите команду: ad\n",
            "Введите полку для хранения: 3\n",
            "Введите номер документа: 42\n",
            "Введите тип документа: multipassport\n",
            "Введите владельца документа: R2D2\n",
            "Документ добавлен.\n",
            "Текущий список документов:\n",
            "№: 2207 876234, тип: passport, владелец: Василий Гупкин, полка хранения: 1\n",
            "№: 11-2, тип: invoice, владелец: Геннадий Покемонов, полка хранения: 1\n",
            "№: 10006, тип: insurance, владелец: Аристарх Павлов, полка хранения: 2\n",
            "№: 42, тип: multipassport, владелец: R2D2, полка хранения: 3\n",
            "Введите команду: ad\n",
            "Введите полку для хранения: 4\n",
            "Такой полки не существует. Добавьте полку командой as.\n",
            "Текущий список документов:\n",
            "№: 2207 876234, тип: passport, владелец: Василий Гупкин, полка хранения: 1\n",
            "№: 11-2, тип: invoice, владелец: Геннадий Покемонов, полка хранения: 1\n",
            "№: 10006, тип: insurance, владелец: Аристарх Павлов, полка хранения: 2\n",
            "№: 42, тип: multipassport, владелец: R2D2, полка хранения: 3\n",
            "Введите команду: q\n"
          ],
          "name": "stdout"
        }
      ]
    },
    {
      "cell_type": "code",
      "metadata": {
        "colab": {
          "base_uri": "https://localhost:8080/"
        },
        "id": "CQQmaW8iMxXV",
        "outputId": "832b2e36-1fa1-4e6e-f41a-ff662c7ae5cd"
      },
      "source": [
        "# Проверка обработки дублей\r\n",
        "documents = [\r\n",
        "    {'type': 'passport', 'number': '2207 876234', 'name': 'Василий Гупкин'},\r\n",
        "    {'type': 'invoice', 'number': '11-2', 'name': 'Геннадий Покемонов'},\r\n",
        "    {'type': 'insurance', 'number': '10006', 'name': 'Аристарх Павлов'}\r\n",
        "]\r\n",
        "directories = {\r\n",
        "    '1': ['2207 876234', '11-2'],\r\n",
        "    '2': ['10006'],\r\n",
        "    '3': []\r\n",
        "}\r\n",
        "secretary_assistant(documents, directories)"
      ],
      "execution_count": 17,
      "outputs": [
        {
          "output_type": "stream",
          "text": [
            "Введите команду: ad\n",
            "Введите полку для хранения: 2\n",
            "Введите номер документа: 10006\n",
            "Введите тип документа: insurance\n",
            "Введите владельца документа: Аристарх Павлов\n",
            "Такой документ уже существует.\n",
            "Текущий список документов:\n",
            "№: 2207 876234, тип: passport, владелец: Василий Гупкин, полка хранения: 1\n",
            "№: 11-2, тип: invoice, владелец: Геннадий Покемонов, полка хранения: 1\n",
            "№: 10006, тип: insurance, владелец: Аристарх Павлов, полка хранения: 2\n",
            "Введите команду: q\n"
          ],
          "name": "stdout"
        }
      ]
    }
  ]
}