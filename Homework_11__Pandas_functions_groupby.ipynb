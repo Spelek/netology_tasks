{
  "cells":[
    {
      "cell_type":"markdown",
      "source":[
        "# Функции в Pandas\n",
        "## Задание 1"
      ],
      "metadata":{
        
      }
    },
    {
      "cell_type":"code",
      "source":[
        "import pandas as pd\n",
        "\n",
        "def classify_by_rating(rating):\n",
        "    if 4.5 < rating <= 5.0:\n",
        "        return 'Высокий рейтинг'\n",
        "    elif 2 < rating <= 4.5:\n",
        "        return 'Средний рейтинг'\n",
        "    elif rating <= 2:\n",
        "        return 'Низкий рейтинг'\n",
        "\n",
        "ratings = pd.read_csv('ratings.csv')\n",
        "movies = pd.read_csv('movies.csv')\n",
        "\n",
        "mean_ratings = ratings.groupby('movieId').mean()\n",
        "result = mean_ratings.merge(movies, on='movieId', how='left')#.sort_values('rating', ascending=False)\n",
        "result['class'] = result.rating.apply(classify_by_rating)\n",
        "\n",
        "print(result.head())"
      ],
      "execution_count":7,
      "outputs":[
        {
          "name":"stdout",
          "text":[
            "   movieId      userId    rating     timestamp  \\\n",
            "0        1  338.558704  3.872470  1.103116e+09   \n",
            "1        2  318.906542  3.401869  1.069321e+09   \n",
            "2        3  374.423729  3.161017  9.662429e+08   \n",
            "3        4  355.538462  2.384615  9.277797e+08   \n",
            "4        5  320.785714  3.267857  9.967201e+08   \n",
            "\n",
            "                                title  \\\n",
            "0                    Toy Story (1995)   \n",
            "1                      Jumanji (1995)   \n",
            "2             Grumpier Old Men (1995)   \n",
            "3            Waiting to Exhale (1995)   \n",
            "4  Father of the Bride Part II (1995)   \n",
            "\n",
            "                                        genres            class  \n",
            "0  Adventure|Animation|Children|Comedy|Fantasy  Средний рейтинг  \n",
            "1                   Adventure|Children|Fantasy  Средний рейтинг  \n",
            "2                               Comedy|Romance  Средний рейтинг  \n",
            "3                         Comedy|Drama|Romance  Средний рейтинг  \n",
            "4                                       Comedy  Средний рейтинг  \n"
          ],
          "output_type":"stream"
        }
      ],
      "metadata":{
        
      }
    },
    {
      "cell_type":"markdown",
      "source":[
        "## Задание 2"
      ],
      "metadata":{
        
      }
    },
    {
      "cell_type":"code",
      "source":[
        "keywords = pd.read_csv('keywords.csv')\n",
        "\n",
        "geo_data = {\n",
        "            'Центр': ['москва', 'тула', 'ярославль'],\n",
        "            'Северо-Запад': ['петербург', 'псков', 'мурманск'],\n",
        "            'Дальний Восток': ['владивосток', 'сахалин', 'хабаровск']\n",
        "}\n",
        "\n",
        "# Преобразуем словарь для более удобного использования\n",
        "geo_data = {city: region for region, cities in geo_data.items() for city in cities}\n",
        "\n",
        "\n",
        "def detect_region(string):\n",
        "    string = string.lower()\n",
        "    for word in string.split():\n",
        "        if word in geo_data:\n",
        "            return geo_data[word]\n",
        "    return 'undefined'\n",
        "\n",
        "keywords['region'] = keywords.keyword.apply(detect_region)\n",
        "print(keywords.sort_values('region', ascending=False).head())"
      ],
      "execution_count":21,
      "outputs":[
        {
          "name":"stdout",
          "text":[
            "                                                 keyword  shows region\n",
            "79598                                 метро схема москва  62915  Центр\n",
            "94442                               скорый москва россия   3866  Центр\n",
            "46003                              гей знакомства москва   8436  Центр\n",
            "81512                                   локомотив москва   4395  Центр\n",
            "71891  москва слезам не верит смотреть бесплатно в хо...   5167  Центр\n"
          ],
          "output_type":"stream"
        }
      ],
      "metadata":{
        
      }
    }
  ],
  "metadata":{
    
  },
  "nbformat":4,
  "nbformat_minor":0
}