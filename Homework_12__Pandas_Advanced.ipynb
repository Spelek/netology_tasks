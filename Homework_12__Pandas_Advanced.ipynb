{
  "cells":[
    {
      "cell_type":"markdown",
      "source":[
        "# Продвинутый pandas\n",
        "## Задание 1"
      ],
      "metadata":{
        
      }
    },
    {
      "cell_type":"code",
      "source":[
        "import pandas as pd\n",
        "\n",
        "df = pd.read_csv('visit_log.csv', sep=';')\n",
        "\n",
        "def source_type(row):\n",
        "    if row['traffic_source'] in ('yandex', 'google'):\n",
        "        return 'organic'\n",
        "    \n",
        "    if row['traffic_source'] in ('paid', 'email'):\n",
        "        if row['region'] == 'Russia':\n",
        "            return 'ad'\n",
        "        else:\n",
        "            return 'other'\n",
        "    \n",
        "    return row['traffic_source']\n",
        "\n",
        "df['source_type'] = df.apply(source_type, axis=1)\n",
        "df.head()"
      ],
      "execution_count":67,
      "outputs":[
        {
          "data":{
            "text\/html":[
              "<div>\n",
              "<style scoped>\n",
              "    .dataframe tbody tr th:only-of-type {\n",
              "        vertical-align: middle;\n",
              "    }\n",
              "\n",
              "    .dataframe tbody tr th {\n",
              "        vertical-align: top;\n",
              "    }\n",
              "\n",
              "    .dataframe thead th {\n",
              "        text-align: right;\n",
              "    }\n",
              "<\/style>\n",
              "<table border=\"1\" class=\"dataframe\">\n",
              "  <thead>\n",
              "    <tr style=\"text-align: right;\">\n",
              "      <th><\/th>\n",
              "      <th>timestamp<\/th>\n",
              "      <th>visit_id<\/th>\n",
              "      <th>url<\/th>\n",
              "      <th>region<\/th>\n",
              "      <th>user_id<\/th>\n",
              "      <th>traffic_source<\/th>\n",
              "      <th>source_type<\/th>\n",
              "    <\/tr>\n",
              "  <\/thead>\n",
              "  <tbody>\n",
              "    <tr>\n",
              "      <th>0<\/th>\n",
              "      <td>1549980692<\/td>\n",
              "      <td>e3b0c44298<\/td>\n",
              "      <td>https:\/\/host.ru\/3c19b4ef7371864fa3<\/td>\n",
              "      <td>Russia<\/td>\n",
              "      <td>b1613cc09f<\/td>\n",
              "      <td>yandex<\/td>\n",
              "      <td>organic<\/td>\n",
              "    <\/tr>\n",
              "    <tr>\n",
              "      <th>1<\/th>\n",
              "      <td>1549980704<\/td>\n",
              "      <td>6e340b9cff<\/td>\n",
              "      <td>https:\/\/host.ru\/c8d9213a31839f9a3a<\/td>\n",
              "      <td>Russia<\/td>\n",
              "      <td>4c3ec14bee<\/td>\n",
              "      <td>direct<\/td>\n",
              "      <td>direct<\/td>\n",
              "    <\/tr>\n",
              "    <tr>\n",
              "      <th>2<\/th>\n",
              "      <td>1549980715<\/td>\n",
              "      <td>96a296d224<\/td>\n",
              "      <td>https:\/\/host.ru\/b8b58337d272ee7b15<\/td>\n",
              "      <td>Russia<\/td>\n",
              "      <td>a8c40697fb<\/td>\n",
              "      <td>yandex<\/td>\n",
              "      <td>organic<\/td>\n",
              "    <\/tr>\n",
              "    <tr>\n",
              "      <th>3<\/th>\n",
              "      <td>1549980725<\/td>\n",
              "      <td>709e80c884<\/td>\n",
              "      <td>https:\/\/host.ru\/b8b58337d272ee7b15<\/td>\n",
              "      <td>Russia<\/td>\n",
              "      <td>521ac1d6a0<\/td>\n",
              "      <td>yandex<\/td>\n",
              "      <td>organic<\/td>\n",
              "    <\/tr>\n",
              "    <tr>\n",
              "      <th>4<\/th>\n",
              "      <td>1549980736<\/td>\n",
              "      <td>df3f619804<\/td>\n",
              "      <td>https:\/\/host.ru\/b8b58337d272ee7b15<\/td>\n",
              "      <td>Russia<\/td>\n",
              "      <td>d7323c571c<\/td>\n",
              "      <td>yandex<\/td>\n",
              "      <td>organic<\/td>\n",
              "    <\/tr>\n",
              "  <\/tbody>\n",
              "<\/table>\n",
              "<\/div>"
            ]
          },
          "metadata":{
            
          },
          "output_type":"display_data"
        }
      ],
      "metadata":{
        
      }
    },
    {
      "cell_type":"markdown",
      "source":[
        "## Задание 2"
      ],
      "metadata":{
        
      }
    },
    {
      "cell_type":"code",
      "source":[
        "import pandas as pd\n",
        "\n",
        "df = pd.read_csv('URLs.txt', delimiter = \"\\t\")\n",
        "\n",
        "# На всякий случай экранировал дефис тоже\n",
        "df[df.url.str.contains(r'\\\/\\d{8}\\-', regex=True)].head()"
      ],
      "execution_count":2,
      "outputs":[
        {
          "data":{
            "text\/html":[
              "<div>\n",
              "<style scoped>\n",
              "    .dataframe tbody tr th:only-of-type {\n",
              "        vertical-align: middle;\n",
              "    }\n",
              "\n",
              "    .dataframe tbody tr th {\n",
              "        vertical-align: top;\n",
              "    }\n",
              "\n",
              "    .dataframe thead th {\n",
              "        text-align: right;\n",
              "    }\n",
              "<\/style>\n",
              "<table border=\"1\" class=\"dataframe\">\n",
              "  <thead>\n",
              "    <tr style=\"text-align: right;\">\n",
              "      <th><\/th>\n",
              "      <th>url<\/th>\n",
              "    <\/tr>\n",
              "  <\/thead>\n",
              "  <tbody>\n",
              "    <tr>\n",
              "      <th>3<\/th>\n",
              "      <td>\/politics\/36188461-s-marta-zhizn-rossiyan-susc...<\/td>\n",
              "    <\/tr>\n",
              "    <tr>\n",
              "      <th>4<\/th>\n",
              "      <td>\/world\/36007585-tramp-pridumal-kak-reshit-ukra...<\/td>\n",
              "    <\/tr>\n",
              "    <tr>\n",
              "      <th>5<\/th>\n",
              "      <td>\/science\/36157853-nasa-sobiraet-ekstrennuyu-pr...<\/td>\n",
              "    <\/tr>\n",
              "    <tr>\n",
              "      <th>6<\/th>\n",
              "      <td>\/video\/36001498-poyavilis-pervye-podrobnosti-g...<\/td>\n",
              "    <\/tr>\n",
              "    <tr>\n",
              "      <th>7<\/th>\n",
              "      <td>\/world\/36007585-tramp-pridumal-kak-reshit-ukra...<\/td>\n",
              "    <\/tr>\n",
              "  <\/tbody>\n",
              "<\/table>\n",
              "<\/div>"
            ]
          },
          "metadata":{
            
          },
          "output_type":"display_data"
        }
      ],
      "metadata":{
        
      }
    },
    {
      "cell_type":"markdown",
      "source":[
        "## Задание 3\n",
        "### Решение №1 - Простое (сначала вычисляем все в одном месте, затем фильтруем)"
      ],
      "metadata":{
        
      }
    },
    {
      "cell_type":"code",
      "source":[
        "%%time\n",
        "ratings = pd.read_csv('ml-latest-small\/ratings.csv')\n",
        "\n",
        "user_ratings = ratings.pivot_table(index = 'userId', values = 'timestamp', aggfunc = ['max', 'min', 'count'], fill_value = 0)\n",
        "filtered_user_ratings = user_ratings[user_ratings['count']['timestamp'] > 100]\n",
        "\n",
        "life_time = filtered_user_ratings['max']['timestamp'].mean() - filtered_user_ratings['min']['timestamp'].mean()\n",
        "\n",
        "print(f'Среднее время жизни пользователей:\\nВ секундах - {round(life_time)}\\nВ часах - {round(life_time\/3600)}\\nВ днях - {round(life_time\/3600\/24)}')"
      ],
      "execution_count":64,
      "outputs":[
        {
          "name":"stdout",
          "text":[
            "Среднее время жизни пользователей:\n",
            "В секундах - 40080507\n",
            "В часах - 11133\n",
            "В днях - 464\n",
            "CPU times: user 57.5 ms, sys: 3.88 ms, total: 61.4 ms\n",
            "Wall time: 67.2 ms\n"
          ],
          "output_type":"stream"
        }
      ],
      "metadata":{
        
      }
    },
    {
      "cell_type":"markdown",
      "source":[
        "### Решение №2 - Оптимальное (сначала фильтруем, затем вычисляем min\/max)?"
      ],
      "metadata":{
        
      }
    },
    {
      "cell_type":"code",
      "source":[
        "%%time\n",
        "user_ratings = ratings.pivot_table(index = 'userId', values = 'timestamp', aggfunc = 'count', fill_value = 0)\n",
        "\n",
        "# Фильтруем\n",
        "id_users_gt_100_ratings = user_ratings[user_ratings['timestamp'] > 100]\n",
        "users_gt_100_ratings = ratings[ratings.userId.isin(id_users_gt_100_ratings.index)]\n",
        "\n",
        "# Вычисляем\n",
        "max_min_users_gt_100_ratings = users_gt_100_ratings.pivot_table(index = 'userId', values = 'timestamp', aggfunc = ['max', 'min'], fill_value = 0)\n",
        "life_time = max_min_users_gt_100_ratings['max']['timestamp'].mean() - max_min_users_gt_100_ratings['min']['timestamp'].mean()\n",
        "\n",
        "print(f'Среднее время жизни пользователей:\\nВ секундах - {round(life_time)}\\nВ часах - {round(life_time\/3600)}\\nВ днях - {round(life_time\/3600\/24)}')"
      ],
      "execution_count":65,
      "outputs":[
        {
          "name":"stdout",
          "text":[
            "Среднее время жизни пользователей:\n",
            "В секундах - 40080507\n",
            "В часах - 11133\n",
            "В днях - 464\n",
            "CPU times: user 31 ms, sys: 91 µs, total: 31.1 ms\n",
            "Wall time: 32.3 ms\n"
          ],
          "output_type":"stream"
        }
      ],
      "metadata":{
        
      }
    },
    {
      "cell_type":"markdown",
      "source":[
        "## Задание 4"
      ],
      "metadata":{
        
      }
    },
    {
      "cell_type":"code",
      "source":[
        "rzd = pd.DataFrame(\n",
        "    {\n",
        "        'client_id': [111, 112, 113, 114, 115],\n",
        "        'rzd_revenue': [1093, 2810, 10283, 5774, 981]\n",
        "    }\n",
        ")\n",
        "auto = pd.DataFrame(\n",
        "    {\n",
        "        'client_id': [113, 114, 115, 116, 117],\n",
        "        'auto_revenue': [57483, 83, 912, 4834, 98]\n",
        "    }\n",
        ")\n",
        "air = pd.DataFrame(\n",
        "    {\n",
        "        'client_id': [115, 116, 117, 118],\n",
        "        'air_revenue': [81, 4, 13, 173]\n",
        "    }\n",
        ")\n",
        "client_base = pd.DataFrame(\n",
        "    {\n",
        "        'client_id': [111, 112, 113, 114, 115, 116, 117, 118],\n",
        "        'address': ['Комсомольская 4', 'Энтузиастов 8а', 'Левобережная 1а', 'Мира 14', 'ЗЖБИиДК 1', \n",
        "                    'Строителей 18', 'Панфиловская 33', 'Мастеркова 4']\n",
        "    }\n",
        ")\n",
        "\n",
        "print('Без адреса =================')\n",
        "joined1 = client_base.loc[:,['client_id']].merge(air, on='client_id', how='left').\\\n",
        "merge(auto, on='client_id', how='left').\\\n",
        "merge(rzd, on='client_id', how='left').fillna(0)\n",
        "print(joined1)\n",
        "print('С адресом =================')\n",
        "joined2 = client_base.merge(air, on='client_id', how='left').\\\n",
        "merge(auto, on='client_id', how='left').\\\n",
        "merge(rzd, on='client_id', how='left').fillna(0)\n",
        "print(joined2)"
      ],
      "execution_count":9,
      "outputs":[
        {
          "name":"stdout",
          "text":[
            "Без адреса =================\n",
            "   client_id  air_revenue  auto_revenue  rzd_revenue\n",
            "0        111          0.0           0.0       1093.0\n",
            "1        112          0.0           0.0       2810.0\n",
            "2        113          0.0       57483.0      10283.0\n",
            "3        114          0.0          83.0       5774.0\n",
            "4        115         81.0         912.0        981.0\n",
            "5        116          4.0        4834.0          0.0\n",
            "6        117         13.0          98.0          0.0\n",
            "7        118        173.0           0.0          0.0\n",
            "С адресом =================\n",
            "   client_id          address  air_revenue  auto_revenue  rzd_revenue\n",
            "0        111  Комсомольская 4          0.0           0.0       1093.0\n",
            "1        112   Энтузиастов 8а          0.0           0.0       2810.0\n",
            "2        113  Левобережная 1а          0.0       57483.0      10283.0\n",
            "3        114          Мира 14          0.0          83.0       5774.0\n",
            "4        115        ЗЖБИиДК 1         81.0         912.0        981.0\n",
            "5        116    Строителей 18          4.0        4834.0          0.0\n",
            "6        117  Панфиловская 33         13.0          98.0          0.0\n",
            "7        118     Мастеркова 4        173.0           0.0          0.0\n"
          ],
          "output_type":"stream"
        }
      ],
      "metadata":{
        
      }
    }
  ],
  "metadata":{
    
  },
  "nbformat":4,
  "nbformat_minor":0
}