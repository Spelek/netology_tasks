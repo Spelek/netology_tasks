{
  "cells":[
    {
      "cell_type":"markdown",
      "source":[
        "# Numpy и матричная алгебра\n",
        "## Задание 1\n",
        "### Решение"
      ],
      "metadata":{
        
      }
    },
    {
      "cell_type":"code",
      "source":[
        "import numpy as np\n",
        "N = 10\n",
        "np.arange(N-1, -1, -1)"
      ],
      "execution_count":144,
      "outputs":[
        {
          "data":{
            "text\/plain":[
              "array([9, 8, 7, 6, 5, 4, 3, 2, 1, 0])"
            ]
          },
          "metadata":{
            
          },
          "output_type":"display_data"
        }
      ],
      "metadata":{
        
      }
    },
    {
      "cell_type":"markdown",
      "source":[
        "## Задание 2\n",
        "### Решение"
      ],
      "metadata":{
        
      }
    },
    {
      "cell_type":"code",
      "source":[
        "import numpy as np\n",
        "N = 10\n",
        "diag_matrix = np.diag(np.arange(N-1, -1, -1))\n",
        "print(sum(np.diag(diag_matrix)))"
      ],
      "execution_count":145,
      "outputs":[
        {
          "name":"stdout",
          "text":[
            "45\n"
          ],
          "output_type":"stream"
        }
      ],
      "metadata":{
        
      }
    },
    {
      "cell_type":"markdown",
      "source":[
        "## Задание 3\n",
        "### Решение"
      ],
      "metadata":{
        
      }
    },
    {
      "cell_type":"code",
      "source":[
        "import numpy as np\n",
        "from numpy import linalg\n",
        "\n",
        "a = np.array( [ [4, 2, 1], [1, 3, 0], [0, 5, 4] ] )\n",
        "b = np.array([4, 12, -3])\n",
        "x, y, z = linalg.solve(a, b)\n",
        "\n",
        "print(x, y, z)"
      ],
      "execution_count":146,
      "outputs":[
        {
          "name":"stdout",
          "text":[
            "0.4666666666666668 3.844444444444444 -5.555555555555555\n"
          ],
          "output_type":"stream"
        }
      ],
      "metadata":{
        
      }
    },
    {
      "cell_type":"markdown",
      "source":[
        "## Задание 4\n",
        "### Решение"
      ],
      "metadata":{
        
      }
    },
    {
      "cell_type":"code",
      "source":[
        "import numpy as np\n",
        "\n",
        "def cosine(a, b):\n",
        "    \"\"\"\n",
        "    Подсчет косинуса угла между векторами a, b по их координатам\n",
        "    \"\"\"\n",
        "    \n",
        "    # длины векторов\n",
        "    aLength = np.linalg.norm( a )\n",
        "    bLength = np.linalg.norm( b )\n",
        "    \n",
        "    return np.dot( a, b ) \/ ( aLength * bLength )\n",
        "\n",
        "users_stats = np.array(\n",
        "    [\n",
        "        [2, 1, 0, 0, 0, 0],\n",
        "        [1, 1, 2, 1, 0, 0],\n",
        "        [2, 0, 1, 0, 0, 0],\n",
        "        [1, 1, 2, 1, 0, 1],\n",
        "        [0, 0, 1, 2, 0, 0],\n",
        "        [0, 0, 0, 0, 0, 5],\n",
        "        [1, 0, 0, 0, 0, 0],\n",
        "        [0, 1, 1, 0, 0, 0],\n",
        "        [0, 0, 0, 1, 1, 3],\n",
        "        [1, 0, 0, 2, 1, 4]\n",
        "    ], \n",
        "    np.int32\n",
        ")\n",
        "\n",
        "next_user_stats = np.array([0, 1, 2, 0, 0, 0])\n",
        "# Более лаконичный вариант\n",
        "nearest_user = max([(vec, cosine(vec, next_user_stats)) for vec in users_stats], key=lambda y: y[1])\n",
        "print(f'Ближайший сосед: {nearest_user[0]}\\nКосинусное расстояние: {nearest_user[1]}')\n",
        "# Вариант более экономный по памяти\n",
        "nearest_user = max([(i, cosine(vec, next_user_stats)) for i, vec in enumerate(users_stats)], key=lambda y: y[1])\n",
        "print(f'Ближайший сосед: {users_stats[nearest_user[0]]}\\nКосинусное расстояние: {nearest_user[1]}')"
      ],
      "execution_count":147,
      "outputs":[
        {
          "name":"stdout",
          "text":[
            "Ближайший сосед: [0 1 1 0 0 0]\n",
            "Косинусное расстояние: 0.9486832980505138\n",
            "Ближайший сосед: [0 1 1 0 0 0]\n",
            "Косинусное расстояние: 0.9486832980505138\n"
          ],
          "output_type":"stream"
        }
      ],
      "metadata":{
        
      }
    }
  ],
  "metadata":{
    
  },
  "nbformat":4,
  "nbformat_minor":0
}