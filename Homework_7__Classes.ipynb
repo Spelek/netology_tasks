{
  "cells":[
    {
      "cell_type":"markdown",
      "source":[
        "# Классы\n",
        "## Задание 1\n",
        "### Решение"
      ],
      "metadata":{
        
      }
    },
    {
      "cell_type":"code",
      "source":[
        "import requests\n",
        "\n",
        "def get_currency_with_max_value():\n",
        "    currencies = requests.get('https:\/\/www.cbr-xml-daily.ru\/daily_json.js').json()['Valute']\n",
        "    max_curr_value = 0\n",
        "    max_curr = ''\n",
        "    for curr, curr_params in currencies.items():\n",
        "        # Учитываем тот момент, что нужно приводить к общим единицам измерения\n",
        "        real_value = curr_params['Value'] \/ curr_params['Nominal']\n",
        "        if real_value > max_curr_value:\n",
        "            max_curr_value = real_value\n",
        "            max_curr = curr\n",
        "    return max_curr"
      ],
      "execution_count":25,
      "outputs":[
        
      ],
      "metadata":{
        
      }
    },
    {
      "cell_type":"markdown",
      "source":[
        "### Проверка"
      ],
      "metadata":{
        
      }
    },
    {
      "cell_type":"code",
      "source":[
        "get_currency_with_max_value()"
      ],
      "execution_count":27,
      "outputs":[
        {
          "data":{
            "text\/plain":[
              "'XDR'"
            ]
          },
          "metadata":{
            
          },
          "output_type":"display_data"
        }
      ],
      "metadata":{
        
      }
    },
    {
      "cell_type":"markdown",
      "source":[
        "## Задание 2\n",
        "### Решение"
      ],
      "metadata":{
        
      }
    },
    {
      "cell_type":"code",
      "source":[
        "import requests\n",
        "\n",
        "class Rate:\n",
        "    def __init__(self, format='value'):\n",
        "        self.format = format\n",
        "        self.diff = False\n",
        "    \n",
        "    def exchange_rates(self):\n",
        "        r = requests.get('https:\/\/www.cbr-xml-daily.ru\/daily_json.js')\n",
        "        return r.json()['Valute']\n",
        "    \n",
        "    def make_format(self, currency):\n",
        "        response = self.exchange_rates()\n",
        "        \n",
        "        if currency in response:\n",
        "            if self.format == 'full':\n",
        "                return response[currency]\n",
        "            \n",
        "            if self.format == 'value':\n",
        "                if self.diff is True:\n",
        "                    return round(response[currency]['Value'] - response[currency]['Previous'], 5)\n",
        "                else:\n",
        "                    return round(response[currency]['Value'], 5)\n",
        "        \n",
        "        return 'Error'\n",
        "    \n",
        "    def eur(self, diff=False):\n",
        "        \"\"\"Возвращает курс евро на сегодня в формате self.format\"\"\"\n",
        "        self.diff = diff\n",
        "        return self.make_format('EUR')\n",
        "    \n",
        "    def usd(self, diff=False):\n",
        "        \"\"\"Возвращает курс доллара на сегодня в формате self.format\"\"\"\n",
        "        self.diff = diff\n",
        "        return self.make_format('USD')\n",
        "\n",
        "    def AZN(self, diff=False):\n",
        "        \"\"\"Возвращает курс азербайджанского маната на сегодня в формате self.format\"\"\"\n",
        "        self.diff = diff\n",
        "        return self.make_format('AZN')"
      ],
      "execution_count":28,
      "outputs":[
        
      ],
      "metadata":{
        
      }
    },
    {
      "cell_type":"markdown",
      "source":[
        "### Проверка"
      ],
      "metadata":{
        
      }
    },
    {
      "cell_type":"code",
      "source":[
        "rate = Rate()\n",
        "print(rate.AZN(), rate.AZN(True))"
      ],
      "execution_count":29,
      "outputs":[
        {
          "name":"stdout",
          "text":[
            "43.5196 -0.0188\n"
          ],
          "output_type":"stream"
        }
      ],
      "metadata":{
        
      }
    },
    {
      "cell_type":"markdown",
      "source":[
        "## Задание 3\n",
        "### Решение"
      ],
      "metadata":{
        
      }
    },
    {
      "cell_type":"code",
      "source":[
        "class Employee:\n",
        "    def __init__(self, name, prizes=2):\n",
        "        self.name = name  \n",
        "        self.prizes = prizes  \n",
        "        self.grade = 1\n",
        "    \n",
        "    def grade_up(self):\n",
        "        \"\"\"Повышает уровень сотрудника\"\"\"\n",
        "        self.grade += 1\n",
        "    \n",
        "    def publish_grade(self):\n",
        "        \"\"\"Публикация результатов аккредитации сотрудников\"\"\"\n",
        "        print(f'Имя: {self.name:10} | Уровень: {self.grade:3} | Баллы: {self.prizes * 2:4}')\n",
        "    \n",
        "    def participate_in_conference(self):\n",
        "        pass\n",
        "\n",
        "class Designer(Employee):\n",
        "    def __init__(self, name, prizes=2):\n",
        "        super().__init__(name, prizes)\n",
        "        \n",
        "    def participate_in_conference(self):\n",
        "        old_prizes_points = self.prizes * 2\n",
        "        self.prizes += 1\n",
        "        # условие повышения сотрудника\n",
        "        if old_prizes_points % 7 + 2 >= 7:\n",
        "            self.grade_up()\n",
        "        \n",
        "        # публикация результатов\n",
        "        return self.publish_grade()"
      ],
      "execution_count":30,
      "outputs":[
        
      ],
      "metadata":{
        
      }
    },
    {
      "cell_type":"markdown",
      "source":[
        "### Проверка"
      ],
      "metadata":{
        
      }
    },
    {
      "cell_type":"code",
      "source":[
        "new_designer = Designer('Leonard')\n",
        "for i in range(20):\n",
        "    new_designer.participate_in_conference()"
      ],
      "execution_count":31,
      "outputs":[
        {
          "name":"stdout",
          "text":[
            "Имя: Leonard    | Уровень:   1 | Баллы:    6\n",
            "Имя: Leonard    | Уровень:   2 | Баллы:    8\n",
            "Имя: Leonard    | Уровень:   2 | Баллы:   10\n",
            "Имя: Leonard    | Уровень:   2 | Баллы:   12\n",
            "Имя: Leonard    | Уровень:   3 | Баллы:   14\n",
            "Имя: Leonard    | Уровень:   3 | Баллы:   16\n",
            "Имя: Leonard    | Уровень:   3 | Баллы:   18\n",
            "Имя: Leonard    | Уровень:   3 | Баллы:   20\n",
            "Имя: Leonard    | Уровень:   4 | Баллы:   22\n",
            "Имя: Leonard    | Уровень:   4 | Баллы:   24\n",
            "Имя: Leonard    | Уровень:   4 | Баллы:   26\n",
            "Имя: Leonard    | Уровень:   5 | Баллы:   28\n",
            "Имя: Leonard    | Уровень:   5 | Баллы:   30\n",
            "Имя: Leonard    | Уровень:   5 | Баллы:   32\n",
            "Имя: Leonard    | Уровень:   5 | Баллы:   34\n",
            "Имя: Leonard    | Уровень:   6 | Баллы:   36\n",
            "Имя: Leonard    | Уровень:   6 | Баллы:   38\n",
            "Имя: Leonard    | Уровень:   6 | Баллы:   40\n",
            "Имя: Leonard    | Уровень:   7 | Баллы:   42\n",
            "Имя: Leonard    | Уровень:   7 | Баллы:   44\n"
          ],
          "output_type":"stream"
        }
      ],
      "metadata":{
        
      }
    }
  ],
  "metadata":{
    
  },
  "nbformat":4,
  "nbformat_minor":0
}