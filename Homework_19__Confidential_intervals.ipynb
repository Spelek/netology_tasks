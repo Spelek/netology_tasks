{
  "nbformat": 4,
  "nbformat_minor": 0,
  "metadata": {
    "kernelspec": {
      "display_name": "Python 3",
      "language": "python",
      "name": "python3"
    },
    "language_info": {
      "codemirror_mode": {
        "name": "ipython",
        "version": 3
      },
      "file_extension": ".py",
      "mimetype": "text/x-python",
      "name": "python",
      "nbconvert_exporter": "python",
      "pygments_lexer": "ipython3",
      "version": "3.7.9"
    },
    "colab": {
      "name": "Confidential_intervals.ipynb",
      "provenance": []
    }
  },
  "cells": [
    {
      "cell_type": "code",
      "metadata": {
        "id": "Fmh2OnO6YGV4"
      },
      "source": [
        "from IPython.display import Image\n",
        "import numpy as np\n",
        "import pandas as pd\n",
        "import scipy.stats\n",
        "import numpy as np"
      ],
      "execution_count": null,
      "outputs": []
    },
    {
      "cell_type": "code",
      "metadata": {
        "colab": {
          "base_uri": "https://localhost:8080/"
        },
        "id": "guck6ek9YGWF",
        "outputId": "f4100347-6b54-4cf3-b34e-e09157d332e7"
      },
      "source": [
        "def mean_confidence_interval(data, confidence=0.95):\n",
        "    n = len(data)\n",
        "    m, se = np.mean(data), scipy.stats.sem(data)\n",
        "    h = se * scipy.stats.t.ppf((1 + confidence)/2, n)\n",
        "    return m-h,m, m+h#,h\n",
        "\n",
        "a = [5,7,7,9,10,16,7,14,13,15,16,15,16,17,18,13,14,15,6,13]\n",
        "\n",
        "\n",
        "print(mean_confidence_interval(a, 0.95))\n",
        " "
      ],
      "execution_count": null,
      "outputs": [
        {
          "output_type": "stream",
          "text": [
            "(10.391179971291619, 12.3, 14.208820028708383)\n"
          ],
          "name": "stdout"
        }
      ]
    },
    {
      "cell_type": "markdown",
      "metadata": {
        "id": "ScaXxJrBYGWj"
      },
      "source": [
        "# Задания для самостоятельного решения\n"
      ]
    },
    {
      "cell_type": "markdown",
      "metadata": {
        "id": "HTKLPz6aYGWj"
      },
      "source": [
        "1. Найдите минимально необходимый объем выборки для построения интервальной оценки среднего с точностью ∆ = 3, дисперсией σ^2 = 225 и уровнем доверия β = 0.95."
      ]
    },
    {
      "cell_type": "code",
      "metadata": {
        "id": "-fLB2WPCYGWj",
        "colab": {
          "base_uri": "https://localhost:8080/"
        },
        "outputId": "2a5dadbc-c4ed-4576-eaf4-7b82003fb557"
      },
      "source": [
        "from math import ceil\n",
        "delta = 3\n",
        "sigma = 225 ** 0.5\n",
        "b = 0.95\n",
        "z = scipy.stats.norm.ppf((1 + b)/2)\n",
        "n = ceil((z * sigma / delta) ** 2)\n",
        "print(f'Минимально необходимый объем выборки: \\033[1m{n}\\033[1m')"
      ],
      "execution_count": null,
      "outputs": [
        {
          "output_type": "stream",
          "text": [
            "Минимально необходимый объем выборки: \u001b[1m97\u001b[1m\n"
          ],
          "name": "stdout"
        }
      ]
    },
    {
      "cell_type": "markdown",
      "metadata": {
        "id": "GgUUM4XrYGWj"
      },
      "source": [
        "2. Вам даны две выборки роста мужчин и женщин. Докажите, используя t-Тест Стьдента, что различия между выборками незначительно, если уровень значимости равен 0.001"
      ]
    },
    {
      "cell_type": "code",
      "metadata": {
        "id": "rEBL9t2_YGWk",
        "colab": {
          "base_uri": "https://localhost:8080/",
          "height": 582
        },
        "outputId": "6db48514-f273-4e39-9c61-8b04b78666f8"
      },
      "source": [
        "import scipy.stats as stats\n",
        "\n",
        "population_men  =stats.norm.rvs(loc=19,scale=171,size=11000000)  # Выборка мужчин со средним ростом 171\n",
        "population_women=stats.norm.rvs(loc=16,scale=165,size=12000)  # Выборка женщин со средним ростом 165\n",
        "\n",
        "pd.DataFrame(population_men).hist(bins=120)\n",
        "pd.DataFrame(population_women).hist(bins=120)\n"
      ],
      "execution_count": null,
      "outputs": [
        {
          "output_type": "execute_result",
          "data": {
            "text/plain": [
              "array([[<matplotlib.axes._subplots.AxesSubplot object at 0x7f22614fddd0>]],\n",
              "      dtype=object)"
            ]
          },
          "metadata": {
            "tags": []
          },
          "execution_count": 28
        },
        {
          "output_type": "display_data",
          "data": {
            "image/png": "[encoded data removed]",
            "text/plain": [
              "<Figure size 432x288 with 1 Axes>"
            ]
          },
          "metadata": {
            "tags": [],
            "needs_background": "light"
          }
        },
        {
          "output_type": "display_data",
          "data": {
            "image/png": "[encoded data removed]",
            "text/plain": [
              "<Figure size 432x288 with 1 Axes>"
            ]
          },
          "metadata": {
            "tags": [],
            "needs_background": "light"
          }
        }
      ]
    },
    {
      "cell_type": "code",
      "metadata": {
        "colab": {
          "base_uri": "https://localhost:8080/"
        },
        "id": "xaV7RgYwjRUn",
        "outputId": "dd98dbbf-e2dd-4103-8dc0-65efc4637f30"
      },
      "source": [
        "stats.ttest_ind(a=population_men,b=population_women,equal_var=False)"
      ],
      "execution_count": null,
      "outputs": [
        {
          "output_type": "execute_result",
          "data": {
            "text/plain": [
              "Ttest_indResult(statistic=2.073546911730484, pvalue=0.03814264482126858)"
            ]
          },
          "metadata": {
            "tags": []
          },
          "execution_count": 30
        }
      ]
    },
    {
      "cell_type": "markdown",
      "metadata": {
        "id": "niqrfLr6mPq0"
      },
      "source": [
        "p-value больше 0.001, что говорит о верности нулевой гипотезы (равенстве мат. ожиданий выборок). Проверим, не превышает ли вычисленная t-статистика табличную."
      ]
    },
    {
      "cell_type": "code",
      "metadata": {
        "colab": {
          "base_uri": "https://localhost:8080/"
        },
        "id": "BC1PrKUdm6R7",
        "outputId": "fb02bb93-e73a-4ef9-b99f-b8382252a634"
      },
      "source": [
        "dfs = (len(population_men)/2 - 1) + (len(population_women)/2 - 1)\n",
        "table_t = stats.t.ppf(0.999, dfs)\n",
        "print(table_t)"
      ],
      "execution_count": null,
      "outputs": [
        {
          "output_type": "stream",
          "text": [
            "3.0902337863958467\n"
          ],
          "name": "stdout"
        }
      ]
    },
    {
      "cell_type": "markdown",
      "metadata": {
        "id": "LvvrSldVnjSm"
      },
      "source": [
        "Табличное значение превышает вычисленное значение t-статистики – 0.7707. Это означает, что мы не можем отвергнуть нулевую гипотезу. Значит, средние двух выборок равны при условии их нормального распределения."
      ]
    },
    {
      "cell_type": "markdown",
      "metadata": {
        "id": "9FutXNzjYGWk"
      },
      "source": [
        "3. Определите объем необходимой выборки для исследования среднего чека за кофе в случайном городе, если известно, что в этом городе стандартное отклонение = 150, уровень доверия = 95%. Погрешность 50 рублей. "
      ]
    },
    {
      "cell_type": "code",
      "metadata": {
        "id": "UyCnvWrZYGWk",
        "colab": {
          "base_uri": "https://localhost:8080/"
        },
        "outputId": "54d8b31d-925f-4acf-c43e-8a72bfd5d172"
      },
      "source": [
        "delta = 50\n",
        "sigma = 150\n",
        "b = 0.95\n",
        "z = scipy.stats.norm.ppf((1 + b)/2)\n",
        "n = ceil((z * sigma / delta) ** 2)\n",
        "print(f'Минимально необходимый объем выборки: \\033[1m{n}\\033[1m')"
      ],
      "execution_count": null,
      "outputs": [
        {
          "output_type": "stream",
          "text": [
            "Минимально необходимый объем выборки: \u001b[1m35\u001b[1m\n"
          ],
          "name": "stdout"
        }
      ]
    },
    {
      "cell_type": "markdown",
      "metadata": {
        "id": "OIgrcSqSYGWl"
      },
      "source": [
        "4[*].  Представьте, что вы хотите разоблачить \"волшебника\", который считает, что умеет предсказывать погоду на завтра. Отвечая просто: дождь или солнце. Вы пронаблюдали за ответами \"волшебника\" в течении какого периода времени и получили такие результаты (см.ниже). Можно ли сказать, что маг действительно умеет предсказывать погоду, \n",
        "если уровнь значимости принять за 0.05 ?"
      ]
    },
    {
      "cell_type": "code",
      "metadata": {
        "id": "UGpxNISwYGWl",
        "colab": {
          "base_uri": "https://localhost:8080/",
          "height": 112
        },
        "outputId": "ccd80f0a-4673-4d90-9769-9b2e85b9d2f0"
      },
      "source": [
        "observations = pd.DataFrame([[25,36],[15,44]],\n",
        "                            index=['Дождь','Солнце'],\n",
        "                            columns=['Ответ волшебника','Реальность'])\n",
        "observations"
      ],
      "execution_count": null,
      "outputs": [
        {
          "output_type": "execute_result",
          "data": {
            "text/html": [
              "<div>\n",
              "<style scoped>\n",
              "    .dataframe tbody tr th:only-of-type {\n",
              "        vertical-align: middle;\n",
              "    }\n",
              "\n",
              "    .dataframe tbody tr th {\n",
              "        vertical-align: top;\n",
              "    }\n",
              "\n",
              "    .dataframe thead th {\n",
              "        text-align: right;\n",
              "    }\n",
              "</style>\n",
              "<table border=\"1\" class=\"dataframe\">\n",
              "  <thead>\n",
              "    <tr style=\"text-align: right;\">\n",
              "      <th></th>\n",
              "      <th>Ответ волшебника</th>\n",
              "      <th>Реальность</th>\n",
              "    </tr>\n",
              "  </thead>\n",
              "  <tbody>\n",
              "    <tr>\n",
              "      <th>Дождь</th>\n",
              "      <td>25</td>\n",
              "      <td>36</td>\n",
              "    </tr>\n",
              "    <tr>\n",
              "      <th>Солнце</th>\n",
              "      <td>15</td>\n",
              "      <td>44</td>\n",
              "    </tr>\n",
              "  </tbody>\n",
              "</table>\n",
              "</div>"
            ],
            "text/plain": [
              "        Ответ волшебника  Реальность\n",
              "Дождь                 25          36\n",
              "Солнце                15          44"
            ]
          },
          "metadata": {
            "tags": []
          },
          "execution_count": 36
        }
      ]
    },
    {
      "cell_type": "code",
      "metadata": {
        "id": "_NO7IE9-YGWl",
        "colab": {
          "base_uri": "https://localhost:8080/"
        },
        "outputId": "344fa2f8-7d22-4471-dcd2-af90f7cec330"
      },
      "source": [
        "import scipy as sp\n",
        "oddsratio, pvalue = sp.stats.fisher_exact(observations)  # Возможно вам пригодится эта функция.\n",
        "print(pvalue)"
      ],
      "execution_count": null,
      "outputs": [
        {
          "output_type": "stream",
          "text": [
            "0.08323639416753109\n"
          ],
          "name": "stdout"
        }
      ]
    },
    {
      "cell_type": "markdown",
      "metadata": {
        "id": "h6b4Hjv40mYV"
      },
      "source": [
        "**Вывод:** На основании того, что p-value не превосходит уровень значимости (0.08 > 0.05), можно сказать, что наши результаты не позволили обнаружить различия между предсказаниями волшебника и реальными данными. Иначе говоря, располагая исходными данными и принимая уровень значимости равным 0.05, мы не можем \"статистически\" разоблачить мага. Но сказать, что он умеет предсказывать погоду мы также не можем."
      ]
    },
    {
      "cell_type": "markdown",
      "metadata": {
        "id": "Xs3zEPSHYGWm"
      },
      "source": [
        "5. Используя функцию mean_confidence_interval(data, confidence), постройте доверительный интервал с уровнем доверия 90% для выборки: data = [1,5,8,9,6,7,5,6,7,8,5,6,7,0,9,8,4,6,7,9,8,6,5,7,8,9,6,7,5,8,6,7,9,5]\n"
      ]
    },
    {
      "cell_type": "code",
      "metadata": {
        "id": "g_8JPbgJYGWm",
        "colab": {
          "base_uri": "https://localhost:8080/"
        },
        "outputId": "57ead26e-9efb-4e1e-91cd-ebc236c6b2ec"
      },
      "source": [
        "data = [4,5,8,9,6,7,5,6,7,8,5,6,7,0,9,8,4,6,7,9,8,6,5,7,8,9,6,7,5,8,6,7,9,5,10]\n",
        "\n",
        "def mean_confidence_interval(data, confidence=0.9):\n",
        "    n = len(data)\n",
        "    m, se = np.mean(data), scipy.stats.sem(data)\n",
        "    h = se * scipy.stats.t.ppf((1 + confidence)/2, n-1)\n",
        "    return m-h, m+h\n",
        "\n",
        "mean_confidence_interval(data)"
      ],
      "execution_count": null,
      "outputs": [
        {
          "output_type": "execute_result",
          "data": {
            "text/plain": [
              "(6.07363110319857, 7.183511753944288)"
            ]
          },
          "metadata": {
            "tags": []
          },
          "execution_count": 10
        }
      ]
    },
    {
      "cell_type": "markdown",
      "metadata": {
        "id": "w7M_GZNZYGWm"
      },
      "source": [
        "6. Принадлежит ли выборка data_1 и data_2 одному множеству? Оцените это с помощью известных вам тестов проверки гипотез."
      ]
    },
    {
      "cell_type": "code",
      "metadata": {
        "id": "c0L6SHooYGWm",
        "colab": {
          "base_uri": "https://localhost:8080/"
        },
        "outputId": "18ef7eeb-b899-46d3-a844-d3e9413270a6"
      },
      "source": [
        "data_1 = pd.DataFrame([4,5,8,9,6,7,5,6,7,8,5,6,7,0,9,8,4,6,7,9,8,6,5,7,8,9,6,7,5,8,6,7,9,5,10])\n",
        "data_2 = pd.DataFrame([8,5,6,7,0,1,8,4,6,7,0,2,6,5,7,5,3,5,3,5,3,5,5,8,7,6,4,5,3,5,4,6,4,5,3,2,6,4,2,6,1,0,4,3,5,4,3,4,5,4,3,4,5,4,3,4,5,3,4,4,1,2,4,3,1,2,4,3,2,1,5,3,4,6,4,5,3,2,4,5,6,4,3,1,3,5,3,4,4,4,2,5,3])\n",
        "\n",
        "t, p = stats.ttest_ind(data_1 ,data_2)\n",
        "t,p\n",
        "#Ваш код:"
      ],
      "execution_count": null,
      "outputs": [
        {
          "output_type": "execute_result",
          "data": {
            "text/plain": [
              "(array([7.35744683]), array([2.11594756e-11]))"
            ]
          },
          "metadata": {
            "tags": []
          },
          "execution_count": 20
        }
      ]
    },
    {
      "cell_type": "code",
      "metadata": {
        "colab": {
          "base_uri": "https://localhost:8080/",
          "height": 582
        },
        "id": "4UwRXUfzs9ex",
        "outputId": "70773166-294a-4b05-d0e2-ed24359363c4"
      },
      "source": [
        "data_1.hist(bins=50)\n",
        "data_2.hist(bins=50)"
      ],
      "execution_count": null,
      "outputs": [
        {
          "output_type": "execute_result",
          "data": {
            "text/plain": [
              "array([[<matplotlib.axes._subplots.AxesSubplot object at 0x7f226166c750>]],\n",
              "      dtype=object)"
            ]
          },
          "metadata": {
            "tags": []
          },
          "execution_count": 21
        },
        {
          "output_type": "display_data",
          "data": {
            "image/png": "[encoded data removed]",
            "text/plain": [
              "<Figure size 432x288 with 1 Axes>"
            ]
          },
          "metadata": {
            "tags": [],
            "needs_background": "light"
          }
        },
        {
          "output_type": "display_data",
          "data": {
            "image/png": "[encoded data removed]",
            "text/plain": [
              "<Figure size 432x288 with 1 Axes>"
            ]
          },
          "metadata": {
            "tags": [],
            "needs_background": "light"
          }
        }
      ]
    },
    {
      "cell_type": "markdown",
      "metadata": {
        "id": "KxQ-6MGitl3O"
      },
      "source": [
        "**Вывод:** Как малое значение p-value (почти нулевое), так и сравнение гистограмм двух выборок, говорит о том, что выборки имеют статиcтически значимые различия. Мы можем отвергнуть гипотезу о том, что они принадлежат одному множеству."
      ]
    },
    {
      "cell_type": "markdown",
      "metadata": {
        "id": "mB9ZpF-1YGWm"
      },
      "source": [
        "7. На примере датасета про жилье в New York City, мы сталкивались с примером, когда переменная имеет не совсем нормальное распределение. \n",
        "\n",
        "Предположим, Вы сформировали две гипотезы:\n",
        "Нулевая гипотеза - распределение нормальное, \n",
        "Альтернативная гипотеза - распределение не нормальное.\n",
        "\n",
        "\n",
        "Допустим, вы применили какой-то тест (сейчас неважно какой), который показал уровень значимости (p-value) = 0.03.\n",
        "Каковы будут ваши выводы? Будем считать что у нас нормальное распределение или все-таки нет? Вопрос без подвоха)"
      ]
    },
    {
      "cell_type": "markdown",
      "metadata": {
        "id": "Dyf9BWxvvkGT"
      },
      "source": [
        "**Вывод**:\n",
        "1) Если p-value < уровня значимости (например, 0.05), значит статистически значимая разница между двумя распределениями существует. Мы можем утверждать, что при заданном уровне значимости наше распределение отличается от нормального (можем отвергнуть нулевую гипотезу).\n",
        "2) Если p-value > уровня значимости, то мы не можем отвергнуть нулевую гипотезу (что распределение нормальное)"
      ]
    },
    {
      "cell_type": "markdown",
      "metadata": {
        "id": "OH4Ibo0tYGWn"
      },
      "source": [
        "8. Первая выборка — это пациенты, которых лечили препаратом А. \n",
        "Вторая выборка — пациенты, которых лечили препаратом Б. Значения в выборках — это некоторая характеристика эффективности лечения (уровень метаболита в крови, температура через три дня после начала лечения, срок выздоровления, число койко-дней, и т.д.) \n",
        "\n",
        "а) Требуется выяснить, имеется ли значимое различие эффективности препаратов А и Б, или различия являются чисто случайными и объясняются «естественной» дисперсией выбранной характеристики?  (уровень значимости принять за 5% или 0.05)\n",
        "\n",
        "b) При каком минимальном P-values различия были бы уже значимы? "
      ]
    },
    {
      "cell_type": "code",
      "metadata": {
        "id": "wcez0AWHYGWn",
        "colab": {
          "base_uri": "https://localhost:8080/"
        },
        "outputId": "c1bcff64-8c35-4201-dff8-3d56d8bfd346"
      },
      "source": [
        "np.random.seed(11)\n",
        "A = stats.norm.rvs(scale=50,loc=10,size=300)\n",
        "B = A+stats.norm.rvs(scale=10,loc=-1.25,size=300)\n",
        "\n",
        "print(A.mean(), B.mean())"
      ],
      "execution_count": null,
      "outputs": [
        {
          "output_type": "stream",
          "text": [
            "9.988742616116626 8.652564514268196\n"
          ],
          "name": "stdout"
        }
      ]
    },
    {
      "cell_type": "code",
      "metadata": {
        "id": "C-sFnTcSYGWn",
        "colab": {
          "base_uri": "https://localhost:8080/"
        },
        "outputId": "35fed4fa-44c3-41e8-e380-32d44476b662"
      },
      "source": [
        "stats.ttest_ind(a=A,b=B,equal_var=False)"
      ],
      "execution_count": null,
      "outputs": [
        {
          "output_type": "execute_result",
          "data": {
            "text/plain": [
              "Ttest_indResult(statistic=0.33196234898293125, pvalue=0.7400341626811637)"
            ]
          },
          "metadata": {
            "tags": []
          },
          "execution_count": 24
        }
      ]
    },
    {
      "cell_type": "markdown",
      "metadata": {
        "id": "aAK4Lamu01hH"
      },
      "source": [
        "**Выводы:**\n",
        "а) Так как p-value > уровня значимости (0.74 > 0.05), мы не можем сказать, что (при уровне значимости 5%) имеется значимое различие эффективности препаратов А и Б и отказаться от гипотезы, что различия являются чисто случайными.\n",
        "б) При p-value = 0.049 при уровне значимости 0.05 можно было бы утверждать, что различия статистически значимы."
      ]
    }
  ]
}