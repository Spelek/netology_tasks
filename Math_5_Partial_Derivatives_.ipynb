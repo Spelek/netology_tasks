{
  "nbformat": 4,
  "nbformat_minor": 0,
  "metadata": {
    "colab": {
      "name": "Math_5_Partial_Derivatives .ipynb",
      "provenance": [],
      "collapsed_sections": []
    },
    "kernelspec": {
      "name": "python3",
      "display_name": "Python 3"
    },
    "language_info": {
      "name": "python"
    }
  },
  "cells": [
    {
      "cell_type": "markdown",
      "metadata": {
        "id": "P2PqmSy5JBjG"
      },
      "source": [
        "# Домашнее задание №5. Производная функции нескольких аргументов.\n",
        "## Уровень 0"
      ]
    },
    {
      "cell_type": "code",
      "metadata": {
        "id": "3P_O2olNIvzx"
      },
      "source": [
        "import numpy as np\n",
        "from scipy.optimize import approx_fprime\n",
        "from sympy import symbols, diff, evalf, sin, cos"
      ],
      "execution_count": 32,
      "outputs": []
    },
    {
      "cell_type": "markdown",
      "metadata": {
        "id": "O2NW2u2kdsVl"
      },
      "source": [
        "Задание 1"
      ]
    },
    {
      "cell_type": "code",
      "metadata": {
        "colab": {
          "base_uri": "https://localhost:8080/"
        },
        "id": "SuJ3KEtFJ_bR",
        "outputId": "03da1723-9b26-48ca-8dff-50cea4e403a6"
      },
      "source": [
        "# Находим частные производные\n",
        "x, y = symbols('x y')\n",
        "expr = 2 * x**2 * y**3 + 1/x + x * y**2 + 7\n",
        "\n",
        "diff_x = diff(expr, x)\n",
        "diff_y = diff(expr, y)\n",
        "\n",
        "# Вычисляем градиент\n",
        "def func(z):\n",
        "    return expr.evalf(subs={x: z[0], y: z[1]})\n",
        "\n",
        "eps = np.sqrt(np.finfo(float).eps)\n",
        "grad = approx_fprime(np.array([1, 2]), func, [eps, eps])\n",
        "\n",
        "# Выводим результаты\n",
        "print('\\033[1mDifferentiation by x:\\033[0m', diff_x,\n",
        "      '\\033[1mDifferentiation by y:\\033[0m', diff_y,\n",
        "      '\\033[1mGradient, x=1, y=2:\\033[0m', grad,\n",
        "      sep='\\n')"
      ],
      "execution_count": 16,
      "outputs": [
        {
          "output_type": "stream",
          "name": "stdout",
          "text": [
            "\u001b[1mDifferentiation by x:\u001b[0m\n",
            "4*x*y**3 + y**2 - 1/x**2\n",
            "\u001b[1mDifferentiation by y:\u001b[0m\n",
            "6*x**2*y**2 + 2*x*y\n",
            "\u001b[1mGradient, x=1, y=2:\u001b[0m\n",
            "[35.00000024 28.00000024]\n"
          ]
        }
      ]
    },
    {
      "cell_type": "markdown",
      "metadata": {
        "id": "quCKRCIhduOA"
      },
      "source": [
        "Задание 2"
      ]
    },
    {
      "cell_type": "code",
      "metadata": {
        "colab": {
          "base_uri": "https://localhost:8080/"
        },
        "id": "il14h03hLc_5",
        "outputId": "bd8c7e06-9c9d-46bc-fdb4-fac285a0ab09"
      },
      "source": [
        "# Находим частные производные\n",
        "x, y = symbols('x y')\n",
        "expr = y * x**2 - sin(x * y) + cos(x**2) + 6 * y\n",
        "\n",
        "diff_x = diff(expr, x)\n",
        "diff_y = diff(expr, y)\n",
        "\n",
        "# Выводим результаты\n",
        "print('\\033[1mDifferentiation by x:\\033[0m', diff_x,\n",
        "      '\\033[1mDifferentiation by y:\\033[0m', diff_y,\n",
        "      sep='\\n')"
      ],
      "execution_count": 17,
      "outputs": [
        {
          "output_type": "stream",
          "name": "stdout",
          "text": [
            "\u001b[1mDifferentiation by x:\u001b[0m\n",
            "2*x*y - 2*x*sin(x**2) - y*cos(x*y)\n",
            "\u001b[1mDifferentiation by y:\u001b[0m\n",
            "x**2 - x*cos(x*y) + 6\n"
          ]
        }
      ]
    },
    {
      "cell_type": "markdown",
      "metadata": {
        "id": "BqR2UH6Aec36"
      },
      "source": [
        "## Уровень 1"
      ]
    },
    {
      "cell_type": "markdown",
      "metadata": {
        "id": "DJorxAOyMg64"
      },
      "source": [
        "Градиентный спуск своими руками:"
      ]
    },
    {
      "cell_type": "code",
      "metadata": {
        "id": "h9FUw1i9K4HM"
      },
      "source": [
        "from scipy.optimize import minimize"
      ],
      "execution_count": 56,
      "outputs": []
    },
    {
      "cell_type": "code",
      "metadata": {
        "id": "mlWHtR2ieHS7"
      },
      "source": [
        "def f(x):\n",
        "    return (x[0]**2) + (x[1]**2)"
      ],
      "execution_count": 63,
      "outputs": []
    },
    {
      "cell_type": "code",
      "metadata": {
        "id": "LKK5earhx3Yl"
      },
      "source": [
        "x = np.array([100, 200])\n",
        "learning_rate = 0.1"
      ],
      "execution_count": 71,
      "outputs": []
    },
    {
      "cell_type": "code",
      "metadata": {
        "colab": {
          "base_uri": "https://localhost:8080/"
        },
        "id": "VwXAfnFEx47N",
        "outputId": "9db7893e-3895-46b2-b38a-54d5c55d7344"
      },
      "source": [
        "for i in range(100):\n",
        "    # Calculate gradient\n",
        "    grad = approx_fprime(x, f, [eps, eps])\n",
        "    \n",
        "    # Update x with gradient\n",
        "    x = x - learning_rate * grad\n",
        "\n",
        "x, f(x)"
      ],
      "execution_count": 72,
      "outputs": [
        {
          "output_type": "execute_result",
          "data": {
            "text/plain": [
              "(array([1.29197811e-08, 3.32901401e-08]), 1.2751541739575636e-15)"
            ]
          },
          "metadata": {},
          "execution_count": 72
        }
      ]
    },
    {
      "cell_type": "code",
      "metadata": {
        "colab": {
          "base_uri": "https://localhost:8080/"
        },
        "id": "Gndu1S2tx82R",
        "outputId": "c80c9ac9-2415-4c79-b753-58997527b8e8"
      },
      "source": [
        "print(\"Минимум достигается в: \", x)\n",
        "print(\"Значение функции в минимуме: \", f(x))"
      ],
      "execution_count": 73,
      "outputs": [
        {
          "output_type": "stream",
          "name": "stdout",
          "text": [
            "Минимум достигается в:  [1.29197811e-08 3.32901401e-08]\n",
            "Значение функции в минимуме:  1.2751541739575636e-15\n"
          ]
        }
      ]
    },
    {
      "cell_type": "markdown",
      "metadata": {
        "id": "rwuI8bWAKjuY"
      },
      "source": [
        "Проверка"
      ]
    },
    {
      "cell_type": "code",
      "metadata": {
        "id": "iKh-He-CQB2m"
      },
      "source": [
        "x = np.array([100, 200])"
      ],
      "execution_count": 50,
      "outputs": []
    },
    {
      "cell_type": "code",
      "metadata": {
        "colab": {
          "base_uri": "https://localhost:8080/"
        },
        "id": "S3pPLEYnKlAc",
        "outputId": "ff9958e7-a4f5-4d28-8603-f1c65b6f7c5c"
      },
      "source": [
        "res = minimize(f, x, method='nelder-mead', options={'xtol': 1e-8, 'disp': True})"
      ],
      "execution_count": 51,
      "outputs": [
        {
          "output_type": "stream",
          "name": "stdout",
          "text": [
            "Optimization terminated successfully.\n",
            "         Current function value: 0.000000\n",
            "         Iterations: 85\n",
            "         Function evaluations: 164\n"
          ]
        }
      ]
    },
    {
      "cell_type": "code",
      "metadata": {
        "colab": {
          "base_uri": "https://localhost:8080/"
        },
        "id": "HFpllQ5UK02r",
        "outputId": "51f6e389-fd09-46c1-cb73-de862a2df50a"
      },
      "source": [
        "print(\"Минимум достигается в: \", res.x)\n",
        "print(\"Значение функции в минимуме: \", f(res.x))\n"
      ],
      "execution_count": 52,
      "outputs": [
        {
          "output_type": "stream",
          "name": "stdout",
          "text": [
            "Минимум достигается в:  [ 3.31391559e-09 -1.82888492e-09]\n",
            "Значение функции в минимуме:  1.4326856592347756e-17\n"
          ]
        }
      ]
    },
    {
      "cell_type": "markdown",
      "metadata": {
        "id": "7j2HAtpYQRNV"
      },
      "source": [
        "Вывод:\n",
        "Значения, полученные при решении упрощенным методом и с помощью встроенной функции minimize, различаются, но учитывая порядки значений, - весьма незначительно."
      ]
    }
  ]
}