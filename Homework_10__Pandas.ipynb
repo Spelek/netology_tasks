{
  "cells":[
    {
      "cell_type":"markdown",
      "source":[
        "# Библиотека Pandas\n",
        "## Задание 1"
      ],
      "metadata":{
        
      }
    },
    {
      "cell_type":"code",
      "source":[
        "import pandas as pd\n",
        "\n",
        "ratings = pd.read_csv('ratings.csv')\n",
        "movies = pd.read_csv('movies.csv')\n",
        "joined = ratings.merge(movies, on='movieId', how='left')\n",
        "\n",
        "max_top_scores = joined.loc[joined['rating'] == 5.0].groupby('title').count().sort_values('rating', ascending=False).reset_index()[['title', 'rating']]\n",
        "\n",
        "print(f'Фильм: {max_top_scores.iloc[0][\"title\"]}\\nКоличество оценок 5.0: {max_top_scores.iloc[0][\"rating\"]}')"
      ],
      "execution_count":68,
      "outputs":[
        {
          "name":"stdout",
          "text":[
            "Фильм: Shawshank Redemption, The (1994)\n",
            "Количество оценок 5.0: 153\n"
          ],
          "output_type":"stream"
        }
      ],
      "metadata":{
        
      }
    },
    {
      "cell_type":"markdown",
      "source":[
        "## Задание 2"
      ],
      "metadata":{
        
      }
    },
    {
      "cell_type":"code",
      "source":[
        "data = pd.read_csv('power.csv')\n",
        "\n",
        "baltic = ['Lithuania', 'Latvia', 'Estonia']\n",
        "categories = [4, 12, 21]\n",
        "year1, year2 = 2005, 2010\n",
        "\n",
        "filtered_data = data.query(\"country in @baltic and \\\n",
        "                           category in @categories and \\\n",
        "                           @year1 <= year <= @year2\")\n",
        "\n",
        "filtered_data = filtered_data.groupby(['country', 'category']).sum().sort_values('country')\n",
        "\n",
        "print(filtered_data['quantity'])        "
      ],
      "execution_count":65,
      "outputs":[
        {
          "name":"stdout",
          "text":[
            "country    category\n",
            "Estonia    4               28.0\n",
            "           21           63412.0\n",
            "Latvia     4                0.0\n",
            "           21           54844.0\n",
            "Lithuania  4               18.0\n",
            "           12            6227.0\n",
            "           21          115952.0\n",
            "Name: quantity, dtype: float64\n"
          ],
          "output_type":"stream"
        }
      ],
      "metadata":{
        
      }
    },
    {
      "cell_type":"markdown",
      "source":[
        "## Задание 3"
      ],
      "metadata":{
        
      }
    },
    {
      "cell_type":"code",
      "source":[
        "url = 'https:\/\/fortrader.org\/quotes'\n",
        "data = pd.read_html(url, encoding='utf-8')\n",
        "print(data[3].head())"
      ],
      "execution_count":66,
      "outputs":[
        {
          "name":"stdout",
          "text":[
            "                   Название      Цена  Изменение  Изменение(%)  Обновлено\n",
            "0             ВТБ Акции ВТБ  0.038425    0.00025      0.654879        NaN\n",
            "1    Газпром Акции газпрома    237.12    3.32000      1.420000        NaN\n",
            "2       Лукойл Акции Лукойл   6 468.5  112.50000      1.800000        NaN\n",
            "3   Роснефть Акции Роснефти    577.00    4.75000      0.830000        NaN\n",
            "4  Сбербанк Акции Сбербанка    292.50    7.57000      2.660000        NaN\n"
          ],
          "output_type":"stream"
        }
      ],
      "metadata":{
        
      }
    }
  ],
  "metadata":{
    
  },
  "nbformat":4,
  "nbformat_minor":0
}