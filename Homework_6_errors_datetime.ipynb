{
  "cells":[
    {
      "cell_type":"markdown",
      "source":[
        "# Обработка ошибок и работа с датами"
      ],
      "metadata":{
        
      }
    },
    {
      "cell_type":"markdown",
      "source":[
        "## Задание 1\n",
        "### Решение"
      ],
      "metadata":{
        
      }
    },
    {
      "cell_type":"code",
      "source":[
        "from datetime import datetime\n",
        "def magazine_date_converter(magazine, mdate):\n",
        "    magagines = {\n",
        "        'The Moscow Times': lambda x: datetime.strptime(x, '%A, %B %m, %Y'),\n",
        "        'The Guardian': lambda x: datetime.strptime(x, '%A, %d.%m.%y'),\n",
        "        'Daily News': lambda x: datetime.strptime(x, '%A, %d %B %Y')\n",
        "    }\n",
        "    return magagines[magazine](mdate) if magazine in magagines else None"
      ],
      "execution_count":26,
      "outputs":[
        
      ],
      "metadata":{
        
      }
    },
    {
      "cell_type":"markdown",
      "source":[
        "### Проверка"
      ],
      "metadata":{
        
      }
    },
    {
      "cell_type":"code",
      "source":[
        "test_list = [\n",
        "    ('The Moscow Times', 'Wednesday, October 2, 2002'),\n",
        "    ('The Guardian', 'Friday, 11.10.13'),\n",
        "    ('Daily News', 'Thursday, 18 August 1977')\n",
        "]\n",
        "for mgz, dt in test_list:\n",
        "    mgz_datetime = magazine_date_converter(mgz, dt)\n",
        "    print(mgz_datetime, type(mgz_datetime))"
      ],
      "execution_count":27,
      "outputs":[
        {
          "name":"stdout",
          "text":[
            "2002-02-01 00:00:00 <class 'datetime.datetime'>\n",
            "2013-10-11 00:00:00 <class 'datetime.datetime'>\n",
            "1977-08-18 00:00:00 <class 'datetime.datetime'>\n"
          ],
          "output_type":"stream"
        }
      ],
      "metadata":{
        
      }
    },
    {
      "cell_type":"markdown",
      "source":[
        "## Задание 2\n",
        "### Решение"
      ],
      "metadata":{
        
      }
    },
    {
      "cell_type":"code",
      "source":[
        "from datetime import datetime\n",
        "def check_date(dates):\n",
        "    result = []\n",
        "    for dt in dates:\n",
        "        try:\n",
        "            datetime.strptime(dt, '%Y-%m-%d')\n",
        "            result.append(True)\n",
        "        except:\n",
        "            result.append(False)\n",
        "    return result"
      ],
      "execution_count":36,
      "outputs":[
        
      ],
      "metadata":{
        
      }
    },
    {
      "cell_type":"markdown",
      "source":[
        "### Проверка"
      ],
      "metadata":{
        
      }
    },
    {
      "cell_type":"code",
      "source":[
        "stream = ['2018-04-02', '2018-02-29', '2018-19-02']\n",
        "print(check_date(stream))"
      ],
      "execution_count":37,
      "outputs":[
        {
          "name":"stdout",
          "text":[
            "[True, False, False]\n"
          ],
          "output_type":"stream"
        }
      ],
      "metadata":{
        
      }
    },
    {
      "cell_type":"markdown",
      "source":[
        "## Задание 3\n",
        "### Решение"
      ],
      "metadata":{
        
      }
    },
    {
      "cell_type":"code",
      "source":[
        "from datetime import datetime, timedelta\n",
        "\n",
        "def date_range(start_date, end_date):\n",
        "    range_of_dates = []\n",
        "    try:\n",
        "        start_date = datetime.strptime(start_date, '%Y-%m-%d')\n",
        "        end_date = datetime.strptime(end_date, '%Y-%m-%d')\n",
        "        while start_date <= end_date:\n",
        "            range_of_dates.append(start_date)\n",
        "            start_date += timedelta(days=1)\n",
        "    finally:\n",
        "        return range_of_dates"
      ],
      "execution_count":30,
      "outputs":[
        
      ],
      "metadata":{
        
      }
    },
    {
      "cell_type":"markdown",
      "source":[
        "### Проверка"
      ],
      "metadata":{
        
      }
    },
    {
      "cell_type":"code",
      "source":[
        "print(len(date_range('2018-10-02', '2018-10-10')))\n",
        "for dt in date_range('2018-10-02', '2018-10-10'):\n",
        "    print(dt)"
      ],
      "execution_count":31,
      "outputs":[
        {
          "name":"stdout",
          "text":[
            "9\n",
            "2018-10-02 00:00:00\n",
            "2018-10-03 00:00:00\n",
            "2018-10-04 00:00:00\n",
            "2018-10-05 00:00:00\n",
            "2018-10-06 00:00:00\n",
            "2018-10-07 00:00:00\n",
            "2018-10-08 00:00:00\n",
            "2018-10-09 00:00:00\n",
            "2018-10-10 00:00:00\n"
          ],
          "output_type":"stream"
        }
      ],
      "metadata":{
        
      }
    },
    {
      "cell_type":"code",
      "source":[
        "print(len(date_range('2018-10-02', '2018-20-10')))\n",
        "for dt in date_range('2018-10-02', '2018-20-10'):\n",
        "    print(dt)"
      ],
      "execution_count":32,
      "outputs":[
        {
          "name":"stdout",
          "text":[
            "0\n"
          ],
          "output_type":"stream"
        }
      ],
      "metadata":{
        
      }
    },
    {
      "cell_type":"code",
      "source":[
        "print(len(date_range('2018-10-02', '2018-09-10')))\n",
        "for dt in date_range('2018-10-02', '2018-09-10'):\n",
        "    print(dt)"
      ],
      "execution_count":33,
      "outputs":[
        {
          "name":"stdout",
          "text":[
            "0\n"
          ],
          "output_type":"stream"
        }
      ],
      "metadata":{
        
      }
    },
    {
      "cell_type":"markdown",
      "source":[
        "## Задание 4\n",
        "### Решение"
      ],
      "metadata":{
        
      }
    },
    {
      "cell_type":"markdown",
      "source":[
        "1. Ошибка говорит о том, что индекс слишком велик по отношению к количеству элементов в списке. Проще говоря, len(list) - 1 < index;\n",
        "2. При первом запуске функция работает корректно, т.к. количество элементов списка default_list в тот момент равно трем, что является минимумом для корректной работы функции с соответствующим (равным трем) параметром DEFAULT_USER_COUNT. Если в списке элементов меньше трех, то после удаления одного элемента их не может быть больше одного, следовательно, второй элемент (строка **return default_list[DEFAULT_USER_COUNT-2]**) получить из данного списка не получится. При втором запуске функции в списке default_list всего два элемента, а после удаления одного элемента - всего один. Отсюда и ошибка - при запросе втрого элемента из списка, содержащего всего один."
      ],
      "metadata":{
        
      }
    }
  ],
  "metadata":{
    
  },
  "nbformat":4,
  "nbformat_minor":0
}