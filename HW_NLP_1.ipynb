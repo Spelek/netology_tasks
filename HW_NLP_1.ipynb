{
  "cells": [
    {
      "cell_type": "code",
      "execution_count": 1,
      "metadata": {
        "colab": {
          "base_uri": "https://localhost:8080/"
        },
        "id": "UVgAbj9qJp2o",
        "outputId": "c086faac-365d-424b-c656-f045a03cd9df"
      },
      "outputs": [
        {
          "output_type": "stream",
          "name": "stdout",
          "text": [
            "Mounted at /content/drive\n"
          ]
        }
      ],
      "source": [
        "from google.colab import drive\n",
        "drive.mount('/content/drive')"
      ]
    },
    {
      "cell_type": "code",
      "execution_count": 1,
      "metadata": {
        "colab": {
          "base_uri": "https://localhost:8080/"
        },
        "id": "vDARUgORJspI",
        "outputId": "da61d460-eeb3-47ec-f1a5-dc083ffe16d3"
      },
      "outputs": [
        {
          "output_type": "stream",
          "name": "stdout",
          "text": [
            "/content/drive/MyDrive/Colab_Notebooks/Netology/NLP\n"
          ]
        }
      ],
      "source": [
        "% cd /content/drive/MyDrive/Colab_Notebooks/Netology/NLP"
      ]
    },
    {
      "cell_type": "code",
      "execution_count": 2,
      "metadata": {
        "id": "h1dvK7H_qauH"
      },
      "outputs": [],
      "source": [
        "import json\n",
        "import bz2\n",
        "import regex\n",
        "from tqdm import tqdm\n",
        "from scipy import sparse"
      ]
    },
    {
      "cell_type": "code",
      "execution_count": 3,
      "metadata": {
        "colab": {
          "base_uri": "https://localhost:8080/"
        },
        "id": "_ZsoxOinqauK",
        "outputId": "cf748d8d-9bb0-412c-8509-81c2bed28c7f"
      },
      "outputs": [
        {
          "output_type": "stream",
          "name": "stdout",
          "text": [
            "Populating the interactive namespace from numpy and matplotlib\n"
          ]
        }
      ],
      "source": [
        "import pandas as pd\n",
        "import numpy as np\n",
        "import nltk\n",
        "import matplotlib.pyplot as plt\n",
        "import seaborn as sns\n",
        "%matplotlib inline\n",
        "%pylab inline"
      ]
    },
    {
      "cell_type": "code",
      "execution_count": 4,
      "metadata": {
        "colab": {
          "base_uri": "https://localhost:8080/"
        },
        "id": "UNHVsbPnqauL",
        "outputId": "d301fe79-197d-41a5-bf9c-9a374b3362f6",
        "scrolled": true
      },
      "outputs": [
        {
          "output_type": "stream",
          "name": "stderr",
          "text": [
            "201030it [02:55, 1145.68it/s]\n"
          ]
        }
      ],
      "source": [
        "responses = []\n",
        "with bz2.BZ2File('banki_responses.json.bz2', 'r') as thefile:\n",
        "    for row in tqdm(thefile):\n",
        "        resp = json.loads(row)\n",
        "        if not resp['rating_not_checked'] and (len(resp['text'].split()) > 0):\n",
        "            responses.append(resp)\n",
        "        # if len(responses) >= 40000:\n",
        "        #     break"
      ]
    },
    {
      "cell_type": "code",
      "execution_count": 5,
      "metadata": {
        "colab": {
          "base_uri": "https://localhost:8080/",
          "height": 205
        },
        "id": "45pP0xCVBBJd",
        "outputId": "8aa05897-eb5f-450d-9f63-e20e39a65370"
      },
      "outputs": [
        {
          "output_type": "execute_result",
          "data": {
            "text/plain": [
              "         bank_name            city  rating_grade  \\\n",
              "0          Бинбанк       г. Москва           NaN   \n",
              "1  Сбербанк России  г. Новосибирск           NaN   \n",
              "2          Бинбанк       г. Москва           NaN   \n",
              "3  Сбербанк России   г. Ставрополь           NaN   \n",
              "4         ОТП Банк    г. Челябинск           NaN   \n",
              "\n",
              "                                                text  \\\n",
              "0  Добрый день! Я не являюсь клиентом банка и пор...   \n",
              "1  Доброго дня! Являюсь держателем зарплатной кар...   \n",
              "2  Здравствуйте!  Дублирую свое заявление от 03.0...   \n",
              "3  Добрый день!! Я открыл расчетный счет в СберБа...   \n",
              "4  04.03.2015 г. взяла кредит в вашем банке, заяв...   \n",
              "\n",
              "                                               title  \n",
              "0                                             Жалоба  \n",
              "1      Не могу пользоваться услугой Сбербанк он-лайн  \n",
              "2                    Двойное списание за один товар.  \n",
              "3  Меняют проценты комиссии  не предупредив и не ...  \n",
              "4             Верните денежные средства за страховку  "
            ],
            "text/html": [
              "\n",
              "  <div id=\"df-de0155f1-99ec-49f2-8e38-6742d7d5b315\">\n",
              "    <div class=\"colab-df-container\">\n",
              "      <div>\n",
              "<style scoped>\n",
              "    .dataframe tbody tr th:only-of-type {\n",
              "        vertical-align: middle;\n",
              "    }\n",
              "\n",
              "    .dataframe tbody tr th {\n",
              "        vertical-align: top;\n",
              "    }\n",
              "\n",
              "    .dataframe thead th {\n",
              "        text-align: right;\n",
              "    }\n",
              "</style>\n",
              "<table border=\"1\" class=\"dataframe\">\n",
              "  <thead>\n",
              "    <tr style=\"text-align: right;\">\n",
              "      <th></th>\n",
              "      <th>bank_name</th>\n",
              "      <th>city</th>\n",
              "      <th>rating_grade</th>\n",
              "      <th>text</th>\n",
              "      <th>title</th>\n",
              "    </tr>\n",
              "  </thead>\n",
              "  <tbody>\n",
              "    <tr>\n",
              "      <th>0</th>\n",
              "      <td>Бинбанк</td>\n",
              "      <td>г. Москва</td>\n",
              "      <td>NaN</td>\n",
              "      <td>Добрый день! Я не являюсь клиентом банка и пор...</td>\n",
              "      <td>Жалоба</td>\n",
              "    </tr>\n",
              "    <tr>\n",
              "      <th>1</th>\n",
              "      <td>Сбербанк России</td>\n",
              "      <td>г. Новосибирск</td>\n",
              "      <td>NaN</td>\n",
              "      <td>Доброго дня! Являюсь держателем зарплатной кар...</td>\n",
              "      <td>Не могу пользоваться услугой Сбербанк он-лайн</td>\n",
              "    </tr>\n",
              "    <tr>\n",
              "      <th>2</th>\n",
              "      <td>Бинбанк</td>\n",
              "      <td>г. Москва</td>\n",
              "      <td>NaN</td>\n",
              "      <td>Здравствуйте!  Дублирую свое заявление от 03.0...</td>\n",
              "      <td>Двойное списание за один товар.</td>\n",
              "    </tr>\n",
              "    <tr>\n",
              "      <th>3</th>\n",
              "      <td>Сбербанк России</td>\n",
              "      <td>г. Ставрополь</td>\n",
              "      <td>NaN</td>\n",
              "      <td>Добрый день!! Я открыл расчетный счет в СберБа...</td>\n",
              "      <td>Меняют проценты комиссии  не предупредив и не ...</td>\n",
              "    </tr>\n",
              "    <tr>\n",
              "      <th>4</th>\n",
              "      <td>ОТП Банк</td>\n",
              "      <td>г. Челябинск</td>\n",
              "      <td>NaN</td>\n",
              "      <td>04.03.2015 г. взяла кредит в вашем банке, заяв...</td>\n",
              "      <td>Верните денежные средства за страховку</td>\n",
              "    </tr>\n",
              "  </tbody>\n",
              "</table>\n",
              "</div>\n",
              "      <button class=\"colab-df-convert\" onclick=\"convertToInteractive('df-de0155f1-99ec-49f2-8e38-6742d7d5b315')\"\n",
              "              title=\"Convert this dataframe to an interactive table.\"\n",
              "              style=\"display:none;\">\n",
              "        \n",
              "  <svg xmlns=\"http://www.w3.org/2000/svg\" height=\"24px\"viewBox=\"0 0 24 24\"\n",
              "       width=\"24px\">\n",
              "    <path d=\"M0 0h24v24H0V0z\" fill=\"none\"/>\n",
              "    <path d=\"M18.56 5.44l.94 2.06.94-2.06 2.06-.94-2.06-.94-.94-2.06-.94 2.06-2.06.94zm-11 1L8.5 8.5l.94-2.06 2.06-.94-2.06-.94L8.5 2.5l-.94 2.06-2.06.94zm10 10l.94 2.06.94-2.06 2.06-.94-2.06-.94-.94-2.06-.94 2.06-2.06.94z\"/><path d=\"M17.41 7.96l-1.37-1.37c-.4-.4-.92-.59-1.43-.59-.52 0-1.04.2-1.43.59L10.3 9.45l-7.72 7.72c-.78.78-.78 2.05 0 2.83L4 21.41c.39.39.9.59 1.41.59.51 0 1.02-.2 1.41-.59l7.78-7.78 2.81-2.81c.8-.78.8-2.07 0-2.86zM5.41 20L4 18.59l7.72-7.72 1.47 1.35L5.41 20z\"/>\n",
              "  </svg>\n",
              "      </button>\n",
              "      \n",
              "  <style>\n",
              "    .colab-df-container {\n",
              "      display:flex;\n",
              "      flex-wrap:wrap;\n",
              "      gap: 12px;\n",
              "    }\n",
              "\n",
              "    .colab-df-convert {\n",
              "      background-color: #E8F0FE;\n",
              "      border: none;\n",
              "      border-radius: 50%;\n",
              "      cursor: pointer;\n",
              "      display: none;\n",
              "      fill: #1967D2;\n",
              "      height: 32px;\n",
              "      padding: 0 0 0 0;\n",
              "      width: 32px;\n",
              "    }\n",
              "\n",
              "    .colab-df-convert:hover {\n",
              "      background-color: #E2EBFA;\n",
              "      box-shadow: 0px 1px 2px rgba(60, 64, 67, 0.3), 0px 1px 3px 1px rgba(60, 64, 67, 0.15);\n",
              "      fill: #174EA6;\n",
              "    }\n",
              "\n",
              "    [theme=dark] .colab-df-convert {\n",
              "      background-color: #3B4455;\n",
              "      fill: #D2E3FC;\n",
              "    }\n",
              "\n",
              "    [theme=dark] .colab-df-convert:hover {\n",
              "      background-color: #434B5C;\n",
              "      box-shadow: 0px 1px 3px 1px rgba(0, 0, 0, 0.15);\n",
              "      filter: drop-shadow(0px 1px 2px rgba(0, 0, 0, 0.3));\n",
              "      fill: #FFFFFF;\n",
              "    }\n",
              "  </style>\n",
              "\n",
              "      <script>\n",
              "        const buttonEl =\n",
              "          document.querySelector('#df-de0155f1-99ec-49f2-8e38-6742d7d5b315 button.colab-df-convert');\n",
              "        buttonEl.style.display =\n",
              "          google.colab.kernel.accessAllowed ? 'block' : 'none';\n",
              "\n",
              "        async function convertToInteractive(key) {\n",
              "          const element = document.querySelector('#df-de0155f1-99ec-49f2-8e38-6742d7d5b315');\n",
              "          const dataTable =\n",
              "            await google.colab.kernel.invokeFunction('convertToInteractive',\n",
              "                                                     [key], {});\n",
              "          if (!dataTable) return;\n",
              "\n",
              "          const docLinkHtml = 'Like what you see? Visit the ' +\n",
              "            '<a target=\"_blank\" href=https://colab.research.google.com/notebooks/data_table.ipynb>data table notebook</a>'\n",
              "            + ' to learn more about interactive tables.';\n",
              "          element.innerHTML = '';\n",
              "          dataTable['output_type'] = 'display_data';\n",
              "          await google.colab.output.renderOutput(dataTable, element);\n",
              "          const docLink = document.createElement('div');\n",
              "          docLink.innerHTML = docLinkHtml;\n",
              "          element.appendChild(docLink);\n",
              "        }\n",
              "      </script>\n",
              "    </div>\n",
              "  </div>\n",
              "  "
            ]
          },
          "metadata": {},
          "execution_count": 5
        }
      ],
      "source": [
        "df = pd.json_normalize(responses)[['bank_name', 'city', 'rating_grade', 'text', 'title']]\n",
        "df.head()"
      ]
    },
    {
      "cell_type": "markdown",
      "metadata": {
        "id": "HKrpNBX3DwZc"
      },
      "source": [
        "## Часть 1. Анализ текстов"
      ]
    },
    {
      "cell_type": "markdown",
      "metadata": {
        "id": "ReQwk18TD02B"
      },
      "source": [
        "### 1. Количество отзывов по городам и банкам"
      ]
    },
    {
      "cell_type": "code",
      "execution_count": null,
      "metadata": {
        "colab": {
          "base_uri": "https://localhost:8080/"
        },
        "id": "tzsk6kUtNKe2",
        "outputId": "0210172a-b85c-4e06-c92a-975a3acfc658"
      },
      "outputs": [
        {
          "output_type": "stream",
          "name": "stdout",
          "text": [
            "<class 'pandas.core.frame.DataFrame'>\n",
            "RangeIndex: 153499 entries, 0 to 153498\n",
            "Data columns (total 5 columns):\n",
            " #   Column        Non-Null Count   Dtype  \n",
            "---  ------        --------------   -----  \n",
            " 0   bank_name     153499 non-null  object \n",
            " 1   city          138325 non-null  object \n",
            " 2   rating_grade  88658 non-null   float64\n",
            " 3   text          153499 non-null  object \n",
            " 4   title         153499 non-null  object \n",
            "dtypes: float64(1), object(4)\n",
            "memory usage: 5.9+ MB\n"
          ]
        }
      ],
      "source": [
        "df.info()"
      ]
    },
    {
      "cell_type": "code",
      "execution_count": null,
      "metadata": {
        "colab": {
          "base_uri": "https://localhost:8080/"
        },
        "id": "Sz6UbvaHQBym",
        "outputId": "36646640-a8ff-4734-81fc-f3764035cf92"
      },
      "outputs": [
        {
          "name": "stdout",
          "output_type": "stream",
          "text": [
            "В 10% случаев нет информации о городе\n",
            "В 42% случаев нет информации об оценке\n"
          ]
        }
      ],
      "source": [
        "cities_NA = round(100 - 138325 / 153499 * 100)\n",
        "rating_grade = round(100 - 88658 / 153499 * 100)\n",
        "print(f'В {cities_NA}% случаев нет информации о городе')\n",
        "print(f'В {rating_grade}% случаев нет информации об оценке')"
      ]
    },
    {
      "cell_type": "markdown",
      "metadata": {
        "id": "akkzyxteQ0Kg"
      },
      "source": [
        "Таким образом, при группировке данных по городу, мы потеряем 10% данных. Из сгруппированных данных выберем колонку title, т.к. она не содержит пропусков."
      ]
    },
    {
      "cell_type": "code",
      "execution_count": null,
      "metadata": {
        "colab": {
          "base_uri": "https://localhost:8080/",
          "height": 422
        },
        "id": "Iw5EwpYxBv_1",
        "outputId": "96ac71bb-149d-43bd-a612-1fe48efc8b8c"
      },
      "outputs": [
        {
          "data": {
            "text/html": [
              "\n",
              "  <div id=\"df-01010ec3-2177-444e-b512-e084d72b6dd6\">\n",
              "    <div class=\"colab-df-container\">\n",
              "      <div>\n",
              "<style scoped>\n",
              "    .dataframe tbody tr th:only-of-type {\n",
              "        vertical-align: middle;\n",
              "    }\n",
              "\n",
              "    .dataframe tbody tr th {\n",
              "        vertical-align: top;\n",
              "    }\n",
              "\n",
              "    .dataframe thead th {\n",
              "        text-align: right;\n",
              "    }\n",
              "</style>\n",
              "<table border=\"1\" class=\"dataframe\">\n",
              "  <thead>\n",
              "    <tr style=\"text-align: right;\">\n",
              "      <th></th>\n",
              "      <th>Город</th>\n",
              "      <th>Банк</th>\n",
              "      <th>Количество отзывов</th>\n",
              "    </tr>\n",
              "  </thead>\n",
              "  <tbody>\n",
              "    <tr>\n",
              "      <th>7453</th>\n",
              "      <td>г. Москва</td>\n",
              "      <td>Сбербанк России</td>\n",
              "      <td>8146</td>\n",
              "    </tr>\n",
              "    <tr>\n",
              "      <th>7160</th>\n",
              "      <td>г. Москва</td>\n",
              "      <td>Альфа-Банк</td>\n",
              "      <td>3871</td>\n",
              "    </tr>\n",
              "    <tr>\n",
              "      <th>7437</th>\n",
              "      <td>г. Москва</td>\n",
              "      <td>Русский Стандарт</td>\n",
              "      <td>2801</td>\n",
              "    </tr>\n",
              "    <tr>\n",
              "      <th>7206</th>\n",
              "      <td>г. Москва</td>\n",
              "      <td>ВТБ 24</td>\n",
              "      <td>2714</td>\n",
              "    </tr>\n",
              "    <tr>\n",
              "      <th>12394</th>\n",
              "      <td>г. Санкт-Петербург</td>\n",
              "      <td>Сбербанк России</td>\n",
              "      <td>2434</td>\n",
              "    </tr>\n",
              "    <tr>\n",
              "      <th>...</th>\n",
              "      <td>...</td>\n",
              "      <td>...</td>\n",
              "      <td>...</td>\n",
              "    </tr>\n",
              "    <tr>\n",
              "      <th>7733</th>\n",
              "      <td>г. Москва,  Отделение \"Жулебинское\"</td>\n",
              "      <td>Московский Кредитный Банк</td>\n",
              "      <td>1</td>\n",
              "    </tr>\n",
              "    <tr>\n",
              "      <th>7734</th>\n",
              "      <td>г. Москва, \"Китай-город\"</td>\n",
              "      <td>Фора-Банк</td>\n",
              "      <td>1</td>\n",
              "    </tr>\n",
              "    <tr>\n",
              "      <th>7735</th>\n",
              "      <td>г. Москва, Ветошный пер</td>\n",
              "      <td>Восточный Экспресс Банк</td>\n",
              "      <td>1</td>\n",
              "    </tr>\n",
              "    <tr>\n",
              "      <th>7736</th>\n",
              "      <td>г. Москва, Видное</td>\n",
              "      <td>Сбербанк России</td>\n",
              "      <td>1</td>\n",
              "    </tr>\n",
              "    <tr>\n",
              "      <th>18768</th>\n",
              "      <td>г. … или другой населенный пункт</td>\n",
              "      <td>Лето Банк</td>\n",
              "      <td>1</td>\n",
              "    </tr>\n",
              "  </tbody>\n",
              "</table>\n",
              "<p>18769 rows × 3 columns</p>\n",
              "</div>\n",
              "      <button class=\"colab-df-convert\" onclick=\"convertToInteractive('df-01010ec3-2177-444e-b512-e084d72b6dd6')\"\n",
              "              title=\"Convert this dataframe to an interactive table.\"\n",
              "              style=\"display:none;\">\n",
              "        \n",
              "  <svg xmlns=\"http://www.w3.org/2000/svg\" height=\"24px\"viewBox=\"0 0 24 24\"\n",
              "       width=\"24px\">\n",
              "    <path d=\"M0 0h24v24H0V0z\" fill=\"none\"/>\n",
              "    <path d=\"M18.56 5.44l.94 2.06.94-2.06 2.06-.94-2.06-.94-.94-2.06-.94 2.06-2.06.94zm-11 1L8.5 8.5l.94-2.06 2.06-.94-2.06-.94L8.5 2.5l-.94 2.06-2.06.94zm10 10l.94 2.06.94-2.06 2.06-.94-2.06-.94-.94-2.06-.94 2.06-2.06.94z\"/><path d=\"M17.41 7.96l-1.37-1.37c-.4-.4-.92-.59-1.43-.59-.52 0-1.04.2-1.43.59L10.3 9.45l-7.72 7.72c-.78.78-.78 2.05 0 2.83L4 21.41c.39.39.9.59 1.41.59.51 0 1.02-.2 1.41-.59l7.78-7.78 2.81-2.81c.8-.78.8-2.07 0-2.86zM5.41 20L4 18.59l7.72-7.72 1.47 1.35L5.41 20z\"/>\n",
              "  </svg>\n",
              "      </button>\n",
              "      \n",
              "  <style>\n",
              "    .colab-df-container {\n",
              "      display:flex;\n",
              "      flex-wrap:wrap;\n",
              "      gap: 12px;\n",
              "    }\n",
              "\n",
              "    .colab-df-convert {\n",
              "      background-color: #E8F0FE;\n",
              "      border: none;\n",
              "      border-radius: 50%;\n",
              "      cursor: pointer;\n",
              "      display: none;\n",
              "      fill: #1967D2;\n",
              "      height: 32px;\n",
              "      padding: 0 0 0 0;\n",
              "      width: 32px;\n",
              "    }\n",
              "\n",
              "    .colab-df-convert:hover {\n",
              "      background-color: #E2EBFA;\n",
              "      box-shadow: 0px 1px 2px rgba(60, 64, 67, 0.3), 0px 1px 3px 1px rgba(60, 64, 67, 0.15);\n",
              "      fill: #174EA6;\n",
              "    }\n",
              "\n",
              "    [theme=dark] .colab-df-convert {\n",
              "      background-color: #3B4455;\n",
              "      fill: #D2E3FC;\n",
              "    }\n",
              "\n",
              "    [theme=dark] .colab-df-convert:hover {\n",
              "      background-color: #434B5C;\n",
              "      box-shadow: 0px 1px 3px 1px rgba(0, 0, 0, 0.15);\n",
              "      filter: drop-shadow(0px 1px 2px rgba(0, 0, 0, 0.3));\n",
              "      fill: #FFFFFF;\n",
              "    }\n",
              "  </style>\n",
              "\n",
              "      <script>\n",
              "        const buttonEl =\n",
              "          document.querySelector('#df-01010ec3-2177-444e-b512-e084d72b6dd6 button.colab-df-convert');\n",
              "        buttonEl.style.display =\n",
              "          google.colab.kernel.accessAllowed ? 'block' : 'none';\n",
              "\n",
              "        async function convertToInteractive(key) {\n",
              "          const element = document.querySelector('#df-01010ec3-2177-444e-b512-e084d72b6dd6');\n",
              "          const dataTable =\n",
              "            await google.colab.kernel.invokeFunction('convertToInteractive',\n",
              "                                                     [key], {});\n",
              "          if (!dataTable) return;\n",
              "\n",
              "          const docLinkHtml = 'Like what you see? Visit the ' +\n",
              "            '<a target=\"_blank\" href=https://colab.research.google.com/notebooks/data_table.ipynb>data table notebook</a>'\n",
              "            + ' to learn more about interactive tables.';\n",
              "          element.innerHTML = '';\n",
              "          dataTable['output_type'] = 'display_data';\n",
              "          await google.colab.output.renderOutput(dataTable, element);\n",
              "          const docLink = document.createElement('div');\n",
              "          docLink.innerHTML = docLinkHtml;\n",
              "          element.appendChild(docLink);\n",
              "        }\n",
              "      </script>\n",
              "    </div>\n",
              "  </div>\n",
              "  "
            ],
            "text/plain": [
              "                                     Город                       Банк  \\\n",
              "7453                             г. Москва            Сбербанк России   \n",
              "7160                             г. Москва                 Альфа-Банк   \n",
              "7437                             г. Москва           Русский Стандарт   \n",
              "7206                             г. Москва                     ВТБ 24   \n",
              "12394                   г. Санкт-Петербург            Сбербанк России   \n",
              "...                                    ...                        ...   \n",
              "7733   г. Москва,  Отделение \"Жулебинское\"  Московский Кредитный Банк   \n",
              "7734              г. Москва, \"Китай-город\"                  Фора-Банк   \n",
              "7735               г. Москва, Ветошный пер    Восточный Экспресс Банк   \n",
              "7736                     г. Москва, Видное            Сбербанк России   \n",
              "18768     г. … или другой населенный пункт                  Лето Банк   \n",
              "\n",
              "       Количество отзывов  \n",
              "7453                 8146  \n",
              "7160                 3871  \n",
              "7437                 2801  \n",
              "7206                 2714  \n",
              "12394                2434  \n",
              "...                   ...  \n",
              "7733                    1  \n",
              "7734                    1  \n",
              "7735                    1  \n",
              "7736                    1  \n",
              "18768                   1  \n",
              "\n",
              "[18769 rows x 3 columns]"
            ]
          },
          "execution_count": 37,
          "metadata": {},
          "output_type": "execute_result"
        }
      ],
      "source": [
        "t1 = df.groupby(['city', 'bank_name'])['title'].count().reset_index()\n",
        "t1.columns = ['Город', 'Банк', 'Количество отзывов']\n",
        "t1.sort_values(by=['Количество отзывов'], ascending=False)"
      ]
    },
    {
      "cell_type": "markdown",
      "metadata": {
        "id": "vi3qKr68RGPW"
      },
      "source": [
        "Судя по содержанию столбца city (Город), мы получаем группировку данных не только по городам, но и по отдельных районам/улицам. Для получения более достоверных результатов можно было бы использовать базу городов для приведения данных к единому формату. Но в этом случае мы бы опять потеряли часть данных."
      ]
    },
    {
      "cell_type": "markdown",
      "metadata": {
        "id": "rlQOPbYLEgp7"
      },
      "source": [
        "### 2. Гистограммы:"
      ]
    },
    {
      "cell_type": "markdown",
      "metadata": {
        "id": "zxtJDotjHf4T"
      },
      "source": [
        "2.1. Длин слов (в символах) \\\n",
        "[За слово считаем последовательность букв русского алфавита]"
      ]
    },
    {
      "cell_type": "code",
      "execution_count": null,
      "metadata": {
        "id": "CDvIp4BYKyiC"
      },
      "outputs": [],
      "source": [
        "import re\n",
        "from collections import Counter"
      ]
    },
    {
      "cell_type": "code",
      "execution_count": null,
      "metadata": {
        "colab": {
          "base_uri": "https://localhost:8080/"
        },
        "id": "PPhHkaimUWN4",
        "outputId": "b7a9b0a7-9140-468d-83b6-861ea4616ce1"
      },
      "outputs": [
        {
          "output_type": "stream",
          "name": "stdout",
          "text": [
            "[nltk_data] Downloading package punkt to /root/nltk_data...\n",
            "[nltk_data]   Unzipping tokenizers/punkt.zip.\n"
          ]
        },
        {
          "output_type": "execute_result",
          "data": {
            "text/plain": [
              "True"
            ]
          },
          "metadata": {},
          "execution_count": 20
        }
      ],
      "source": [
        "nltk.download('punkt')"
      ]
    },
    {
      "cell_type": "code",
      "execution_count": null,
      "metadata": {
        "id": "2T-Nh4leHPb6"
      },
      "outputs": [],
      "source": [
        "ru_words = re.compile(\"[А-Яа-я]+\")\n",
        "\n",
        "\n",
        "def count_words_length(text):\n",
        "    return Counter(map(len, ru_words.findall(text)))\n",
        "\n",
        "\n",
        "def count_centence_length(text):\n",
        "    centences = nltk.tokenize.sent_tokenize(text)\n",
        "    centences_len = [len(cent.split()) for cent in centences]\n",
        "    return Counter(centences_len)"
      ]
    },
    {
      "cell_type": "code",
      "execution_count": null,
      "metadata": {
        "id": "HqaH6oE9Y3vI"
      },
      "outputs": [],
      "source": [
        "from functools import reduce\n",
        "\n",
        "res = reduce(lambda x, y: x + y, map(count_words_length, df.text))"
      ]
    },
    {
      "cell_type": "markdown",
      "metadata": {
        "id": "TQrxEbozcXOO"
      },
      "source": [
        "График"
      ]
    },
    {
      "cell_type": "code",
      "execution_count": null,
      "metadata": {
        "colab": {
          "base_uri": "https://localhost:8080/",
          "height": 295
        },
        "id": "YLO75fIzYBrr",
        "outputId": "b7e6afaf-3fb3-4cb9-b3ec-45c8485880c1"
      },
      "outputs": [
        {
          "data": {
            "text/plain": [
              "<BarContainer object of 42 artists>"
            ]
          },
          "execution_count": 47,
          "metadata": {},
          "output_type": "execute_result"
        },
        {
          "data": {
            "image/png": "[encoded data removed]",
            "text/plain": [
              "<Figure size 432x288 with 1 Axes>"
            ]
          },
          "metadata": {},
          "output_type": "display_data"
        }
      ],
      "source": [
        "plt.bar(res.keys(), res.values(), width=1, align='center')"
      ]
    },
    {
      "cell_type": "markdown",
      "metadata": {
        "id": "yX1vE7sdcdu_"
      },
      "source": [
        "Гистограмма"
      ]
    },
    {
      "cell_type": "code",
      "execution_count": null,
      "metadata": {
        "id": "-Z0E06WiaCLl"
      },
      "outputs": [],
      "source": [
        "mylist = [key for key, val in res.items() for _ in range(val)]"
      ]
    },
    {
      "cell_type": "code",
      "execution_count": null,
      "metadata": {
        "colab": {
          "base_uri": "https://localhost:8080/",
          "height": 495
        },
        "id": "_kz4KwVnSG7S",
        "outputId": "b569c871-1db3-4d42-92b9-928689c4a62a"
      },
      "outputs": [
        {
          "data": {
            "text/plain": [
              "(array([1.2432466e+07, 1.1062646e+07, 8.2325880e+06, 2.3647560e+06,\n",
              "        1.1459760e+06, 1.7108800e+05, 1.4707000e+04, 3.5090000e+03,\n",
              "        1.5680000e+03, 4.4000000e+01, 1.0000000e+01, 2.0000000e+00,\n",
              "        4.0000000e+00, 0.0000000e+00, 2.0000000e+00, 0.0000000e+00,\n",
              "        1.0000000e+00, 0.0000000e+00, 1.0000000e+00, 0.0000000e+00,\n",
              "        0.0000000e+00, 0.0000000e+00, 1.0000000e+00, 0.0000000e+00,\n",
              "        1.0000000e+00, 0.0000000e+00, 1.0000000e+00, 0.0000000e+00,\n",
              "        0.0000000e+00, 2.0000000e+00]),\n",
              " array([ 1. ,  3.7,  6.4,  9.1, 11.8, 14.5, 17.2, 19.9, 22.6, 25.3, 28. ,\n",
              "        30.7, 33.4, 36.1, 38.8, 41.5, 44.2, 46.9, 49.6, 52.3, 55. , 57.7,\n",
              "        60.4, 63.1, 65.8, 68.5, 71.2, 73.9, 76.6, 79.3, 82. ]),\n",
              " <a list of 30 Patch objects>)"
            ]
          },
          "execution_count": 52,
          "metadata": {},
          "output_type": "execute_result"
        },
        {
          "data": {
            "image/png": "[encoded data removed]",
            "text/plain": [
              "<Figure size 432x288 with 1 Axes>"
            ]
          },
          "metadata": {},
          "output_type": "display_data"
        }
      ],
      "source": [
        "plt.hist(mylist, bins=30)"
      ]
    },
    {
      "cell_type": "markdown",
      "metadata": {
        "id": "lHYRRxghWzXR"
      },
      "source": [
        "2.1. Длин предложений (в словах)\\\n",
        "[За слово считаем любую последовательность символов, выделяемую методом split без параметров]"
      ]
    },
    {
      "cell_type": "code",
      "execution_count": null,
      "metadata": {
        "id": "5oOkqvuyVo2L"
      },
      "outputs": [],
      "source": [
        "res2 = reduce(lambda x, y: x + y, map(count_centence_length, df.text))"
      ]
    },
    {
      "cell_type": "markdown",
      "metadata": {
        "id": "VSu0TQi9W_2M"
      },
      "source": [
        "График"
      ]
    },
    {
      "cell_type": "code",
      "execution_count": null,
      "metadata": {
        "colab": {
          "base_uri": "https://localhost:8080/",
          "height": 283
        },
        "id": "qAEBef8FW_2M",
        "outputId": "14a828d3-44fd-463c-f1ba-af18c9fd772c"
      },
      "outputs": [
        {
          "data": {
            "text/plain": [
              "<BarContainer object of 236 artists>"
            ]
          },
          "execution_count": 67,
          "metadata": {},
          "output_type": "execute_result"
        },
        {
          "data": {
            "image/png": "[encoded data removed]",
            "text/plain": [
              "<Figure size 432x288 with 1 Axes>"
            ]
          },
          "metadata": {},
          "output_type": "display_data"
        }
      ],
      "source": [
        "plt.bar(res2.keys(), res2.values(), width=1, align='center')"
      ]
    },
    {
      "cell_type": "markdown",
      "metadata": {
        "id": "dNPTah6oW_2N"
      },
      "source": [
        "Гистограмма"
      ]
    },
    {
      "cell_type": "code",
      "execution_count": null,
      "metadata": {
        "id": "0nXHFgYrW_2O"
      },
      "outputs": [],
      "source": [
        "mylist2 = [key for key, val in res2.items() for _ in range(val)]"
      ]
    },
    {
      "cell_type": "code",
      "execution_count": null,
      "metadata": {
        "colab": {
          "base_uri": "https://localhost:8080/",
          "height": 985
        },
        "id": "SAI95YkCW_2O",
        "outputId": "6cec02b2-c220-4501-e717-7c09e909c917"
      },
      "outputs": [
        {
          "data": {
            "text/plain": [
              "(array([1.250314e+06, 8.933140e+05, 3.374540e+05, 1.072040e+05,\n",
              "        4.462000e+04, 1.707300e+04, 7.204000e+03, 3.066000e+03,\n",
              "        1.788000e+03, 9.340000e+02, 5.600000e+02, 2.720000e+02,\n",
              "        2.070000e+02, 1.430000e+02, 8.400000e+01, 5.500000e+01,\n",
              "        4.200000e+01, 2.000000e+01, 2.300000e+01, 2.100000e+01,\n",
              "        1.400000e+01, 6.000000e+00, 8.000000e+00, 7.000000e+00,\n",
              "        4.000000e+00, 4.000000e+00, 2.000000e+00, 0.000000e+00,\n",
              "        4.000000e+00, 2.000000e+00, 1.000000e+00, 0.000000e+00,\n",
              "        1.000000e+00, 0.000000e+00, 1.000000e+00, 0.000000e+00,\n",
              "        0.000000e+00, 0.000000e+00, 0.000000e+00, 1.000000e+00,\n",
              "        0.000000e+00, 0.000000e+00, 0.000000e+00, 0.000000e+00,\n",
              "        0.000000e+00, 0.000000e+00, 0.000000e+00, 0.000000e+00,\n",
              "        0.000000e+00, 0.000000e+00, 0.000000e+00, 0.000000e+00,\n",
              "        0.000000e+00, 0.000000e+00, 0.000000e+00, 0.000000e+00,\n",
              "        0.000000e+00, 0.000000e+00, 0.000000e+00, 0.000000e+00,\n",
              "        0.000000e+00, 0.000000e+00, 0.000000e+00, 0.000000e+00,\n",
              "        0.000000e+00, 0.000000e+00, 0.000000e+00, 0.000000e+00,\n",
              "        0.000000e+00, 0.000000e+00, 0.000000e+00, 0.000000e+00,\n",
              "        0.000000e+00, 0.000000e+00, 0.000000e+00, 0.000000e+00,\n",
              "        0.000000e+00, 0.000000e+00, 0.000000e+00, 0.000000e+00,\n",
              "        0.000000e+00, 0.000000e+00, 0.000000e+00, 0.000000e+00,\n",
              "        0.000000e+00, 0.000000e+00, 0.000000e+00, 0.000000e+00,\n",
              "        0.000000e+00, 0.000000e+00, 0.000000e+00, 0.000000e+00,\n",
              "        0.000000e+00, 0.000000e+00, 0.000000e+00, 0.000000e+00,\n",
              "        0.000000e+00, 2.000000e+00, 0.000000e+00, 1.000000e+00]),\n",
              " array([  1.  ,  10.75,  20.5 ,  30.25,  40.  ,  49.75,  59.5 ,  69.25,\n",
              "         79.  ,  88.75,  98.5 , 108.25, 118.  , 127.75, 137.5 , 147.25,\n",
              "        157.  , 166.75, 176.5 , 186.25, 196.  , 205.75, 215.5 , 225.25,\n",
              "        235.  , 244.75, 254.5 , 264.25, 274.  , 283.75, 293.5 , 303.25,\n",
              "        313.  , 322.75, 332.5 , 342.25, 352.  , 361.75, 371.5 , 381.25,\n",
              "        391.  , 400.75, 410.5 , 420.25, 430.  , 439.75, 449.5 , 459.25,\n",
              "        469.  , 478.75, 488.5 , 498.25, 508.  , 517.75, 527.5 , 537.25,\n",
              "        547.  , 556.75, 566.5 , 576.25, 586.  , 595.75, 605.5 , 615.25,\n",
              "        625.  , 634.75, 644.5 , 654.25, 664.  , 673.75, 683.5 , 693.25,\n",
              "        703.  , 712.75, 722.5 , 732.25, 742.  , 751.75, 761.5 , 771.25,\n",
              "        781.  , 790.75, 800.5 , 810.25, 820.  , 829.75, 839.5 , 849.25,\n",
              "        859.  , 868.75, 878.5 , 888.25, 898.  , 907.75, 917.5 , 927.25,\n",
              "        937.  , 946.75, 956.5 , 966.25, 976.  ]),\n",
              " <a list of 100 Patch objects>)"
            ]
          },
          "execution_count": 70,
          "metadata": {},
          "output_type": "execute_result"
        },
        {
          "data": {
            "image/png": "[encoded data removed]",
            "text/plain": [
              "<Figure size 432x288 with 1 Axes>"
            ]
          },
          "metadata": {},
          "output_type": "display_data"
        }
      ],
      "source": [
        "plt.hist(mylist2, bins=100)"
      ]
    },
    {
      "cell_type": "markdown",
      "metadata": {
        "id": "33IIfUSPHPAI"
      },
      "source": [
        "### 3. 10 самых частых:"
      ]
    },
    {
      "cell_type": "code",
      "execution_count": 6,
      "metadata": {
        "id": "RTfZM4MPIVaP"
      },
      "outputs": [],
      "source": [
        "import re\n",
        "from nltk.corpus import stopwords"
      ]
    },
    {
      "cell_type": "code",
      "execution_count": 7,
      "metadata": {
        "id": "F2hg-FTk7jOW"
      },
      "outputs": [],
      "source": [
        "from tqdm.auto import tqdm\n",
        "tqdm.pandas()"
      ]
    },
    {
      "cell_type": "code",
      "execution_count": 8,
      "metadata": {
        "id": "3Fn0PA_K-uXT",
        "colab": {
          "base_uri": "https://localhost:8080/"
        },
        "outputId": "44b5e194-d0af-493a-d2d0-8fd9d452e160"
      },
      "outputs": [
        {
          "output_type": "stream",
          "name": "stdout",
          "text": [
            "Looking in indexes: https://pypi.org/simple, https://us-python.pkg.dev/colab-wheels/public/simple/\n",
            "Requirement already satisfied: pymorphy2 in /usr/local/lib/python3.7/dist-packages (0.9.1)\n",
            "Requirement already satisfied: docopt>=0.6 in /usr/local/lib/python3.7/dist-packages (from pymorphy2) (0.6.2)\n",
            "Requirement already satisfied: dawg-python>=0.7.1 in /usr/local/lib/python3.7/dist-packages (from pymorphy2) (0.7.2)\n",
            "Requirement already satisfied: pymorphy2-dicts-ru<3.0,>=2.4 in /usr/local/lib/python3.7/dist-packages (from pymorphy2) (2.4.417127.4579844)\n"
          ]
        }
      ],
      "source": [
        "! pip install pymorphy2\n",
        "import pymorphy2\n",
        "\n",
        "m = pymorphy2.MorphAnalyzer()"
      ]
    },
    {
      "cell_type": "code",
      "execution_count": 9,
      "metadata": {
        "id": "wqYSbyEThSf6",
        "colab": {
          "base_uri": "https://localhost:8080/"
        },
        "outputId": "a4649355-1b92-42fb-9622-2c983775c3fb"
      },
      "outputs": [
        {
          "output_type": "stream",
          "name": "stdout",
          "text": [
            "[nltk_data] Downloading package stopwords to /root/nltk_data...\n",
            "[nltk_data]   Package stopwords is already up-to-date!\n"
          ]
        },
        {
          "output_type": "execute_result",
          "data": {
            "text/plain": [
              "True"
            ]
          },
          "metadata": {},
          "execution_count": 9
        }
      ],
      "source": [
        "nltk.download('stopwords')"
      ]
    },
    {
      "cell_type": "code",
      "execution_count": 10,
      "metadata": {
        "id": "9eG2OOyjf30Q"
      },
      "outputs": [],
      "source": [
        "mystopwords = stopwords.words('russian') + [\n",
        "    'это', 'наш' , 'тыс', 'млн', 'млрд', 'также',  'т', 'д',\n",
        "    'который','прошлый','сей', 'свой', 'наш', 'мочь', 'такой'\n",
        "]\n",
        "\n",
        "ru_words = re.compile(\"[А-Яа-я]+\")\n",
        "\n",
        "\n",
        "def words_only(text):\n",
        "    return \" \".join(ru_words.findall(text.lower()))\n",
        "\n",
        "\n",
        "def lemmatize(text):\n",
        "    try:\n",
        "        return  \" \".join([m.parse(w)[0].normal_form for w in text.lower().split()])\n",
        "    except:\n",
        "        return \" \"\n",
        "\n",
        "\n",
        "def remove_stopwords(text, mystopwords = mystopwords):\n",
        "    try:\n",
        "        return \" \".join([token for token in text.split() if not token in mystopwords])\n",
        "    except:\n",
        "        return \"\"\n",
        "\n",
        "def preprocess(text):\n",
        "    return remove_stopwords(lemmatize(words_only(text.lower())))"
      ]
    },
    {
      "cell_type": "markdown",
      "metadata": {
        "id": "dpadsqBohkaN"
      },
      "source": [
        "3.1. Слов"
      ]
    },
    {
      "cell_type": "code",
      "execution_count": 11,
      "metadata": {
        "id": "5x7R_ViPhwlN"
      },
      "outputs": [],
      "source": [
        "from sklearn.feature_extraction.text import CountVectorizer"
      ]
    },
    {
      "cell_type": "code",
      "execution_count": null,
      "metadata": {
        "colab": {
          "base_uri": "https://localhost:8080/",
          "height": 49,
          "referenced_widgets": [
            "650fa9db6ec443eb83a553e65ba25cad",
            "1713c45c9eb3484f877eff1053bbdd6b",
            "3f2f8a0a413042cb87b4a07f2ebdef7e",
            "255cbbcff486423e95f71ad82be22f16",
            "de713d55a254403281a69fb8f8debfa6",
            "19f0d9b11cb748419dbdfd008e9e3f75",
            "046be021e6a841f2888b921cd56573ab",
            "304448f6d13f49789b53a79ecbcaa9c0",
            "73b7158715c24554b3f4d4e2c97b3b2e",
            "cd57b08b05f64fb896f43fc1c1b598cf",
            "ddd814e30ed6432d8549c8437f9058cb"
          ]
        },
        "id": "VbP7e4QBf5Zj",
        "outputId": "6e161f58-bfa5-4b92-922d-6297c1db797e"
      },
      "outputs": [
        {
          "output_type": "display_data",
          "data": {
            "text/plain": [
              "  0%|          | 0/153499 [00:00<?, ?it/s]"
            ],
            "application/vnd.jupyter.widget-view+json": {
              "version_major": 2,
              "version_minor": 0,
              "model_id": "650fa9db6ec443eb83a553e65ba25cad"
            }
          },
          "metadata": {}
        }
      ],
      "source": [
        "tmp = df.text.astype('str').progress_apply(words_only)"
      ]
    },
    {
      "cell_type": "code",
      "execution_count": null,
      "metadata": {
        "id": "TyXCIHIJGYXb"
      },
      "outputs": [],
      "source": [
        "vectorizer = CountVectorizer()\n",
        "X = vectorizer.fit_transform(tmp)"
      ]
    },
    {
      "cell_type": "code",
      "execution_count": null,
      "metadata": {
        "colab": {
          "base_uri": "https://localhost:8080/"
        },
        "id": "qH6QruS5cyxL",
        "outputId": "e63246ef-b697-4a46-cc9b-feffc179dc56"
      },
      "outputs": [
        {
          "name": "stdout",
          "output_type": "stream",
          "text": [
            "[('не', 4760), ('на', 3846), ('что', 3369), ('по', 2166), ('мне', 1706), ('банка', 1650), ('банк', 1394), ('но', 1091), ('как', 1051), ('за', 1035)]\n"
          ]
        },
        {
          "name": "stderr",
          "output_type": "stream",
          "text": [
            "/usr/local/lib/python3.7/dist-packages/sklearn/utils/deprecation.py:87: FutureWarning: Function get_feature_names is deprecated; get_feature_names is deprecated in 1.0 and will be removed in 1.2. Please use get_feature_names_out instead.\n",
            "  warnings.warn(msg, category=FutureWarning)\n"
          ]
        }
      ],
      "source": [
        "words_stats = list(zip(vectorizer.get_feature_names(), X.sum(0).getA1()))\n",
        "print(*sorted(words_stats, key=lambda x: -x[1])[:10], sep='\\n')"
      ]
    },
    {
      "cell_type": "markdown",
      "metadata": {
        "id": "AG14butihpA8"
      },
      "source": [
        "3.2. Слов без стоп-слов"
      ]
    },
    {
      "cell_type": "code",
      "execution_count": null,
      "metadata": {
        "colab": {
          "base_uri": "https://localhost:8080/",
          "height": 49,
          "referenced_widgets": [
            "230f78a6584040abba8e153051e05b96",
            "124e009ea9074eda8ae2055b0455b78e",
            "daba3b074ff74b9ea7f591fe45f5a5ce",
            "b5db180b26e1422c827e5ff2754af07b",
            "529cc173e38643ecbbfbf42d8c440915",
            "d76077ce67f74121860cfd3a616865ed",
            "4fc02f87701e4b3298482547347c0404",
            "63073208eb6e4ab4ada76eb181d285f5",
            "0c01f2fe673740b18183ce62007f8ae7",
            "c89f465934354a87b506b09c59549aca",
            "95bfbee5282e4bc6bae9ef0ea43b8e15"
          ]
        },
        "id": "hjymIClDhyox",
        "outputId": "1e33a59c-0511-4d8f-c7b4-d7e512e5f88e"
      },
      "outputs": [
        {
          "output_type": "display_data",
          "data": {
            "text/plain": [
              "  0%|          | 0/153499 [00:00<?, ?it/s]"
            ],
            "application/vnd.jupyter.widget-view+json": {
              "version_major": 2,
              "version_minor": 0,
              "model_id": "230f78a6584040abba8e153051e05b96"
            }
          },
          "metadata": {}
        }
      ],
      "source": [
        "tmp = tmp.progress_apply(remove_stopwords)"
      ]
    },
    {
      "cell_type": "code",
      "execution_count": null,
      "metadata": {
        "id": "gXrOfyo8hyoz"
      },
      "outputs": [],
      "source": [
        "vectorizer = CountVectorizer()\n",
        "X = vectorizer.fit_transform(tmp)"
      ]
    },
    {
      "cell_type": "code",
      "execution_count": null,
      "metadata": {
        "colab": {
          "base_uri": "https://localhost:8080/"
        },
        "id": "l2vR17sehypN",
        "outputId": "55f27506-21e9-4d8f-8748-9f8f16ec5980"
      },
      "outputs": [
        {
          "output_type": "stream",
          "name": "stderr",
          "text": [
            "/usr/local/lib/python3.7/dist-packages/sklearn/utils/deprecation.py:87: FutureWarning: Function get_feature_names is deprecated; get_feature_names is deprecated in 1.0 and will be removed in 1.2. Please use get_feature_names_out instead.\n",
            "  warnings.warn(msg, category=FutureWarning)\n"
          ]
        },
        {
          "output_type": "stream",
          "name": "stdout",
          "text": [
            "('банка', 275906)\n",
            "('банк', 215426)\n",
            "('деньги', 131201)\n",
            "('карту', 105829)\n",
            "('карты', 101821)\n",
            "('кредит', 81136)\n",
            "('день', 76552)\n",
            "('банке', 72169)\n",
            "('заявление', 70423)\n",
            "('очень', 66824)\n"
          ]
        }
      ],
      "source": [
        "words_stats = list(zip(vectorizer.get_feature_names(), X.sum(0).getA1()))\n",
        "print(*sorted(words_stats, key=lambda x: -x[1])[:10], sep='\\n')"
      ]
    },
    {
      "cell_type": "markdown",
      "metadata": {
        "id": "HJA2K_uRia2z"
      },
      "source": [
        "3.3. Лемм"
      ]
    },
    {
      "cell_type": "markdown",
      "source": [
        "Лемматизатор pymorphy крайне медленный, поэтому обработаем только выборку из 10.000 отзывов."
      ],
      "metadata": {
        "id": "giCHmSx4Cd5Q"
      }
    },
    {
      "cell_type": "code",
      "execution_count": null,
      "metadata": {
        "colab": {
          "base_uri": "https://localhost:8080/",
          "height": 49,
          "referenced_widgets": [
            "e5e2e7e9b87440438f384baf1ad98191",
            "a09aa361516646eaabee901256d8cca4",
            "369940927e72400eab01012f9549d712",
            "c73f37d28e7540929fd8c5bf60f01b33",
            "6bc90eeac36646e48801c09ada7b18ae",
            "1bec6ffc56d44500a6b1cd532a26741e",
            "2b83acd50b484aa7b96b4da664102cb5",
            "daf5549bdd384e609d7071d0388d299a",
            "ea5b9592588a46419dfd1cf0f716e114",
            "ea3697afc18543c2accb253a9fd4f9fe",
            "e6bc23daf9294473910f11bbae9b3942"
          ]
        },
        "id": "7Org_Myciel3",
        "outputId": "daf42ad5-b515-4646-92ff-fa9533080442"
      },
      "outputs": [
        {
          "output_type": "display_data",
          "data": {
            "text/plain": [
              "  0%|          | 0/10000 [00:00<?, ?it/s]"
            ],
            "application/vnd.jupyter.widget-view+json": {
              "version_major": 2,
              "version_minor": 0,
              "model_id": "e5e2e7e9b87440438f384baf1ad98191"
            }
          },
          "metadata": {}
        }
      ],
      "source": [
        "tmp = df.text.astype('str')[:10000].progress_apply(preprocess)"
      ]
    },
    {
      "cell_type": "code",
      "execution_count": null,
      "metadata": {
        "id": "U_Qk1P4Kiel5"
      },
      "outputs": [],
      "source": [
        "vectorizer = CountVectorizer()\n",
        "X = vectorizer.fit_transform(tmp)"
      ]
    },
    {
      "cell_type": "code",
      "execution_count": null,
      "metadata": {
        "colab": {
          "base_uri": "https://localhost:8080/"
        },
        "id": "nhRD9yqEiel6",
        "outputId": "e93b5fb6-85cb-4dc8-8677-cd4b86803b6f"
      },
      "outputs": [
        {
          "output_type": "stream",
          "name": "stdout",
          "text": [
            "('банк', 41820)\n",
            "('карта', 18950)\n",
            "('день', 10048)\n",
            "('кредит', 9776)\n",
            "('деньга', 9579)\n",
            "('сотрудник', 9373)\n",
            "('всё', 8796)\n",
            "('клиент', 7981)\n",
            "('сумма', 6997)\n",
            "('счёт', 6974)\n"
          ]
        },
        {
          "output_type": "stream",
          "name": "stderr",
          "text": [
            "/usr/local/lib/python3.7/dist-packages/sklearn/utils/deprecation.py:87: FutureWarning: Function get_feature_names is deprecated; get_feature_names is deprecated in 1.0 and will be removed in 1.2. Please use get_feature_names_out instead.\n",
            "  warnings.warn(msg, category=FutureWarning)\n"
          ]
        }
      ],
      "source": [
        "words_stats = list(zip(vectorizer.get_feature_names(), X.sum(0).getA1()))\n",
        "print(*sorted(words_stats, key=lambda x: -x[1])[:10], sep='\\n')"
      ]
    },
    {
      "cell_type": "markdown",
      "metadata": {
        "id": "SD5IFQpkmU84"
      },
      "source": [
        "3.4. Существительных"
      ]
    },
    {
      "cell_type": "code",
      "execution_count": null,
      "metadata": {
        "id": "1bZtKw-GmjGz"
      },
      "outputs": [],
      "source": [
        "def nouns(text):\n",
        "    try:\n",
        "        return  \" \".join([m.parse(w)[0].word for w in text.lower().split() if 'NOUN' in m.parse(w)[0].tag])\n",
        "    except:\n",
        "        return \" \""
      ]
    },
    {
      "cell_type": "code",
      "execution_count": null,
      "metadata": {
        "colab": {
          "base_uri": "https://localhost:8080/",
          "height": 49,
          "referenced_widgets": [
            "3bcadce8ec274d658d2bc7f21cb807c9",
            "436a1051d11f4c0c81e1bc7270d39099",
            "c8e70bb603ff438d9cfb2247a6f71cf9",
            "eebc286f19cb47f6ad1464bec91a358e",
            "9d98de0ef3c740c9802b110f7a564569",
            "4ebe23c22b9144a78a48e9941dc350a7",
            "73a10eab02ae4f0cb65dcc2915f03df1",
            "768087dd0867463b96149d4253655bdf",
            "f7c1b4b1c1e942e4b6c0235c7d37812f",
            "fd7116fcfaf549beb66ea7b7d4d6e445",
            "11436ba33ce54858aed77cf2b4f52075"
          ]
        },
        "id": "c9zhAXr0nSNH",
        "outputId": "1ba1612c-8282-490f-a435-454147d66a83"
      },
      "outputs": [
        {
          "output_type": "display_data",
          "data": {
            "text/plain": [
              "  0%|          | 0/10000 [00:00<?, ?it/s]"
            ],
            "application/vnd.jupyter.widget-view+json": {
              "version_major": 2,
              "version_minor": 0,
              "model_id": "3bcadce8ec274d658d2bc7f21cb807c9"
            }
          },
          "metadata": {}
        }
      ],
      "source": [
        "tmp2 = tmp.progress_apply(nouns)"
      ]
    },
    {
      "cell_type": "code",
      "execution_count": null,
      "metadata": {
        "id": "Iopvp_LAnSNR"
      },
      "outputs": [],
      "source": [
        "vectorizer = CountVectorizer()\n",
        "XN = vectorizer.fit_transform(tmp2)"
      ]
    },
    {
      "cell_type": "code",
      "execution_count": null,
      "metadata": {
        "colab": {
          "base_uri": "https://localhost:8080/"
        },
        "id": "G2vBL92FnSNS",
        "outputId": "20e28f5d-5e4f-4789-9879-e544f437a101"
      },
      "outputs": [
        {
          "output_type": "stream",
          "name": "stdout",
          "text": [
            "('банк', 41820)\n",
            "('карта', 18950)\n",
            "('день', 10048)\n",
            "('кредит', 9776)\n",
            "('деньга', 9579)\n",
            "('сотрудник', 9373)\n",
            "('клиент', 7981)\n",
            "('сумма', 6997)\n",
            "('счёт', 6974)\n",
            "('отделение', 6909)\n"
          ]
        },
        {
          "output_type": "stream",
          "name": "stderr",
          "text": [
            "/usr/local/lib/python3.7/dist-packages/sklearn/utils/deprecation.py:87: FutureWarning: Function get_feature_names is deprecated; get_feature_names is deprecated in 1.0 and will be removed in 1.2. Please use get_feature_names_out instead.\n",
            "  warnings.warn(msg, category=FutureWarning)\n"
          ]
        }
      ],
      "source": [
        "nouns_stats = list(zip(vectorizer.get_feature_names(), XN.sum(0).getA1()))\n",
        "print(*sorted(nouns_stats, key=lambda x: -x[1])[:10], sep='\\n')"
      ]
    },
    {
      "cell_type": "markdown",
      "metadata": {
        "id": "BmGJkqRvoFUV"
      },
      "source": [
        "### 4. Кривые Ципфа и Хипса"
      ]
    },
    {
      "cell_type": "code",
      "execution_count": null,
      "metadata": {
        "colab": {
          "base_uri": "https://localhost:8080/",
          "height": 265
        },
        "id": "00jLFxTJoItZ",
        "outputId": "aa1ca143-cedb-469e-f9df-093d284f1cde"
      },
      "outputs": [
        {
          "output_type": "display_data",
          "data": {
            "text/plain": [
              "<Figure size 432x288 with 1 Axes>"
            ],
            "image/png": "[encoded data removed]"
          },
          "metadata": {
            "needs_background": "light"
          }
        }
      ],
      "source": [
        "plt.plot([freq for _, freq in sorted(words_stats, key=lambda x: -x[1])])\n",
        "plt.show()"
      ]
    },
    {
      "cell_type": "markdown",
      "metadata": {
        "id": "FWc9uAwcWJzm"
      },
      "source": [
        "### 5. Частоты слов (на основе выборки из 10000 отзывов, т.к. для этого необходима лемматизация)"
      ]
    },
    {
      "cell_type": "code",
      "execution_count": null,
      "metadata": {
        "colab": {
          "base_uri": "https://localhost:8080/"
        },
        "id": "Zo7hcUtMWOgQ",
        "outputId": "c975d667-d70c-4620-c2d9-ceb32cb388e6"
      },
      "outputs": [
        {
          "output_type": "stream",
          "name": "stdout",
          "text": [
            "Слово \"сотрудник\" встречается чаще слова \"клиент\"\n",
            "Частота слова \"мошенничество\": 221\n",
            "Частота слова \"доверие\": 152\n"
          ]
        }
      ],
      "source": [
        "find_words = ['сотрудник', 'клиент', 'мошенничество', 'доверие']\n",
        "\n",
        "stats = {k: v for k, v in filter(lambda x: x[0] in find_words, nouns_stats)}\n",
        "\n",
        "result = 'чаще' if stats['сотрудник'] > stats['клиент'] else 'реже'\n",
        "print(f'Слово \"сотрудник\" встречается {result} слова \"клиент\"')\n",
        "print(f'Частота слова \"мошенничество\": {stats[\"мошенничество\"]}')\n",
        "print(f'Частота слова \"доверие\": {stats[\"доверие\"]}')"
      ]
    },
    {
      "cell_type": "markdown",
      "metadata": {
        "id": "WFpM6vGmYQIY"
      },
      "source": [
        "### 6. Ключевые слова и биграммы"
      ]
    },
    {
      "cell_type": "code",
      "execution_count": 12,
      "metadata": {
        "id": "LB5Ahnr7cImC"
      },
      "outputs": [],
      "source": [
        "from sklearn.feature_extraction.text import TfidfVectorizer"
      ]
    },
    {
      "cell_type": "code",
      "execution_count": 38,
      "metadata": {
        "id": "vgKe-ECDYQd5",
        "colab": {
          "base_uri": "https://localhost:8080/"
        },
        "outputId": "59afeb42-b3ef-4db7-d3bc-a2d5f94976fc"
      },
      "outputs": [
        {
          "output_type": "execute_result",
          "data": {
            "text/plain": [
              "(10000, 10000)"
            ]
          },
          "metadata": {},
          "execution_count": 38
        }
      ],
      "source": [
        "pos_grades = df[(df['rating_grade'] == 5) & (df['text'].notna())][:10000]\n",
        "neg_grades = df[(df['rating_grade'] == 1) & (df['text'].notna())][:10000]\n",
        "len(pos_grades), len(neg_grades)"
      ]
    },
    {
      "cell_type": "code",
      "source": [
        "pos_grades.text = pos_grades.text.astype('str').progress_apply(preprocess)"
      ],
      "metadata": {
        "colab": {
          "base_uri": "https://localhost:8080/",
          "height": 49,
          "referenced_widgets": [
            "715f584a13c649d5807b3f57d88d3990",
            "1d51095c7a74491a9cc20b52cdc6d79b",
            "6977a46b90b54d51b52c2fb0693194d7",
            "4d6c230dd5f540d1a2c538f503967dbb",
            "f6895d9da8d6428a94f5282883011af6",
            "6a701d76d2ad45a8b79c642bab25deb6",
            "1a8ba6a752494dc08b3f6cf1960ef12e",
            "132555b9de8b47fd825a015bc7a3b047",
            "94e141e61368444fb21b8637d42d1163",
            "7a1efe7d41744f43b834486aa8ecb2bc",
            "0c2af10ab7b04a4490e57dc8c9cd1e19"
          ]
        },
        "id": "Nl3qbxNocsya",
        "outputId": "f249e326-8337-4830-8723-cde88343e508"
      },
      "execution_count": 18,
      "outputs": [
        {
          "output_type": "display_data",
          "data": {
            "text/plain": [
              "  0%|          | 0/10000 [00:00<?, ?it/s]"
            ],
            "application/vnd.jupyter.widget-view+json": {
              "version_major": 2,
              "version_minor": 0,
              "model_id": "715f584a13c649d5807b3f57d88d3990"
            }
          },
          "metadata": {}
        }
      ]
    },
    {
      "cell_type": "markdown",
      "metadata": {
        "id": "fTa2579-LVOY"
      },
      "source": [
        "6.1. Для положительных отзывов"
      ]
    },
    {
      "cell_type": "code",
      "execution_count": 19,
      "metadata": {
        "id": "wswxtl5Wbxr7"
      },
      "outputs": [],
      "source": [
        "vectorizer = TfidfVectorizer()\n",
        "pos_vectors = vectorizer.fit_transform(pos_grades.text)"
      ]
    },
    {
      "cell_type": "code",
      "execution_count": 24,
      "metadata": {
        "colab": {
          "base_uri": "https://localhost:8080/"
        },
        "id": "fCiJxm9DcWXf",
        "outputId": "e0eb0261-9c4c-4cf9-e6e0-38fb4cb44a97"
      },
      "outputs": [
        {
          "output_type": "stream",
          "name": "stderr",
          "text": [
            "/usr/local/lib/python3.7/dist-packages/sklearn/utils/deprecation.py:87: FutureWarning: Function get_feature_names is deprecated; get_feature_names is deprecated in 1.0 and will be removed in 1.2. Please use get_feature_names_out instead.\n",
            "  warnings.warn(msg, category=FutureWarning)\n"
          ]
        },
        {
          "output_type": "stream",
          "name": "stdout",
          "text": [
            "                term    weight\n",
            "14836           банк  0.045304\n",
            "206168         карта  0.026237\n",
            "79562            всё  0.019147\n",
            "55690          вклад  0.018908\n",
            "232723        кредит  0.016610\n",
            "380105         очень  0.015854\n",
            "359750     отделение  0.015453\n",
            "581422     сотрудник  0.014557\n",
            "215941        клиент  0.014266\n",
            "119481          день  0.013759\n",
            "121587        деньга  0.013535\n",
            "374459          офис  0.013330\n",
            "68570         вопрос  0.012108\n",
            "99642            год  0.012041\n",
            "47289           весь  0.011372\n",
            "613010          счёт  0.011272\n",
            "73792          время  0.011166\n",
            "503996        работа  0.010823\n",
            "325679  обслуживание  0.010223\n",
            "585207       спасибо  0.009891\n"
          ]
        }
      ],
      "source": [
        "vect_score = np.asarray(pos_vectors.mean(axis=0)).ravel().tolist()\n",
        "vect_array = pd.DataFrame({'term': vectorizer.get_feature_names(), 'weight': vect_score})\n",
        "vect_array.sort_values(by='weight',ascending=False,inplace=True)\n",
        "\n",
        "print(vect_array.iloc[:20,:])"
      ]
    },
    {
      "cell_type": "code",
      "execution_count": 25,
      "metadata": {
        "id": "FPB8iyQHhhXI"
      },
      "outputs": [],
      "source": [
        "vectorizer = TfidfVectorizer(ngram_range=(2, 2))\n",
        "pos_vectors = vectorizer.fit_transform(pos_grades.text)"
      ]
    },
    {
      "cell_type": "code",
      "execution_count": 26,
      "metadata": {
        "colab": {
          "base_uri": "https://localhost:8080/"
        },
        "outputId": "b37e10d6-cf78-4592-f1b3-9cb124d673c9",
        "id": "H6YvIP8zhhXK"
      },
      "outputs": [
        {
          "output_type": "stream",
          "name": "stderr",
          "text": [
            "/usr/local/lib/python3.7/dist-packages/sklearn/utils/deprecation.py:87: FutureWarning: Function get_feature_names is deprecated; get_feature_names is deprecated in 1.0 and will be removed in 1.2. Please use get_feature_names_out instead.\n",
            "  warnings.warn(msg, category=FutureWarning)\n"
          ]
        },
        {
          "output_type": "stream",
          "name": "stdout",
          "text": [
            "                          term    weight\n",
            "185267           интернет банк  0.007095\n",
            "555834          сотрудник банк  0.006183\n",
            "224942         кредитный карта  0.005577\n",
            "206311             клиент банк  0.005226\n",
            "343052          отделение банк  0.004086\n",
            "657326         являться клиент  0.003866\n",
            "123232             добрый день  0.003584\n",
            "538073          следующий день  0.003542\n",
            "76043               всё вопрос  0.003471\n",
            "8646                альфа банк  0.003428\n",
            "350044           открыть вклад  0.003287\n",
            "636865         хотеть выразить  0.003250\n",
            "108184         дебетовый карта  0.003210\n",
            "210948              колл центр  0.002986\n",
            "87390   выразить благодарность  0.002835\n",
            "353418        отношение клиент  0.002774\n",
            "357294               офис банк  0.002769\n",
            "362835            очень быстро  0.002759\n",
            "113944       денежный средство  0.002750\n",
            "362980         очень довольный  0.002749\n"
          ]
        }
      ],
      "source": [
        "vect_score = np.asarray(pos_vectors.mean(axis=0)).ravel().tolist()\n",
        "vect_array = pd.DataFrame({'term': vectorizer.get_feature_names(), 'weight': vect_score})\n",
        "vect_array.sort_values(by='weight',ascending=False,inplace=True)\n",
        "\n",
        "print(vect_array.iloc[:20,:])"
      ]
    },
    {
      "cell_type": "markdown",
      "metadata": {
        "id": "ema-NhCcLckU"
      },
      "source": [
        "6.2. Для отрицательных отзывов"
      ]
    },
    {
      "cell_type": "code",
      "source": [
        "neg_grades.text = neg_grades.text.astype('str').progress_apply(preprocess)"
      ],
      "metadata": {
        "colab": {
          "base_uri": "https://localhost:8080/",
          "height": 49,
          "referenced_widgets": [
            "caa2ed32dd0d4892b7b8358242f5ae5a",
            "f23007fafcee47ef9b15a2e0e636d8f8",
            "27057295585743b2a31e68da7cb9f2a0",
            "fe0c9defdf02466caf5f5533124d32af",
            "9d0f0a7671b6484da7e2d6cc6a031e72",
            "5300ae445b4f40268ec9c627ebc4c3d8",
            "8a75198ceecc4268ac60a957b5d5ae3d",
            "5144d972d2d9400c85e6dcfc84e358c4",
            "8a7fd3d15f164c8ca7570a06d7d41fb3",
            "f5214992c1bb4f62aef6a8640a68a9fe",
            "5f36a103ec2342fbbe2fdd77285fac86"
          ]
        },
        "id": "PsHFBzyahuVS",
        "outputId": "e4e3590a-8fb5-464f-8ae3-420979a8ec68"
      },
      "execution_count": 41,
      "outputs": [
        {
          "output_type": "display_data",
          "data": {
            "text/plain": [
              "  0%|          | 0/10000 [00:00<?, ?it/s]"
            ],
            "application/vnd.jupyter.widget-view+json": {
              "version_major": 2,
              "version_minor": 0,
              "model_id": "caa2ed32dd0d4892b7b8358242f5ae5a"
            }
          },
          "metadata": {}
        }
      ]
    },
    {
      "cell_type": "code",
      "execution_count": 42,
      "metadata": {
        "id": "1Il388Sqdqck"
      },
      "outputs": [],
      "source": [
        "vectorizer = TfidfVectorizer()\n",
        "neg_vectors = vectorizer.fit_transform(neg_grades.text)"
      ]
    },
    {
      "cell_type": "code",
      "execution_count": 44,
      "metadata": {
        "colab": {
          "base_uri": "https://localhost:8080/"
        },
        "id": "1CL5x0wGdqaI",
        "outputId": "8d11a982-8062-4b97-ee40-282147a5b0ec"
      },
      "outputs": [
        {
          "output_type": "stream",
          "name": "stdout",
          "text": [
            "            term    weight\n",
            "893         банк  0.080274\n",
            "7809       карта  0.060411\n",
            "4518      деньга  0.039001\n",
            "8823      кредит  0.033592\n",
            "4517        день  0.032472\n",
            "14234  отделение  0.032193\n",
            "22016  сотрудник  0.031274\n",
            "22828       счёт  0.028866\n",
            "2346       вклад  0.028560\n",
            "6660   заявление  0.027500\n",
            "21202    сказать  0.025669\n",
            "3052         всё  0.025533\n",
            "8080      клиент  0.025243\n",
            "22703      сумма  0.025218\n",
            "20680   сбербанк  0.021997\n",
            "4879     договор  0.021578\n",
            "14685       офис  0.021191\n",
            "15755     платёж  0.020993\n",
            "3911         год  0.020868\n",
            "12757      номер  0.020821\n"
          ]
        },
        {
          "output_type": "stream",
          "name": "stderr",
          "text": [
            "/usr/local/lib/python3.7/dist-packages/sklearn/utils/deprecation.py:87: FutureWarning: Function get_feature_names is deprecated; get_feature_names is deprecated in 1.0 and will be removed in 1.2. Please use get_feature_names_out instead.\n",
            "  warnings.warn(msg, category=FutureWarning)\n"
          ]
        }
      ],
      "source": [
        "vect_score = np.asarray(neg_vectors.mean(axis=0)).ravel().tolist()\n",
        "vect_array = pd.DataFrame({'term': vectorizer.get_feature_names(), 'weight': vect_score})\n",
        "vect_array.sort_values(by='weight',ascending=False,inplace=True)\n",
        "\n",
        "print(vect_array.iloc[:20,:])"
      ]
    },
    {
      "cell_type": "code",
      "execution_count": 45,
      "metadata": {
        "id": "pRz5lQFLqRKU"
      },
      "outputs": [],
      "source": [
        "vectorizer = TfidfVectorizer(ngram_range=(2, 2))\n",
        "neg_vectors = vectorizer.fit_transform(neg_grades.text)"
      ]
    },
    {
      "cell_type": "code",
      "execution_count": 46,
      "metadata": {
        "colab": {
          "base_uri": "https://localhost:8080/"
        },
        "outputId": "ddb31317-b4b8-4139-f6d0-a3d031e76688",
        "id": "ia9viF9kqRKW"
      },
      "outputs": [
        {
          "output_type": "stream",
          "name": "stderr",
          "text": [
            "/usr/local/lib/python3.7/dist-packages/sklearn/utils/deprecation.py:87: FutureWarning: Function get_feature_names is deprecated; get_feature_names is deprecated in 1.0 and will be removed in 1.2. Please use get_feature_names_out instead.\n",
            "  warnings.warn(msg, category=FutureWarning)\n"
          ]
        },
        {
          "output_type": "stream",
          "name": "stdout",
          "text": [
            "                       term    weight\n",
            "522909       сотрудник банк  0.007808\n",
            "101660    денежный средство  0.007241\n",
            "86392         горячий линия  0.006408\n",
            "320164       отделение банк  0.006184\n",
            "209339      кредитный карта  0.006022\n",
            "248561   написать заявление  0.005280\n",
            "31371              ваш банк  0.004834\n",
            "174355        интернет банк  0.004579\n",
            "109962          добрый день  0.004292\n",
            "197612           колл центр  0.004220\n",
            "6552             альфа банк  0.003990\n",
            "452853         рабочий день  0.003983\n",
            "193176          клиент банк  0.003829\n",
            "121409  досрочный погашение  0.003765\n",
            "504977     служба поддержка  0.003724\n",
            "276296        номер телефон  0.003380\n",
            "96131       дебетовый карта  0.003309\n",
            "209330    кредитный история  0.003159\n",
            "502714       следующий день  0.003069\n",
            "209287    кредитный договор  0.003011\n"
          ]
        }
      ],
      "source": [
        "vect_score = np.asarray(neg_vectors.mean(axis=0)).ravel().tolist()\n",
        "vect_array = pd.DataFrame({'term': vectorizer.get_feature_names(), 'weight': vect_score})\n",
        "vect_array.sort_values(by='weight',ascending=False,inplace=True)\n",
        "\n",
        "print(vect_array.iloc[:20,:])"
      ]
    },
    {
      "cell_type": "markdown",
      "metadata": {
        "id": "O_LanAc4LzgS"
      },
      "source": [
        "## Часть 2. Тематическое моделирование (на основе выборки из 10000)"
      ]
    },
    {
      "cell_type": "markdown",
      "metadata": {
        "id": "JoecELv1L8wR"
      },
      "source": [
        "### 1. Тематические модели"
      ]
    },
    {
      "cell_type": "code",
      "execution_count": 13,
      "metadata": {
        "id": "94UKl3D_IVaS"
      },
      "outputs": [],
      "source": [
        "from gensim.corpora import Dictionary\n",
        "from gensim.models import TfidfModel\n",
        "from gensim import similarities"
      ]
    },
    {
      "cell_type": "code",
      "source": [
        "text_sample = df[df['text'].notna()].sample(10000, random_state=42)"
      ],
      "metadata": {
        "id": "njmFlFrAtIX3"
      },
      "execution_count": 20,
      "outputs": []
    },
    {
      "cell_type": "code",
      "source": [
        "text_sample.text = text_sample.text.astype('str').progress_apply(preprocess)"
      ],
      "metadata": {
        "colab": {
          "base_uri": "https://localhost:8080/",
          "height": 49,
          "referenced_widgets": [
            "8f7328e2ebf042e98377708cf5d3c3b1",
            "e951cf80470842c8ae72bb6293ba9628",
            "9f9c6754f14d446ba717f7f4a4361d3c",
            "46474ae2d3c64587a52affd534c162ff",
            "c22b0dd8794240bb9440b11a4ab0f05a",
            "169bcf24692f49e9948de6656e2cb6f3",
            "b70b63fedaec41bda9baa551283293a8",
            "4d3b262a75b7444db92a830f0ab6daaf",
            "01c36fb8d343403a9aa197eb4eb556c4",
            "751a07ebe20d4c2aa58255fcee15c3ad",
            "db32e42fba854540a19ff9d57971fbd7"
          ]
        },
        "id": "xZrC9ArJq3Bb",
        "outputId": "c797b67a-c180-44e4-d0e6-88ee09fbec7f"
      },
      "execution_count": 21,
      "outputs": [
        {
          "output_type": "display_data",
          "data": {
            "text/plain": [
              "  0%|          | 0/10000 [00:00<?, ?it/s]"
            ],
            "application/vnd.jupyter.widget-view+json": {
              "version_major": 2,
              "version_minor": 0,
              "model_id": "8f7328e2ebf042e98377708cf5d3c3b1"
            }
          },
          "metadata": {}
        }
      ]
    },
    {
      "cell_type": "code",
      "execution_count": 25,
      "metadata": {
        "id": "suiWngD5IVaS"
      },
      "outputs": [],
      "source": [
        "texts = [text.split() for text in text_sample.text]\n",
        "dictionary = Dictionary(texts)\n",
        "corpus = [dictionary.doc2bow(text) for text in texts]"
      ]
    },
    {
      "cell_type": "code",
      "execution_count": 26,
      "metadata": {
        "id": "eMNlDa_jSyeg"
      },
      "outputs": [],
      "source": [
        "tfidf = TfidfModel(corpus)\n",
        "corpus_tfidf = tfidf[corpus]"
      ]
    },
    {
      "cell_type": "code",
      "execution_count": 27,
      "metadata": {
        "id": "HZDy0n0uSycc"
      },
      "outputs": [],
      "source": [
        "index = similarities.MatrixSimilarity(corpus_tfidf)\n",
        "sims = index[corpus_tfidf]"
      ]
    },
    {
      "cell_type": "code",
      "execution_count": 28,
      "metadata": {
        "id": "8zadT8z6SyZ8"
      },
      "outputs": [],
      "source": [
        "from gensim.models import lsimodel"
      ]
    },
    {
      "cell_type": "markdown",
      "source": [
        "Модель с количеством тем = 10"
      ],
      "metadata": {
        "id": "5GXC6Lbzc7Me"
      }
    },
    {
      "cell_type": "code",
      "execution_count": 38,
      "metadata": {
        "colab": {
          "base_uri": "https://localhost:8080/"
        },
        "id": "_TzniEHvSyJz",
        "outputId": "d7c89b6c-9240-4b13-fd5f-d1e8b0685bca"
      },
      "outputs": [
        {
          "output_type": "stream",
          "name": "stdout",
          "text": [
            "CPU times: user 11.7 s, sys: 1.26 s, total: 13 s\n",
            "Wall time: 17.8 s\n"
          ]
        }
      ],
      "source": [
        "%%time\n",
        "lsi = lsimodel.LsiModel(corpus=corpus_tfidf, id2word=dictionary, num_topics=10)"
      ]
    },
    {
      "cell_type": "code",
      "execution_count": 39,
      "metadata": {
        "colab": {
          "base_uri": "https://localhost:8080/"
        },
        "id": "8txc5ygmSyBl",
        "outputId": "d6c5aedc-cb72-4457-9226-689c94cd7ca3"
      },
      "outputs": [
        {
          "output_type": "execute_result",
          "data": {
            "text/plain": [
              "[(0,\n",
              "  '0.198*\"карта\" + 0.130*\"кредит\" + 0.117*\"деньга\" + 0.112*\"заявление\" + 0.107*\"счёт\" + 0.106*\"банкомат\" + 0.104*\"отделение\" + 0.101*\"вклад\" + 0.096*\"сбербанк\" + 0.096*\"сумма\"'),\n",
              " (1,\n",
              "  '0.358*\"кредит\" + -0.304*\"вклад\" + -0.266*\"банкомат\" + -0.192*\"карта\" + 0.188*\"страховка\" + 0.141*\"погашение\" + 0.140*\"платёж\" + 0.139*\"задолженность\" + -0.128*\"деньга\" + 0.120*\"договор\"'),\n",
              " (2,\n",
              "  '0.549*\"вклад\" + -0.263*\"банкомат\" + -0.183*\"карта\" + -0.171*\"сбербанк\" + -0.139*\"заявление\" + 0.127*\"очередь\" + 0.119*\"открыть\" + 0.117*\"договор\" + -0.106*\"средство\" + 0.105*\"ставка\"'),\n",
              " (3,\n",
              "  '0.218*\"сумма\" + -0.213*\"номер\" + 0.209*\"вклад\" + 0.190*\"банкомат\" + 0.177*\"руб\" + -0.167*\"заявка\" + 0.164*\"погашение\" + 0.160*\"платёж\" + -0.151*\"звонок\" + 0.148*\"досрочный\"'),\n",
              " (4,\n",
              "  '-0.336*\"вклад\" + -0.272*\"номер\" + 0.226*\"карта\" + 0.219*\"страховка\" + 0.205*\"заявка\" + -0.190*\"звонок\" + -0.151*\"телефон\" + -0.132*\"ваш\" + 0.129*\"лимит\" + 0.125*\"кредит\"'),\n",
              " (5,\n",
              "  '-0.468*\"банкомат\" + 0.359*\"карта\" + 0.156*\"лимит\" + 0.151*\"кредитный\" + -0.131*\"купюра\" + -0.121*\"деньга\" + -0.117*\"кредит\" + 0.116*\"интернет\" + -0.111*\"страховка\" + 0.110*\"смс\"'),\n",
              " (6,\n",
              "  '-0.235*\"заявление\" + -0.222*\"страховка\" + -0.217*\"вклад\" + -0.192*\"сбербанк\" + -0.185*\"заявка\" + 0.182*\"платёж\" + -0.166*\"страхование\" + -0.152*\"договор\" + -0.136*\"рассмотрение\" + 0.131*\"задолженность\"'),\n",
              " (7,\n",
              "  '0.363*\"банкомат\" + -0.314*\"сбербанк\" + -0.210*\"платёж\" + 0.192*\"страховка\" + 0.155*\"карта\" + 0.152*\"альфа\" + 0.150*\"лимит\" + -0.144*\"перевод\" + -0.130*\"погашение\" + -0.117*\"терминал\"'),\n",
              " (8,\n",
              "  '0.287*\"страховка\" + -0.235*\"вклад\" + 0.216*\"перевод\" + -0.187*\"карта\" + 0.172*\"страхование\" + 0.171*\"сбербанк\" + 0.167*\"услуга\" + -0.150*\"задолженность\" + -0.143*\"заявка\" + 0.116*\"комиссия\"'),\n",
              " (9,\n",
              "  '0.358*\"страховка\" + -0.271*\"заявка\" + 0.214*\"карта\" + -0.193*\"документ\" + 0.187*\"сбербанк\" + -0.143*\"справка\" + -0.142*\"рассмотрение\" + 0.127*\"заявление\" + 0.121*\"страхование\" + -0.120*\"средство\"')]"
            ]
          },
          "metadata": {},
          "execution_count": 39
        }
      ],
      "source": [
        "lsi.show_topics()"
      ]
    },
    {
      "cell_type": "markdown",
      "source": [
        "**Тема №9:**\\\n",
        "1) **Содержание:** '0.358*\"страховка\" + -0.271*\"заявка\" + 0.214*\"карта\" + -0.193*\"документ\" + 0.187*\"сбербанк\" + -0.143*\"справка\" + -0.142*\"рассмотрение\" + 0.127*\"заявление\" + 0.121*\"страхование\" + -0.120*\"средство\"'\\\n",
        "2) **Интерпретация:** судя по ключевым словам данной темы, речь идет об оформлении страховки: подаче заявки, документов, справки и т.д."
      ],
      "metadata": {
        "id": "lZteqqqn1MRI"
      }
    },
    {
      "cell_type": "markdown",
      "source": [
        "Модель с количеством тем = 40"
      ],
      "metadata": {
        "id": "KAPQiJ_a0qBR"
      }
    },
    {
      "cell_type": "code",
      "source": [
        "%%time\n",
        "lsi = lsimodel.LsiModel(corpus=corpus_tfidf, id2word=dictionary, num_topics=40)"
      ],
      "metadata": {
        "colab": {
          "base_uri": "https://localhost:8080/"
        },
        "id": "TD3xsw4K0e45",
        "outputId": "28ab9881-ccd9-4e4c-bf44-ca05614b8850"
      },
      "execution_count": 40,
      "outputs": [
        {
          "output_type": "stream",
          "name": "stdout",
          "text": [
            "CPU times: user 9.88 s, sys: 873 ms, total: 10.8 s\n",
            "Wall time: 8.97 s\n"
          ]
        }
      ]
    },
    {
      "cell_type": "code",
      "source": [
        "lsi.show_topics()"
      ],
      "metadata": {
        "colab": {
          "base_uri": "https://localhost:8080/"
        },
        "id": "swSKdAEy0sbk",
        "outputId": "fcccc78f-a0f7-4c04-af66-e10985295e14"
      },
      "execution_count": 42,
      "outputs": [
        {
          "output_type": "execute_result",
          "data": {
            "text/plain": [
              "[(0,\n",
              "  '0.198*\"карта\" + 0.130*\"кредит\" + 0.117*\"деньга\" + 0.112*\"заявление\" + 0.107*\"счёт\" + 0.106*\"банкомат\" + 0.104*\"отделение\" + 0.101*\"вклад\" + 0.096*\"сбербанк\" + 0.096*\"сумма\"'),\n",
              " (1,\n",
              "  '0.358*\"кредит\" + -0.304*\"вклад\" + -0.266*\"банкомат\" + -0.193*\"карта\" + 0.189*\"страховка\" + 0.140*\"погашение\" + 0.139*\"платёж\" + 0.139*\"задолженность\" + -0.129*\"деньга\" + 0.120*\"договор\"'),\n",
              " (2,\n",
              "  '-0.549*\"вклад\" + 0.263*\"банкомат\" + 0.182*\"карта\" + 0.171*\"сбербанк\" + 0.139*\"заявление\" + -0.127*\"очередь\" + -0.119*\"открыть\" + -0.116*\"договор\" + -0.106*\"ставка\" + 0.105*\"средство\"'),\n",
              " (3,\n",
              "  '0.217*\"сумма\" + -0.213*\"номер\" + 0.210*\"вклад\" + 0.189*\"банкомат\" + 0.178*\"руб\" + -0.169*\"заявка\" + 0.164*\"погашение\" + 0.158*\"платёж\" + -0.151*\"звонок\" + 0.147*\"досрочный\"'),\n",
              " (4,\n",
              "  '-0.337*\"вклад\" + -0.271*\"номер\" + 0.223*\"карта\" + 0.218*\"страховка\" + 0.209*\"заявка\" + -0.186*\"звонок\" + -0.150*\"телефон\" + -0.133*\"ваш\" + 0.125*\"кредит\" + 0.124*\"лимит\"'),\n",
              " (5,\n",
              "  '-0.468*\"банкомат\" + 0.361*\"карта\" + 0.158*\"лимит\" + 0.151*\"кредитный\" + -0.131*\"купюра\" + -0.123*\"деньга\" + -0.120*\"кредит\" + 0.114*\"интернет\" + 0.109*\"смс\" + 0.106*\"комиссия\"'),\n",
              " (6,\n",
              "  '0.238*\"заявление\" + 0.221*\"страховка\" + 0.217*\"вклад\" + 0.193*\"сбербанк\" + 0.185*\"заявка\" + -0.184*\"платёж\" + 0.160*\"страхование\" + 0.150*\"договор\" + 0.134*\"рассмотрение\" + -0.127*\"задолженность\"'),\n",
              " (7,\n",
              "  '-0.354*\"банкомат\" + 0.306*\"сбербанк\" + 0.208*\"платёж\" + -0.207*\"страховка\" + -0.159*\"альфа\" + -0.147*\"лимит\" + -0.146*\"карта\" + 0.136*\"перевод\" + 0.132*\"погашение\" + -0.123*\"страхование\"'),\n",
              " (8,\n",
              "  '0.277*\"страховка\" + -0.238*\"вклад\" + 0.217*\"перевод\" + -0.195*\"карта\" + 0.185*\"сбербанк\" + 0.171*\"страхование\" + 0.165*\"услуга\" + -0.144*\"задолженность\" + -0.144*\"заявка\" + -0.114*\"банкомат\"'),\n",
              " (9,\n",
              "  '-0.357*\"страховка\" + 0.267*\"заявка\" + -0.210*\"карта\" + 0.189*\"документ\" + -0.184*\"сбербанк\" + 0.149*\"справка\" + 0.138*\"рассмотрение\" + -0.124*\"страхование\" + -0.123*\"заявление\" + 0.120*\"средство\"'),\n",
              " (10,\n",
              "  '-0.264*\"заявка\" + -0.199*\"вклад\" + -0.178*\"смс\" + -0.167*\"кошелёк\" + 0.163*\"карта\" + 0.142*\"заявление\" + 0.134*\"г\" + 0.133*\"кредитный\" + -0.133*\"платёж\" + -0.130*\"перевод\"'),\n",
              " (11,\n",
              "  '-0.548*\"сбербанк\" + 0.187*\"счёт\" + -0.162*\"заявка\" + 0.157*\"перевод\" + 0.146*\"альфа\" + 0.142*\"кошелёк\" + 0.138*\"заявление\" + -0.138*\"вклад\" + -0.134*\"онлайн\" + 0.131*\"страховка\"'),\n",
              " (12,\n",
              "  '0.336*\"терминал\" + -0.321*\"перевод\" + 0.292*\"кошелёк\" + -0.251*\"счёт\" + -0.218*\"сбербанк\" + -0.211*\"альфа\" + 0.203*\"киви\" + -0.198*\"комиссия\" + 0.162*\"платёж\" + 0.110*\"поддержка\"'),\n",
              " (13,\n",
              "  '0.242*\"кошелёк\" + -0.195*\"претензия\" + -0.193*\"альфа\" + -0.160*\"платёж\" + 0.159*\"справка\" + -0.156*\"смс\" + 0.155*\"деньга\" + -0.150*\"услуга\" + 0.149*\"сбербанк\" + 0.135*\"киви\"'),\n",
              " (14,\n",
              "  '0.310*\"руб\" + 0.276*\"комиссия\" + -0.271*\"альфа\" + 0.245*\"терминал\" + 0.181*\"касса\" + 0.181*\"заявка\" + -0.173*\"претензия\" + 0.148*\"кассир\" + 0.134*\"лимит\" + -0.131*\"услуга\"'),\n",
              " (15,\n",
              "  '0.415*\"справка\" + 0.276*\"погашение\" + 0.274*\"досрочный\" + 0.230*\"банкомат\" + 0.165*\"номер\" + -0.163*\"претензия\" + -0.144*\"терминал\" + 0.134*\"кредит\" + -0.120*\"лимит\" + 0.119*\"оператор\"'),\n",
              " (16,\n",
              "  '-0.396*\"справка\" + -0.316*\"альфа\" + -0.215*\"претензия\" + -0.203*\"терминал\" + 0.185*\"перевод\" + -0.180*\"руб\" + -0.167*\"смс\" + 0.158*\"погашение\" + 0.157*\"досрочный\" + 0.148*\"банкомат\"'),\n",
              " (17,\n",
              "  '0.285*\"перевод\" + 0.271*\"альфа\" + 0.214*\"кредит\" + -0.210*\"курс\" + 0.209*\"терминал\" + 0.183*\"справка\" + 0.160*\"кредитный\" + 0.149*\"счёт\" + -0.130*\"смс\" + -0.120*\"квартира\"'),\n",
              " (18,\n",
              "  '-0.275*\"договор\" + -0.244*\"банкомат\" + -0.244*\"платёж\" + 0.186*\"досрочный\" + 0.182*\"погашение\" + 0.161*\"кредит\" + 0.156*\"альфа\" + -0.150*\"перевод\" + 0.147*\"терминал\" + 0.146*\"претензия\"'),\n",
              " (19,\n",
              "  '0.358*\"альфа\" + -0.354*\"справка\" + 0.235*\"кошелёк\" + -0.205*\"страховка\" + -0.184*\"заявление\" + 0.162*\"паспорт\" + 0.161*\"договор\" + -0.132*\"терминал\" + 0.130*\"киви\" + 0.126*\"заявка\"'),\n",
              " (20,\n",
              "  '0.373*\"терминал\" + 0.234*\"комиссия\" + -0.191*\"очередь\" + -0.157*\"средство\" + 0.156*\"альфа\" + -0.151*\"заявка\" + -0.149*\"смс\" + -0.134*\"счёт\" + 0.128*\"сч\" + -0.123*\"страховка\"'),\n",
              " (21,\n",
              "  '0.490*\"руб\" + -0.308*\"курс\" + -0.273*\"рубль\" + -0.215*\"евро\" + -0.190*\"доллар\" + -0.171*\"валюта\" + 0.132*\"комиссия\" + -0.115*\"касса\" + 0.103*\"документ\" + 0.102*\"смс\"'),\n",
              " (22,\n",
              "  '0.227*\"счёт\" + 0.212*\"заявление\" + -0.208*\"справка\" + 0.193*\"заявка\" + 0.184*\"смс\" + -0.171*\"линия\" + -0.167*\"горячий\" + 0.162*\"услуга\" + -0.158*\"сбербанк\" + 0.158*\"кредит\"'),\n",
              " (23,\n",
              "  '0.316*\"сч\" + 0.250*\"комиссия\" + -0.233*\"счёт\" + 0.190*\"ещ\" + 0.189*\"вс\" + 0.185*\"перевод\" + 0.160*\"претензия\" + -0.142*\"карта\" + 0.127*\"заявление\" + 0.124*\"л\"'),\n",
              " (24,\n",
              "  '-0.270*\"комиссия\" + 0.268*\"лимит\" + 0.239*\"сч\" + 0.206*\"досрочный\" + 0.192*\"погашение\" + -0.166*\"справка\" + 0.152*\"р\" + 0.147*\"вс\" + -0.147*\"услуга\" + 0.146*\"кредитный\"'),\n",
              " (25,\n",
              "  '0.219*\"втб\" + 0.200*\"перевод\" + 0.191*\"смс\" + -0.183*\"счёт\" + -0.166*\"сбербанк\" + 0.161*\"г\" + -0.148*\"заявление\" + 0.148*\"горячий\" + 0.143*\"линия\" + -0.135*\"терминал\"'),\n",
              " (26,\n",
              "  '0.286*\"руб\" + -0.272*\"линия\" + -0.264*\"горячий\" + 0.217*\"сч\" + 0.187*\"страховка\" + -0.183*\"услуга\" + -0.163*\"договор\" + 0.156*\"вс\" + -0.145*\"терминал\" + 0.130*\"р\"'),\n",
              " (27,\n",
              "  '-0.269*\"счёт\" + 0.219*\"справка\" + -0.174*\"р\" + 0.167*\"руб\" + 0.158*\"альфа\" + -0.137*\"закрытие\" + 0.136*\"платёж\" + -0.134*\"рубль\" + 0.129*\"перевод\" + -0.123*\"лимит\"'),\n",
              " (28,\n",
              "  '-0.350*\"руб\" + -0.237*\"перевод\" + -0.230*\"курс\" + 0.211*\"средство\" + 0.181*\"сч\" + 0.179*\"страховка\" + -0.168*\"заявление\" + 0.158*\"денежный\" + 0.145*\"справка\" + 0.139*\"комиссия\"'),\n",
              " (29,\n",
              "  '0.198*\"магазин\" + -0.190*\"перевод\" + -0.178*\"номер\" + -0.175*\"лимит\" + 0.165*\"кредит\" + 0.165*\"связный\" + -0.160*\"платёж\" + -0.158*\"менеджер\" + -0.137*\"сделка\" + -0.136*\"заявление\"'),\n",
              " (30,\n",
              "  '-0.374*\"р\" + 0.205*\"сч\" + 0.184*\"руб\" + -0.172*\"смс\" + 0.163*\"заявка\" + 0.156*\"втб\" + -0.149*\"лимит\" + 0.145*\"страхование\" + -0.138*\"г\" + -0.137*\"комиссия\"'),\n",
              " (31,\n",
              "  '0.231*\"заявление\" + 0.227*\"платёж\" + -0.207*\"центр\" + -0.200*\"р\" + -0.193*\"колл\" + 0.173*\"альфа\" + 0.169*\"лимит\" + 0.164*\"горячий\" + 0.160*\"карточка\" + 0.159*\"линия\"'),\n",
              " (32,\n",
              "  '-0.239*\"горячий\" + -0.237*\"линия\" + 0.233*\"услуга\" + 0.199*\"лимит\" + 0.182*\"карточка\" + -0.157*\"претензия\" + 0.152*\"заявление\" + 0.150*\"центр\" + 0.137*\"офис\" + 0.136*\"заявка\"'),\n",
              " (33,\n",
              "  '-0.174*\"р\" + -0.172*\"горячий\" + -0.170*\"лимит\" + -0.164*\"линия\" + 0.163*\"операция\" + 0.157*\"задолженность\" + 0.151*\"центр\" + 0.147*\"перевод\" + 0.144*\"кредит\" + -0.144*\"деньга\"'),\n",
              " (34,\n",
              "  '-0.219*\"связный\" + -0.199*\"магазин\" + -0.173*\"договор\" + -0.169*\"претензия\" + 0.158*\"смс\" + -0.150*\"номер\" + -0.149*\"акция\" + -0.141*\"карточка\" + -0.133*\"покупка\" + -0.130*\"г\"'),\n",
              " (35,\n",
              "  '-0.263*\"р\" + 0.189*\"лимит\" + -0.170*\"ставка\" + 0.153*\"кредитный\" + 0.143*\"комиссия\" + -0.134*\"задолженность\" + 0.132*\"ваш\" + -0.131*\"купюра\" + -0.127*\"паспорт\" + 0.125*\"связный\"'),\n",
              " (36,\n",
              "  '0.203*\"задолженность\" + 0.191*\"втб\" + 0.180*\"перевод\" + 0.175*\"письмо\" + -0.160*\"платёж\" + -0.152*\"договор\" + 0.145*\"горячий\" + -0.141*\"сч\" + 0.138*\"альфа\" + 0.134*\"терминал\"'),\n",
              " (37,\n",
              "  '0.339*\"претензия\" + -0.288*\"альфа\" + 0.229*\"втб\" + -0.207*\"связный\" + 0.182*\"карточка\" + 0.171*\"паспорт\" + -0.122*\"сч\" + 0.121*\"мтс\" + -0.115*\"смс\" + -0.115*\"закрытие\"'),\n",
              " (38,\n",
              "  '-0.355*\"центр\" + -0.324*\"колл\" + 0.218*\"служба\" + 0.200*\"поддержка\" + 0.154*\"рубль\" + -0.135*\"отделение\" + 0.124*\"документ\" + -0.119*\"кошелёк\" + 0.116*\"девушка\" + -0.115*\"заблокировать\"'),\n",
              " (39,\n",
              "  '0.256*\"ставка\" + 0.255*\"р\" + 0.204*\"договор\" + -0.203*\"выписка\" + -0.171*\"рубль\" + -0.159*\"связный\" + -0.148*\"документ\" + 0.142*\"карточка\" + 0.131*\"курс\" + -0.128*\"вклад\"')]"
            ]
          },
          "metadata": {},
          "execution_count": 42
        }
      ]
    },
    {
      "cell_type": "markdown",
      "source": [
        "**Тема №21:**\\\n",
        "1) **Содержание:** '0.490*\"руб\" + -0.308*\"курс\" + -0.273*\"рубль\" + -0.215*\"евро\" + -0.190*\"доллар\" + -0.171*\"валюта\" + 0.132*\"комиссия\" + -0.115*\"касса\" + 0.103*\"документ\" + 0.102*\"смс\"'\\\n",
        "2) **Интерпретация:** речь идет о вопросах, связанных с обменом валюты: обменная касса, курс валюты, коммиссия за обмен, необходимые документы."
      ],
      "metadata": {
        "id": "8oRcH6hnxDyd"
      }
    },
    {
      "cell_type": "markdown",
      "metadata": {
        "id": "mTGMbS7gMYup"
      },
      "source": [
        "### 2. Темы с упоминанием банков"
      ]
    },
    {
      "cell_type": "code",
      "execution_count": 54,
      "metadata": {
        "id": "VVk4tFO4MgmQ"
      },
      "outputs": [],
      "source": [
        "def topics_with_banks(topics, banks):\n",
        "    result = set()\n",
        "    banks = [bank.lower() for bank in banks]\n",
        "    topic_words = [ru_words.findall(text) for _, text in topics]\n",
        "    for i, words in enumerate(topic_words):\n",
        "        for w in words:\n",
        "            if len(w) > 3 and w != 'кредит':\n",
        "                for b in banks:\n",
        "                    if w == b.split()[0]:\n",
        "                        print(i, w, b)\n",
        "                        result.add((b, i))"
      ]
    },
    {
      "cell_type": "code",
      "source": [
        "topics_with_banks(lsi.show_topics(), df.bank_name.unique())"
      ],
      "metadata": {
        "colab": {
          "base_uri": "https://localhost:8080/"
        },
        "id": "fiA_p-iEgD7Y",
        "outputId": "5bca268f-4a1a-44d5-ca7a-559e9d5ba0b8"
      },
      "execution_count": 56,
      "outputs": [
        {
          "output_type": "stream",
          "name": "stdout",
          "text": [
            "0 сбербанк сбербанк россии\n",
            "2 сбербанк сбербанк россии\n",
            "6 сбербанк сбербанк россии\n",
            "7 сбербанк сбербанк россии\n",
            "8 сбербанк сбербанк россии\n",
            "9 сбербанк сбербанк россии\n",
            "11 сбербанк сбербанк россии\n",
            "12 сбербанк сбербанк россии\n",
            "12 киви киви банк\n",
            "13 сбербанк сбербанк россии\n",
            "13 киви киви банк\n",
            "19 киви киви банк\n",
            "22 сбербанк сбербанк россии\n",
            "25 сбербанк сбербанк россии\n"
          ]
        }
      ]
    },
    {
      "cell_type": "markdown",
      "source": [
        "**Тема №0:**\\\n",
        "1) **Содержание:** '0.198*\"карта\" + 0.130*\"кредит\" + 0.117*\"деньга\" + 0.112*\"заявление\" + 0.107*\"счёт\" + 0.106*\"банкомат\" + 0.104*\"отделение\" + 0.101*\"вклад\" + 0.096*\"сбербанк\" + 0.096*\"сумма\"'\\\n",
        "2) **Интерпретация:** вероятно, данная тема связана с вопросами об услугах, которые предоставляет Сбербанк: заведение карты, получение кредита, открытие вклада. Также вопросы могут касаться работы банкоматов и отделений данного банка."
      ],
      "metadata": {
        "id": "3gVvi4Z2-SKA"
      }
    },
    {
      "cell_type": "markdown",
      "source": [
        "**Тема №13:**\\\n",
        "1) **Содержание:** 0.242*\"кошелёк\" + -0.195*\"претензия\" + -0.193*\"альфа\" + -0.160*\"платёж\" + 0.159*\"справка\" + -0.156*\"смс\" + 0.155*\"деньга\" + -0.150*\"услуга\" + 0.149*\"сбербанк\" + 0.135*\"киви\"'\\\n",
        "2) **Интерпретация:** в данной теме упомянуто сразу 3 банка и слово \"кошелёк\", которое, вероятно, относится к банку Киви. Скорее всего, эта тема группирует отзывы, связанные с взаимодействием банков Сбербанк и Альфа-Банк с банком Киви."
      ],
      "metadata": {
        "id": "PCHJ0GWP_jvw"
      }
    },
    {
      "cell_type": "markdown",
      "metadata": {
        "id": "AJ39G_RaqauR"
      },
      "source": [
        "## Часть 3. Классификация текстов"
      ]
    },
    {
      "cell_type": "markdown",
      "source": [
        "### 1. Составим обучающее и тестовое множества"
      ],
      "metadata": {
        "id": "6PSGJ88L2Xxm"
      }
    },
    {
      "cell_type": "markdown",
      "source": [
        "Определим количество положительных и отрицательных отзывов"
      ],
      "metadata": {
        "id": "WlP82E7X29QW"
      }
    },
    {
      "cell_type": "code",
      "source": [
        "len(df[df['rating_grade'] == 1]), len(df[df['rating_grade'] == 5])"
      ],
      "metadata": {
        "colab": {
          "base_uri": "https://localhost:8080/"
        },
        "id": "Fy58jnfE2OsJ",
        "outputId": "b6c373a7-836c-414f-ec7a-903a20680730"
      },
      "execution_count": null,
      "outputs": [
        {
          "output_type": "execute_result",
          "data": {
            "text/plain": [
              "(47387, 14713)"
            ]
          },
          "metadata": {},
          "execution_count": 7
        }
      ]
    },
    {
      "cell_type": "code",
      "source": [
        "N1 = round(len(df[df['rating_grade'] == 1]) * 0.3)\n",
        "N2 = round(len(df[df['rating_grade'] == 5]) * 0.9)\n",
        "N1, N2, N1 + N2"
      ],
      "metadata": {
        "colab": {
          "base_uri": "https://localhost:8080/"
        },
        "id": "MmxcCSAY7P_H",
        "outputId": "721462a6-cfb6-4945-bb5f-1cbecbac447d"
      },
      "execution_count": null,
      "outputs": [
        {
          "output_type": "execute_result",
          "data": {
            "text/plain": [
              "(14216, 13242, 27458)"
            ]
          },
          "metadata": {},
          "execution_count": 10
        }
      ]
    },
    {
      "cell_type": "code",
      "source": [
        "neg_texts = df[df['rating_grade'] == 1][['text', 'rating_grade']].sample(N1, random_state=42)\n",
        "pos_texts = df[df['rating_grade'] == 5][['text', 'rating_grade']].sample(N2, random_state=42)\n",
        "all_texts = pd.concat([neg_texts, pos_texts])"
      ],
      "metadata": {
        "id": "eAqnwF1i8IA3"
      },
      "execution_count": null,
      "outputs": []
    },
    {
      "cell_type": "code",
      "source": [
        "all_texts.info()"
      ],
      "metadata": {
        "colab": {
          "base_uri": "https://localhost:8080/"
        },
        "id": "HFJGOHmJ95yV",
        "outputId": "b1af2061-4bbc-486e-cc16-f75d9b06af6b"
      },
      "execution_count": null,
      "outputs": [
        {
          "output_type": "stream",
          "name": "stdout",
          "text": [
            "<class 'pandas.core.frame.DataFrame'>\n",
            "Int64Index: 27458 entries, 69869 to 87110\n",
            "Data columns (total 2 columns):\n",
            " #   Column        Non-Null Count  Dtype  \n",
            "---  ------        --------------  -----  \n",
            " 0   text          27458 non-null  object \n",
            " 1   rating_grade  27458 non-null  float64\n",
            "dtypes: float64(1), object(1)\n",
            "memory usage: 643.5+ KB\n"
          ]
        }
      ]
    },
    {
      "cell_type": "markdown",
      "source": [
        "Векторизуем тексты"
      ],
      "metadata": {
        "id": "QVjYWd5X9hWq"
      }
    },
    {
      "cell_type": "code",
      "source": [
        "from sklearn.decomposition import TruncatedSVD\n",
        "from sklearn.pipeline import Pipeline\n",
        "from sklearn.preprocessing import Normalizer\n",
        "from sklearn.feature_extraction.text import TfidfVectorizer, TfidfTransformer, CountVectorizer\n",
        "from sklearn.model_selection import train_test_split\n",
        "from sklearn.linear_model import LogisticRegression\n",
        "from sklearn.metrics import f1_score, accuracy_score"
      ],
      "metadata": {
        "id": "pKiZrjsI9mZs"
      },
      "execution_count": null,
      "outputs": []
    },
    {
      "cell_type": "code",
      "source": [
        "vectors = TfidfVectorizer().fit_transform(all_texts.text)"
      ],
      "metadata": {
        "id": "7T-6fCFl9hB6"
      },
      "execution_count": null,
      "outputs": []
    },
    {
      "cell_type": "markdown",
      "source": [
        "Разбиваем на обучающее и тестовое множества"
      ],
      "metadata": {
        "id": "WEepeeid9Tpe"
      }
    },
    {
      "cell_type": "code",
      "source": [
        "y_train, y_val, x_train, x_val = train_test_split(\n",
        "    all_texts.rating_grade, vectors, test_size=0.2,\n",
        "    random_state=42)"
      ],
      "metadata": {
        "id": "IJE-dJEd9cCD"
      },
      "execution_count": null,
      "outputs": []
    },
    {
      "cell_type": "markdown",
      "source": [
        "### 2. Обучаем классификатор"
      ],
      "metadata": {
        "id": "dbpCFA4i_Fkw"
      }
    },
    {
      "cell_type": "code",
      "source": [
        "clf = LogisticRegression()\n",
        "clf.fit(x_train, y_train)"
      ],
      "metadata": {
        "colab": {
          "base_uri": "https://localhost:8080/"
        },
        "id": "3Jbu7veV9b7F",
        "outputId": "de9dffb3-9e2d-4eee-d47b-12b0df49b5f2"
      },
      "execution_count": null,
      "outputs": [
        {
          "output_type": "execute_result",
          "data": {
            "text/plain": [
              "LogisticRegression()"
            ]
          },
          "metadata": {},
          "execution_count": 30
        }
      ]
    },
    {
      "cell_type": "code",
      "source": [
        "y_pred = clf.predict(x_val)\n",
        "\n",
        "print('F1 score:\\t', f1_score(y_val, y_pred))\n",
        "print('Accuracy score:\\t', accuracy_score(y_val, y_pred))"
      ],
      "metadata": {
        "colab": {
          "base_uri": "https://localhost:8080/"
        },
        "id": "4hlWx13k8n5i",
        "outputId": "1ff30714-ba34-45da-de07-e73b2268704a"
      },
      "execution_count": null,
      "outputs": [
        {
          "output_type": "stream",
          "name": "stdout",
          "text": [
            "F1 score:\t 0.9550600343053174\n",
            "Accuracy score:\t 0.9522942461762564\n"
          ]
        }
      ]
    },
    {
      "cell_type": "markdown",
      "source": [
        "Попробуем другие варианты векторизации:"
      ],
      "metadata": {
        "id": "0wK5oOfPhqqR"
      }
    },
    {
      "cell_type": "code",
      "source": [
        "def test_n_gram(x, y, model=LogisticRegression, params=[(1, 1)]):\n",
        "    results = dict()\n",
        "    for param in params:\n",
        "        vectors = TfidfVectorizer(ngram_range=param).fit_transform(x)\n",
        "\n",
        "        y_train, y_val, x_train, x_val = train_test_split(\n",
        "            y, vectors, test_size=0.2,\n",
        "            random_state=42)\n",
        "        \n",
        "        clf = model()\n",
        "        clf.fit(x_train, y_train)\n",
        "\n",
        "        y_pred = clf.predict(x_val)\n",
        "        f1 = f1_score(y_val, y_pred)\n",
        "        accuracy = accuracy_score(y_val, y_pred)\n",
        "        results[param] = f1\n",
        "        \n",
        "        print(f'===== {param} =====',\n",
        "              f'F1 score:\\t {f1}',\n",
        "              f'Accuracy score:\\t {accuracy}', sep='\\n')\n",
        "    \n",
        "    return results"
      ],
      "metadata": {
        "id": "S9_8wIMhDVpk"
      },
      "execution_count": null,
      "outputs": []
    },
    {
      "cell_type": "markdown",
      "source": [
        "а) n-граммы"
      ],
      "metadata": {
        "id": "ymHu4yKDiQhN"
      }
    },
    {
      "cell_type": "code",
      "source": [
        "params = [(2, 2), (3, 3), (1, 2), (1, 3)]\n",
        "\n",
        "n_gram_res = test_n_gram(all_texts.text, all_texts.rating_grade, params=params)"
      ],
      "metadata": {
        "colab": {
          "base_uri": "https://localhost:8080/"
        },
        "id": "lEtEEyDBKQmw",
        "outputId": "cd6a0e69-ee28-47eb-fd91-f52760a75321"
      },
      "execution_count": null,
      "outputs": [
        {
          "output_type": "stream",
          "name": "stdout",
          "text": [
            "===== (2, 2) =====\n",
            "F1 score:\t 0.9369524136746263\n",
            "Accuracy score:\t 0.9331755280407866\n",
            "===== (3, 3) =====\n",
            "F1 score:\t 0.8979859177992469\n",
            "Accuracy score:\t 0.8865622723962127\n",
            "===== (1, 2) =====\n",
            "F1 score:\t 0.9526098901098901\n",
            "Accuracy score:\t 0.9497450837581938\n",
            "===== (1, 3) =====\n",
            "F1 score:\t 0.9472236548048821\n",
            "Accuracy score:\t 0.9441005098324836\n"
          ]
        }
      ]
    },
    {
      "cell_type": "code",
      "source": [
        "print('Лучший результат:', max(n_gram_res.items(), key=lambda x: x[1]))"
      ],
      "metadata": {
        "colab": {
          "base_uri": "https://localhost:8080/"
        },
        "id": "oFAbFo14Lage",
        "outputId": "dd752eb7-e18b-4f22-c3d0-65346396eabd"
      },
      "execution_count": null,
      "outputs": [
        {
          "output_type": "stream",
          "name": "stdout",
          "text": [
            "Лучший результат: ((1, 2), 0.9526098901098901)\n"
          ]
        }
      ]
    },
    {
      "cell_type": "markdown",
      "source": [
        "б) символьные n-граммы"
      ],
      "metadata": {
        "id": "RjCJ2zhBLW6j"
      }
    },
    {
      "cell_type": "code",
      "source": [
        "vectors = TfidfVectorizer(min_df=0.01, max_df=0.95, analyzer='char_wb', ngram_range=(4, 8)).fit_transform(all_texts.text)\n",
        "\n",
        "y_train, y_val, x_train, x_val = train_test_split(\n",
        "    all_texts.rating_grade, vectors, test_size=0.2,\n",
        "    random_state=42)"
      ],
      "metadata": {
        "id": "dpLrDytb82ss"
      },
      "execution_count": null,
      "outputs": []
    },
    {
      "cell_type": "code",
      "source": [
        "clf = LogisticRegression()\n",
        "clf.fit(x_train, y_train)"
      ],
      "metadata": {
        "colab": {
          "base_uri": "https://localhost:8080/"
        },
        "outputId": "11009440-f8f4-43d0-f032-85f73ba2bb23",
        "id": "Iy1CBWR982tJ"
      },
      "execution_count": null,
      "outputs": [
        {
          "output_type": "execute_result",
          "data": {
            "text/plain": [
              "LogisticRegression()"
            ]
          },
          "metadata": {},
          "execution_count": 15
        }
      ]
    },
    {
      "cell_type": "code",
      "source": [
        "y_pred = clf.predict(x_val)\n",
        "\n",
        "print('F1 score:\\t', f1_score(y_val, y_pred))\n",
        "print('Accuracy score:\\t', accuracy_score(y_val, y_pred))"
      ],
      "metadata": {
        "colab": {
          "base_uri": "https://localhost:8080/"
        },
        "outputId": "8a23b160-b653-42ff-99b7-878daad4c68a",
        "id": "C-rM6tP482tM"
      },
      "execution_count": null,
      "outputs": [
        {
          "output_type": "stream",
          "name": "stdout",
          "text": [
            "F1 score:\t 0.9572210814510609\n",
            "Accuracy score:\t 0.9544792425345958\n"
          ]
        }
      ]
    },
    {
      "cell_type": "markdown",
      "source": [
        "**Вывод**: лучший результат был получен при использовании символьных n-грамм (в рамках слов)."
      ],
      "metadata": {
        "id": "QvVr4JVcrA23"
      }
    },
    {
      "cell_type": "markdown",
      "source": [
        "### 3. Использование скрытых тем"
      ],
      "metadata": {
        "id": "HXEHD3TfhltT"
      }
    },
    {
      "cell_type": "code",
      "execution_count": null,
      "metadata": {
        "id": "bUSukDrwqauS",
        "colab": {
          "base_uri": "https://localhost:8080/"
        },
        "outputId": "5c50f2ec-4f99-418c-eea5-50aed75fbe78"
      },
      "outputs": [
        {
          "output_type": "execute_result",
          "data": {
            "text/plain": [
              "Pipeline(steps=[('vect',\n",
              "                 CountVectorizer(analyzer='char_wb', max_df=0.95, min_df=0.01,\n",
              "                                 ngram_range=(4, 8))),\n",
              "                ('tfidf', TfidfTransformer()),\n",
              "                ('tm', TruncatedSVD(n_components=200)),\n",
              "                ('clf', LogisticRegression())])"
            ]
          },
          "metadata": {},
          "execution_count": 14
        }
      ],
      "source": [
        "y_train, y_val, x_train, x_val = train_test_split(\n",
        "    all_texts.rating_grade, all_texts.text, test_size=0.2,\n",
        "    random_state=42)\n",
        "\n",
        "clf = Pipeline([ \n",
        "    ('vect', CountVectorizer(min_df=0.01, max_df=0.95, analyzer='char_wb', ngram_range=(4, 8))), \n",
        "    ('tfidf', TfidfTransformer()), \n",
        "    ('tm', TruncatedSVD(n_components=200)), \n",
        "    ('clf', LogisticRegression())\n",
        "])\n",
        "\n",
        "clf.fit(x_train, y_train)"
      ]
    },
    {
      "cell_type": "code",
      "execution_count": null,
      "metadata": {
        "id": "gPKAMh3uP3M2",
        "colab": {
          "base_uri": "https://localhost:8080/"
        },
        "outputId": "6d1385fe-d2f7-41fb-8cb7-ca4a55f8b7b9"
      },
      "outputs": [
        {
          "output_type": "stream",
          "name": "stdout",
          "text": [
            "F1 score:\t 0.9491873396065011\n",
            "Accuracy score:\t 0.9459213401310997\n"
          ]
        }
      ],
      "source": [
        "y_pred = clf.predict(x_val)\n",
        "\n",
        "print('F1 score:\\t', f1_score(y_val, y_pred))\n",
        "print('Accuracy score:\\t', accuracy_score(y_val, y_pred))"
      ]
    },
    {
      "cell_type": "markdown",
      "source": [
        "**Вывод**: качество решения при использовании SVD ухудшилось. Возможно, помогло бы увеличение числа компонент, но ограничененная мощность Google Colabs не позволяет это выяснить."
      ],
      "metadata": {
        "id": "_6l8I1SdCO_o"
      }
    }
  ],
  "metadata": {
    "colab": {
      "collapsed_sections": [
        "ReQwk18TD02B",
        "rlQOPbYLEgp7",
        "BmGJkqRvoFUV",
        "FWc9uAwcWJzm"
      ],
      "name": "HW_NLP_1.ipynb",
      "provenance": []
    },
    "kernelspec": {
      "display_name": "Python 3",
      "language": "python",
      "name": "python3"
    },
    "language_info": {
      "codemirror_mode": {
        "name": "ipython",
        "version": 3
      },
      "file_extension": ".py",
      "mimetype": "text/x-python",
      "name": "python",
      "nbconvert_exporter": "python",
      "pygments_lexer": "ipython3",
      "version": "3.6.0"
    },
    "widgets": {
      "application/vnd.jupyter.widget-state+json": {
        "650fa9db6ec443eb83a553e65ba25cad": {
          "model_module": "@jupyter-widgets/controls",
          "model_name": "HBoxModel",
          "model_module_version": "1.5.0",
          "state": {
            "_dom_classes": [],
            "_model_module": "@jupyter-widgets/controls",
            "_model_module_version": "1.5.0",
            "_model_name": "HBoxModel",
            "_view_count": null,
            "_view_module": "@jupyter-widgets/controls",
            "_view_module_version": "1.5.0",
            "_view_name": "HBoxView",
            "box_style": "",
            "children": [
              "IPY_MODEL_1713c45c9eb3484f877eff1053bbdd6b",
              "IPY_MODEL_3f2f8a0a413042cb87b4a07f2ebdef7e",
              "IPY_MODEL_255cbbcff486423e95f71ad82be22f16"
            ],
            "layout": "IPY_MODEL_de713d55a254403281a69fb8f8debfa6"
          }
        },
        "1713c45c9eb3484f877eff1053bbdd6b": {
          "model_module": "@jupyter-widgets/controls",
          "model_name": "HTMLModel",
          "model_module_version": "1.5.0",
          "state": {
            "_dom_classes": [],
            "_model_module": "@jupyter-widgets/controls",
            "_model_module_version": "1.5.0",
            "_model_name": "HTMLModel",
            "_view_count": null,
            "_view_module": "@jupyter-widgets/controls",
            "_view_module_version": "1.5.0",
            "_view_name": "HTMLView",
            "description": "",
            "description_tooltip": null,
            "layout": "IPY_MODEL_19f0d9b11cb748419dbdfd008e9e3f75",
            "placeholder": "​",
            "style": "IPY_MODEL_046be021e6a841f2888b921cd56573ab",
            "value": "100%"
          }
        },
        "3f2f8a0a413042cb87b4a07f2ebdef7e": {
          "model_module": "@jupyter-widgets/controls",
          "model_name": "FloatProgressModel",
          "model_module_version": "1.5.0",
          "state": {
            "_dom_classes": [],
            "_model_module": "@jupyter-widgets/controls",
            "_model_module_version": "1.5.0",
            "_model_name": "FloatProgressModel",
            "_view_count": null,
            "_view_module": "@jupyter-widgets/controls",
            "_view_module_version": "1.5.0",
            "_view_name": "ProgressView",
            "bar_style": "success",
            "description": "",
            "description_tooltip": null,
            "layout": "IPY_MODEL_304448f6d13f49789b53a79ecbcaa9c0",
            "max": 153499,
            "min": 0,
            "orientation": "horizontal",
            "style": "IPY_MODEL_73b7158715c24554b3f4d4e2c97b3b2e",
            "value": 153499
          }
        },
        "255cbbcff486423e95f71ad82be22f16": {
          "model_module": "@jupyter-widgets/controls",
          "model_name": "HTMLModel",
          "model_module_version": "1.5.0",
          "state": {
            "_dom_classes": [],
            "_model_module": "@jupyter-widgets/controls",
            "_model_module_version": "1.5.0",
            "_model_name": "HTMLModel",
            "_view_count": null,
            "_view_module": "@jupyter-widgets/controls",
            "_view_module_version": "1.5.0",
            "_view_name": "HTMLView",
            "description": "",
            "description_tooltip": null,
            "layout": "IPY_MODEL_cd57b08b05f64fb896f43fc1c1b598cf",
            "placeholder": "​",
            "style": "IPY_MODEL_ddd814e30ed6432d8549c8437f9058cb",
            "value": " 153499/153499 [00:38&lt;00:00, 6617.88it/s]"
          }
        },
        "de713d55a254403281a69fb8f8debfa6": {
          "model_module": "@jupyter-widgets/base",
          "model_name": "LayoutModel",
          "model_module_version": "1.2.0",
          "state": {
            "_model_module": "@jupyter-widgets/base",
            "_model_module_version": "1.2.0",
            "_model_name": "LayoutModel",
            "_view_count": null,
            "_view_module": "@jupyter-widgets/base",
            "_view_module_version": "1.2.0",
            "_view_name": "LayoutView",
            "align_content": null,
            "align_items": null,
            "align_self": null,
            "border": null,
            "bottom": null,
            "display": null,
            "flex": null,
            "flex_flow": null,
            "grid_area": null,
            "grid_auto_columns": null,
            "grid_auto_flow": null,
            "grid_auto_rows": null,
            "grid_column": null,
            "grid_gap": null,
            "grid_row": null,
            "grid_template_areas": null,
            "grid_template_columns": null,
            "grid_template_rows": null,
            "height": null,
            "justify_content": null,
            "justify_items": null,
            "left": null,
            "margin": null,
            "max_height": null,
            "max_width": null,
            "min_height": null,
            "min_width": null,
            "object_fit": null,
            "object_position": null,
            "order": null,
            "overflow": null,
            "overflow_x": null,
            "overflow_y": null,
            "padding": null,
            "right": null,
            "top": null,
            "visibility": null,
            "width": null
          }
        },
        "19f0d9b11cb748419dbdfd008e9e3f75": {
          "model_module": "@jupyter-widgets/base",
          "model_name": "LayoutModel",
          "model_module_version": "1.2.0",
          "state": {
            "_model_module": "@jupyter-widgets/base",
            "_model_module_version": "1.2.0",
            "_model_name": "LayoutModel",
            "_view_count": null,
            "_view_module": "@jupyter-widgets/base",
            "_view_module_version": "1.2.0",
            "_view_name": "LayoutView",
            "align_content": null,
            "align_items": null,
            "align_self": null,
            "border": null,
            "bottom": null,
            "display": null,
            "flex": null,
            "flex_flow": null,
            "grid_area": null,
            "grid_auto_columns": null,
            "grid_auto_flow": null,
            "grid_auto_rows": null,
            "grid_column": null,
            "grid_gap": null,
            "grid_row": null,
            "grid_template_areas": null,
            "grid_template_columns": null,
            "grid_template_rows": null,
            "height": null,
            "justify_content": null,
            "justify_items": null,
            "left": null,
            "margin": null,
            "max_height": null,
            "max_width": null,
            "min_height": null,
            "min_width": null,
            "object_fit": null,
            "object_position": null,
            "order": null,
            "overflow": null,
            "overflow_x": null,
            "overflow_y": null,
            "padding": null,
            "right": null,
            "top": null,
            "visibility": null,
            "width": null
          }
        },
        "046be021e6a841f2888b921cd56573ab": {
          "model_module": "@jupyter-widgets/controls",
          "model_name": "DescriptionStyleModel",
          "model_module_version": "1.5.0",
          "state": {
            "_model_module": "@jupyter-widgets/controls",
            "_model_module_version": "1.5.0",
            "_model_name": "DescriptionStyleModel",
            "_view_count": null,
            "_view_module": "@jupyter-widgets/base",
            "_view_module_version": "1.2.0",
            "_view_name": "StyleView",
            "description_width": ""
          }
        },
        "304448f6d13f49789b53a79ecbcaa9c0": {
          "model_module": "@jupyter-widgets/base",
          "model_name": "LayoutModel",
          "model_module_version": "1.2.0",
          "state": {
            "_model_module": "@jupyter-widgets/base",
            "_model_module_version": "1.2.0",
            "_model_name": "LayoutModel",
            "_view_count": null,
            "_view_module": "@jupyter-widgets/base",
            "_view_module_version": "1.2.0",
            "_view_name": "LayoutView",
            "align_content": null,
            "align_items": null,
            "align_self": null,
            "border": null,
            "bottom": null,
            "display": null,
            "flex": null,
            "flex_flow": null,
            "grid_area": null,
            "grid_auto_columns": null,
            "grid_auto_flow": null,
            "grid_auto_rows": null,
            "grid_column": null,
            "grid_gap": null,
            "grid_row": null,
            "grid_template_areas": null,
            "grid_template_columns": null,
            "grid_template_rows": null,
            "height": null,
            "justify_content": null,
            "justify_items": null,
            "left": null,
            "margin": null,
            "max_height": null,
            "max_width": null,
            "min_height": null,
            "min_width": null,
            "object_fit": null,
            "object_position": null,
            "order": null,
            "overflow": null,
            "overflow_x": null,
            "overflow_y": null,
            "padding": null,
            "right": null,
            "top": null,
            "visibility": null,
            "width": null
          }
        },
        "73b7158715c24554b3f4d4e2c97b3b2e": {
          "model_module": "@jupyter-widgets/controls",
          "model_name": "ProgressStyleModel",
          "model_module_version": "1.5.0",
          "state": {
            "_model_module": "@jupyter-widgets/controls",
            "_model_module_version": "1.5.0",
            "_model_name": "ProgressStyleModel",
            "_view_count": null,
            "_view_module": "@jupyter-widgets/base",
            "_view_module_version": "1.2.0",
            "_view_name": "StyleView",
            "bar_color": null,
            "description_width": ""
          }
        },
        "cd57b08b05f64fb896f43fc1c1b598cf": {
          "model_module": "@jupyter-widgets/base",
          "model_name": "LayoutModel",
          "model_module_version": "1.2.0",
          "state": {
            "_model_module": "@jupyter-widgets/base",
            "_model_module_version": "1.2.0",
            "_model_name": "LayoutModel",
            "_view_count": null,
            "_view_module": "@jupyter-widgets/base",
            "_view_module_version": "1.2.0",
            "_view_name": "LayoutView",
            "align_content": null,
            "align_items": null,
            "align_self": null,
            "border": null,
            "bottom": null,
            "display": null,
            "flex": null,
            "flex_flow": null,
            "grid_area": null,
            "grid_auto_columns": null,
            "grid_auto_flow": null,
            "grid_auto_rows": null,
            "grid_column": null,
            "grid_gap": null,
            "grid_row": null,
            "grid_template_areas": null,
            "grid_template_columns": null,
            "grid_template_rows": null,
            "height": null,
            "justify_content": null,
            "justify_items": null,
            "left": null,
            "margin": null,
            "max_height": null,
            "max_width": null,
            "min_height": null,
            "min_width": null,
            "object_fit": null,
            "object_position": null,
            "order": null,
            "overflow": null,
            "overflow_x": null,
            "overflow_y": null,
            "padding": null,
            "right": null,
            "top": null,
            "visibility": null,
            "width": null
          }
        },
        "ddd814e30ed6432d8549c8437f9058cb": {
          "model_module": "@jupyter-widgets/controls",
          "model_name": "DescriptionStyleModel",
          "model_module_version": "1.5.0",
          "state": {
            "_model_module": "@jupyter-widgets/controls",
            "_model_module_version": "1.5.0",
            "_model_name": "DescriptionStyleModel",
            "_view_count": null,
            "_view_module": "@jupyter-widgets/base",
            "_view_module_version": "1.2.0",
            "_view_name": "StyleView",
            "description_width": ""
          }
        },
        "230f78a6584040abba8e153051e05b96": {
          "model_module": "@jupyter-widgets/controls",
          "model_name": "HBoxModel",
          "model_module_version": "1.5.0",
          "state": {
            "_dom_classes": [],
            "_model_module": "@jupyter-widgets/controls",
            "_model_module_version": "1.5.0",
            "_model_name": "HBoxModel",
            "_view_count": null,
            "_view_module": "@jupyter-widgets/controls",
            "_view_module_version": "1.5.0",
            "_view_name": "HBoxView",
            "box_style": "",
            "children": [
              "IPY_MODEL_124e009ea9074eda8ae2055b0455b78e",
              "IPY_MODEL_daba3b074ff74b9ea7f591fe45f5a5ce",
              "IPY_MODEL_b5db180b26e1422c827e5ff2754af07b"
            ],
            "layout": "IPY_MODEL_529cc173e38643ecbbfbf42d8c440915"
          }
        },
        "124e009ea9074eda8ae2055b0455b78e": {
          "model_module": "@jupyter-widgets/controls",
          "model_name": "HTMLModel",
          "model_module_version": "1.5.0",
          "state": {
            "_dom_classes": [],
            "_model_module": "@jupyter-widgets/controls",
            "_model_module_version": "1.5.0",
            "_model_name": "HTMLModel",
            "_view_count": null,
            "_view_module": "@jupyter-widgets/controls",
            "_view_module_version": "1.5.0",
            "_view_name": "HTMLView",
            "description": "",
            "description_tooltip": null,
            "layout": "IPY_MODEL_d76077ce67f74121860cfd3a616865ed",
            "placeholder": "​",
            "style": "IPY_MODEL_4fc02f87701e4b3298482547347c0404",
            "value": "100%"
          }
        },
        "daba3b074ff74b9ea7f591fe45f5a5ce": {
          "model_module": "@jupyter-widgets/controls",
          "model_name": "FloatProgressModel",
          "model_module_version": "1.5.0",
          "state": {
            "_dom_classes": [],
            "_model_module": "@jupyter-widgets/controls",
            "_model_module_version": "1.5.0",
            "_model_name": "FloatProgressModel",
            "_view_count": null,
            "_view_module": "@jupyter-widgets/controls",
            "_view_module_version": "1.5.0",
            "_view_name": "ProgressView",
            "bar_style": "success",
            "description": "",
            "description_tooltip": null,
            "layout": "IPY_MODEL_63073208eb6e4ab4ada76eb181d285f5",
            "max": 153499,
            "min": 0,
            "orientation": "horizontal",
            "style": "IPY_MODEL_0c01f2fe673740b18183ce62007f8ae7",
            "value": 153499
          }
        },
        "b5db180b26e1422c827e5ff2754af07b": {
          "model_module": "@jupyter-widgets/controls",
          "model_name": "HTMLModel",
          "model_module_version": "1.5.0",
          "state": {
            "_dom_classes": [],
            "_model_module": "@jupyter-widgets/controls",
            "_model_module_version": "1.5.0",
            "_model_name": "HTMLModel",
            "_view_count": null,
            "_view_module": "@jupyter-widgets/controls",
            "_view_module_version": "1.5.0",
            "_view_name": "HTMLView",
            "description": "",
            "description_tooltip": null,
            "layout": "IPY_MODEL_c89f465934354a87b506b09c59549aca",
            "placeholder": "​",
            "style": "IPY_MODEL_95bfbee5282e4bc6bae9ef0ea43b8e15",
            "value": " 153499/153499 [01:56&lt;00:00, 2577.05it/s]"
          }
        },
        "529cc173e38643ecbbfbf42d8c440915": {
          "model_module": "@jupyter-widgets/base",
          "model_name": "LayoutModel",
          "model_module_version": "1.2.0",
          "state": {
            "_model_module": "@jupyter-widgets/base",
            "_model_module_version": "1.2.0",
            "_model_name": "LayoutModel",
            "_view_count": null,
            "_view_module": "@jupyter-widgets/base",
            "_view_module_version": "1.2.0",
            "_view_name": "LayoutView",
            "align_content": null,
            "align_items": null,
            "align_self": null,
            "border": null,
            "bottom": null,
            "display": null,
            "flex": null,
            "flex_flow": null,
            "grid_area": null,
            "grid_auto_columns": null,
            "grid_auto_flow": null,
            "grid_auto_rows": null,
            "grid_column": null,
            "grid_gap": null,
            "grid_row": null,
            "grid_template_areas": null,
            "grid_template_columns": null,
            "grid_template_rows": null,
            "height": null,
            "justify_content": null,
            "justify_items": null,
            "left": null,
            "margin": null,
            "max_height": null,
            "max_width": null,
            "min_height": null,
            "min_width": null,
            "object_fit": null,
            "object_position": null,
            "order": null,
            "overflow": null,
            "overflow_x": null,
            "overflow_y": null,
            "padding": null,
            "right": null,
            "top": null,
            "visibility": null,
            "width": null
          }
        },
        "d76077ce67f74121860cfd3a616865ed": {
          "model_module": "@jupyter-widgets/base",
          "model_name": "LayoutModel",
          "model_module_version": "1.2.0",
          "state": {
            "_model_module": "@jupyter-widgets/base",
            "_model_module_version": "1.2.0",
            "_model_name": "LayoutModel",
            "_view_count": null,
            "_view_module": "@jupyter-widgets/base",
            "_view_module_version": "1.2.0",
            "_view_name": "LayoutView",
            "align_content": null,
            "align_items": null,
            "align_self": null,
            "border": null,
            "bottom": null,
            "display": null,
            "flex": null,
            "flex_flow": null,
            "grid_area": null,
            "grid_auto_columns": null,
            "grid_auto_flow": null,
            "grid_auto_rows": null,
            "grid_column": null,
            "grid_gap": null,
            "grid_row": null,
            "grid_template_areas": null,
            "grid_template_columns": null,
            "grid_template_rows": null,
            "height": null,
            "justify_content": null,
            "justify_items": null,
            "left": null,
            "margin": null,
            "max_height": null,
            "max_width": null,
            "min_height": null,
            "min_width": null,
            "object_fit": null,
            "object_position": null,
            "order": null,
            "overflow": null,
            "overflow_x": null,
            "overflow_y": null,
            "padding": null,
            "right": null,
            "top": null,
            "visibility": null,
            "width": null
          }
        },
        "4fc02f87701e4b3298482547347c0404": {
          "model_module": "@jupyter-widgets/controls",
          "model_name": "DescriptionStyleModel",
          "model_module_version": "1.5.0",
          "state": {
            "_model_module": "@jupyter-widgets/controls",
            "_model_module_version": "1.5.0",
            "_model_name": "DescriptionStyleModel",
            "_view_count": null,
            "_view_module": "@jupyter-widgets/base",
            "_view_module_version": "1.2.0",
            "_view_name": "StyleView",
            "description_width": ""
          }
        },
        "63073208eb6e4ab4ada76eb181d285f5": {
          "model_module": "@jupyter-widgets/base",
          "model_name": "LayoutModel",
          "model_module_version": "1.2.0",
          "state": {
            "_model_module": "@jupyter-widgets/base",
            "_model_module_version": "1.2.0",
            "_model_name": "LayoutModel",
            "_view_count": null,
            "_view_module": "@jupyter-widgets/base",
            "_view_module_version": "1.2.0",
            "_view_name": "LayoutView",
            "align_content": null,
            "align_items": null,
            "align_self": null,
            "border": null,
            "bottom": null,
            "display": null,
            "flex": null,
            "flex_flow": null,
            "grid_area": null,
            "grid_auto_columns": null,
            "grid_auto_flow": null,
            "grid_auto_rows": null,
            "grid_column": null,
            "grid_gap": null,
            "grid_row": null,
            "grid_template_areas": null,
            "grid_template_columns": null,
            "grid_template_rows": null,
            "height": null,
            "justify_content": null,
            "justify_items": null,
            "left": null,
            "margin": null,
            "max_height": null,
            "max_width": null,
            "min_height": null,
            "min_width": null,
            "object_fit": null,
            "object_position": null,
            "order": null,
            "overflow": null,
            "overflow_x": null,
            "overflow_y": null,
            "padding": null,
            "right": null,
            "top": null,
            "visibility": null,
            "width": null
          }
        },
        "0c01f2fe673740b18183ce62007f8ae7": {
          "model_module": "@jupyter-widgets/controls",
          "model_name": "ProgressStyleModel",
          "model_module_version": "1.5.0",
          "state": {
            "_model_module": "@jupyter-widgets/controls",
            "_model_module_version": "1.5.0",
            "_model_name": "ProgressStyleModel",
            "_view_count": null,
            "_view_module": "@jupyter-widgets/base",
            "_view_module_version": "1.2.0",
            "_view_name": "StyleView",
            "bar_color": null,
            "description_width": ""
          }
        },
        "c89f465934354a87b506b09c59549aca": {
          "model_module": "@jupyter-widgets/base",
          "model_name": "LayoutModel",
          "model_module_version": "1.2.0",
          "state": {
            "_model_module": "@jupyter-widgets/base",
            "_model_module_version": "1.2.0",
            "_model_name": "LayoutModel",
            "_view_count": null,
            "_view_module": "@jupyter-widgets/base",
            "_view_module_version": "1.2.0",
            "_view_name": "LayoutView",
            "align_content": null,
            "align_items": null,
            "align_self": null,
            "border": null,
            "bottom": null,
            "display": null,
            "flex": null,
            "flex_flow": null,
            "grid_area": null,
            "grid_auto_columns": null,
            "grid_auto_flow": null,
            "grid_auto_rows": null,
            "grid_column": null,
            "grid_gap": null,
            "grid_row": null,
            "grid_template_areas": null,
            "grid_template_columns": null,
            "grid_template_rows": null,
            "height": null,
            "justify_content": null,
            "justify_items": null,
            "left": null,
            "margin": null,
            "max_height": null,
            "max_width": null,
            "min_height": null,
            "min_width": null,
            "object_fit": null,
            "object_position": null,
            "order": null,
            "overflow": null,
            "overflow_x": null,
            "overflow_y": null,
            "padding": null,
            "right": null,
            "top": null,
            "visibility": null,
            "width": null
          }
        },
        "95bfbee5282e4bc6bae9ef0ea43b8e15": {
          "model_module": "@jupyter-widgets/controls",
          "model_name": "DescriptionStyleModel",
          "model_module_version": "1.5.0",
          "state": {
            "_model_module": "@jupyter-widgets/controls",
            "_model_module_version": "1.5.0",
            "_model_name": "DescriptionStyleModel",
            "_view_count": null,
            "_view_module": "@jupyter-widgets/base",
            "_view_module_version": "1.2.0",
            "_view_name": "StyleView",
            "description_width": ""
          }
        },
        "e5e2e7e9b87440438f384baf1ad98191": {
          "model_module": "@jupyter-widgets/controls",
          "model_name": "HBoxModel",
          "model_module_version": "1.5.0",
          "state": {
            "_dom_classes": [],
            "_model_module": "@jupyter-widgets/controls",
            "_model_module_version": "1.5.0",
            "_model_name": "HBoxModel",
            "_view_count": null,
            "_view_module": "@jupyter-widgets/controls",
            "_view_module_version": "1.5.0",
            "_view_name": "HBoxView",
            "box_style": "",
            "children": [
              "IPY_MODEL_a09aa361516646eaabee901256d8cca4",
              "IPY_MODEL_369940927e72400eab01012f9549d712",
              "IPY_MODEL_c73f37d28e7540929fd8c5bf60f01b33"
            ],
            "layout": "IPY_MODEL_6bc90eeac36646e48801c09ada7b18ae"
          }
        },
        "a09aa361516646eaabee901256d8cca4": {
          "model_module": "@jupyter-widgets/controls",
          "model_name": "HTMLModel",
          "model_module_version": "1.5.0",
          "state": {
            "_dom_classes": [],
            "_model_module": "@jupyter-widgets/controls",
            "_model_module_version": "1.5.0",
            "_model_name": "HTMLModel",
            "_view_count": null,
            "_view_module": "@jupyter-widgets/controls",
            "_view_module_version": "1.5.0",
            "_view_name": "HTMLView",
            "description": "",
            "description_tooltip": null,
            "layout": "IPY_MODEL_1bec6ffc56d44500a6b1cd532a26741e",
            "placeholder": "​",
            "style": "IPY_MODEL_2b83acd50b484aa7b96b4da664102cb5",
            "value": "100%"
          }
        },
        "369940927e72400eab01012f9549d712": {
          "model_module": "@jupyter-widgets/controls",
          "model_name": "FloatProgressModel",
          "model_module_version": "1.5.0",
          "state": {
            "_dom_classes": [],
            "_model_module": "@jupyter-widgets/controls",
            "_model_module_version": "1.5.0",
            "_model_name": "FloatProgressModel",
            "_view_count": null,
            "_view_module": "@jupyter-widgets/controls",
            "_view_module_version": "1.5.0",
            "_view_name": "ProgressView",
            "bar_style": "success",
            "description": "",
            "description_tooltip": null,
            "layout": "IPY_MODEL_daf5549bdd384e609d7071d0388d299a",
            "max": 10000,
            "min": 0,
            "orientation": "horizontal",
            "style": "IPY_MODEL_ea5b9592588a46419dfd1cf0f716e114",
            "value": 10000
          }
        },
        "c73f37d28e7540929fd8c5bf60f01b33": {
          "model_module": "@jupyter-widgets/controls",
          "model_name": "HTMLModel",
          "model_module_version": "1.5.0",
          "state": {
            "_dom_classes": [],
            "_model_module": "@jupyter-widgets/controls",
            "_model_module_version": "1.5.0",
            "_model_name": "HTMLModel",
            "_view_count": null,
            "_view_module": "@jupyter-widgets/controls",
            "_view_module_version": "1.5.0",
            "_view_name": "HTMLView",
            "description": "",
            "description_tooltip": null,
            "layout": "IPY_MODEL_ea3697afc18543c2accb253a9fd4f9fe",
            "placeholder": "​",
            "style": "IPY_MODEL_e6bc23daf9294473910f11bbae9b3942",
            "value": " 10000/10000 [11:14&lt;00:00, 15.52it/s]"
          }
        },
        "6bc90eeac36646e48801c09ada7b18ae": {
          "model_module": "@jupyter-widgets/base",
          "model_name": "LayoutModel",
          "model_module_version": "1.2.0",
          "state": {
            "_model_module": "@jupyter-widgets/base",
            "_model_module_version": "1.2.0",
            "_model_name": "LayoutModel",
            "_view_count": null,
            "_view_module": "@jupyter-widgets/base",
            "_view_module_version": "1.2.0",
            "_view_name": "LayoutView",
            "align_content": null,
            "align_items": null,
            "align_self": null,
            "border": null,
            "bottom": null,
            "display": null,
            "flex": null,
            "flex_flow": null,
            "grid_area": null,
            "grid_auto_columns": null,
            "grid_auto_flow": null,
            "grid_auto_rows": null,
            "grid_column": null,
            "grid_gap": null,
            "grid_row": null,
            "grid_template_areas": null,
            "grid_template_columns": null,
            "grid_template_rows": null,
            "height": null,
            "justify_content": null,
            "justify_items": null,
            "left": null,
            "margin": null,
            "max_height": null,
            "max_width": null,
            "min_height": null,
            "min_width": null,
            "object_fit": null,
            "object_position": null,
            "order": null,
            "overflow": null,
            "overflow_x": null,
            "overflow_y": null,
            "padding": null,
            "right": null,
            "top": null,
            "visibility": null,
            "width": null
          }
        },
        "1bec6ffc56d44500a6b1cd532a26741e": {
          "model_module": "@jupyter-widgets/base",
          "model_name": "LayoutModel",
          "model_module_version": "1.2.0",
          "state": {
            "_model_module": "@jupyter-widgets/base",
            "_model_module_version": "1.2.0",
            "_model_name": "LayoutModel",
            "_view_count": null,
            "_view_module": "@jupyter-widgets/base",
            "_view_module_version": "1.2.0",
            "_view_name": "LayoutView",
            "align_content": null,
            "align_items": null,
            "align_self": null,
            "border": null,
            "bottom": null,
            "display": null,
            "flex": null,
            "flex_flow": null,
            "grid_area": null,
            "grid_auto_columns": null,
            "grid_auto_flow": null,
            "grid_auto_rows": null,
            "grid_column": null,
            "grid_gap": null,
            "grid_row": null,
            "grid_template_areas": null,
            "grid_template_columns": null,
            "grid_template_rows": null,
            "height": null,
            "justify_content": null,
            "justify_items": null,
            "left": null,
            "margin": null,
            "max_height": null,
            "max_width": null,
            "min_height": null,
            "min_width": null,
            "object_fit": null,
            "object_position": null,
            "order": null,
            "overflow": null,
            "overflow_x": null,
            "overflow_y": null,
            "padding": null,
            "right": null,
            "top": null,
            "visibility": null,
            "width": null
          }
        },
        "2b83acd50b484aa7b96b4da664102cb5": {
          "model_module": "@jupyter-widgets/controls",
          "model_name": "DescriptionStyleModel",
          "model_module_version": "1.5.0",
          "state": {
            "_model_module": "@jupyter-widgets/controls",
            "_model_module_version": "1.5.0",
            "_model_name": "DescriptionStyleModel",
            "_view_count": null,
            "_view_module": "@jupyter-widgets/base",
            "_view_module_version": "1.2.0",
            "_view_name": "StyleView",
            "description_width": ""
          }
        },
        "daf5549bdd384e609d7071d0388d299a": {
          "model_module": "@jupyter-widgets/base",
          "model_name": "LayoutModel",
          "model_module_version": "1.2.0",
          "state": {
            "_model_module": "@jupyter-widgets/base",
            "_model_module_version": "1.2.0",
            "_model_name": "LayoutModel",
            "_view_count": null,
            "_view_module": "@jupyter-widgets/base",
            "_view_module_version": "1.2.0",
            "_view_name": "LayoutView",
            "align_content": null,
            "align_items": null,
            "align_self": null,
            "border": null,
            "bottom": null,
            "display": null,
            "flex": null,
            "flex_flow": null,
            "grid_area": null,
            "grid_auto_columns": null,
            "grid_auto_flow": null,
            "grid_auto_rows": null,
            "grid_column": null,
            "grid_gap": null,
            "grid_row": null,
            "grid_template_areas": null,
            "grid_template_columns": null,
            "grid_template_rows": null,
            "height": null,
            "justify_content": null,
            "justify_items": null,
            "left": null,
            "margin": null,
            "max_height": null,
            "max_width": null,
            "min_height": null,
            "min_width": null,
            "object_fit": null,
            "object_position": null,
            "order": null,
            "overflow": null,
            "overflow_x": null,
            "overflow_y": null,
            "padding": null,
            "right": null,
            "top": null,
            "visibility": null,
            "width": null
          }
        },
        "ea5b9592588a46419dfd1cf0f716e114": {
          "model_module": "@jupyter-widgets/controls",
          "model_name": "ProgressStyleModel",
          "model_module_version": "1.5.0",
          "state": {
            "_model_module": "@jupyter-widgets/controls",
            "_model_module_version": "1.5.0",
            "_model_name": "ProgressStyleModel",
            "_view_count": null,
            "_view_module": "@jupyter-widgets/base",
            "_view_module_version": "1.2.0",
            "_view_name": "StyleView",
            "bar_color": null,
            "description_width": ""
          }
        },
        "ea3697afc18543c2accb253a9fd4f9fe": {
          "model_module": "@jupyter-widgets/base",
          "model_name": "LayoutModel",
          "model_module_version": "1.2.0",
          "state": {
            "_model_module": "@jupyter-widgets/base",
            "_model_module_version": "1.2.0",
            "_model_name": "LayoutModel",
            "_view_count": null,
            "_view_module": "@jupyter-widgets/base",
            "_view_module_version": "1.2.0",
            "_view_name": "LayoutView",
            "align_content": null,
            "align_items": null,
            "align_self": null,
            "border": null,
            "bottom": null,
            "display": null,
            "flex": null,
            "flex_flow": null,
            "grid_area": null,
            "grid_auto_columns": null,
            "grid_auto_flow": null,
            "grid_auto_rows": null,
            "grid_column": null,
            "grid_gap": null,
            "grid_row": null,
            "grid_template_areas": null,
            "grid_template_columns": null,
            "grid_template_rows": null,
            "height": null,
            "justify_content": null,
            "justify_items": null,
            "left": null,
            "margin": null,
            "max_height": null,
            "max_width": null,
            "min_height": null,
            "min_width": null,
            "object_fit": null,
            "object_position": null,
            "order": null,
            "overflow": null,
            "overflow_x": null,
            "overflow_y": null,
            "padding": null,
            "right": null,
            "top": null,
            "visibility": null,
            "width": null
          }
        },
        "e6bc23daf9294473910f11bbae9b3942": {
          "model_module": "@jupyter-widgets/controls",
          "model_name": "DescriptionStyleModel",
          "model_module_version": "1.5.0",
          "state": {
            "_model_module": "@jupyter-widgets/controls",
            "_model_module_version": "1.5.0",
            "_model_name": "DescriptionStyleModel",
            "_view_count": null,
            "_view_module": "@jupyter-widgets/base",
            "_view_module_version": "1.2.0",
            "_view_name": "StyleView",
            "description_width": ""
          }
        },
        "3bcadce8ec274d658d2bc7f21cb807c9": {
          "model_module": "@jupyter-widgets/controls",
          "model_name": "HBoxModel",
          "model_module_version": "1.5.0",
          "state": {
            "_dom_classes": [],
            "_model_module": "@jupyter-widgets/controls",
            "_model_module_version": "1.5.0",
            "_model_name": "HBoxModel",
            "_view_count": null,
            "_view_module": "@jupyter-widgets/controls",
            "_view_module_version": "1.5.0",
            "_view_name": "HBoxView",
            "box_style": "",
            "children": [
              "IPY_MODEL_436a1051d11f4c0c81e1bc7270d39099",
              "IPY_MODEL_c8e70bb603ff438d9cfb2247a6f71cf9",
              "IPY_MODEL_eebc286f19cb47f6ad1464bec91a358e"
            ],
            "layout": "IPY_MODEL_9d98de0ef3c740c9802b110f7a564569"
          }
        },
        "436a1051d11f4c0c81e1bc7270d39099": {
          "model_module": "@jupyter-widgets/controls",
          "model_name": "HTMLModel",
          "model_module_version": "1.5.0",
          "state": {
            "_dom_classes": [],
            "_model_module": "@jupyter-widgets/controls",
            "_model_module_version": "1.5.0",
            "_model_name": "HTMLModel",
            "_view_count": null,
            "_view_module": "@jupyter-widgets/controls",
            "_view_module_version": "1.5.0",
            "_view_name": "HTMLView",
            "description": "",
            "description_tooltip": null,
            "layout": "IPY_MODEL_4ebe23c22b9144a78a48e9941dc350a7",
            "placeholder": "​",
            "style": "IPY_MODEL_73a10eab02ae4f0cb65dcc2915f03df1",
            "value": "100%"
          }
        },
        "c8e70bb603ff438d9cfb2247a6f71cf9": {
          "model_module": "@jupyter-widgets/controls",
          "model_name": "FloatProgressModel",
          "model_module_version": "1.5.0",
          "state": {
            "_dom_classes": [],
            "_model_module": "@jupyter-widgets/controls",
            "_model_module_version": "1.5.0",
            "_model_name": "FloatProgressModel",
            "_view_count": null,
            "_view_module": "@jupyter-widgets/controls",
            "_view_module_version": "1.5.0",
            "_view_name": "ProgressView",
            "bar_style": "success",
            "description": "",
            "description_tooltip": null,
            "layout": "IPY_MODEL_768087dd0867463b96149d4253655bdf",
            "max": 10000,
            "min": 0,
            "orientation": "horizontal",
            "style": "IPY_MODEL_f7c1b4b1c1e942e4b6c0235c7d37812f",
            "value": 10000
          }
        },
        "eebc286f19cb47f6ad1464bec91a358e": {
          "model_module": "@jupyter-widgets/controls",
          "model_name": "HTMLModel",
          "model_module_version": "1.5.0",
          "state": {
            "_dom_classes": [],
            "_model_module": "@jupyter-widgets/controls",
            "_model_module_version": "1.5.0",
            "_model_name": "HTMLModel",
            "_view_count": null,
            "_view_module": "@jupyter-widgets/controls",
            "_view_module_version": "1.5.0",
            "_view_name": "HTMLView",
            "description": "",
            "description_tooltip": null,
            "layout": "IPY_MODEL_fd7116fcfaf549beb66ea7b7d4d6e445",
            "placeholder": "​",
            "style": "IPY_MODEL_11436ba33ce54858aed77cf2b4f52075",
            "value": " 10000/10000 [06:58&lt;00:00, 28.05it/s]"
          }
        },
        "9d98de0ef3c740c9802b110f7a564569": {
          "model_module": "@jupyter-widgets/base",
          "model_name": "LayoutModel",
          "model_module_version": "1.2.0",
          "state": {
            "_model_module": "@jupyter-widgets/base",
            "_model_module_version": "1.2.0",
            "_model_name": "LayoutModel",
            "_view_count": null,
            "_view_module": "@jupyter-widgets/base",
            "_view_module_version": "1.2.0",
            "_view_name": "LayoutView",
            "align_content": null,
            "align_items": null,
            "align_self": null,
            "border": null,
            "bottom": null,
            "display": null,
            "flex": null,
            "flex_flow": null,
            "grid_area": null,
            "grid_auto_columns": null,
            "grid_auto_flow": null,
            "grid_auto_rows": null,
            "grid_column": null,
            "grid_gap": null,
            "grid_row": null,
            "grid_template_areas": null,
            "grid_template_columns": null,
            "grid_template_rows": null,
            "height": null,
            "justify_content": null,
            "justify_items": null,
            "left": null,
            "margin": null,
            "max_height": null,
            "max_width": null,
            "min_height": null,
            "min_width": null,
            "object_fit": null,
            "object_position": null,
            "order": null,
            "overflow": null,
            "overflow_x": null,
            "overflow_y": null,
            "padding": null,
            "right": null,
            "top": null,
            "visibility": null,
            "width": null
          }
        },
        "4ebe23c22b9144a78a48e9941dc350a7": {
          "model_module": "@jupyter-widgets/base",
          "model_name": "LayoutModel",
          "model_module_version": "1.2.0",
          "state": {
            "_model_module": "@jupyter-widgets/base",
            "_model_module_version": "1.2.0",
            "_model_name": "LayoutModel",
            "_view_count": null,
            "_view_module": "@jupyter-widgets/base",
            "_view_module_version": "1.2.0",
            "_view_name": "LayoutView",
            "align_content": null,
            "align_items": null,
            "align_self": null,
            "border": null,
            "bottom": null,
            "display": null,
            "flex": null,
            "flex_flow": null,
            "grid_area": null,
            "grid_auto_columns": null,
            "grid_auto_flow": null,
            "grid_auto_rows": null,
            "grid_column": null,
            "grid_gap": null,
            "grid_row": null,
            "grid_template_areas": null,
            "grid_template_columns": null,
            "grid_template_rows": null,
            "height": null,
            "justify_content": null,
            "justify_items": null,
            "left": null,
            "margin": null,
            "max_height": null,
            "max_width": null,
            "min_height": null,
            "min_width": null,
            "object_fit": null,
            "object_position": null,
            "order": null,
            "overflow": null,
            "overflow_x": null,
            "overflow_y": null,
            "padding": null,
            "right": null,
            "top": null,
            "visibility": null,
            "width": null
          }
        },
        "73a10eab02ae4f0cb65dcc2915f03df1": {
          "model_module": "@jupyter-widgets/controls",
          "model_name": "DescriptionStyleModel",
          "model_module_version": "1.5.0",
          "state": {
            "_model_module": "@jupyter-widgets/controls",
            "_model_module_version": "1.5.0",
            "_model_name": "DescriptionStyleModel",
            "_view_count": null,
            "_view_module": "@jupyter-widgets/base",
            "_view_module_version": "1.2.0",
            "_view_name": "StyleView",
            "description_width": ""
          }
        },
        "768087dd0867463b96149d4253655bdf": {
          "model_module": "@jupyter-widgets/base",
          "model_name": "LayoutModel",
          "model_module_version": "1.2.0",
          "state": {
            "_model_module": "@jupyter-widgets/base",
            "_model_module_version": "1.2.0",
            "_model_name": "LayoutModel",
            "_view_count": null,
            "_view_module": "@jupyter-widgets/base",
            "_view_module_version": "1.2.0",
            "_view_name": "LayoutView",
            "align_content": null,
            "align_items": null,
            "align_self": null,
            "border": null,
            "bottom": null,
            "display": null,
            "flex": null,
            "flex_flow": null,
            "grid_area": null,
            "grid_auto_columns": null,
            "grid_auto_flow": null,
            "grid_auto_rows": null,
            "grid_column": null,
            "grid_gap": null,
            "grid_row": null,
            "grid_template_areas": null,
            "grid_template_columns": null,
            "grid_template_rows": null,
            "height": null,
            "justify_content": null,
            "justify_items": null,
            "left": null,
            "margin": null,
            "max_height": null,
            "max_width": null,
            "min_height": null,
            "min_width": null,
            "object_fit": null,
            "object_position": null,
            "order": null,
            "overflow": null,
            "overflow_x": null,
            "overflow_y": null,
            "padding": null,
            "right": null,
            "top": null,
            "visibility": null,
            "width": null
          }
        },
        "f7c1b4b1c1e942e4b6c0235c7d37812f": {
          "model_module": "@jupyter-widgets/controls",
          "model_name": "ProgressStyleModel",
          "model_module_version": "1.5.0",
          "state": {
            "_model_module": "@jupyter-widgets/controls",
            "_model_module_version": "1.5.0",
            "_model_name": "ProgressStyleModel",
            "_view_count": null,
            "_view_module": "@jupyter-widgets/base",
            "_view_module_version": "1.2.0",
            "_view_name": "StyleView",
            "bar_color": null,
            "description_width": ""
          }
        },
        "fd7116fcfaf549beb66ea7b7d4d6e445": {
          "model_module": "@jupyter-widgets/base",
          "model_name": "LayoutModel",
          "model_module_version": "1.2.0",
          "state": {
            "_model_module": "@jupyter-widgets/base",
            "_model_module_version": "1.2.0",
            "_model_name": "LayoutModel",
            "_view_count": null,
            "_view_module": "@jupyter-widgets/base",
            "_view_module_version": "1.2.0",
            "_view_name": "LayoutView",
            "align_content": null,
            "align_items": null,
            "align_self": null,
            "border": null,
            "bottom": null,
            "display": null,
            "flex": null,
            "flex_flow": null,
            "grid_area": null,
            "grid_auto_columns": null,
            "grid_auto_flow": null,
            "grid_auto_rows": null,
            "grid_column": null,
            "grid_gap": null,
            "grid_row": null,
            "grid_template_areas": null,
            "grid_template_columns": null,
            "grid_template_rows": null,
            "height": null,
            "justify_content": null,
            "justify_items": null,
            "left": null,
            "margin": null,
            "max_height": null,
            "max_width": null,
            "min_height": null,
            "min_width": null,
            "object_fit": null,
            "object_position": null,
            "order": null,
            "overflow": null,
            "overflow_x": null,
            "overflow_y": null,
            "padding": null,
            "right": null,
            "top": null,
            "visibility": null,
            "width": null
          }
        },
        "11436ba33ce54858aed77cf2b4f52075": {
          "model_module": "@jupyter-widgets/controls",
          "model_name": "DescriptionStyleModel",
          "model_module_version": "1.5.0",
          "state": {
            "_model_module": "@jupyter-widgets/controls",
            "_model_module_version": "1.5.0",
            "_model_name": "DescriptionStyleModel",
            "_view_count": null,
            "_view_module": "@jupyter-widgets/base",
            "_view_module_version": "1.2.0",
            "_view_name": "StyleView",
            "description_width": ""
          }
        },
        "715f584a13c649d5807b3f57d88d3990": {
          "model_module": "@jupyter-widgets/controls",
          "model_name": "HBoxModel",
          "model_module_version": "1.5.0",
          "state": {
            "_dom_classes": [],
            "_model_module": "@jupyter-widgets/controls",
            "_model_module_version": "1.5.0",
            "_model_name": "HBoxModel",
            "_view_count": null,
            "_view_module": "@jupyter-widgets/controls",
            "_view_module_version": "1.5.0",
            "_view_name": "HBoxView",
            "box_style": "",
            "children": [
              "IPY_MODEL_1d51095c7a74491a9cc20b52cdc6d79b",
              "IPY_MODEL_6977a46b90b54d51b52c2fb0693194d7",
              "IPY_MODEL_4d6c230dd5f540d1a2c538f503967dbb"
            ],
            "layout": "IPY_MODEL_f6895d9da8d6428a94f5282883011af6"
          }
        },
        "1d51095c7a74491a9cc20b52cdc6d79b": {
          "model_module": "@jupyter-widgets/controls",
          "model_name": "HTMLModel",
          "model_module_version": "1.5.0",
          "state": {
            "_dom_classes": [],
            "_model_module": "@jupyter-widgets/controls",
            "_model_module_version": "1.5.0",
            "_model_name": "HTMLModel",
            "_view_count": null,
            "_view_module": "@jupyter-widgets/controls",
            "_view_module_version": "1.5.0",
            "_view_name": "HTMLView",
            "description": "",
            "description_tooltip": null,
            "layout": "IPY_MODEL_6a701d76d2ad45a8b79c642bab25deb6",
            "placeholder": "​",
            "style": "IPY_MODEL_1a8ba6a752494dc08b3f6cf1960ef12e",
            "value": "100%"
          }
        },
        "6977a46b90b54d51b52c2fb0693194d7": {
          "model_module": "@jupyter-widgets/controls",
          "model_name": "FloatProgressModel",
          "model_module_version": "1.5.0",
          "state": {
            "_dom_classes": [],
            "_model_module": "@jupyter-widgets/controls",
            "_model_module_version": "1.5.0",
            "_model_name": "FloatProgressModel",
            "_view_count": null,
            "_view_module": "@jupyter-widgets/controls",
            "_view_module_version": "1.5.0",
            "_view_name": "ProgressView",
            "bar_style": "success",
            "description": "",
            "description_tooltip": null,
            "layout": "IPY_MODEL_132555b9de8b47fd825a015bc7a3b047",
            "max": 10000,
            "min": 0,
            "orientation": "horizontal",
            "style": "IPY_MODEL_94e141e61368444fb21b8637d42d1163",
            "value": 10000
          }
        },
        "4d6c230dd5f540d1a2c538f503967dbb": {
          "model_module": "@jupyter-widgets/controls",
          "model_name": "HTMLModel",
          "model_module_version": "1.5.0",
          "state": {
            "_dom_classes": [],
            "_model_module": "@jupyter-widgets/controls",
            "_model_module_version": "1.5.0",
            "_model_name": "HTMLModel",
            "_view_count": null,
            "_view_module": "@jupyter-widgets/controls",
            "_view_module_version": "1.5.0",
            "_view_name": "HTMLView",
            "description": "",
            "description_tooltip": null,
            "layout": "IPY_MODEL_7a1efe7d41744f43b834486aa8ecb2bc",
            "placeholder": "​",
            "style": "IPY_MODEL_0c2af10ab7b04a4490e57dc8c9cd1e19",
            "value": " 10000/10000 [12:27&lt;00:00, 11.91it/s]"
          }
        },
        "f6895d9da8d6428a94f5282883011af6": {
          "model_module": "@jupyter-widgets/base",
          "model_name": "LayoutModel",
          "model_module_version": "1.2.0",
          "state": {
            "_model_module": "@jupyter-widgets/base",
            "_model_module_version": "1.2.0",
            "_model_name": "LayoutModel",
            "_view_count": null,
            "_view_module": "@jupyter-widgets/base",
            "_view_module_version": "1.2.0",
            "_view_name": "LayoutView",
            "align_content": null,
            "align_items": null,
            "align_self": null,
            "border": null,
            "bottom": null,
            "display": null,
            "flex": null,
            "flex_flow": null,
            "grid_area": null,
            "grid_auto_columns": null,
            "grid_auto_flow": null,
            "grid_auto_rows": null,
            "grid_column": null,
            "grid_gap": null,
            "grid_row": null,
            "grid_template_areas": null,
            "grid_template_columns": null,
            "grid_template_rows": null,
            "height": null,
            "justify_content": null,
            "justify_items": null,
            "left": null,
            "margin": null,
            "max_height": null,
            "max_width": null,
            "min_height": null,
            "min_width": null,
            "object_fit": null,
            "object_position": null,
            "order": null,
            "overflow": null,
            "overflow_x": null,
            "overflow_y": null,
            "padding": null,
            "right": null,
            "top": null,
            "visibility": null,
            "width": null
          }
        },
        "6a701d76d2ad45a8b79c642bab25deb6": {
          "model_module": "@jupyter-widgets/base",
          "model_name": "LayoutModel",
          "model_module_version": "1.2.0",
          "state": {
            "_model_module": "@jupyter-widgets/base",
            "_model_module_version": "1.2.0",
            "_model_name": "LayoutModel",
            "_view_count": null,
            "_view_module": "@jupyter-widgets/base",
            "_view_module_version": "1.2.0",
            "_view_name": "LayoutView",
            "align_content": null,
            "align_items": null,
            "align_self": null,
            "border": null,
            "bottom": null,
            "display": null,
            "flex": null,
            "flex_flow": null,
            "grid_area": null,
            "grid_auto_columns": null,
            "grid_auto_flow": null,
            "grid_auto_rows": null,
            "grid_column": null,
            "grid_gap": null,
            "grid_row": null,
            "grid_template_areas": null,
            "grid_template_columns": null,
            "grid_template_rows": null,
            "height": null,
            "justify_content": null,
            "justify_items": null,
            "left": null,
            "margin": null,
            "max_height": null,
            "max_width": null,
            "min_height": null,
            "min_width": null,
            "object_fit": null,
            "object_position": null,
            "order": null,
            "overflow": null,
            "overflow_x": null,
            "overflow_y": null,
            "padding": null,
            "right": null,
            "top": null,
            "visibility": null,
            "width": null
          }
        },
        "1a8ba6a752494dc08b3f6cf1960ef12e": {
          "model_module": "@jupyter-widgets/controls",
          "model_name": "DescriptionStyleModel",
          "model_module_version": "1.5.0",
          "state": {
            "_model_module": "@jupyter-widgets/controls",
            "_model_module_version": "1.5.0",
            "_model_name": "DescriptionStyleModel",
            "_view_count": null,
            "_view_module": "@jupyter-widgets/base",
            "_view_module_version": "1.2.0",
            "_view_name": "StyleView",
            "description_width": ""
          }
        },
        "132555b9de8b47fd825a015bc7a3b047": {
          "model_module": "@jupyter-widgets/base",
          "model_name": "LayoutModel",
          "model_module_version": "1.2.0",
          "state": {
            "_model_module": "@jupyter-widgets/base",
            "_model_module_version": "1.2.0",
            "_model_name": "LayoutModel",
            "_view_count": null,
            "_view_module": "@jupyter-widgets/base",
            "_view_module_version": "1.2.0",
            "_view_name": "LayoutView",
            "align_content": null,
            "align_items": null,
            "align_self": null,
            "border": null,
            "bottom": null,
            "display": null,
            "flex": null,
            "flex_flow": null,
            "grid_area": null,
            "grid_auto_columns": null,
            "grid_auto_flow": null,
            "grid_auto_rows": null,
            "grid_column": null,
            "grid_gap": null,
            "grid_row": null,
            "grid_template_areas": null,
            "grid_template_columns": null,
            "grid_template_rows": null,
            "height": null,
            "justify_content": null,
            "justify_items": null,
            "left": null,
            "margin": null,
            "max_height": null,
            "max_width": null,
            "min_height": null,
            "min_width": null,
            "object_fit": null,
            "object_position": null,
            "order": null,
            "overflow": null,
            "overflow_x": null,
            "overflow_y": null,
            "padding": null,
            "right": null,
            "top": null,
            "visibility": null,
            "width": null
          }
        },
        "94e141e61368444fb21b8637d42d1163": {
          "model_module": "@jupyter-widgets/controls",
          "model_name": "ProgressStyleModel",
          "model_module_version": "1.5.0",
          "state": {
            "_model_module": "@jupyter-widgets/controls",
            "_model_module_version": "1.5.0",
            "_model_name": "ProgressStyleModel",
            "_view_count": null,
            "_view_module": "@jupyter-widgets/base",
            "_view_module_version": "1.2.0",
            "_view_name": "StyleView",
            "bar_color": null,
            "description_width": ""
          }
        },
        "7a1efe7d41744f43b834486aa8ecb2bc": {
          "model_module": "@jupyter-widgets/base",
          "model_name": "LayoutModel",
          "model_module_version": "1.2.0",
          "state": {
            "_model_module": "@jupyter-widgets/base",
            "_model_module_version": "1.2.0",
            "_model_name": "LayoutModel",
            "_view_count": null,
            "_view_module": "@jupyter-widgets/base",
            "_view_module_version": "1.2.0",
            "_view_name": "LayoutView",
            "align_content": null,
            "align_items": null,
            "align_self": null,
            "border": null,
            "bottom": null,
            "display": null,
            "flex": null,
            "flex_flow": null,
            "grid_area": null,
            "grid_auto_columns": null,
            "grid_auto_flow": null,
            "grid_auto_rows": null,
            "grid_column": null,
            "grid_gap": null,
            "grid_row": null,
            "grid_template_areas": null,
            "grid_template_columns": null,
            "grid_template_rows": null,
            "height": null,
            "justify_content": null,
            "justify_items": null,
            "left": null,
            "margin": null,
            "max_height": null,
            "max_width": null,
            "min_height": null,
            "min_width": null,
            "object_fit": null,
            "object_position": null,
            "order": null,
            "overflow": null,
            "overflow_x": null,
            "overflow_y": null,
            "padding": null,
            "right": null,
            "top": null,
            "visibility": null,
            "width": null
          }
        },
        "0c2af10ab7b04a4490e57dc8c9cd1e19": {
          "model_module": "@jupyter-widgets/controls",
          "model_name": "DescriptionStyleModel",
          "model_module_version": "1.5.0",
          "state": {
            "_model_module": "@jupyter-widgets/controls",
            "_model_module_version": "1.5.0",
            "_model_name": "DescriptionStyleModel",
            "_view_count": null,
            "_view_module": "@jupyter-widgets/base",
            "_view_module_version": "1.2.0",
            "_view_name": "StyleView",
            "description_width": ""
          }
        },
        "caa2ed32dd0d4892b7b8358242f5ae5a": {
          "model_module": "@jupyter-widgets/controls",
          "model_name": "HBoxModel",
          "model_module_version": "1.5.0",
          "state": {
            "_dom_classes": [],
            "_model_module": "@jupyter-widgets/controls",
            "_model_module_version": "1.5.0",
            "_model_name": "HBoxModel",
            "_view_count": null,
            "_view_module": "@jupyter-widgets/controls",
            "_view_module_version": "1.5.0",
            "_view_name": "HBoxView",
            "box_style": "",
            "children": [
              "IPY_MODEL_f23007fafcee47ef9b15a2e0e636d8f8",
              "IPY_MODEL_27057295585743b2a31e68da7cb9f2a0",
              "IPY_MODEL_fe0c9defdf02466caf5f5533124d32af"
            ],
            "layout": "IPY_MODEL_9d0f0a7671b6484da7e2d6cc6a031e72"
          }
        },
        "f23007fafcee47ef9b15a2e0e636d8f8": {
          "model_module": "@jupyter-widgets/controls",
          "model_name": "HTMLModel",
          "model_module_version": "1.5.0",
          "state": {
            "_dom_classes": [],
            "_model_module": "@jupyter-widgets/controls",
            "_model_module_version": "1.5.0",
            "_model_name": "HTMLModel",
            "_view_count": null,
            "_view_module": "@jupyter-widgets/controls",
            "_view_module_version": "1.5.0",
            "_view_name": "HTMLView",
            "description": "",
            "description_tooltip": null,
            "layout": "IPY_MODEL_5300ae445b4f40268ec9c627ebc4c3d8",
            "placeholder": "​",
            "style": "IPY_MODEL_8a75198ceecc4268ac60a957b5d5ae3d",
            "value": "100%"
          }
        },
        "27057295585743b2a31e68da7cb9f2a0": {
          "model_module": "@jupyter-widgets/controls",
          "model_name": "FloatProgressModel",
          "model_module_version": "1.5.0",
          "state": {
            "_dom_classes": [],
            "_model_module": "@jupyter-widgets/controls",
            "_model_module_version": "1.5.0",
            "_model_name": "FloatProgressModel",
            "_view_count": null,
            "_view_module": "@jupyter-widgets/controls",
            "_view_module_version": "1.5.0",
            "_view_name": "ProgressView",
            "bar_style": "success",
            "description": "",
            "description_tooltip": null,
            "layout": "IPY_MODEL_5144d972d2d9400c85e6dcfc84e358c4",
            "max": 10000,
            "min": 0,
            "orientation": "horizontal",
            "style": "IPY_MODEL_8a7fd3d15f164c8ca7570a06d7d41fb3",
            "value": 10000
          }
        },
        "fe0c9defdf02466caf5f5533124d32af": {
          "model_module": "@jupyter-widgets/controls",
          "model_name": "HTMLModel",
          "model_module_version": "1.5.0",
          "state": {
            "_dom_classes": [],
            "_model_module": "@jupyter-widgets/controls",
            "_model_module_version": "1.5.0",
            "_model_name": "HTMLModel",
            "_view_count": null,
            "_view_module": "@jupyter-widgets/controls",
            "_view_module_version": "1.5.0",
            "_view_name": "HTMLView",
            "description": "",
            "description_tooltip": null,
            "layout": "IPY_MODEL_f5214992c1bb4f62aef6a8640a68a9fe",
            "placeholder": "​",
            "style": "IPY_MODEL_5f36a103ec2342fbbe2fdd77285fac86",
            "value": " 10000/10000 [12:41&lt;00:00, 10.21it/s]"
          }
        },
        "9d0f0a7671b6484da7e2d6cc6a031e72": {
          "model_module": "@jupyter-widgets/base",
          "model_name": "LayoutModel",
          "model_module_version": "1.2.0",
          "state": {
            "_model_module": "@jupyter-widgets/base",
            "_model_module_version": "1.2.0",
            "_model_name": "LayoutModel",
            "_view_count": null,
            "_view_module": "@jupyter-widgets/base",
            "_view_module_version": "1.2.0",
            "_view_name": "LayoutView",
            "align_content": null,
            "align_items": null,
            "align_self": null,
            "border": null,
            "bottom": null,
            "display": null,
            "flex": null,
            "flex_flow": null,
            "grid_area": null,
            "grid_auto_columns": null,
            "grid_auto_flow": null,
            "grid_auto_rows": null,
            "grid_column": null,
            "grid_gap": null,
            "grid_row": null,
            "grid_template_areas": null,
            "grid_template_columns": null,
            "grid_template_rows": null,
            "height": null,
            "justify_content": null,
            "justify_items": null,
            "left": null,
            "margin": null,
            "max_height": null,
            "max_width": null,
            "min_height": null,
            "min_width": null,
            "object_fit": null,
            "object_position": null,
            "order": null,
            "overflow": null,
            "overflow_x": null,
            "overflow_y": null,
            "padding": null,
            "right": null,
            "top": null,
            "visibility": null,
            "width": null
          }
        },
        "5300ae445b4f40268ec9c627ebc4c3d8": {
          "model_module": "@jupyter-widgets/base",
          "model_name": "LayoutModel",
          "model_module_version": "1.2.0",
          "state": {
            "_model_module": "@jupyter-widgets/base",
            "_model_module_version": "1.2.0",
            "_model_name": "LayoutModel",
            "_view_count": null,
            "_view_module": "@jupyter-widgets/base",
            "_view_module_version": "1.2.0",
            "_view_name": "LayoutView",
            "align_content": null,
            "align_items": null,
            "align_self": null,
            "border": null,
            "bottom": null,
            "display": null,
            "flex": null,
            "flex_flow": null,
            "grid_area": null,
            "grid_auto_columns": null,
            "grid_auto_flow": null,
            "grid_auto_rows": null,
            "grid_column": null,
            "grid_gap": null,
            "grid_row": null,
            "grid_template_areas": null,
            "grid_template_columns": null,
            "grid_template_rows": null,
            "height": null,
            "justify_content": null,
            "justify_items": null,
            "left": null,
            "margin": null,
            "max_height": null,
            "max_width": null,
            "min_height": null,
            "min_width": null,
            "object_fit": null,
            "object_position": null,
            "order": null,
            "overflow": null,
            "overflow_x": null,
            "overflow_y": null,
            "padding": null,
            "right": null,
            "top": null,
            "visibility": null,
            "width": null
          }
        },
        "8a75198ceecc4268ac60a957b5d5ae3d": {
          "model_module": "@jupyter-widgets/controls",
          "model_name": "DescriptionStyleModel",
          "model_module_version": "1.5.0",
          "state": {
            "_model_module": "@jupyter-widgets/controls",
            "_model_module_version": "1.5.0",
            "_model_name": "DescriptionStyleModel",
            "_view_count": null,
            "_view_module": "@jupyter-widgets/base",
            "_view_module_version": "1.2.0",
            "_view_name": "StyleView",
            "description_width": ""
          }
        },
        "5144d972d2d9400c85e6dcfc84e358c4": {
          "model_module": "@jupyter-widgets/base",
          "model_name": "LayoutModel",
          "model_module_version": "1.2.0",
          "state": {
            "_model_module": "@jupyter-widgets/base",
            "_model_module_version": "1.2.0",
            "_model_name": "LayoutModel",
            "_view_count": null,
            "_view_module": "@jupyter-widgets/base",
            "_view_module_version": "1.2.0",
            "_view_name": "LayoutView",
            "align_content": null,
            "align_items": null,
            "align_self": null,
            "border": null,
            "bottom": null,
            "display": null,
            "flex": null,
            "flex_flow": null,
            "grid_area": null,
            "grid_auto_columns": null,
            "grid_auto_flow": null,
            "grid_auto_rows": null,
            "grid_column": null,
            "grid_gap": null,
            "grid_row": null,
            "grid_template_areas": null,
            "grid_template_columns": null,
            "grid_template_rows": null,
            "height": null,
            "justify_content": null,
            "justify_items": null,
            "left": null,
            "margin": null,
            "max_height": null,
            "max_width": null,
            "min_height": null,
            "min_width": null,
            "object_fit": null,
            "object_position": null,
            "order": null,
            "overflow": null,
            "overflow_x": null,
            "overflow_y": null,
            "padding": null,
            "right": null,
            "top": null,
            "visibility": null,
            "width": null
          }
        },
        "8a7fd3d15f164c8ca7570a06d7d41fb3": {
          "model_module": "@jupyter-widgets/controls",
          "model_name": "ProgressStyleModel",
          "model_module_version": "1.5.0",
          "state": {
            "_model_module": "@jupyter-widgets/controls",
            "_model_module_version": "1.5.0",
            "_model_name": "ProgressStyleModel",
            "_view_count": null,
            "_view_module": "@jupyter-widgets/base",
            "_view_module_version": "1.2.0",
            "_view_name": "StyleView",
            "bar_color": null,
            "description_width": ""
          }
        },
        "f5214992c1bb4f62aef6a8640a68a9fe": {
          "model_module": "@jupyter-widgets/base",
          "model_name": "LayoutModel",
          "model_module_version": "1.2.0",
          "state": {
            "_model_module": "@jupyter-widgets/base",
            "_model_module_version": "1.2.0",
            "_model_name": "LayoutModel",
            "_view_count": null,
            "_view_module": "@jupyter-widgets/base",
            "_view_module_version": "1.2.0",
            "_view_name": "LayoutView",
            "align_content": null,
            "align_items": null,
            "align_self": null,
            "border": null,
            "bottom": null,
            "display": null,
            "flex": null,
            "flex_flow": null,
            "grid_area": null,
            "grid_auto_columns": null,
            "grid_auto_flow": null,
            "grid_auto_rows": null,
            "grid_column": null,
            "grid_gap": null,
            "grid_row": null,
            "grid_template_areas": null,
            "grid_template_columns": null,
            "grid_template_rows": null,
            "height": null,
            "justify_content": null,
            "justify_items": null,
            "left": null,
            "margin": null,
            "max_height": null,
            "max_width": null,
            "min_height": null,
            "min_width": null,
            "object_fit": null,
            "object_position": null,
            "order": null,
            "overflow": null,
            "overflow_x": null,
            "overflow_y": null,
            "padding": null,
            "right": null,
            "top": null,
            "visibility": null,
            "width": null
          }
        },
        "5f36a103ec2342fbbe2fdd77285fac86": {
          "model_module": "@jupyter-widgets/controls",
          "model_name": "DescriptionStyleModel",
          "model_module_version": "1.5.0",
          "state": {
            "_model_module": "@jupyter-widgets/controls",
            "_model_module_version": "1.5.0",
            "_model_name": "DescriptionStyleModel",
            "_view_count": null,
            "_view_module": "@jupyter-widgets/base",
            "_view_module_version": "1.2.0",
            "_view_name": "StyleView",
            "description_width": ""
          }
        },
        "8f7328e2ebf042e98377708cf5d3c3b1": {
          "model_module": "@jupyter-widgets/controls",
          "model_name": "HBoxModel",
          "model_module_version": "1.5.0",
          "state": {
            "_dom_classes": [],
            "_model_module": "@jupyter-widgets/controls",
            "_model_module_version": "1.5.0",
            "_model_name": "HBoxModel",
            "_view_count": null,
            "_view_module": "@jupyter-widgets/controls",
            "_view_module_version": "1.5.0",
            "_view_name": "HBoxView",
            "box_style": "",
            "children": [
              "IPY_MODEL_e951cf80470842c8ae72bb6293ba9628",
              "IPY_MODEL_9f9c6754f14d446ba717f7f4a4361d3c",
              "IPY_MODEL_46474ae2d3c64587a52affd534c162ff"
            ],
            "layout": "IPY_MODEL_c22b0dd8794240bb9440b11a4ab0f05a"
          }
        },
        "e951cf80470842c8ae72bb6293ba9628": {
          "model_module": "@jupyter-widgets/controls",
          "model_name": "HTMLModel",
          "model_module_version": "1.5.0",
          "state": {
            "_dom_classes": [],
            "_model_module": "@jupyter-widgets/controls",
            "_model_module_version": "1.5.0",
            "_model_name": "HTMLModel",
            "_view_count": null,
            "_view_module": "@jupyter-widgets/controls",
            "_view_module_version": "1.5.0",
            "_view_name": "HTMLView",
            "description": "",
            "description_tooltip": null,
            "layout": "IPY_MODEL_169bcf24692f49e9948de6656e2cb6f3",
            "placeholder": "​",
            "style": "IPY_MODEL_b70b63fedaec41bda9baa551283293a8",
            "value": "100%"
          }
        },
        "9f9c6754f14d446ba717f7f4a4361d3c": {
          "model_module": "@jupyter-widgets/controls",
          "model_name": "FloatProgressModel",
          "model_module_version": "1.5.0",
          "state": {
            "_dom_classes": [],
            "_model_module": "@jupyter-widgets/controls",
            "_model_module_version": "1.5.0",
            "_model_name": "FloatProgressModel",
            "_view_count": null,
            "_view_module": "@jupyter-widgets/controls",
            "_view_module_version": "1.5.0",
            "_view_name": "ProgressView",
            "bar_style": "success",
            "description": "",
            "description_tooltip": null,
            "layout": "IPY_MODEL_4d3b262a75b7444db92a830f0ab6daaf",
            "max": 10000,
            "min": 0,
            "orientation": "horizontal",
            "style": "IPY_MODEL_01c36fb8d343403a9aa197eb4eb556c4",
            "value": 10000
          }
        },
        "46474ae2d3c64587a52affd534c162ff": {
          "model_module": "@jupyter-widgets/controls",
          "model_name": "HTMLModel",
          "model_module_version": "1.5.0",
          "state": {
            "_dom_classes": [],
            "_model_module": "@jupyter-widgets/controls",
            "_model_module_version": "1.5.0",
            "_model_name": "HTMLModel",
            "_view_count": null,
            "_view_module": "@jupyter-widgets/controls",
            "_view_module_version": "1.5.0",
            "_view_name": "HTMLView",
            "description": "",
            "description_tooltip": null,
            "layout": "IPY_MODEL_751a07ebe20d4c2aa58255fcee15c3ad",
            "placeholder": "​",
            "style": "IPY_MODEL_db32e42fba854540a19ff9d57971fbd7",
            "value": " 10000/10000 [10:55&lt;00:00, 21.21it/s]"
          }
        },
        "c22b0dd8794240bb9440b11a4ab0f05a": {
          "model_module": "@jupyter-widgets/base",
          "model_name": "LayoutModel",
          "model_module_version": "1.2.0",
          "state": {
            "_model_module": "@jupyter-widgets/base",
            "_model_module_version": "1.2.0",
            "_model_name": "LayoutModel",
            "_view_count": null,
            "_view_module": "@jupyter-widgets/base",
            "_view_module_version": "1.2.0",
            "_view_name": "LayoutView",
            "align_content": null,
            "align_items": null,
            "align_self": null,
            "border": null,
            "bottom": null,
            "display": null,
            "flex": null,
            "flex_flow": null,
            "grid_area": null,
            "grid_auto_columns": null,
            "grid_auto_flow": null,
            "grid_auto_rows": null,
            "grid_column": null,
            "grid_gap": null,
            "grid_row": null,
            "grid_template_areas": null,
            "grid_template_columns": null,
            "grid_template_rows": null,
            "height": null,
            "justify_content": null,
            "justify_items": null,
            "left": null,
            "margin": null,
            "max_height": null,
            "max_width": null,
            "min_height": null,
            "min_width": null,
            "object_fit": null,
            "object_position": null,
            "order": null,
            "overflow": null,
            "overflow_x": null,
            "overflow_y": null,
            "padding": null,
            "right": null,
            "top": null,
            "visibility": null,
            "width": null
          }
        },
        "169bcf24692f49e9948de6656e2cb6f3": {
          "model_module": "@jupyter-widgets/base",
          "model_name": "LayoutModel",
          "model_module_version": "1.2.0",
          "state": {
            "_model_module": "@jupyter-widgets/base",
            "_model_module_version": "1.2.0",
            "_model_name": "LayoutModel",
            "_view_count": null,
            "_view_module": "@jupyter-widgets/base",
            "_view_module_version": "1.2.0",
            "_view_name": "LayoutView",
            "align_content": null,
            "align_items": null,
            "align_self": null,
            "border": null,
            "bottom": null,
            "display": null,
            "flex": null,
            "flex_flow": null,
            "grid_area": null,
            "grid_auto_columns": null,
            "grid_auto_flow": null,
            "grid_auto_rows": null,
            "grid_column": null,
            "grid_gap": null,
            "grid_row": null,
            "grid_template_areas": null,
            "grid_template_columns": null,
            "grid_template_rows": null,
            "height": null,
            "justify_content": null,
            "justify_items": null,
            "left": null,
            "margin": null,
            "max_height": null,
            "max_width": null,
            "min_height": null,
            "min_width": null,
            "object_fit": null,
            "object_position": null,
            "order": null,
            "overflow": null,
            "overflow_x": null,
            "overflow_y": null,
            "padding": null,
            "right": null,
            "top": null,
            "visibility": null,
            "width": null
          }
        },
        "b70b63fedaec41bda9baa551283293a8": {
          "model_module": "@jupyter-widgets/controls",
          "model_name": "DescriptionStyleModel",
          "model_module_version": "1.5.0",
          "state": {
            "_model_module": "@jupyter-widgets/controls",
            "_model_module_version": "1.5.0",
            "_model_name": "DescriptionStyleModel",
            "_view_count": null,
            "_view_module": "@jupyter-widgets/base",
            "_view_module_version": "1.2.0",
            "_view_name": "StyleView",
            "description_width": ""
          }
        },
        "4d3b262a75b7444db92a830f0ab6daaf": {
          "model_module": "@jupyter-widgets/base",
          "model_name": "LayoutModel",
          "model_module_version": "1.2.0",
          "state": {
            "_model_module": "@jupyter-widgets/base",
            "_model_module_version": "1.2.0",
            "_model_name": "LayoutModel",
            "_view_count": null,
            "_view_module": "@jupyter-widgets/base",
            "_view_module_version": "1.2.0",
            "_view_name": "LayoutView",
            "align_content": null,
            "align_items": null,
            "align_self": null,
            "border": null,
            "bottom": null,
            "display": null,
            "flex": null,
            "flex_flow": null,
            "grid_area": null,
            "grid_auto_columns": null,
            "grid_auto_flow": null,
            "grid_auto_rows": null,
            "grid_column": null,
            "grid_gap": null,
            "grid_row": null,
            "grid_template_areas": null,
            "grid_template_columns": null,
            "grid_template_rows": null,
            "height": null,
            "justify_content": null,
            "justify_items": null,
            "left": null,
            "margin": null,
            "max_height": null,
            "max_width": null,
            "min_height": null,
            "min_width": null,
            "object_fit": null,
            "object_position": null,
            "order": null,
            "overflow": null,
            "overflow_x": null,
            "overflow_y": null,
            "padding": null,
            "right": null,
            "top": null,
            "visibility": null,
            "width": null
          }
        },
        "01c36fb8d343403a9aa197eb4eb556c4": {
          "model_module": "@jupyter-widgets/controls",
          "model_name": "ProgressStyleModel",
          "model_module_version": "1.5.0",
          "state": {
            "_model_module": "@jupyter-widgets/controls",
            "_model_module_version": "1.5.0",
            "_model_name": "ProgressStyleModel",
            "_view_count": null,
            "_view_module": "@jupyter-widgets/base",
            "_view_module_version": "1.2.0",
            "_view_name": "StyleView",
            "bar_color": null,
            "description_width": ""
          }
        },
        "751a07ebe20d4c2aa58255fcee15c3ad": {
          "model_module": "@jupyter-widgets/base",
          "model_name": "LayoutModel",
          "model_module_version": "1.2.0",
          "state": {
            "_model_module": "@jupyter-widgets/base",
            "_model_module_version": "1.2.0",
            "_model_name": "LayoutModel",
            "_view_count": null,
            "_view_module": "@jupyter-widgets/base",
            "_view_module_version": "1.2.0",
            "_view_name": "LayoutView",
            "align_content": null,
            "align_items": null,
            "align_self": null,
            "border": null,
            "bottom": null,
            "display": null,
            "flex": null,
            "flex_flow": null,
            "grid_area": null,
            "grid_auto_columns": null,
            "grid_auto_flow": null,
            "grid_auto_rows": null,
            "grid_column": null,
            "grid_gap": null,
            "grid_row": null,
            "grid_template_areas": null,
            "grid_template_columns": null,
            "grid_template_rows": null,
            "height": null,
            "justify_content": null,
            "justify_items": null,
            "left": null,
            "margin": null,
            "max_height": null,
            "max_width": null,
            "min_height": null,
            "min_width": null,
            "object_fit": null,
            "object_position": null,
            "order": null,
            "overflow": null,
            "overflow_x": null,
            "overflow_y": null,
            "padding": null,
            "right": null,
            "top": null,
            "visibility": null,
            "width": null
          }
        },
        "db32e42fba854540a19ff9d57971fbd7": {
          "model_module": "@jupyter-widgets/controls",
          "model_name": "DescriptionStyleModel",
          "model_module_version": "1.5.0",
          "state": {
            "_model_module": "@jupyter-widgets/controls",
            "_model_module_version": "1.5.0",
            "_model_name": "DescriptionStyleModel",
            "_view_count": null,
            "_view_module": "@jupyter-widgets/base",
            "_view_module_version": "1.2.0",
            "_view_name": "StyleView",
            "description_width": ""
          }
        }
      }
    }
  },
  "nbformat": 4,
  "nbformat_minor": 0
}